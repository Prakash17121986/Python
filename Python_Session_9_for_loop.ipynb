{
  "metadata": {
    "kernelspec": {
      "name": "python",
      "display_name": "Python (Pyodide)",
      "language": "python"
    },
    "language_info": {
      "codemirror_mode": {
        "name": "python",
        "version": 3
      },
      "file_extension": ".py",
      "mimetype": "text/x-python",
      "name": "python",
      "nbconvert_exporter": "python",
      "pygments_lexer": "ipython3",
      "version": "3.8"
    }
  },
  "nbformat_minor": 5,
  "nbformat": 4,
  "cells": [
    {
      "id": "98907389-03f5-418c-903c-6c677a420e2a",
      "cell_type": "code",
      "source": "# for loop - list\ntext = [\"apple\", \"orange\", \"watermelon\", \"kiwi\", \"mango\", \"grapes\", \"beetroot\", \"pomogeranate\"]\n# iterate item over a sequence without indexing\nfor i in text:\n    print(i)",
      "metadata": {
        "trusted": true
      },
      "outputs": [
        {
          "name": "stdout",
          "output_type": "stream",
          "text": "apple\norange\nwatermelon\nkiwi\nmango\ngrapes\nbeetroot\npomogeranate\n"
        }
      ],
      "execution_count": 64
    },
    {
      "id": "64125954-f113-4346-97ba-d2d8c6ee8618",
      "cell_type": "code",
      "source": "text = [\"apple\", \"orange\", \"watermelon\", \"kiwi\", \"mango\", \"grapes\", \"beetroot\", \"pomogeranate\"]\n# iterate item over a sequence using indexing\nfor i in range(len(text)):\n    print(text[i])",
      "metadata": {
        "trusted": true
      },
      "outputs": [
        {
          "name": "stdout",
          "output_type": "stream",
          "text": "apple\norange\nwatermelon\nkiwi\nmango\ngrapes\nbeetroot\npomogeranate\n"
        }
      ],
      "execution_count": 6
    },
    {
      "id": "372cef1a-d485-4201-ace6-639073f61b15",
      "cell_type": "code",
      "source": "# # iterate item over a sequence using index, value using enumerate function\ntext = [\"apple\", \"orange\", \"watermelon\", \"kiwi\", \"mango\", \"grapes\", \"beetroot\", \"pomogeranate\"]\nfor i, val in enumerate(text):\n    print(i, val)",
      "metadata": {
        "trusted": true
      },
      "outputs": [
        {
          "name": "stdout",
          "output_type": "stream",
          "text": "0 apple\n1 orange\n2 watermelon\n3 kiwi\n4 mango\n5 grapes\n6 beetroot\n7 pomogeranate\n"
        }
      ],
      "execution_count": 7
    },
    {
      "id": "7fbfb4ac-6f04-43d4-9d82-e786a2c8c3b6",
      "cell_type": "code",
      "source": "# # iterate item over a sequence using index, value using enumerate function\ntext = ['a', 'ab', 'abc', 'abcd', \"apple\", \"orange\", \"watermelon\", \"kiwi\", \"mango\", \"grapes\", \"beetroot\", \"pomogeranate\"]\n# iteate item over a sequence len(i) > 5 less than\nfor i in text:\n    if len(i) < 5:\n        print(i)",
      "metadata": {
        "trusted": true
      },
      "outputs": [
        {
          "name": "stdout",
          "output_type": "stream",
          "text": "a\nab\nabc\nabcd\nkiwi\n"
        }
      ],
      "execution_count": 15
    },
    {
      "id": "3f7ff922-da01-407b-bc4b-b50ad58f2700",
      "cell_type": "code",
      "source": "text = [\"apple\", \"orange\", \"watermelon\", \"kiwi\", \"mango\", \"grapes\", \"beetroot\", \"pomogeranate\"]\n# iterate item over a sequence if len(i) == 5 equal to\nfor i in text:\n    if len(i) == 5:\n        print(i)\n\t\t",
      "metadata": {
        "trusted": true
      },
      "outputs": [
        {
          "name": "stdout",
          "output_type": "stream",
          "text": "apple\nmango\n"
        }
      ],
      "execution_count": 12
    },
    {
      "id": "c9f99ee1-8204-4331-9979-61fbd73dfcf4",
      "cell_type": "code",
      "source": "text = [\"apple\", \"orange\", \"watermelon\", \"kiwi\", \"mango\", \"grapes\", \"beetroot\", \"pomogeranate\"]\n# iteate item over a sequence len(i) > 6 greater than\nfor i in text:\n    if len(i) > 6:\n        print(i)",
      "metadata": {
        "trusted": true
      },
      "outputs": [
        {
          "name": "stdout",
          "output_type": "stream",
          "text": "watermelon\nbeetroot\npomogeranate\n"
        }
      ],
      "execution_count": 16
    },
    {
      "id": "61fbe569-4070-438b-a37c-a59156a91c37",
      "cell_type": "code",
      "source": "# # iterate item over a sequence using index, value using enumerate function\ntext = ['a', 'ab', 'abc', 'abcd', \"apple\", \"orange\", \"watermelon\", \"kiwi\", \"mango\", \"grapes\", \"beetroot\", \"pomogeranate\"]\n# iteate item over a sequence len(i) > 5 greater than or equal to\nfor i in text:\n    if len(i) >=5:\n        print(i)",
      "metadata": {
        "trusted": true
      },
      "outputs": [
        {
          "name": "stdout",
          "output_type": "stream",
          "text": "apple\norange\nwatermelon\nmango\ngrapes\nbeetroot\npomogeranate\n"
        }
      ],
      "execution_count": 18
    },
    {
      "id": "7dd6fd3b-b314-4cb6-b76a-6bf3d9814311",
      "cell_type": "code",
      "source": "text = [\"apple\", \"orange\", \"watermelon\", \"kiwi\", \"mango\", \"grapes\", \"beetroot\", \"pomogeranate\"]\n# iterate item over a sequence with indexing\n# # iterate item over a sequence using index, value using enumerate function\nfor i in range(0, len(text), 2):\n    print(text[i])",
      "metadata": {
        "trusted": true
      },
      "outputs": [
        {
          "name": "stdout",
          "output_type": "stream",
          "text": "apple\nwatermelon\nmango\nbeetroot\n"
        }
      ],
      "execution_count": 19
    },
    {
      "id": "ffb2e0e0-4037-46d7-807d-f671a04d03b2",
      "cell_type": "code",
      "source": "text = [\"apple\", \"orange\", \"watermelon\", \"kiwi\", \"mango\", \"grapes\", \"beetroot\", \"pomogeranate\"]\n# iteate item over a sequence with slicing\n# # iteate item over a sequence using index, value using enumerate funct\nl = len(text)\nfor i in range(l, 1, -1):\n    print(text[-i])",
      "metadata": {
        "trusted": true
      },
      "outputs": [
        {
          "name": "stdout",
          "output_type": "stream",
          "text": "apple\norange\nwatermelon\nkiwi\nmango\ngrapes\nbeetroot\n"
        }
      ],
      "execution_count": 20
    },
    {
      "id": "4253903e-10a3-4200-a3c9-c9c17c9f0153",
      "cell_type": "code",
      "source": "text = [\"apple\", \"orange\", \"watermelon\", \"kiwi\", \"mango\", \"grapes\", \"beetroot\", \"pomogeranate\"]\n# iterate item over a sequence \n# # iterate item over a sequence using index, d[key] = d.get(key,0) + 1\ncount = 0\nl = len(text)\nd = {}\nfor i in text:\n    if len(i) > 0:\n        d[i] = d.get(i, 0) + 1\n\nprint(\"text\", text)\nprint(\"d\", d)",
      "metadata": {
        "trusted": true
      },
      "outputs": [
        {
          "name": "stdout",
          "output_type": "stream",
          "text": "text ['apple', 'orange', 'watermelon', 'kiwi', 'mango', 'grapes', 'beetroot', 'pomogeranate']\nd {'apple': 1, 'orange': 1, 'watermelon': 1, 'kiwi': 1, 'mango': 1, 'grapes': 1, 'beetroot': 1, 'pomogeranate': 1}\n"
        }
      ],
      "execution_count": 22
    },
    {
      "id": "fe06a57b-4555-40f8-bf99-49b6055efcee",
      "cell_type": "code",
      "source": "# string concatenation\nlist1 = \"hello\"\nlist2 = \"world\"\nlist3 = list1 + list2\nprint(\"list1\", list1)\nprint(\"list2\", list2)\nprint(\"concatenation of list1 and list2\", list3)\n",
      "metadata": {
        "trusted": true
      },
      "outputs": [
        {
          "name": "stdout",
          "output_type": "stream",
          "text": "list1 hello\nlist2 world\nconcatenation of list1 and list2 helloworld\n"
        }
      ],
      "execution_count": 23
    },
    {
      "id": "0492ec3c-eb54-4667-9dd7-b76919371344",
      "cell_type": "code",
      "source": "# string repeatation\ntext = \"*\"\n\nprint(\"repetition of text:\", text*20)\n",
      "metadata": {
        "trusted": true
      },
      "outputs": [
        {
          "name": "stdout",
          "output_type": "stream",
          "text": "repetition of text: ********************\n"
        }
      ],
      "execution_count": 34
    },
    {
      "id": "e0211e6a-fbf7-4d2c-b682-0c7536d3cb2c",
      "cell_type": "code",
      "source": "# Reverse a string\nstring = \"helloworld\"\n\nprint(\"Reverse a string\", string[::-1])\n",
      "metadata": {
        "trusted": true
      },
      "outputs": [
        {
          "name": "stdout",
          "output_type": "stream",
          "text": "Reverse a string dlrowolleh\n"
        }
      ],
      "execution_count": 31
    },
    {
      "id": "80d44d53-711c-4002-a15d-4a6a2d5f37dc",
      "cell_type": "code",
      "source": "# Replace a string\nstring = \"hello world\"\nprint(string)\nprint(\"Replace a string:\", string.replace(\"hello\", \"Hi\"))",
      "metadata": {
        "trusted": true
      },
      "outputs": [
        {
          "name": "stdout",
          "output_type": "stream",
          "text": "hello world\nReplace a string: Hi world\n"
        }
      ],
      "execution_count": 33
    },
    {
      "id": "48e1055a-0005-48a4-b38a-fb4ccaa46112",
      "cell_type": "code",
      "source": "# # re.findall() method #read 2 characters \nimport re\nstring = \"abcdefg\"\nop = re.findall(r\"\\w\\w\",string)\nprint(op)",
      "metadata": {
        "trusted": true
      },
      "outputs": [
        {
          "name": "stdout",
          "output_type": "stream",
          "text": "['ab', 'cd', 'ef']\n"
        }
      ],
      "execution_count": 43
    },
    {
      "id": "85e874b3-bf35-4462-b541-49936c3150ee",
      "cell_type": "code",
      "source": "# # re.findall() method #read 3 characters \nimport re\nstring = \"abcdefg\"\nop = re.findall(r\"\\w\\w\\w\",string)\nprint(op)",
      "metadata": {
        "trusted": true
      },
      "outputs": [
        {
          "name": "stdout",
          "output_type": "stream",
          "text": "['abc', 'def']\n"
        }
      ],
      "execution_count": 39
    },
    {
      "id": "e4e7e3d5-bdf2-43d1-8134-b909e837922a",
      "cell_type": "code",
      "source": "# re.findall() method\nimport re #read all word characters\nstring = \"abcdefg\"\nop = re.findall(r\"\\w+\",string)\nprint(op)",
      "metadata": {
        "trusted": true
      },
      "outputs": [
        {
          "name": "stdout",
          "output_type": "stream",
          "text": "['abcdefg']\n"
        }
      ],
      "execution_count": 44
    },
    {
      "id": "3fbad30f-4fb6-4e61-a5c4-e03c0a0924e4",
      "cell_type": "code",
      "source": "#re.match() method\ntext = \"I love to play cricket\"\nimport re\ntxt = re.match(\"I\", text)\nprint(txt)\nprint(txt[0])",
      "metadata": {
        "trusted": true
      },
      "outputs": [
        {
          "name": "stdout",
          "output_type": "stream",
          "text": "<re.Match object; span=(0, 1), match='I'>\nI\n"
        }
      ],
      "execution_count": 45
    },
    {
      "id": "36c8482b-9dda-4212-b51d-87a9e643bd06",
      "cell_type": "code",
      "source": "#re.search() method\ntext = \"I love to play cricket\"\nimport re\ntxt = re.search(\"love\", text)\nprint(txt)\nprint(txt.group(0))",
      "metadata": {
        "trusted": true
      },
      "outputs": [
        {
          "name": "stdout",
          "output_type": "stream",
          "text": "<re.Match object; span=(2, 6), match='love'>\nlove\n"
        }
      ],
      "execution_count": 46
    },
    {
      "id": "5447ae23-6580-4efd-9f16-4e747306936a",
      "cell_type": "code",
      "source": "#re.findall() and print all the word one by one using for loop\ntext = \"I love to play cricket\"\nimport re\ntxt = re.findall(r\"\\w+\", text)\nprint(txt)\nprint(len(txt))\nfor i in txt:\n    print(i)",
      "metadata": {
        "trusted": true
      },
      "outputs": [
        {
          "name": "stdout",
          "output_type": "stream",
          "text": "['I', 'love', 'to', 'play', 'cricket']\n5\nI\nlove\nto\nplay\ncricket\n"
        }
      ],
      "execution_count": 48
    },
    {
      "id": "d0122baf-b6d9-40a9-a446-85eab2c3d8fc",
      "cell_type": "code",
      "source": "#re.findall() method to count the word \ntext = \"I love to play cricket\"\nimport re\ntxt = re.findall(r\"\\w+\", text)\nprint(txt)\nprint(len(txt))\nd= {}\nfor i in txt:\n    d[i] = d.get(i, 0) + 1\n\nprint(d)",
      "metadata": {
        "trusted": true
      },
      "outputs": [
        {
          "name": "stdout",
          "output_type": "stream",
          "text": "['I', 'love', 'to', 'play', 'cricket']\n5\n{'I': 1, 'love': 1, 'to': 1, 'play': 1, 'cricket': 1}\n"
        }
      ],
      "execution_count": 50
    },
    {
      "id": "d18e93d0-7249-42b1-8d4f-94dd6fac1760",
      "cell_type": "code",
      "source": "#re.findall() method to count the word, len(word), word count, charcount\ntext = \"I love to play cricket\"\nimport re\ntxt = re.findall(r\"\\w+\", text)\nprint(txt)\nprint(len(txt))\nd= {}\nfor i in txt:\n    d[i] = d.get(i, 0) + 1\n  \nprint(d)  \nd1= {}\nfor k, cnt in d.items():\n    for char in k:\n        d1[char] = d1.get(char, 0) + 1\n\nprint(d1)",
      "metadata": {
        "trusted": true
      },
      "outputs": [
        {
          "name": "stdout",
          "output_type": "stream",
          "text": "['I', 'love', 'to', 'play', 'cricket']\n5\n{'I': 1, 'love': 1, 'to': 1, 'play': 1, 'cricket': 1}\n{'I': 1, 'l': 2, 'o': 2, 'v': 1, 'e': 2, 't': 2, 'p': 1, 'a': 1, 'y': 1, 'c': 2, 'r': 1, 'i': 1, 'k': 1}\n"
        }
      ],
      "execution_count": 52
    },
    {
      "id": "4eca3f8e-2ea4-4ad5-9b6c-2ae90acdc6fe",
      "cell_type": "code",
      "source": "# reverse the string\n#Enter Python \ntext = \"I love to play cricket\"\nstr1 = \"\"\nfor i in text:\n    str1 = i+ str1\nprint(str1)",
      "metadata": {
        "trusted": true
      },
      "outputs": [
        {
          "name": "stdout",
          "output_type": "stream",
          "text": "tekcirc yalp ot evol I\n"
        }
      ],
      "execution_count": 53
    },
    {
      "id": "c15de250-e519-4c86-a5a7-d89cb77d0aa1",
      "cell_type": "code",
      "source": "x = 5\nfor i in range(1, x):\n    # 1,2,3,5\n    print(((10**i-1)//9)*i)",
      "metadata": {
        "trusted": true
      },
      "outputs": [
        {
          "name": "stdout",
          "output_type": "stream",
          "text": "1\n22\n333\n4444\n"
        }
      ],
      "execution_count": 54
    },
    {
      "id": "781bba89-ca63-46a2-bbe7-039e32beaa74",
      "cell_type": "code",
      "source": "# To find the prime number\n#num = int(input(\"Enter a number:\"))\nnum = 29\nflag = False\nfor i in range(1, num+1):\n    if num % i == 0:\n        flag = True\n        break\n    \nif flag:\n    print(num,\"is not a prime number\")\nelse: \n    print(num,\"is a prime number\")\n\t",
      "metadata": {
        "trusted": true
      },
      "outputs": [
        {
          "name": "stdout",
          "output_type": "stream",
          "text": "29 is not a prime number\n"
        }
      ],
      "execution_count": 55
    },
    {
      "id": "02a58b94-88f9-4cc5-87d2-0550793cbdc6",
      "cell_type": "code",
      "source": "#Enter Python \na = [\"apple\",\"orange\",\"watermelon\",\"kiwi\"]\nfor i in a:\n    print(a)\nl = len(a)\nfor i in range(0,l):\n    print(i)\n    \nfor i in a:\n    print(i)\n    \nfor i in reversed(a):\n    print(i)\n\t",
      "metadata": {
        "trusted": true
      },
      "outputs": [
        {
          "name": "stdout",
          "output_type": "stream",
          "text": "['apple', 'orange', 'watermelon', 'kiwi']\n['apple', 'orange', 'watermelon', 'kiwi']\n['apple', 'orange', 'watermelon', 'kiwi']\n['apple', 'orange', 'watermelon', 'kiwi']\n0\n1\n2\n3\napple\norange\nwatermelon\nkiwi\nkiwi\nwatermelon\norange\napple\n"
        }
      ],
      "execution_count": 56
    },
    {
      "id": "8d4ed66d-6d6c-4e48-83a8-8029b0e1912e",
      "cell_type": "code",
      "source": "for n in range(5, 0, -1):\n    print(n)\n\t\n5\n4\n3\n2\n1\n",
      "metadata": {
        "trusted": true
      },
      "outputs": [
        {
          "name": "stdout",
          "output_type": "stream",
          "text": "5\n4\n3\n2\n1\n"
        },
        {
          "execution_count": 57,
          "output_type": "execute_result",
          "data": {
            "text/plain": "1"
          },
          "metadata": {}
        }
      ],
      "execution_count": 57
    },
    {
      "id": "bde87909-7d74-4f26-af8a-7a3e7491910b",
      "cell_type": "code",
      "source": "def get_reverse_list(numbers, n):\n    numbers.sort()\n    \n    return numbers[-n]\n\nnums = [3,2,1,4,5,7,6]\nprint(nums)\nsorted_output = get_reverse_list(nums, 0)\nprint(nums)",
      "metadata": {
        "trusted": true
      },
      "outputs": [
        {
          "name": "stdout",
          "output_type": "stream",
          "text": "[3, 2, 1, 4, 5, 7, 6]\n[1, 2, 3, 4, 5, 6, 7]\n"
        }
      ],
      "execution_count": 58
    },
    {
      "id": "ee41344c-2604-44c5-b477-a19655d5df77",
      "cell_type": "code",
      "source": "\ndef func(daynumber):\n    \n    d = {1:\"Monday\", 2:\"Tuesday\", 3:\"Wednesday\", 4:\"Thursday\", 5:\"Friday\",6:\"Saturday\",7:\"Sunday\"}\n    \n    daynumber = d.get(daynumber,0)\n    \n    if daynumber == \"Monday\":\n        print(\"Monday\")\n    elif daynumber == \"Tuesday\":\n        print(\"Tuesday\")\n    elif daynumber == \"Wednesday\":\n        print(\"Wednesday\")\n    elif daynumber == \"Thursday\":\n        print(\"Thursday\")\n    elif daynumber == \"Friday\":\n        print(\"Friday\")\n    elif daynumber == \"Saturday\":\n        print(\"Saturday\")\n    elif daynumber == \"Sunday\":\n        print(\"Sunday\")\n    else:\n        print(\"Invalid key\")\n        \n        \nfunc(daynumber=1)\nfunc(daynumber=2)\nfunc(daynumber=3)\nfunc(daynumber=4)\nfunc(daynumber=5)\nfunc(daynumber=6)\nfunc(daynumber=7)\nfunc(daynumber=8)\n",
      "metadata": {
        "trusted": true
      },
      "outputs": [
        {
          "name": "stdout",
          "output_type": "stream",
          "text": "Monday\nTuesday\nWednesday\nThursday\nFriday\nSaturday\nSunday\nInvalid key\n"
        }
      ],
      "execution_count": 59
    },
    {
      "id": "e7cce4a5-7833-4991-900d-49cfd1f167ff",
      "cell_type": "code",
      "source": "#Enter Python code here and hit the Run button.\nstring_list = \"Hello world\"\nprint(string_list)",
      "metadata": {
        "trusted": true
      },
      "outputs": [
        {
          "name": "stdout",
          "output_type": "stream",
          "text": "Hello world\n"
        }
      ],
      "execution_count": 60
    },
    {
      "id": "c9436fff-c46d-4acd-a0e8-e82bab9aa2c5",
      "cell_type": "code",
      "source": "#Enter Python code here and hit the Run button.\nstring_list = \"He said \\\"no\\\" to me\"\nprint(string_list)\n",
      "metadata": {
        "trusted": true
      },
      "outputs": [
        {
          "name": "stdout",
          "output_type": "stream",
          "text": "He said \"no\" to me\n"
        }
      ],
      "execution_count": 61
    },
    {
      "id": "1b44ce1d-5d20-4f1f-8ab6-08d161a08f19",
      "cell_type": "code",
      "source": "string1 = \"hello \\\"world\\\" to me\"\nprint(string1)",
      "metadata": {
        "trusted": true
      },
      "outputs": [
        {
          "name": "stdout",
          "output_type": "stream",
          "text": "hello \"world\" to me\n"
        }
      ],
      "execution_count": 62
    },
    {
      "id": "fd1c9f7c-d684-49a6-b868-409d2bb4959c",
      "cell_type": "code",
      "source": "print(\"{0} is a lot of {1}\".format(\"Python\", \"fun!\"))",
      "metadata": {
        "trusted": true
      },
      "outputs": [
        {
          "name": "stdout",
          "output_type": "stream",
          "text": "Python is a lot of fun!\n"
        }
      ],
      "execution_count": 63
    },
    {
      "id": "404e5728-f117-4415-b4ce-6696e4abe8bf",
      "cell_type": "code",
      "source": "# for loop - tuple\ntext = (\"apple\", \"orange\", \"watermelon\", \"kiwi\", \"mango\", \"grapes\", \"beetroot\", \"pomogeranate\")\n# iterate item over a sequence without indexing\nfor i in text:\n    print(i)",
      "metadata": {
        "trusted": true
      },
      "outputs": [
        {
          "name": "stdout",
          "output_type": "stream",
          "text": "apple\norange\nwatermelon\nkiwi\nmango\ngrapes\nbeetroot\npomogeranate\n"
        }
      ],
      "execution_count": 65
    },
    {
      "id": "b14b05ae-c2c8-4359-809c-c5e064020e19",
      "cell_type": "code",
      "source": "# for loop - tuple using length or indexing\ntext = (\"apple\", \"orange\", \"watermelon\", \"kiwi\", \"mango\", \"grapes\", \"beetroot\", \"pomogeranate\")\n# iterate item over a sequence without indexing\nfor i in range(len(text)):\n    print(text[i])",
      "metadata": {
        "trusted": true
      },
      "outputs": [
        {
          "name": "stdout",
          "output_type": "stream",
          "text": "apple\norange\nwatermelon\nkiwi\nmango\ngrapes\nbeetroot\npomogeranate\n"
        }
      ],
      "execution_count": 66
    },
    {
      "id": "1e3e1408-f7e1-43b9-a48e-7fe619ada404",
      "cell_type": "code",
      "source": "# for loop - tuple using slicing\ntext = (\"apple\", \"orange\", \"watermelon\", \"kiwi\", \"mango\", \"grapes\", \"beetroot\", \"pomogeranate\")\n# iterate item over a sequence without indexing\nfor i in range(len(text)):\n    print(text[:i])",
      "metadata": {
        "trusted": true
      },
      "outputs": [
        {
          "name": "stdout",
          "output_type": "stream",
          "text": "()\n('apple',)\n('apple', 'orange')\n('apple', 'orange', 'watermelon')\n('apple', 'orange', 'watermelon', 'kiwi')\n('apple', 'orange', 'watermelon', 'kiwi', 'mango')\n('apple', 'orange', 'watermelon', 'kiwi', 'mango', 'grapes')\n('apple', 'orange', 'watermelon', 'kiwi', 'mango', 'grapes', 'beetroot')\n"
        }
      ],
      "execution_count": 67
    },
    {
      "id": "e1f33a23-2a38-4e6b-9092-96a5acfcdd94",
      "cell_type": "code",
      "source": "# for loop - tuple using negative slicing\ntext = (\"apple\", \"orange\", \"watermelon\", \"kiwi\", \"mango\", \"grapes\", \"beetroot\", \"pomogeranate\")\n# iterate item over a sequence without indexing\nfor i in range(len(text)):\n    print(text[::-1])",
      "metadata": {
        "trusted": true
      },
      "outputs": [
        {
          "name": "stdout",
          "output_type": "stream",
          "text": "('pomogeranate', 'beetroot', 'grapes', 'mango', 'kiwi', 'watermelon', 'orange', 'apple')\n('pomogeranate', 'beetroot', 'grapes', 'mango', 'kiwi', 'watermelon', 'orange', 'apple')\n('pomogeranate', 'beetroot', 'grapes', 'mango', 'kiwi', 'watermelon', 'orange', 'apple')\n('pomogeranate', 'beetroot', 'grapes', 'mango', 'kiwi', 'watermelon', 'orange', 'apple')\n('pomogeranate', 'beetroot', 'grapes', 'mango', 'kiwi', 'watermelon', 'orange', 'apple')\n('pomogeranate', 'beetroot', 'grapes', 'mango', 'kiwi', 'watermelon', 'orange', 'apple')\n('pomogeranate', 'beetroot', 'grapes', 'mango', 'kiwi', 'watermelon', 'orange', 'apple')\n('pomogeranate', 'beetroot', 'grapes', 'mango', 'kiwi', 'watermelon', 'orange', 'apple')\n"
        }
      ],
      "execution_count": 69
    },
    {
      "id": "a8a999a0-5faf-42f7-b11e-133de534fec2",
      "cell_type": "code",
      "source": "# for loop - tuple using positive slicing using step 2\ntext = (\"apple\", \"orange\", \"watermelon\", \"kiwi\", \"mango\", \"grapes\", \"beetroot\", \"pomogeranate\")\n# iterate item over a sequence without indexing\nfor i in range(len(text)):\n    print(text[0:i:2])",
      "metadata": {
        "trusted": true
      },
      "outputs": [
        {
          "name": "stdout",
          "output_type": "stream",
          "text": "()\n('apple',)\n('apple',)\n('apple', 'watermelon')\n('apple', 'watermelon')\n('apple', 'watermelon', 'mango')\n('apple', 'watermelon', 'mango')\n('apple', 'watermelon', 'mango', 'beetroot')\n"
        }
      ],
      "execution_count": 70
    },
    {
      "id": "b7fd7a84-240d-44f0-a34b-6e478e1a8061",
      "cell_type": "code",
      "source": "# for loop - tuple using positive slicing using step 3\ntext = (\"apple\", \"orange\", \"watermelon\", \"kiwi\", \"mango\", \"grapes\", \"beetroot\", \"pomogeranate\")\n# iterate item over a sequence without indexing\nfor i in range(len(text)):\n    print(text[0:i:3])",
      "metadata": {
        "trusted": true
      },
      "outputs": [
        {
          "name": "stdout",
          "output_type": "stream",
          "text": "()\n('apple',)\n('apple',)\n('apple',)\n('apple', 'kiwi')\n('apple', 'kiwi')\n('apple', 'kiwi')\n('apple', 'kiwi', 'beetroot')\n"
        }
      ],
      "execution_count": 71
    },
    {
      "id": "09c207db-9c45-488e-90dc-f55cfefad2ff",
      "cell_type": "code",
      "source": "# for loop - tuple using positive slicing using step 3\ntext = (\"apple\", \"orange\", \"watermelon\", \"kiwi\", \"mango\", \"grapes\", \"beetroot\", \"pomogeranate\")\n# iterate item over a sequence without indexing\nfor i in range(len(text)):\n    print(text[i:0:-3])",
      "metadata": {
        "trusted": true
      },
      "outputs": [
        {
          "name": "stdout",
          "output_type": "stream",
          "text": "()\n('orange',)\n('watermelon',)\n('kiwi',)\n('mango', 'orange')\n('grapes', 'watermelon')\n('beetroot', 'kiwi')\n('pomogeranate', 'mango', 'orange')\n"
        }
      ],
      "execution_count": 72
    },
    {
      "id": "ea564bb9-b6b1-407f-af38-c7aeda45a9dc",
      "cell_type": "code",
      "source": "# for loop - tuple using enumerate\ntext = (\"apple\", \"orange\", \"watermelon\", \"kiwi\", \"mango\", \"grapes\", \"beetroot\", \"pomogeranate\")\n# iterate item over a sequence without indexing\nfor i, val in enumerate(text):\n    print(i, val)",
      "metadata": {
        "trusted": true
      },
      "outputs": [
        {
          "name": "stdout",
          "output_type": "stream",
          "text": "0 apple\n1 orange\n2 watermelon\n3 kiwi\n4 mango\n5 grapes\n6 beetroot\n7 pomogeranate\n"
        }
      ],
      "execution_count": 74
    },
    {
      "id": "0562d390-69ef-4e56-8a64-099768928a41",
      "cell_type": "code",
      "source": "# for loop - tuple\ntext = (\"apple\", \"orange\", \"watermelon\", \"kiwi\", \"mango\", \"grapes\", \"beetroot\", \"pomogeranate\")\n# iterate item over a sequence without indexing\ncount = []\nfor i in text:\n    string_value, length = i, len(i)\n    count.append({string_value: length})\nprint(\"count\", count)",
      "metadata": {
        "trusted": true
      },
      "outputs": [
        {
          "name": "stdout",
          "output_type": "stream",
          "text": "count [{'apple': 5}, {'orange': 6}, {'watermelon': 10}, {'kiwi': 4}, {'mango': 5}, {'grapes': 6}, {'beetroot': 8}, {'pomogeranate': 12}]\n"
        }
      ],
      "execution_count": 80
    },
    {
      "id": "6e6cb327-2045-4f66-ab81-378fe45bb633",
      "cell_type": "code",
      "source": "# sum of 2 numbers of dict1 and dict2\ndict1 = {'a': 1, 'b':5, 'c':6}\ndict2 = {'a': 4, 'b':6, 'c':7}\nprint('dict1', dict1)\nprint('dict2', dict2)\ndict3={}\nfor k1, v1 in dict1.items():\n    for k2, v2 in dict2.items():\n        dict3.update({k1: dict1[k1] + dict2[k1]})\n\nprint('Add sum of two values from two dict', dict3)",
      "metadata": {
        "trusted": true
      },
      "outputs": [
        {
          "name": "stdout",
          "output_type": "stream",
          "text": "dict1 {'a': 1, 'b': 5, 'c': 6}\ndict2 {'a': 4, 'b': 6, 'c': 7}\nAdd sum of two values from two dict {'a': 5, 'b': 11, 'c': 13}\n"
        }
      ],
      "execution_count": 93
    },
    {
      "id": "1c90c116-8027-4545-ad24-0e35c902d930",
      "cell_type": "code",
      "source": "# sum of 2 numbers of dict1 and dict2\ndict1 = {'a': 1, 'b':5, 'c':6}\ndict2 = {'a': 4, 'b':6, 'c':7}\nprint('dict1', dict1)\nprint('dict2', dict2)\ndict3={}\nfor k1, v1 in dict1.items():\n    for k2, v2 in dict2.items():\n        dict3.update({k1: dict1[k1] * dict2[k1]})\n\nprint('Multiply two values of two dict', dict3)",
      "metadata": {
        "trusted": true
      },
      "outputs": [
        {
          "name": "stdout",
          "output_type": "stream",
          "text": "dict1 {'a': 1, 'b': 5, 'c': 6}\ndict2 {'a': 4, 'b': 6, 'c': 7}\nMultiply two values of two dict {'a': 4, 'b': 30, 'c': 42}\n"
        }
      ],
      "execution_count": 94
    },
    {
      "id": "9a02aefc-82e0-46de-b3ce-8d87c0ab9e1d",
      "cell_type": "code",
      "source": "# sum of 2 numbers of dict1 and dict2\ndict1 = {'a': 1, 'b':5, 'c':6}\n\nfor k1, v1 in dict1.items():\n    print(k1, v1)\n\ndict2 = {'a': 10, 'b':60, 'c':70}\nfor k2, v2 in dict2.items():\n    print(k2, v2)",
      "metadata": {
        "trusted": true
      },
      "outputs": [
        {
          "name": "stdout",
          "output_type": "stream",
          "text": "a 1\nb 5\nc 6\na 10\nb 60\nc 70\n"
        }
      ],
      "execution_count": 105
    },
    {
      "id": "ac59a4be-052b-4867-99ce-1f3ba8899642",
      "cell_type": "code",
      "source": "\n",
      "metadata": {
        "trusted": true
      },
      "outputs": [],
      "execution_count": null
    }
  ]
}