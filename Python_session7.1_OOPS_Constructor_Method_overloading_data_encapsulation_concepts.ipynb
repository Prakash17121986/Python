{
  "metadata": {
    "kernelspec": {
      "name": "python",
      "display_name": "Python (Pyodide)",
      "language": "python"
    },
    "language_info": {
      "codemirror_mode": {
        "name": "python",
        "version": 3
      },
      "file_extension": ".py",
      "mimetype": "text/x-python",
      "name": "python",
      "nbconvert_exporter": "python",
      "pygments_lexer": "ipython3",
      "version": "3.8"
    }
  },
  "nbformat_minor": 5,
  "nbformat": 4,
  "cells": [
    {
      "id": "ee17e5f6-339c-4f62-8552-17b1c3a71744",
      "cell_type": "code",
      "source": "# Method overloading in Python\n# You can define multiple methods with the same name but different parameter lists. This method is called method overloading\n# Python does not support method overloading by default\n# it offers several technique to simulate method overloading\ndef product(a,b):\n    p = a*b\n    print(p)\n\ndef product(a,b,c):\n    p = a*b*c\n    print(p)\n\nproduct(4,5,5)\n#product(4,5) # TypeError: product() missing 1 required positional argument: 'c'\n# Python only recognizes the latest definition of product()\n# The earlier definition product(a,b) gets overwritten\n# if you call product(4,5), it will raise an error because the latest version expects 3 arguments\n\n",
      "metadata": {
        "trusted": true
      },
      "outputs": [
        {
          "name": "stdout",
          "output_type": "stream",
          "text": "100\n"
        }
      ],
      "execution_count": 4
    },
    {
      "id": "a06294e0-f85f-413c-8f5d-a31e829cf38a",
      "cell_type": "code",
      "source": "def add(datatype, *args):\n    if datatype == 'int':\n        res = 0\n    elif datatype == 'str':\n        res = ''\n\n    for item in args:\n        res+=item\n    print(res)\nadd('int', 5, 6)\nadd('str', 'hello', 'world')\n# the first argument specifies the data type (int or str)\n# *args allows passing a variable number of additional arguments\n# Function uses a loop to add number of concatenation strings based on the data type\n# This siumulates method overloading by processing the arguments dynamically\n",
      "metadata": {
        "trusted": true
      },
      "outputs": [
        {
          "name": "stdout",
          "output_type": "stream",
          "text": "11\nhelloworld\n"
        }
      ],
      "execution_count": 8
    },
    {
      "id": "0e5f550f-1162-44b1-81d5-89d24f6ca8fb",
      "cell_type": "code",
      "source": "def add(a=None, b=None):\n    if a is not None and b is None:\n        print(a)\n    else:\n        print(a+b)\nadd(2,3)\nadd(2)",
      "metadata": {
        "trusted": true
      },
      "outputs": [
        {
          "name": "stdout",
          "output_type": "stream",
          "text": "5\n2\n"
        }
      ],
      "execution_count": 9
    },
    {
      "id": "ce580d28-e853-4a97-8d74-471398db660e",
      "cell_type": "code",
      "source": "from multipledispatch import dispatch\n\n@dispatch(int, int)\ndef product(first, second):\n    result = first * second\n    print(result)\n\n@dispatch(int, int)\ndef product(first, second, third):\n    result = first * second * third\n    print(result)\n\n@dispatch(int, int)\ndef product(first, second):\n    result = first * second * third\n    print(result)\n\nproduct(2,3)\nproduct(2,3,2)\nproduct(2.2,3.4, 2.3)\n\n# @dispatch decorator handles method overloading cleanly\n# seperate functions are created for different signatures\n# Based on the number and type of arguments, the correct version is called automatically\n# This method is closest to true method overloading in Python\n",
      "metadata": {
        "trusted": true
      },
      "outputs": [
        {
          "ename": "<class 'ModuleNotFoundError'>",
          "evalue": "No module named 'multipledispatch'",
          "traceback": [
            "\u001b[0;31m---------------------------------------------------------------------------\u001b[0m",
            "\u001b[0;31mModuleNotFoundError\u001b[0m                       Traceback (most recent call last)",
            "Cell \u001b[0;32mIn[13], line 1\u001b[0m\n\u001b[0;32m----> 1\u001b[0m \u001b[38;5;28;01mfrom\u001b[39;00m \u001b[38;5;21;01mmultipledispatch\u001b[39;00m \u001b[38;5;28;01mimport\u001b[39;00m dispatch\n\u001b[1;32m      3\u001b[0m \u001b[38;5;129m@dispatch\u001b[39m(\u001b[38;5;28mint\u001b[39m, \u001b[38;5;28mint\u001b[39m)\n\u001b[1;32m      4\u001b[0m \u001b[38;5;28;01mdef\u001b[39;00m \u001b[38;5;21mproduct\u001b[39m(first, second):\n\u001b[1;32m      5\u001b[0m     result \u001b[38;5;241m=\u001b[39m first \u001b[38;5;241m*\u001b[39m second\n",
            "\u001b[0;31mModuleNotFoundError\u001b[0m: No module named 'multipledispatch'"
          ],
          "output_type": "error"
        }
      ],
      "execution_count": 13
    },
    {
      "id": "db0dfed4-9109-4563-ae53-fbe5c7b65976",
      "cell_type": "code",
      "source": "# Example of Method overriding\nclass Parent:\n    def show(self):\n        print(\"Inside Parent\")\n\nclass Child(Parent):\n    def show(self):\n        print(\"Inside Child\")\n\nc = Child()\nc.show() # Output: Inside Child\n# overriding refers to the ability of a subclass to provide a specific implementation of a method that is already defines in its superclass.\n# This is a common feature in object-oriented programming and is fully supported in Python.\n# This allows a method to behave differently depending on the subclass that implement it.\n# Overloading in Python is not supported in the traditional sense where multiple methods can have the same name but different parameters.\n# However, python supports operator overloading and allows methods to handle arguments of different types. effectively overload by type checking inside methods.\n",
      "metadata": {
        "trusted": true
      },
      "outputs": [
        {
          "name": "stdout",
          "output_type": "stream",
          "text": "Inside Child\n"
        }
      ],
      "execution_count": 15
    },
    {
      "id": "18279a80-792f-4b80-a053-9e1b709f5f83",
      "cell_type": "code",
      "source": "# Does python allow operator overloading ?\n# Yes, Python allows operator overloading.\n# You can define your own behaviour for built-in operators when they are applied to objects of classes you define.\n# This is done by redefining special methods in your class, such as __add__, __mul__ for etc\n# Example of operator overloading\nclass Point:\n    def __init__(self, x=0, y=0): \n        self.x = x\n        self.y = y\n\n    def __str__(self):\n        return f\"({self.x}, {self.y})\"\n\n    def __add__(self, other):\n        x = self.x + other.x\n        y = self.y + other.y\n        return Point(x, y)\n\np1 = Point(1,2)\np2 = Point(2,3)\nprint(p1 + p2)\n\n",
      "metadata": {
        "trusted": true
      },
      "outputs": [
        {
          "name": "stdout",
          "output_type": "stream",
          "text": "(3, 5)\n"
        }
      ],
      "execution_count": 17
    },
    {
      "id": "ee7a98f9-ef18-4595-97c6-1af92b6c29e3",
      "cell_type": "code",
      "source": "# # The __init__method in python is a special method used for initializing newly created objects. it is called automatically when a new object of a class is created.\n        # The method can have arguments through which you can pass for initalizing object attributes.\n# Examples of __init__:\nclass Person:\n    def __init__(self, name, age):\n        self.name = name\n        self.age = age\n        \n    def greet(self):\n        print(f\"Hello, my name is {self.name}, and I an {self.age}\")\n\np = Person(\"John\", 30)\nprint(p)\np.greet()\n",
      "metadata": {
        "trusted": true
      },
      "outputs": [
        {
          "name": "stdout",
          "output_type": "stream",
          "text": "<__main__.Person object at 0x287beb0>\nHello, my name is John, and I an 30\n"
        }
      ],
      "execution_count": 19
    },
    {
      "id": "84c856f8-3a87-4c01-aeee-3f4fb06f2952",
      "cell_type": "code",
      "source": "# What is Encapsulation in Python ?\n# Encapsulation is a fundamental concept in object oriented programming that involves bundling the data(attributes) and methods(functions) that operate on the data into a single unit or class.\n# It restricts direct access to some of the object's components, which can prevent the accidental modification of data and allows for safer and more structural code.\n# In Python encapsulation is implemented using private(denoted by double underscore __) and protected(denoted by single underscore _) attribute and methods.\n\nclass Account:\n\n    def __init__(self, owner, amount=0):\n        self.owner = owner\n        self.__balance = amount # private_attribute\n\n    def deposit(self, amount):\n        if amount > 0:\n            self.__balance+=amount\n            print(\"Deposit successfull\")\n        else:\n            print(\"Deposit amount must be positive\") \n\n    def get_balance(self):\n        return self.__balance\n\nacct = Account(\"John\")\nacct.deposit(100)\n\nprint(acct.get_balance())\n#print(acct.__balance) # AttributeError: 'Account' object has no attribute '__balance'\n# This will raise an error because _balance is private\n        \n\n",
      "metadata": {
        "trusted": true
      },
      "outputs": [
        {
          "name": "stdout",
          "output_type": "stream",
          "text": "Deposit successfull\n100\n"
        }
      ],
      "execution_count": 23
    },
    {
      "id": "0b8f45e3-aa97-4cac-b682-b2386cc43e2b",
      "cell_type": "code",
      "source": "# Overloading using Function decorators\nfrom functools import singledispatch\n#using the singledispatch decorator\n@singledispatch\ndef greet(arg):\n    raise NotImplementedError(\"Cannot greet this type\")\n\n@greet.register(str)\ndef _(arg):\n    print(f\"Hello, {arg})\")\n\n\n@greet.register(int)\ndef _(arg):\n    print(f\"Hello, number {arg})\")\n\n\n@greet.register(float)\ndef _(arg):\n    print(f\"Hello, floating point number{arg: 2f}!\")\n\n# Testing the overloading\ngreet(\"Alice\")\ngreet(42)\ngreet(3.14)\n",
      "metadata": {
        "trusted": true
      },
      "outputs": [
        {
          "name": "stdout",
          "output_type": "stream",
          "text": "Hello, Alice)\nHello, number 42)\nHello, floating point number 3.140000!\n"
        }
      ],
      "execution_count": 24
    },
    {
      "id": "86f0565e-1cbf-4849-994d-61712ad96f24",
      "cell_type": "code",
      "source": "",
      "metadata": {
        "trusted": true
      },
      "outputs": [],
      "execution_count": null
    }
  ]
}