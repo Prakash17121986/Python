{
  "metadata": {
    "kernelspec": {
      "name": "python",
      "display_name": "Python (Pyodide)",
      "language": "python"
    },
    "language_info": {
      "codemirror_mode": {
        "name": "python",
        "version": 3
      },
      "file_extension": ".py",
      "mimetype": "text/x-python",
      "name": "python",
      "nbconvert_exporter": "python",
      "pygments_lexer": "ipython3",
      "version": "3.8"
    }
  },
  "nbformat_minor": 5,
  "nbformat": 4,
  "cells": [
    {
      "id": "aa54c2b6-25b3-4359-bf04-556ad9fb6232",
      "cell_type": "code",
      "source": "# print display output to your console \nprint('Hello world')\n\nprint('Hello \\nworld')",
      "metadata": {
        "trusted": true
      },
      "outputs": [
        {
          "name": "stdout",
          "output_type": "stream",
          "text": "Hello world\nHello \nworld\n"
        }
      ],
      "execution_count": 1
    },
    {
      "id": "24188ded-f3af-4acb-b234-0987c6a88b26",
      "cell_type": "code",
      "source": "# Enclosed strings in single quotes \nprint('Hello world with single quotation')",
      "metadata": {
        "trusted": true
      },
      "outputs": [
        {
          "name": "stdout",
          "output_type": "stream",
          "text": "Hello world with single quotation\n"
        }
      ],
      "execution_count": 19
    },
    {
      "id": "e2ebd244-1ff2-4dac-aed3-d6a8ae1b5764",
      "cell_type": "code",
      "source": "# Enclosed strings in double quotes \nprint(\"Hello world with double quotation\")",
      "metadata": {
        "trusted": true
      },
      "outputs": [
        {
          "name": "stdout",
          "output_type": "stream",
          "text": "Hello world with double quotation\n"
        }
      ],
      "execution_count": 3
    },
    {
      "id": "5f760513-b900-497d-8e9a-ec079c7d44ed",
      "cell_type": "code",
      "source": "# getting information from user\na = int(input(\"Enter a number\"))\nb = int(input(\"Enter a number\"))\nc = a + b\nprint(a)\nprint(b)\nprint(c)",
      "metadata": {
        "trusted": true
      },
      "outputs": [
        {
          "output_type": "stream",
          "name": "stdin",
          "text": "Enter a number 10\nEnter a number 20\n"
        },
        {
          "name": "stdout",
          "output_type": "stream",
          "text": "10\n20\n30\n"
        }
      ],
      "execution_count": 5
    },
    {
      "id": "85a4ddba-57eb-4522-824f-dfc2bf9badfd",
      "cell_type": "code",
      "source": "# getting information from user\nfirst_name = str(input(\"Enter your first name\"))\nlast_name = str(input(\"Enter your last name\"))\nprint(first_name + \" \" + last_name)\n           ",
      "metadata": {
        "trusted": true
      },
      "outputs": [
        {
          "output_type": "stream",
          "name": "stdin",
          "text": "Enter your first name Prakash\nEnter your last name Perumal\n"
        },
        {
          "name": "stdout",
          "output_type": "stream",
          "text": "Prakash Perumal\n"
        }
      ],
      "execution_count": 7
    },
    {
      "id": "2524f2c3-5e09-4ba2-9e74-099a72e046f5",
      "cell_type": "code",
      "source": "# print blank lines can improve the code readability\nprint('Hello world')\nprint(' ')\nprint('Did you see that blank line ?')\nprint('Blank line \\nin the middle of the string')",
      "metadata": {
        "trusted": true
      },
      "outputs": [
        {
          "name": "stdout",
          "output_type": "stream",
          "text": "Hello world\n \nDid you see that blank line ?\nBlank line \nin the middle of the string\n"
        }
      ],
      "execution_count": 10
    },
    {
      "id": "6a672f08-9a81-4a49-89fa-fbc9adda33ac",
      "cell_type": "code",
      "source": "# debugging with print \nprint(\"Adding numbers\")\nx = 42 + 206\n\nprint(\"Performing Division\")\ny = x / 0\n\nprint('math complete')\n \n\n\n",
      "metadata": {
        "trusted": true
      },
      "outputs": [
        {
          "name": "stdout",
          "output_type": "stream",
          "text": "Adding numbers\nPerforming Division\n"
        },
        {
          "ename": "<class 'ZeroDivisionError'>",
          "evalue": "division by zero",
          "traceback": [
            "\u001b[0;31m---------------------------------------------------------------------------\u001b[0m",
            "\u001b[0;31mZeroDivisionError\u001b[0m                         Traceback (most recent call last)",
            "Cell \u001b[0;32mIn[12], line 6\u001b[0m\n\u001b[1;32m      3\u001b[0m x \u001b[38;5;241m=\u001b[39m \u001b[38;5;241m42\u001b[39m \u001b[38;5;241m+\u001b[39m \u001b[38;5;241m206\u001b[39m\n\u001b[1;32m      5\u001b[0m \u001b[38;5;28mprint\u001b[39m(\u001b[38;5;124m\"\u001b[39m\u001b[38;5;124mPerforming Division\u001b[39m\u001b[38;5;124m\"\u001b[39m)\n\u001b[0;32m----> 6\u001b[0m y \u001b[38;5;241m=\u001b[39m \u001b[43mx\u001b[49m\u001b[43m \u001b[49m\u001b[38;5;241;43m/\u001b[39;49m\u001b[43m \u001b[49m\u001b[38;5;241;43m0\u001b[39;49m\n\u001b[1;32m      8\u001b[0m \u001b[38;5;28mprint\u001b[39m(\u001b[38;5;124m'\u001b[39m\u001b[38;5;124mmath complete\u001b[39m\u001b[38;5;124m'\u001b[39m)\n",
            "\u001b[0;31mZeroDivisionError\u001b[0m: division by zero"
          ],
          "output_type": "error"
        }
      ],
      "execution_count": 12
    },
    {
      "id": "a0548dec-afe3-4e5e-a3b8-7cbd4c728815",
      "cell_type": "code",
      "source": "# comments - we add comments to our code using #\n\n# This is a comment in my code it does nothing\n\n# Lines thats start with # are not executed\n# print('Hello world')\n# print(\"Hello world\")\n# No output will be displayed\n\n# comment calls to other programs to explain thier purpose\n# Enable PIN check as listed in\n# enable_pin(current_user, pin)\n\n# comments document your code so you and other programmers can understand the code\n# Using double quotes for this string because\n# The string itself contain a single quote\nprint(\"It's a small world after all\")",
      "metadata": {
        "trusted": true
      },
      "outputs": [
        {
          "name": "stdout",
          "output_type": "stream",
          "text": "It's a small world after all\n"
        }
      ],
      "execution_count": 14
    },
    {
      "id": "efbe3e73-998b-4d0c-a8b3-b0399002cf92",
      "cell_type": "code",
      "source": "\n# commenting lines of code can help you to debug and figure out which line of code is causing an error\nprint('Hello world')\n# print(\"It's a small world after all\")",
      "metadata": {
        "trusted": true
      },
      "outputs": [
        {
          "name": "stdout",
          "output_type": "stream",
          "text": "Hello world\n"
        }
      ],
      "execution_count": 15
    },
    {
      "id": "49dccdf9-decf-4f2b-9c35-7dc1cec59c04",
      "cell_type": "code",
      "source": "# this line of code does nothing\nprint(\"hello\")",
      "metadata": {
        "trusted": true
      },
      "outputs": [
        {
          "name": "stdout",
          "output_type": "stream",
          "text": "hello\n"
        }
      ],
      "execution_count": 16
    },
    {
      "id": "fdc04aa4-3522-4efd-be07-e3416cfba4eb",
      "cell_type": "code",
      "source": "print('hello it's a small world') # single quote ",
      "metadata": {
        "trusted": true
      },
      "outputs": [
        {
          "ename": "<class 'SyntaxError'>",
          "evalue": "unterminated string literal (detected at line 1) (<ipython-input-17-ac3a20684662>, line 1)",
          "traceback": [
            "\u001b[0;36m  Cell \u001b[0;32mIn[17], line 1\u001b[0;36m\u001b[0m\n\u001b[0;31m    print('hello it's a small world')\u001b[0m\n\u001b[0m                                   ^\u001b[0m\n\u001b[0;31mSyntaxError\u001b[0m\u001b[0;31m:\u001b[0m unterminated string literal (detected at line 1)\n"
          ],
          "output_type": "error"
        }
      ],
      "execution_count": 17
    },
    {
      "id": "fc22fecb-b692-4b1e-9c59-b2c35aeebfe5",
      "cell_type": "code",
      "source": "print(\"hello it's a small world\") # double quote ",
      "metadata": {
        "trusted": true
      },
      "outputs": [
        {
          "name": "stdout",
          "output_type": "stream",
          "text": "hello it's a small world\n"
        }
      ],
      "execution_count": 18
    },
    {
      "id": "b6acc848-7311-485d-9968-639df147cabf",
      "cell_type": "code",
      "source": "",
      "metadata": {
        "trusted": true
      },
      "outputs": [],
      "execution_count": null
    }
  ]
}
