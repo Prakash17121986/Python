{
  "metadata": {
    "kernelspec": {
      "name": "python",
      "display_name": "Python (Pyodide)",
      "language": "python"
    },
    "language_info": {
      "codemirror_mode": {
        "name": "python",
        "version": 3
      },
      "file_extension": ".py",
      "mimetype": "text/x-python",
      "name": "python",
      "nbconvert_exporter": "python",
      "pygments_lexer": "ipython3",
      "version": "3.8"
    }
  },
  "nbformat_minor": 5,
  "nbformat": 4,
  "cells": [
    {
      "id": "7c28069b-9454-4a58-95df-6f5b3cfae5e7",
      "cell_type": "code",
      "source": "print(\"Hello\\tworld\")",
      "metadata": {
        "trusted": true
      },
      "outputs": [
        {
          "name": "stdout",
          "output_type": "stream",
          "text": "Hello\tworld\n"
        }
      ],
      "execution_count": 1
    },
    {
      "id": "5e24877a-2efa-4150-8b25-fc66e01fa20b",
      "cell_type": "code",
      "source": "print(\"Hello, \\\"world\\\"\")",
      "metadata": {
        "trusted": true
      },
      "outputs": [
        {
          "name": "stdout",
          "output_type": "stream",
          "text": "Hello, \"world\"\n"
        }
      ],
      "execution_count": 4
    },
    {
      "id": "84e5af66-6800-4276-8a94-61e1fb75de53",
      "cell_type": "code",
      "source": "print('Hello, \"world\"')",
      "metadata": {
        "trusted": true
      },
      "outputs": [
        {
          "name": "stdout",
          "output_type": "stream",
          "text": "Hello, \"world\"\n"
        }
      ],
      "execution_count": 5
    },
    {
      "id": "de199cf4-5453-401b-be39-d85e5f2343d7",
      "cell_type": "code",
      "source": "print(\"Anamika\\'s Phone Number\")\nprint(\"2+3=\", end=\"\")\nprint(2+3)",
      "metadata": {
        "trusted": true
      },
      "outputs": [
        {
          "name": "stdout",
          "output_type": "stream",
          "text": "Anamika's Phone Number\n2+3=5\n"
        }
      ],
      "execution_count": 13
    },
    {
      "id": "5d50abda-5e9e-440b-bbca-630a066c26ae",
      "cell_type": "code",
      "source": "# Rules for naming variables or identifier\n# Human can understand the high level language\n# System or Machine can understand 0's and 1's low level language \n# High level language converts to low level langauge\n# A .py file send to compiler -> compiler will convered to byte code -> Physical Virtual Machine(PVM) -> It will convert from byte code to machine level language o's and 1s\n# Compiler will scan and check the whole code and the code syntax and logic are correct or not\n# Interpreter check the code line by line. if any code error in line, it will throw an exception error. It ask user to check the code and fix the code\n# comments - Developer or tester can write the comments in script for understanding the code what it does or keep it for future reference.\n# Interpreter not run the comments\n# Interperter will ignore the comments\n# Comments will be useful for others to understand the code\n# Data types: Int, float, bool, str, list, tuple, dict, set, frozenset\n# variable - to store the data (word, number, decimal) - (str, int, float)\n# Python is supported dynamic data type - Mutable(list, dict) or immutable(str, tup) - changeable or unchangeable\n# data type determined during compile time\n\n# Variables & Data type\nvar = \"Hello\"\nVar = 10\n_var = 3.5\ndata = {'a':1,'b':2}\ntup = (1,2,3,4)\nboo = bool(True)\nVAR = [1,2,3,4]\n__value = set({1,2,3,4})\nprint(f\"var: {var}, type: {type(var)}\")\nprint(f\"Var: {Var}, type: {type(Var)}\")\nprint(f\"_var: {_var}, type: {type(_var)}\")\nprint(f\"data: {data}, type: {type(data)}\")\nprint(f\"tup: {tup}, type: {type(tup)}\")\nprint(f\"boo: {boo}, type: {type(boo)}\")\nprint(f\"VAR: {VAR}, type: {type(VAR)}\")\nprint(f\"__value: {__value}, type: {type(__value)}\")\nprint(\" \")\n\n# class methods - str\nprint(f\"Dir of {type(var)}, {dir(var)}\", end = \"\\n\")\nprint(\" \")\n\n# class methods - int\nprint(f\"Dir of {type(Var)}, {dir(Var)}\", end = \"\\n\")\nprint(\" \")\n\n# class methods - float\nprint(f\"Dir of {type(_var)}, {dir(_var)}\", end = \"\\n\")\nprint(\" \")\n\n# class methods - dict\nprint(f\"Dir of {type(data)}, {dir(data)}\", end = \"\\n\")\nprint(\" \")\n\n# class methods - tuple\nprint(f\"Dir of {type(tup)}, {dir(tup)}\", end = \"\\n\")\nprint(\" \")\n\n# class methods - bool\nprint(f\"Dir of {type(boo)}, {dir(boo)}\", end = \"\\n\")\nprint(\" \")\n\n# class methods - list\nprint(f\"Dir of {type(VAR)}, {dir(VAR)}\", end = \"\\n\")\nprint(\" \")\n\n# class methods - set\nprint(f\"Dir of {type(__value)}, {dir(__value)}\", end = \"\\n\")\nprint(\" \")\n\n",
      "metadata": {
        "trusted": true
      },
      "outputs": [
        {
          "name": "stdout",
          "output_type": "stream",
          "text": "var: Hello, type: <class 'str'>\nVar: 10, type: <class 'int'>\n_var: 3.5, type: <class 'float'>\ndata: {'a': 1, 'b': 2}, type: <class 'dict'>\ntup: (1, 2, 3, 4), type: <class 'tuple'>\nboo: True, type: <class 'bool'>\nVAR: [1, 2, 3, 4], type: <class 'list'>\n__value: {1, 2, 3, 4}, type: <class 'set'>\n \nDir of <class 'str'>, ['__add__', '__class__', '__contains__', '__delattr__', '__dir__', '__doc__', '__eq__', '__format__', '__ge__', '__getattribute__', '__getitem__', '__getnewargs__', '__getstate__', '__gt__', '__hash__', '__init__', '__init_subclass__', '__iter__', '__le__', '__len__', '__lt__', '__mod__', '__mul__', '__ne__', '__new__', '__reduce__', '__reduce_ex__', '__repr__', '__rmod__', '__rmul__', '__setattr__', '__sizeof__', '__str__', '__subclasshook__', 'capitalize', 'casefold', 'center', 'count', 'encode', 'endswith', 'expandtabs', 'find', 'format', 'format_map', 'index', 'isalnum', 'isalpha', 'isascii', 'isdecimal', 'isdigit', 'isidentifier', 'islower', 'isnumeric', 'isprintable', 'isspace', 'istitle', 'isupper', 'join', 'ljust', 'lower', 'lstrip', 'maketrans', 'partition', 'removeprefix', 'removesuffix', 'replace', 'rfind', 'rindex', 'rjust', 'rpartition', 'rsplit', 'rstrip', 'split', 'splitlines', 'startswith', 'strip', 'swapcase', 'title', 'translate', 'upper', 'zfill']\n \nDir of <class 'int'>, ['__abs__', '__add__', '__and__', '__bool__', '__ceil__', '__class__', '__delattr__', '__dir__', '__divmod__', '__doc__', '__eq__', '__float__', '__floor__', '__floordiv__', '__format__', '__ge__', '__getattribute__', '__getnewargs__', '__getstate__', '__gt__', '__hash__', '__index__', '__init__', '__init_subclass__', '__int__', '__invert__', '__le__', '__lshift__', '__lt__', '__mod__', '__mul__', '__ne__', '__neg__', '__new__', '__or__', '__pos__', '__pow__', '__radd__', '__rand__', '__rdivmod__', '__reduce__', '__reduce_ex__', '__repr__', '__rfloordiv__', '__rlshift__', '__rmod__', '__rmul__', '__ror__', '__round__', '__rpow__', '__rrshift__', '__rshift__', '__rsub__', '__rtruediv__', '__rxor__', '__setattr__', '__sizeof__', '__str__', '__sub__', '__subclasshook__', '__truediv__', '__trunc__', '__xor__', 'as_integer_ratio', 'bit_count', 'bit_length', 'conjugate', 'denominator', 'from_bytes', 'imag', 'is_integer', 'numerator', 'real', 'to_bytes']\n \nDir of <class 'float'>, ['__abs__', '__add__', '__bool__', '__ceil__', '__class__', '__delattr__', '__dir__', '__divmod__', '__doc__', '__eq__', '__float__', '__floor__', '__floordiv__', '__format__', '__ge__', '__getattribute__', '__getformat__', '__getnewargs__', '__getstate__', '__gt__', '__hash__', '__init__', '__init_subclass__', '__int__', '__le__', '__lt__', '__mod__', '__mul__', '__ne__', '__neg__', '__new__', '__pos__', '__pow__', '__radd__', '__rdivmod__', '__reduce__', '__reduce_ex__', '__repr__', '__rfloordiv__', '__rmod__', '__rmul__', '__round__', '__rpow__', '__rsub__', '__rtruediv__', '__setattr__', '__sizeof__', '__str__', '__sub__', '__subclasshook__', '__truediv__', '__trunc__', 'as_integer_ratio', 'conjugate', 'fromhex', 'hex', 'imag', 'is_integer', 'real']\n \nDir of <class 'dict'>, ['__class__', '__class_getitem__', '__contains__', '__delattr__', '__delitem__', '__dir__', '__doc__', '__eq__', '__format__', '__ge__', '__getattribute__', '__getitem__', '__getstate__', '__gt__', '__hash__', '__init__', '__init_subclass__', '__ior__', '__iter__', '__le__', '__len__', '__lt__', '__ne__', '__new__', '__or__', '__reduce__', '__reduce_ex__', '__repr__', '__reversed__', '__ror__', '__setattr__', '__setitem__', '__sizeof__', '__str__', '__subclasshook__', 'clear', 'copy', 'fromkeys', 'get', 'items', 'keys', 'pop', 'popitem', 'setdefault', 'update', 'values']\n \nDir of <class 'tuple'>, ['__add__', '__class__', '__class_getitem__', '__contains__', '__delattr__', '__dir__', '__doc__', '__eq__', '__format__', '__ge__', '__getattribute__', '__getitem__', '__getnewargs__', '__getstate__', '__gt__', '__hash__', '__init__', '__init_subclass__', '__iter__', '__le__', '__len__', '__lt__', '__mul__', '__ne__', '__new__', '__reduce__', '__reduce_ex__', '__repr__', '__rmul__', '__setattr__', '__sizeof__', '__str__', '__subclasshook__', 'count', 'index']\n \nDir of <class 'bool'>, ['__abs__', '__add__', '__and__', '__bool__', '__ceil__', '__class__', '__delattr__', '__dir__', '__divmod__', '__doc__', '__eq__', '__float__', '__floor__', '__floordiv__', '__format__', '__ge__', '__getattribute__', '__getnewargs__', '__getstate__', '__gt__', '__hash__', '__index__', '__init__', '__init_subclass__', '__int__', '__invert__', '__le__', '__lshift__', '__lt__', '__mod__', '__mul__', '__ne__', '__neg__', '__new__', '__or__', '__pos__', '__pow__', '__radd__', '__rand__', '__rdivmod__', '__reduce__', '__reduce_ex__', '__repr__', '__rfloordiv__', '__rlshift__', '__rmod__', '__rmul__', '__ror__', '__round__', '__rpow__', '__rrshift__', '__rshift__', '__rsub__', '__rtruediv__', '__rxor__', '__setattr__', '__sizeof__', '__str__', '__sub__', '__subclasshook__', '__truediv__', '__trunc__', '__xor__', 'as_integer_ratio', 'bit_count', 'bit_length', 'conjugate', 'denominator', 'from_bytes', 'imag', 'is_integer', 'numerator', 'real', 'to_bytes']\n \nDir of <class 'list'>, ['__add__', '__class__', '__class_getitem__', '__contains__', '__delattr__', '__delitem__', '__dir__', '__doc__', '__eq__', '__format__', '__ge__', '__getattribute__', '__getitem__', '__getstate__', '__gt__', '__hash__', '__iadd__', '__imul__', '__init__', '__init_subclass__', '__iter__', '__le__', '__len__', '__lt__', '__mul__', '__ne__', '__new__', '__reduce__', '__reduce_ex__', '__repr__', '__reversed__', '__rmul__', '__setattr__', '__setitem__', '__sizeof__', '__str__', '__subclasshook__', 'append', 'clear', 'copy', 'count', 'extend', 'index', 'insert', 'pop', 'remove', 'reverse', 'sort']\n \nDir of <class 'set'>, ['__and__', '__class__', '__class_getitem__', '__contains__', '__delattr__', '__dir__', '__doc__', '__eq__', '__format__', '__ge__', '__getattribute__', '__getstate__', '__gt__', '__hash__', '__iand__', '__init__', '__init_subclass__', '__ior__', '__isub__', '__iter__', '__ixor__', '__le__', '__len__', '__lt__', '__ne__', '__new__', '__or__', '__rand__', '__reduce__', '__reduce_ex__', '__repr__', '__ror__', '__rsub__', '__rxor__', '__setattr__', '__sizeof__', '__str__', '__sub__', '__subclasshook__', '__xor__', 'add', 'clear', 'copy', 'difference', 'difference_update', 'discard', 'intersection', 'intersection_update', 'isdisjoint', 'issubset', 'issuperset', 'pop', 'remove', 'symmetric_difference', 'symmetric_difference_update', 'union', 'update']\n \n"
        }
      ],
      "execution_count": 21
    },
    {
      "id": "376b176b-aae7-47cc-83b8-67b0da17fa72",
      "cell_type": "code",
      "source": "# Variable & string Data type\nvar = \"Hello\"\nprint(f\"var: {var}, type: {type(var)}\")\nprint(\" \")\n# class methods - str\nprint(f\"Dir of {type(var)}, {dir(var)}\", end = \"\\n\")\nprint(\" \")",
      "metadata": {
        "trusted": true
      },
      "outputs": [
        {
          "name": "stdout",
          "output_type": "stream",
          "text": "var: Hello, type: <class 'str'>\n \nDir of <class 'str'>, ['__add__', '__class__', '__contains__', '__delattr__', '__dir__', '__doc__', '__eq__', '__format__', '__ge__', '__getattribute__', '__getitem__', '__getnewargs__', '__getstate__', '__gt__', '__hash__', '__init__', '__init_subclass__', '__iter__', '__le__', '__len__', '__lt__', '__mod__', '__mul__', '__ne__', '__new__', '__reduce__', '__reduce_ex__', '__repr__', '__rmod__', '__rmul__', '__setattr__', '__sizeof__', '__str__', '__subclasshook__', 'capitalize', 'casefold', 'center', 'count', 'encode', 'endswith', 'expandtabs', 'find', 'format', 'format_map', 'index', 'isalnum', 'isalpha', 'isascii', 'isdecimal', 'isdigit', 'isidentifier', 'islower', 'isnumeric', 'isprintable', 'isspace', 'istitle', 'isupper', 'join', 'ljust', 'lower', 'lstrip', 'maketrans', 'partition', 'removeprefix', 'removesuffix', 'replace', 'rfind', 'rindex', 'rjust', 'rpartition', 'rsplit', 'rstrip', 'split', 'splitlines', 'startswith', 'strip', 'swapcase', 'title', 'translate', 'upper', 'zfill']\n \n"
        }
      ],
      "execution_count": 23
    },
    {
      "id": "c5c88176-de4e-4d24-baf0-53b87785138b",
      "cell_type": "code",
      "source": "# Variable & integer Data type\nVar = 10\nprint(f\"Var: {Var}, type: {type(Var)}\")\nprint(\" \")\n# class methods - int\nprint(f\"Dir of {type(Var)}, {dir(Var)}\", end = \"\\n\")\nprint(\" \")",
      "metadata": {
        "trusted": true
      },
      "outputs": [
        {
          "name": "stdout",
          "output_type": "stream",
          "text": "Var: 10, type: <class 'int'>\n \nDir of <class 'int'>, ['__abs__', '__add__', '__and__', '__bool__', '__ceil__', '__class__', '__delattr__', '__dir__', '__divmod__', '__doc__', '__eq__', '__float__', '__floor__', '__floordiv__', '__format__', '__ge__', '__getattribute__', '__getnewargs__', '__getstate__', '__gt__', '__hash__', '__index__', '__init__', '__init_subclass__', '__int__', '__invert__', '__le__', '__lshift__', '__lt__', '__mod__', '__mul__', '__ne__', '__neg__', '__new__', '__or__', '__pos__', '__pow__', '__radd__', '__rand__', '__rdivmod__', '__reduce__', '__reduce_ex__', '__repr__', '__rfloordiv__', '__rlshift__', '__rmod__', '__rmul__', '__ror__', '__round__', '__rpow__', '__rrshift__', '__rshift__', '__rsub__', '__rtruediv__', '__rxor__', '__setattr__', '__sizeof__', '__str__', '__sub__', '__subclasshook__', '__truediv__', '__trunc__', '__xor__', 'as_integer_ratio', 'bit_count', 'bit_length', 'conjugate', 'denominator', 'from_bytes', 'imag', 'is_integer', 'numerator', 'real', 'to_bytes']\n \n"
        }
      ],
      "execution_count": 24
    },
    {
      "id": "4b233b52-ce8f-489d-82cc-0ee41bebe40b",
      "cell_type": "code",
      "source": "# Variable & Float Data type\n_var = 3.5\nprint(f\"_var: {_var}, type: {type(_var)}\")\nprint(\" \")\n# class methods - float\nprint(f\"Dir of {type(_var)}, {dir(_var)}\", end = \"\\n\")\nprint(\" \")",
      "metadata": {
        "trusted": true
      },
      "outputs": [
        {
          "name": "stdout",
          "output_type": "stream",
          "text": "_var: 3.5, type: <class 'float'>\n \nDir of <class 'float'>, ['__abs__', '__add__', '__bool__', '__ceil__', '__class__', '__delattr__', '__dir__', '__divmod__', '__doc__', '__eq__', '__float__', '__floor__', '__floordiv__', '__format__', '__ge__', '__getattribute__', '__getformat__', '__getnewargs__', '__getstate__', '__gt__', '__hash__', '__init__', '__init_subclass__', '__int__', '__le__', '__lt__', '__mod__', '__mul__', '__ne__', '__neg__', '__new__', '__pos__', '__pow__', '__radd__', '__rdivmod__', '__reduce__', '__reduce_ex__', '__repr__', '__rfloordiv__', '__rmod__', '__rmul__', '__round__', '__rpow__', '__rsub__', '__rtruediv__', '__setattr__', '__sizeof__', '__str__', '__sub__', '__subclasshook__', '__truediv__', '__trunc__', 'as_integer_ratio', 'conjugate', 'fromhex', 'hex', 'imag', 'is_integer', 'real']\n \n"
        }
      ],
      "execution_count": 25
    },
    {
      "id": "2b905542-76b5-4bc8-af36-a8c7b809faea",
      "cell_type": "code",
      "source": "# Variable & dictionary Data type\ndata = {'a':1,'b':2}\nprint(f\"data: {data}, type: {type(data)}\")\nprint(\" \")\n# class methods - dict\nprint(f\"Dir of {type(data)}, {dir(data)}\", end = \"\\n\")\nprint(\" \")\n",
      "metadata": {
        "trusted": true
      },
      "outputs": [
        {
          "name": "stdout",
          "output_type": "stream",
          "text": "data: {'a': 1, 'b': 2}, type: <class 'dict'>\n \nDir of <class 'dict'>, ['__class__', '__class_getitem__', '__contains__', '__delattr__', '__delitem__', '__dir__', '__doc__', '__eq__', '__format__', '__ge__', '__getattribute__', '__getitem__', '__getstate__', '__gt__', '__hash__', '__init__', '__init_subclass__', '__ior__', '__iter__', '__le__', '__len__', '__lt__', '__ne__', '__new__', '__or__', '__reduce__', '__reduce_ex__', '__repr__', '__reversed__', '__ror__', '__setattr__', '__setitem__', '__sizeof__', '__str__', '__subclasshook__', 'clear', 'copy', 'fromkeys', 'get', 'items', 'keys', 'pop', 'popitem', 'setdefault', 'update', 'values']\n \n"
        }
      ],
      "execution_count": 26
    },
    {
      "id": "463c2be7-28fa-4a4b-8604-b33233da6357",
      "cell_type": "code",
      "source": "# Variable & tuple Data type\ntup = (1,2,3,4)\nprint(f\"tup: {tup}, type: {type(tup)}\")\nprint(\" \")\n# class methods - tuple\nprint(f\"Dir of {type(tup)}, {dir(tup)}\", end = \"\\n\")\nprint(\" \")",
      "metadata": {
        "trusted": true
      },
      "outputs": [
        {
          "name": "stdout",
          "output_type": "stream",
          "text": "tup: (1, 2, 3, 4), type: <class 'tuple'>\n \nDir of <class 'tuple'>, ['__add__', '__class__', '__class_getitem__', '__contains__', '__delattr__', '__dir__', '__doc__', '__eq__', '__format__', '__ge__', '__getattribute__', '__getitem__', '__getnewargs__', '__getstate__', '__gt__', '__hash__', '__init__', '__init_subclass__', '__iter__', '__le__', '__len__', '__lt__', '__mul__', '__ne__', '__new__', '__reduce__', '__reduce_ex__', '__repr__', '__rmul__', '__setattr__', '__sizeof__', '__str__', '__subclasshook__', 'count', 'index']\n \n"
        }
      ],
      "execution_count": 27
    },
    {
      "id": "3cfb33cc-ccce-41e3-809e-dadbc3fee49f",
      "cell_type": "code",
      "source": "# Variable & boolean Data type\nboo = bool(True)\nprint(f\"boo: {boo}, type: {type(boo)}\")\nprint(\" \")\n# class methods - bool\nprint(f\"Dir of {type(boo)}, {dir(boo)}\", end = \"\\n\")\nprint(\" \")",
      "metadata": {
        "trusted": true
      },
      "outputs": [
        {
          "name": "stdout",
          "output_type": "stream",
          "text": "boo: True, type: <class 'bool'>\n \nDir of <class 'bool'>, ['__abs__', '__add__', '__and__', '__bool__', '__ceil__', '__class__', '__delattr__', '__dir__', '__divmod__', '__doc__', '__eq__', '__float__', '__floor__', '__floordiv__', '__format__', '__ge__', '__getattribute__', '__getnewargs__', '__getstate__', '__gt__', '__hash__', '__index__', '__init__', '__init_subclass__', '__int__', '__invert__', '__le__', '__lshift__', '__lt__', '__mod__', '__mul__', '__ne__', '__neg__', '__new__', '__or__', '__pos__', '__pow__', '__radd__', '__rand__', '__rdivmod__', '__reduce__', '__reduce_ex__', '__repr__', '__rfloordiv__', '__rlshift__', '__rmod__', '__rmul__', '__ror__', '__round__', '__rpow__', '__rrshift__', '__rshift__', '__rsub__', '__rtruediv__', '__rxor__', '__setattr__', '__sizeof__', '__str__', '__sub__', '__subclasshook__', '__truediv__', '__trunc__', '__xor__', 'as_integer_ratio', 'bit_count', 'bit_length', 'conjugate', 'denominator', 'from_bytes', 'imag', 'is_integer', 'numerator', 'real', 'to_bytes']\n \n"
        }
      ],
      "execution_count": 28
    },
    {
      "id": "6aecf3af-1959-4906-99b8-dfde9afdaa42",
      "cell_type": "code",
      "source": "# Variable & list Data type\nVAR = [1,2,3,4]\nprint(f\"VAR: {VAR}, type: {type(VAR)}\")\nprint(\" \")\n# class methods - list\nprint(f\"Dir of {type(VAR)}, {dir(VAR)}\", end = \"\\n\")\nprint(\" \")\n",
      "metadata": {
        "trusted": true
      },
      "outputs": [
        {
          "name": "stdout",
          "output_type": "stream",
          "text": "VAR: [1, 2, 3, 4], type: <class 'list'>\n \nDir of <class 'list'>, ['__add__', '__class__', '__class_getitem__', '__contains__', '__delattr__', '__delitem__', '__dir__', '__doc__', '__eq__', '__format__', '__ge__', '__getattribute__', '__getitem__', '__getstate__', '__gt__', '__hash__', '__iadd__', '__imul__', '__init__', '__init_subclass__', '__iter__', '__le__', '__len__', '__lt__', '__mul__', '__ne__', '__new__', '__reduce__', '__reduce_ex__', '__repr__', '__reversed__', '__rmul__', '__setattr__', '__setitem__', '__sizeof__', '__str__', '__subclasshook__', 'append', 'clear', 'copy', 'count', 'extend', 'index', 'insert', 'pop', 'remove', 'reverse', 'sort']\n \n"
        }
      ],
      "execution_count": 29
    },
    {
      "id": "1fc188ca-5f04-431e-be3c-69ae3875684e",
      "cell_type": "code",
      "source": "# Variable & set Data type\n__value = set({1,2,3,4})\nprint(f\"__value: {__value}, type: {type(__value)}\")\nprint(\" \")\n# class methods - set\nprint(f\"Dir of {type(__value)}, {dir(__value)}\", end = \"\\n\")\nprint(\" \")",
      "metadata": {
        "trusted": true
      },
      "outputs": [
        {
          "name": "stdout",
          "output_type": "stream",
          "text": "__value: {1, 2, 3, 4}, type: <class 'set'>\n \nDir of <class 'set'>, ['__and__', '__class__', '__class_getitem__', '__contains__', '__delattr__', '__dir__', '__doc__', '__eq__', '__format__', '__ge__', '__getattribute__', '__getstate__', '__gt__', '__hash__', '__iand__', '__init__', '__init_subclass__', '__ior__', '__isub__', '__iter__', '__ixor__', '__le__', '__len__', '__lt__', '__ne__', '__new__', '__or__', '__rand__', '__reduce__', '__reduce_ex__', '__repr__', '__ror__', '__rsub__', '__rxor__', '__setattr__', '__sizeof__', '__str__', '__sub__', '__subclasshook__', '__xor__', 'add', 'clear', 'copy', 'difference', 'difference_update', 'discard', 'intersection', 'intersection_update', 'isdisjoint', 'issubset', 'issuperset', 'pop', 'remove', 'symmetric_difference', 'symmetric_difference_update', 'union', 'update']\n \n"
        }
      ],
      "execution_count": 30
    },
    {
      "id": "b7480541-b25a-43b6-9a74-8f8eaf96de9e",
      "cell_type": "code",
      "source": "# operators\n# 1. Arthmetic operators\nnumber1 = 10\nnumber2 = 20\nprint(f\"Addition: {number1 + number2}\", end=\"\\n\")\nprint(f\"Subraction: {number1 - number2}\", end=\"\\n\")\nprint(f\"Multiplication: {number1 * number2}\", end=\"\\n\")\nprint(f\"Division: {number1 / number2}\", end=\"\\n\")\nprint(f\"Modulo: {number1 // number2}\", end=\"\\n\")\n",
      "metadata": {
        "trusted": true
      },
      "outputs": [
        {
          "name": "stdout",
          "output_type": "stream",
          "text": "Addition: 30\nSubraction: -10\nMultiplication: 200\nDivision: 0.5\nModulo: 0\n"
        }
      ],
      "execution_count": 31
    },
    {
      "id": "eeb18d33-5ebc-42e1-8beb-d5cc574b6ab3",
      "cell_type": "code",
      "source": "# Relation Operators\na = 20\nb = 2\nprint(f\"value of a: {a},value of b: {b}, {type(a), type(b)}, {a == b}\")\nprint(f\"value of a: {a},value of b: {b},  {type(a), type(b)}, {a != b}\")\na = b\nprint(f\"value of a: {a},value of b: {b},  {type(a), type(b)}, {a == b}\")",
      "metadata": {
        "trusted": true
      },
      "outputs": [
        {
          "name": "stdout",
          "output_type": "stream",
          "text": "value of a: 20,value of b: 2, (<class 'int'>, <class 'int'>), False\nvalue of a: 20,value of b: 2,  (<class 'int'>, <class 'int'>), True\nvalue of a: 2,value of b: 2,  (<class 'int'>, <class 'int'>), True\n"
        }
      ],
      "execution_count": 37
    },
    {
      "id": "b4c79d2c-094f-4722-a951-971dafb1cd9c",
      "cell_type": "code",
      "source": "# Relation Operators - Quiz\na = \"Siva\"\nb = \"siva\"\n# check the ascii valie\nprint(f\"{a[0]}: {ord('S')}, {b[0]}, {ord('s')}\")\nprint(f\"{a[1]}: {ord('i')}, {b[0]}, {ord('i')}\")\nprint(f\"{a[2]}: {ord('v')}, {b[0]}, {ord('v')}\")\nprint(f\"{a[3]}: {ord('a')}, {b[0]}, {ord('a')}\")\nprint(f\"value of a: {a},value of b: {b}, {type(a), type(b)}, {a == b}\") # It will check the each character in a  and b variable\nprint(f\"value of a: {a},value of b: {b}, {type(a), type(b)}, {a < b}\") # it will check the ascii value for each char in a and b. asci value will be unique for each character",
      "metadata": {
        "trusted": true
      },
      "outputs": [
        {
          "name": "stdout",
          "output_type": "stream",
          "text": "S: 83, s, 115\ni: 105, s, 105\nv: 118, s, 118\na: 97, s, 97\nvalue of a: Siva,value of b: siva, (<class 'str'>, <class 'str'>), False\nvalue of a: Siva,value of b: siva, (<class 'str'>, <class 'str'>), True\n"
        }
      ],
      "execution_count": 43
    },
    {
      "id": "637134c3-5d70-4d7d-833e-ede9eae732b7",
      "cell_type": "code",
      "source": "# Assignment operator - Expression evaluation\na = 5\nprint(f\"{a}\")\na = a + 2\nprint(f\"{a}\")\n# Argumented Assignment operator - Expression evaluation\na+=3\nprint(f\"Addition, {a}\")\na-=3\nprint(f\"Subraction, {a}\")\na*=3\nprint(f\"Multiply, {a}\")\na/=3\nprint(f\"Division, {a}\")\na//=3\nprint(f\"Modulo, {a}\")\n",
      "metadata": {
        "trusted": true
      },
      "outputs": [
        {
          "name": "stdout",
          "output_type": "stream",
          "text": "5\n7\nAddition, 10\nSubraction, 7\nMultiply, 21\nDivision, 7.0\nModulo, 2.0\na: 100, b: 200\n"
        }
      ],
      "execution_count": 50
    },
    {
      "id": "54f286f4-ef81-425f-bdb3-6c45c52ff366",
      "cell_type": "code",
      "source": "# swapping two numbers\na, b = 100, 200\nprint(f\"a: {a}, b: {b}\")\na, b = b, a\nprint(f\"a: {a}, b: {b}\")",
      "metadata": {
        "trusted": true
      },
      "outputs": [
        {
          "name": "stdout",
          "output_type": "stream",
          "text": "a: 100, b: 200\na: 200, b: 100\n"
        }
      ],
      "execution_count": 51
    },
    {
      "id": "31e05ec5-b9f9-4059-94c8-82426c0c87ef",
      "cell_type": "code",
      "source": "# Membership operators\n# check if element is member \n# numbers\n# element is iterable in list\n# sequence of characters is iterable - list, tuple\na = [1,2,3,4,5]\n\nif 5 in a:\n    print(\"True\")\nelse:\n    print(\"False\")\n\n\n    \n",
      "metadata": {
        "trusted": true
      },
      "outputs": [
        {
          "name": "stdout",
          "output_type": "stream",
          "text": "True\n"
        }
      ],
      "execution_count": 58
    },
    {
      "id": "f8e234a6-f316-407a-b2a6-22d46cc05d91",
      "cell_type": "code",
      "source": "# Membership operators\n# check if element is not member\n# numbers\nif 6 in a:\n    print(\"True\")\nelse:\n    print(\"False\")\n\nif 6 not in a:\n    print(\"True\")\nelse:\n    print(\"False\")",
      "metadata": {
        "trusted": true
      },
      "outputs": [
        {
          "name": "stdout",
          "output_type": "stream",
          "text": "False\nTrue\n"
        }
      ],
      "execution_count": 62
    },
    {
      "id": "fbcc1bca-5fa7-40ed-a008-87297f9fd18e",
      "cell_type": "code",
      "source": "# Membership operators\n# check if element is not member\n# string\nname = \"hello\"\n\"hello\" in name\n\n\"hell\" not in name",
      "metadata": {
        "trusted": true
      },
      "outputs": [
        {
          "execution_count": 63,
          "output_type": "execute_result",
          "data": {
            "text/plain": "False"
          },
          "metadata": {}
        }
      ],
      "execution_count": 63
    },
    {
      "id": "b42f3b74-88b3-409e-9cce-42b1519a0a10",
      "cell_type": "code",
      "source": "numbers = [1,2,'a',3,4]\nprint(2 in numbers)\nprint('2' in numbers)\nprint('a' in numbers)\nprint(10 not in numbers)",
      "metadata": {
        "trusted": true
      },
      "outputs": [
        {
          "name": "stdout",
          "output_type": "stream",
          "text": "True\nFalse\nTrue\nTrue\n"
        }
      ],
      "execution_count": 65
    },
    {
      "id": "bfd287b9-5aba-40c7-8470-865d48ced0d7",
      "cell_type": "code",
      "source": "# Logical operators\n# AND, OR operator\n# Either a or b is True\n# Both a and b are True\na = 10\nb = 20\nprint(f\"{a == 10 and b == 20}\")\nprint(f\"{a == 10 and b == 10}\")\nprint(f\"{a == 10 or b == 20}\")",
      "metadata": {
        "trusted": true
      },
      "outputs": [
        {
          "name": "stdout",
          "output_type": "stream",
          "text": "True\nFalse\nTrue\n"
        }
      ],
      "execution_count": 68
    },
    {
      "id": "441ddae9-7e9c-44de-9643-919b5e12e64a",
      "cell_type": "code",
      "source": "# AND Operator\nnum = 10\nprint(num > 5 and num < 15)\nprint(num > 10 and num < 10)\nprint(num >=10 and num <= 10)\nprint(num / 2 == 0 and num / 3 == 0)\nprint(num % 2 == 0 and num % 3 == 0)\nprint(not (num == 0))\n# input a, input b, Output\n# AND Truth Table\n# 0 0 0\n# 0 1 0\n# 1 0 0\n# 1 1 1",
      "metadata": {
        "trusted": true
      },
      "outputs": [
        {
          "name": "stdout",
          "output_type": "stream",
          "text": "True\nFalse\nTrue\nFalse\nFalse\nTrue\n"
        }
      ],
      "execution_count": 78
    },
    {
      "id": "b8c911e9-4618-4fe7-8d48-662cc4b37c36",
      "cell_type": "code",
      "source": "# OR Operator\nnum = 10\nprint(num > 5 or num < 15)\nprint(num > 10 or num < 10)\nprint(num >=10 or num <= 10)\nprint(num / 2 == 0 or num / 3 == 0)\nprint(num % 2 == 0 or num % 3 == 0)\nprint(not (num == 0))\n\n# input a, input b, Output\n# OR Truth Table\n# 0 0 0\n# 0 1 1\n# 1 0 1\n# 1 1 1",
      "metadata": {
        "trusted": true
      },
      "outputs": [
        {
          "name": "stdout",
          "output_type": "stream",
          "text": "True\nFalse\nTrue\nFalse\nTrue\nTrue\n"
        }
      ],
      "execution_count": 79
    },
    {
      "id": "8017355e-f7a5-4ef3-a173-0d0a434824b1",
      "cell_type": "code",
      "source": "# Decimal to binary conversion\n# Bitwise operator\n'''\nnumber = 10\n2 / 10 -> 5, 0\n2 / 5  -> 2, 1\n2 / 2  -> 1, 0\n'''\n# Reverse the remainder - 1010\nnumber1 = 10 #, binary = 1010\nnumber2 = 2 #,  binary = 0010\nprint(number1 & number2) # AND\nprint(number1 | number2) # OR",
      "metadata": {
        "trusted": true
      },
      "outputs": [
        {
          "name": "stdout",
          "output_type": "stream",
          "text": "2\n10\n"
        }
      ],
      "execution_count": 83
    },
    {
      "id": "82754f9a-cf5a-4678-bb6d-3e204f472c2d",
      "cell_type": "code",
      "source": "# Bitwise operator\n# input a, input b, Output\n# XOR Truth Table\n# 0 0 0\n# 0 1 1\n# 1 0 1\n# 1 1 0\nnumber1 = 10 #, binary = 1010\nnumber2 = 2 #,  binary = 0010\nprint(number1 ^ number2) # XOR",
      "metadata": {
        "trusted": true
      },
      "outputs": [
        {
          "name": "stdout",
          "output_type": "stream",
          "text": "8\n"
        }
      ],
      "execution_count": 84
    },
    {
      "id": "ae3e902c-0715-48a5-b400-2c46f30b45e4",
      "cell_type": "code",
      "source": "# Bitwise operator\nnumber1 = 10 #, binary = 1010\nnumber2 = 2 #,  binary = 0010\nprint(number1 >> 1) # Right shift operator\nprint(number1 << 1) # Right shift operator\n\nprint(number2 >> 1) # Right shift operator\nprint(number2 << 1) # Right shift operator\n",
      "metadata": {
        "trusted": true
      },
      "outputs": [
        {
          "name": "stdout",
          "output_type": "stream",
          "text": "5\n20\n1\n4\n"
        }
      ],
      "execution_count": 89
    },
    {
      "id": "5a824b0d-4a86-4113-8145-de5ee693f7aa",
      "cell_type": "code",
      "source": "# string replication\na = \"hello\"\nprint(f\"{a*5}\") # string value * number\nprint(f\"{5*a}\") # number * string value",
      "metadata": {
        "trusted": true
      },
      "outputs": [
        {
          "name": "stdout",
          "output_type": "stream",
          "text": "hellohellohellohellohello\nhellohellohellohellohello\n"
        }
      ],
      "execution_count": 91
    },
    {
      "id": "a683034e-6504-46f8-b99c-39ca497a6a69",
      "cell_type": "code",
      "source": "# string concatenation\nstr1 = \"hello\"\nstr2 = \"world\"\nprint(f\"{str1+str2}\") # string concatenation of and b\n",
      "metadata": {
        "trusted": true
      },
      "outputs": [
        {
          "name": "stdout",
          "output_type": "stream",
          "text": "helloworld\n"
        }
      ],
      "execution_count": 93
    },
    {
      "id": "179f98e2-b5fa-4da9-b9ba-7b202c6cf670",
      "cell_type": "code",
      "source": "# string replication and concatenation\nstars = \"*\"*20\ngreeting = \"Happy\" + \"Holidays!\"\n#print(stars+\"\\n\"+greeting+\"\\n\"+stars, sep=\"\\n\")\nprint(stars+\"\\n\"+greeting+\"\\n\"+stars)",
      "metadata": {
        "trusted": true
      },
      "outputs": [
        {
          "name": "stdout",
          "output_type": "stream",
          "text": "********************\nHappyHolidays!\n********************\n"
        }
      ],
      "execution_count": 101
    },
    {
      "id": "6b7cede6-391e-45ac-8b3d-1b97cf996f4f",
      "cell_type": "code",
      "source": "# input from user\nnum = int(input())\nprint(num)\nprint(type(num))\n",
      "metadata": {
        "trusted": true
      },
      "outputs": [
        {
          "output_type": "stream",
          "name": "stdin",
          "text": " 10\n"
        },
        {
          "name": "stdout",
          "output_type": "stream",
          "text": "10\n<class 'int'>\n"
        }
      ],
      "execution_count": 104
    },
    {
      "id": "e7646058-3f5c-4230-b4b6-d5e6f3b949ee",
      "cell_type": "code",
      "source": "num = input()\nprint(num*5)",
      "metadata": {
        "trusted": true
      },
      "outputs": [
        {
          "output_type": "stream",
          "name": "stdin",
          "text": " hello world\n"
        },
        {
          "name": "stdout",
          "output_type": "stream",
          "text": "hello worldhello worldhello worldhello worldhello world\n"
        }
      ],
      "execution_count": 105
    },
    {
      "id": "20b35b8a-54a7-41c2-a3a2-7ea2bba228ca",
      "cell_type": "code",
      "source": "# Average marks\nmark1 = float(input(\"Enter Physics Marks\"))\nmark2 = float(input(\"Enter Chemistry Marks\"))\nmark3 = float(input(\"Enter Maths Marks\"))\ntotal_marks = mark1 + mark2 + mark3\nprint(f\"total_marks, {total_marks}\")\naverage_marks = total_marks / 3\nprint(f\"average_marks, {average_marks}\")",
      "metadata": {
        "trusted": true
      },
      "outputs": [
        {
          "output_type": "stream",
          "name": "stdin",
          "text": "Enter Physics Marks 51\nEnter Chemistry Marks 80.3\nEnter Maths Marks 90.5\n"
        },
        {
          "name": "stdout",
          "output_type": "stream",
          "text": "total_marks, 221.8\naverage_marks, 73.93333333333334\n"
        }
      ],
      "execution_count": 106
    },
    {
      "id": "17a9fa26-8d8a-480d-9644-44f29b3e3075",
      "cell_type": "code",
      "source": "# abc*3, Expression\na = int(input(\"Enter number a\"))\nb = int(input(\"Enter number b\"))\nc = int(input(\"Enter number c\"))\ntotal = a*b*c*3 \nprint(total)",
      "metadata": {
        "trusted": true
      },
      "outputs": [
        {
          "output_type": "stream",
          "name": "stdin",
          "text": "Enter number a 2\nEnter number b 2\nEnter number c 2\n"
        },
        {
          "name": "stdout",
          "output_type": "stream",
          "text": "24\n"
        }
      ],
      "execution_count": 109
    },
    {
      "id": "62764139-8a49-486f-ac6c-27fa383c4d70",
      "cell_type": "code",
      "source": "# unit Digit\nnum = int(input())\nprint(num%10)",
      "metadata": {
        "trusted": true
      },
      "outputs": [
        {
          "output_type": "stream",
          "name": "stdin",
          "text": " 10\n"
        },
        {
          "name": "stdout",
          "output_type": "stream",
          "text": "0\n"
        }
      ],
      "execution_count": 110
    },
    {
      "id": "200ba096-2305-4f8e-ac7b-412ebd059629",
      "cell_type": "code",
      "source": "print(f\"{help(\"keywords\")}\")",
      "metadata": {
        "trusted": true
      },
      "outputs": [
        {
          "name": "stdout",
          "output_type": "stream",
          "text": "\nHere is a list of the Python keywords.  Enter any keyword to get more help.\n\nFalse               class               from                or\nNone                continue            global              pass\nTrue                def                 if                  raise\nand                 del                 import              return\nas                  elif                in                  try\nassert              else                is                  while\nasync               except              lambda              with\nawait               finally             nonlocal            yield\nbreak               for                 not                 \n\nNone\n"
        }
      ],
      "execution_count": 72
    },
    {
      "id": "36afc938-13df-4adc-bdeb-8958e71fb3fd",
      "cell_type": "code",
      "source": "print(f\"{help(\"modules\")}\")",
      "metadata": {
        "trusted": true
      },
      "outputs": [
        {
          "name": "stdout",
          "output_type": "stream",
          "text": "\nPlease wait a moment while I gather a list of all available modules...\n\nIPython             _warnings           hashlib             runpy\n__future__          _weakref            heapq               sched\n__hello__           _weakrefset         hmac                secrets\n__phello__          _xxsubinterpreters  html                select\n_abc                _zoneinfo           http                selectors\n_ast                abc                 imaplib             shelve\n_asyncio            aifc                imghdr              shlex\n_bisect             antigravity         importlib           shutil\n_blake2             argparse            inspect             signal\n_bz2                array               io                  site\n_codecs             ast                 ipaddress           six\n_codecs_cn          asttokens           ipykernel           smtplib\n_codecs_hk          asyncio             itertools           sndhdr\n_codecs_iso2022     atexit              jedi                socket\n_codecs_jp          audioop             json                socketserver\n_codecs_kr          base64              keyword             sqlite3\n_codecs_tw          bdb                 linecache           sre_compile\n_collections        binascii            locale              sre_constants\n_collections_abc    bisect              logging             sre_parse\n_compat_pickle      builtins            mailbox             ssl\n_compression        bz2                 mailcap             stack_data\n_contextvars        cProfile            marshal             stat\n_crypt              calendar            math                statistics\n_csv                cgi                 matplotlib_inline   string\n_ctypes             cgitb               micropip            stringprep\n_datetime           chunk               mimetypes           struct\n_decimal            cmath               mmap                subprocess\n_elementtree        cmd                 modulefinder        sunau\n_functools          code                multiprocessing     symtable\n_heapq              codecs              netrc               sys\n_imp                codeop              nntplib             sysconfig\n_io                 collections         ntpath              tabnanny\n_json               colorsys            nturl2path          tarfile\n_locale             comm                numbers             telnetlib\n_lsprof             compileall          opcode              tempfile\n_markupbase         concurrent          operator            textwrap\n_md5                configparser        optparse            this\n_multibytecodec     contextlib          os                  threading\n_opcode             contextvars         packaging           time\n_operator           copy                parso               timeit\n_pickle             copyreg             pathlib             token\n_posixsubprocess    crypt               pdb                 tokenize\n_py_abc             csv                 pickle              tomllib\n_pydatetime         ctypes              pickletools         trace\n_pyio               dataclasses         pipes               traceback\n_pylong             datetime            piplite             tracemalloc\n_pyodide            decimal             pkgutil             traitlets\n_pyodide_core       decorator           platform            tty\n_queue              difflib             plistlib            types\n_random             dis                 poplib              typing\n_sha1               doctest             posix               unicodedata\n_sha2               email               posixpath           unittest\n_sha3               encodings           pprint              urllib\n_signal             enum                profile             uu\n_sitebuiltins       errno               prompt_toolkit      uuid\n_socket             executing           pstats              warnings\n_sqlite3            faulthandler        pty                 wave\n_sre                filecmp             pure_eval           wcwidth\n_ssl                fileinput           py_compile          weakref\n_stat               fnmatch             pyclbr              webbrowser\n_statistics         fractions           pydoc               wsgiref\n_string             ftplib              pyexpat             xdrlib\n_strptime           functools           pygments            xml\n_struct             gc                  pyodide             xmlrpc\n_symtable           genericpath         pyodide_kernel      zipapp\n_sysconfigdata__emscripten_wasm32-emscripten getopt              queue               zipfile\n_thread             getpass             quopri              zipimport\n_threading_local    gettext             random              zlib\n_tokenize           glob                re                  zoneinfo\n_tracemalloc        graphlib            reprlib             \n_typing             gzip                rlcompleter         \n\nEnter any module name to get more help.  Or, type \"modules spam\" to search\nfor modules whose name or summary contain the string \"spam\".\n\nNone\n"
        }
      ],
      "execution_count": 73
    },
    {
      "id": "44d6224b-8cdd-4897-b027-ce8b7127f225",
      "cell_type": "code",
      "source": "import pdb\n#help(pdb)\n#  >>> import pdb\n# >>> pdb.run('<a statement>')\n\n# h - help - help pdb, help exec\n# where\n# break\n#tbreak\n# clear\n# enable\n# conditional bpnumber [condition]\n# pdb com end\n# s or step\n# n or next\n# j jump\n# r return\n# c continue\n# l list\n# ll longest\n# p expression\n# pp expression\n",
      "metadata": {
        "trusted": true
      },
      "outputs": [],
      "execution_count": 116
    },
    {
      "id": "cf11da5b-f0e5-4d4f-b079-f84b8b691d7e",
      "cell_type": "code",
      "source": "",
      "metadata": {
        "trusted": true
      },
      "outputs": [],
      "execution_count": null
    }
  ]
}