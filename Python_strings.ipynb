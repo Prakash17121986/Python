{
  "metadata": {
    "kernelspec": {
      "name": "python",
      "display_name": "Python (Pyodide)",
      "language": "python"
    },
    "language_info": {
      "codemirror_mode": {
        "name": "python",
        "version": 3
      },
      "file_extension": ".py",
      "mimetype": "text/x-python",
      "name": "python",
      "nbconvert_exporter": "python",
      "pygments_lexer": "ipython3",
      "version": "3.8"
    }
  },
  "nbformat_minor": 5,
  "nbformat": 4,
  "cells": [
    {
      "id": "bba7aad6-25f4-4476-98bb-0769ef1731d3",
      "cell_type": "code",
      "source": "str1 = \"Helloworld\"\nprint(\"Print the string str1:\", str1)\n\nprint('string lower', str1.lower())\n\nother = []\nconsonants = [] \n\ndef reverse_string_consonants_first(str1):\n    for val in str1:\n        if val not in 'AEIOUaeiou': # check val not in consonants or vowels\n            other.append(val)\n        else:\n            consonants.append(val)\n    \n    reverse_string = ''.join(consonants + other) # Convert a list of characters into a string\n    print(\"reverse of string\", reverse_string)\n\nreverse_string_consonants_first(str1=\"Helloworld\")",
      "metadata": {
        "trusted": true
      },
      "outputs": [
        {
          "name": "stdout",
          "output_type": "stream",
          "text": "Print the string str1: Helloworld\nstring lower helloworld\nreverse of string eooHllwrld\n"
        }
      ],
      "execution_count": 18
    },
    {
      "id": "aeafefb2-5e30-4537-a121-6ca56134a4bd",
      "cell_type": "code",
      "source": "# reverse the string\ndef reverse_string(str1):\n    return str1[::-1]\nprint(reverse_string(str1=\"hello\"))",
      "metadata": {
        "trusted": true
      },
      "outputs": [
        {
          "name": "stdout",
          "output_type": "stream",
          "text": "olleh\n"
        }
      ],
      "execution_count": 22
    },
    {
      "id": "87faef31-d99d-4c70-9980-e71eadadc0b9",
      "cell_type": "code",
      "source": "# convert string to list of characters and strip the characters\nstring_1=' Greatworldhere! &*' # whitespace also treated as characters\nprint('string_1', string_1)\nlist1 = list(string_1.strip())\nprint('list1', list1)",
      "metadata": {
        "trusted": true
      },
      "outputs": [
        {
          "name": "stdout",
          "output_type": "stream",
          "text": "string_1  Greatworldhere! &*\nlist1 ['G', 'r', 'e', 'a', 't', 'w', 'o', 'r', 'l', 'd', 'h', 'e', 'r', 'e', '!', ' ', '&', '*']\n"
        }
      ],
      "execution_count": 28
    },
    {
      "id": "20c3b396-e32a-4082-8146-5513c070ba0b",
      "cell_type": "code",
      "source": "# split the strings\nstring_1=\"You can convert string to list\"\nprint(string_1.split(\" \")) # delimiter is space used to split the strings\n\nstring_1=\"You*can*convert*string*to*list\"\nprint(string_1.split(\"*\")) # delimiter is * used to split the string",
      "metadata": {
        "trusted": true
      },
      "outputs": [
        {
          "name": "stdout",
          "output_type": "stream",
          "text": "['You', 'can', 'convert', 'string', 'to', 'list']\n['You', 'can', 'convert', 'string', 'to', 'list']\n"
        }
      ],
      "execution_count": 30
    },
    {
      "id": "9d5c61f2-0efc-4f61-a9d2-24e3be1e0e13",
      "cell_type": "code",
      "source": "# iterating through a list\nmylist = ['Hi', 'Prakash', 'How', 'are', 'you']\nmystring =\"\"\nfor val in mylist:\n    mystring+=val + ''\n\nprint(mystring)",
      "metadata": {
        "trusted": true
      },
      "outputs": [
        {
          "name": "stdout",
          "output_type": "stream",
          "text": "HiPrakashHowareyou\n"
        }
      ],
      "execution_count": 34
    },
    {
      "id": "650eb742-7575-455b-ae6a-7f4eba984f74",
      "cell_type": "code",
      "source": "# map function - 1\nmylist = ['Hi', 'Prakash', 'How', 'are', 'you']\n# 1. convert a list to string\n# 2. List is hetrogenous\nstring = ''.join(map(str, mylist))\n\nprint(string)",
      "metadata": {
        "trusted": true
      },
      "outputs": [
        {
          "name": "stdout",
          "output_type": "stream",
          "text": "HiPrakashHowareyou\n"
        }
      ],
      "execution_count": 37
    },
    {
      "id": "196c6cdb-313a-4317-9c68-b33d4996714c",
      "cell_type": "code",
      "source": "# map function - 2\na = ['hello','world']\n\nb = ''.join(map(str, a))\nprint(b)",
      "metadata": {
        "trusted": true
      },
      "outputs": [
        {
          "name": "stdout",
          "output_type": "stream",
          "text": "helloworld\n"
        }
      ],
      "execution_count": 43
    },
    {
      "id": "c44010a7-a8f9-4201-af60-eab5ac71dfad",
      "cell_type": "code",
      "source": "# Traversal of a List Function\nmy_list = ['You', 'can', 'learn', 'Python', 'Programming', 'in', 'online']\nstr1=\"\"\nfor val in my_list:\n    str1+=\"\"+val #'You can learn Python Programming in online'\nprint(str1)\n\nstr2=\"\"\nfor val in my_list:\n    str2+=\"\"+val#'You can learn Python Programming in online'\n\nprint(str2)\n    ",
      "metadata": {
        "trusted": true
      },
      "outputs": [
        {
          "name": "stdout",
          "output_type": "stream",
          "text": "YoucanlearnPythonProgramminginonline\nYoucanlearnPythonProgramminginonline\n"
        }
      ],
      "execution_count": 58
    },
    {
      "id": "45a1b503-1b90-477a-b3dd-af42ffdf281d",
      "cell_type": "code",
      "source": "# Using Join Function\nmy_list = ['how', 'to', 'convert', 'list', 'into', 'string']\n\nprint(''.join(my_list)) # join () function combines the elements of a list using a string separator.",
      "metadata": {
        "trusted": true
      },
      "outputs": [
        {
          "name": "stdout",
          "output_type": "stream",
          "text": "howtoconvertlistintostring\n"
        }
      ],
      "execution_count": 61
    },
    {
      "id": "4ca62169-8e8b-4062-8cb3-d9b3b9dc141e",
      "cell_type": "code",
      "source": "# string comphrension method\ntest_list=[\"Python\",\"is\",\"good\",\"programming\",\"language\"]\nlist_to_str = ' '.join([str(element) for element in test_list ]) \nprint(list_to_str) ",
      "metadata": {
        "trusted": true
      },
      "outputs": [
        {
          "name": "stdout",
          "output_type": "stream",
          "text": "Python is good programming language\n"
        }
      ],
      "execution_count": 63
    },
    {
      "id": "39d54a69-16d9-4e44-885a-a2970f753e1b",
      "cell_type": "code",
      "source": "a = ['hello', 'world']\nprint(' '.join([str(element) for element in a]))\nprint(' '.join(map(str, a)))",
      "metadata": {
        "trusted": true
      },
      "outputs": [
        {
          "name": "stdout",
          "output_type": "stream",
          "text": "hello world\nhello world\n"
        }
      ],
      "execution_count": 65
    },
    {
      "id": "c9de31f8-cb4a-4cc4-ab93-7ed9bb0d7833",
      "cell_type": "code",
      "source": "# using str method\nnumbers=[1,56,87,22.3,76]\nprint(str(numbers))\n\n#Now manipulate the str() to get string of just Numbers\nprint(str(numbers)[1:-1])\n\n#we can use strip function to get just Numbers\nprint(str(numbers).strip('[]'))",
      "metadata": {
        "trusted": true
      },
      "outputs": [
        {
          "name": "stdout",
          "output_type": "stream",
          "text": "[1, 56, 87, 22.3, 76]\n1, 56, 87, 22.3, 76\n1, 56, 87, 22.3, 76\n"
        }
      ],
      "execution_count": 66
    },
    {
      "id": "7705b542-3145-4ff6-a7dc-619292ad07d8",
      "cell_type": "code",
      "source": "# using string operations\nnumbers=[1,56,87,22.3,76]\nprint(str(numbers)[1:-1]) # string method\nprint(numbers[1:-1]) # list slicing",
      "metadata": {
        "trusted": true
      },
      "outputs": [
        {
          "name": "stdout",
          "output_type": "stream",
          "text": "1, 56, 87, 22.3, 76\n[56, 87, 22.3]\n"
        }
      ],
      "execution_count": 70
    },
    {
      "id": "8761bb21-6fcc-446f-aec9-595852bcb779",
      "cell_type": "code",
      "source": "# convert list to strings\nlist1 = [10,20,30,40,50]\n\nlist2 = [str(x) for x in list1]\n\nstring = ' '.join(map(str, [str(x) for x in list1]))\n\nprint('list1', list1)\n\nprint('list2', list2)\n\nprint('string', string)\n\nprint(type(list1),type(list2),type(string))",
      "metadata": {
        "trusted": true
      },
      "outputs": [
        {
          "name": "stdout",
          "output_type": "stream",
          "text": "list1 [10, 20, 30, 40, 50]\nlist2 ['10', '20', '30', '40', '50']\nstring 10 20 30 40 50\n<class 'list'> <class 'list'> <class 'str'>\n"
        }
      ],
      "execution_count": 77
    },
    {
      "id": "3ce2961e-26e7-48e9-bc67-dd6bbfebef08",
      "cell_type": "code",
      "source": "str1 = 'hello', 'world'\nlist2 = [x for x in ''.join(str1)]\nprint(\"string\", str1)\n\nprint(\"list\", list2)\n\nprint(\"join\", ''.join(list2))\n\nprint(\"join and split\", ''.join(list2).split())\n\nprint(\"splitlines\", ''.join(list2).splitlines())",
      "metadata": {
        "trusted": true
      },
      "outputs": [
        {
          "name": "stdout",
          "output_type": "stream",
          "text": "string ('hello', 'world')\nlist ['h', 'e', 'l', 'l', 'o', 'w', 'o', 'r', 'l', 'd']\njoin helloworld\njoin and split ['helloworld']\nsplitlines ['helloworld']\n"
        }
      ],
      "execution_count": 97
    },
    {
      "id": "3f691135-20b8-49bb-b154-8eb44b72a31e",
      "cell_type": "code",
      "source": "# type conversion - Python is dynamic language, int() , tuple(), dict(),  str() , and float() - automatically convert the data type using these function \n# No need to specify the data type in code\n# it helps to improve Performance and memory usage\nuser_input = \"10\"\nprint(user_input)\nprint(int(user_input), type(int(user_input)), type(user_input))\nprint(\" \")\n\nuser_input = 10.5\nprint(user_input)\nprint(int(user_input), type(int(user_input)), type(user_input))\nprint(\" \")\n\nuser_input = \"hello\"\nprint(user_input)\nprint(list(user_input), type(list(user_input)), type(user_input))\nprint(\" \")\n\nuser_input = (1,2,3)\nprint(user_input)\nprint(list(user_input), type(list(user_input)), type(user_input))\nprint(\" \")\n\nuser_input = {'a':1,'b':2}\nprint(user_input)\nprint(list(user_input), type(list(user_input)), type(user_input))\nprint(\" \")\n",
      "metadata": {
        "trusted": true
      },
      "outputs": [
        {
          "name": "stdout",
          "output_type": "stream",
          "text": "10\n10 <class 'int'> <class 'str'>\n \n10.5\n10 <class 'int'> <class 'float'>\n \nhello\n['h', 'e', 'l', 'l', 'o'] <class 'list'> <class 'str'>\n \n(1, 2, 3)\n[1, 2, 3] <class 'list'> <class 'tuple'>\n \n{'a': 1, 'b': 2}\n['a', 'b'] <class 'list'> <class 'dict'>\n \n"
        }
      ],
      "execution_count": 106
    },
    {
      "id": "5caa3f50-f239-4c17-8a83-4c671279bd0e",
      "cell_type": "code",
      "source": "# optimize the list operation, use built-in functions like map() and filter()\nsquared_numbers = [x ** 2 for x in range(10)]\nprint(squared_numbers)",
      "metadata": {
        "trusted": true
      },
      "outputs": [
        {
          "name": "stdout",
          "output_type": "stream",
          "text": "[0, 1, 4, 9, 16, 25, 36, 49, 64, 81]\n"
        }
      ],
      "execution_count": 107
    },
    {
      "id": "bd1da7aa-4902-4e49-9ef1-0f249d8387fa",
      "cell_type": "code",
      "source": "# for loop\nmy_list = ['how', 'to', 'convert', 'list', 'into', 'string']\nfor value in my_list:\n    print(value)",
      "metadata": {
        "trusted": true
      },
      "outputs": [
        {
          "name": "stdout",
          "output_type": "stream",
          "text": "how\nto\nconvert\nlist\ninto\nstring\n"
        }
      ],
      "execution_count": 108
    },
    {
      "id": "41873c2f-cb7e-4ea1-8ec7-e5b53ca52231",
      "cell_type": "code",
      "source": "# for loop - negative slicing\nmy_list = ['how', 'to', 'convert', 'list', 'into', 'string']\nfor value in my_list[::-1]:\n    print(value)",
      "metadata": {
        "trusted": true
      },
      "outputs": [
        {
          "name": "stdout",
          "output_type": "stream",
          "text": "string\ninto\nlist\nconvert\nto\nhow\n"
        }
      ],
      "execution_count": 109
    },
    {
      "id": "55fffc31-7f9b-4786-86f1-d2346990296d",
      "cell_type": "code",
      "source": "# for loop - positive slicing\nmy_list = ['how', 'to', 'convert', 'list', 'into', 'string']\nfor value in my_list[1:len(my_list)]:\n    print(value)",
      "metadata": {
        "trusted": true
      },
      "outputs": [
        {
          "name": "stdout",
          "output_type": "stream",
          "text": "to\nconvert\nlist\ninto\nstring\n"
        }
      ],
      "execution_count": 110
    },
    {
      "id": "1293a786-95fc-4192-be37-f880d47bf7d1",
      "cell_type": "code",
      "source": "# for loop - enumerate()\nmy_list = ['how', 'to', 'convert', 'list', 'into', 'string']\nfor indx, value in enumerate(my_list):\n    print(indx, value)",
      "metadata": {
        "trusted": true
      },
      "outputs": [
        {
          "name": "stdout",
          "output_type": "stream",
          "text": "0 how\n1 to\n2 convert\n3 list\n4 into\n5 string\n"
        }
      ],
      "execution_count": 112
    },
    {
      "id": "be1a65be-3172-4bf4-9e0a-809d8ef99aa1",
      "cell_type": "code",
      "source": "# difference between deep copy and shallow copy in python\n# how an object is duplicated\n# if I modify a mutable object in the shallow copy the change will reflect in the original as well.\n# You can create a shallow copy using the copy module\n# when passing data between functions or modules that should operate independently. deepcopy is useful to do independent operations. Useful for complex data structures.\nimport copy\nlist1 = [1,2,[3,4],5,6]\nprint(\"list1\", list1)\nshallowcopiedlist = copy.copy(list1)\nprint(\"shallowcopiedlist\", shallowcopiedlist)\nshallowcopiedlist[2][0] = \"changed\"\nprint(\"shallowcopiedlist\", shallowcopiedlist)\nprint(\"list1\", list1)\n\ndeepcopiedlist = copy.deepcopy(list1)\ndeepcopiedlist[2][0] = \"Deep Changed\"\nprint(\"deepcopiedlist\", deepcopiedlist)\nprint(\"list1\", list1)",
      "metadata": {
        "trusted": true
      },
      "outputs": [
        {
          "name": "stdout",
          "output_type": "stream",
          "text": "list1 [1, 2, [3, 4], 5, 6]\nshallowcopiedlist [1, 2, [3, 4], 5, 6]\nshallowcopiedlist [1, 2, ['changed', 4], 5, 6]\nlist1 [1, 2, ['changed', 4], 5, 6]\ndeepcopiedlist [1, 2, ['Deep Changed', 4], 5, 6]\nlist1 [1, 2, ['changed', 4], 5, 6]\n"
        }
      ],
      "execution_count": 116
    },
    {
      "id": "09d22406-81bb-4021-adc1-376ccbc13dda",
      "cell_type": "code",
      "source": "# conext manager\n# file handling - efficiently handle large datasets while minimizing memory consumption \n'''\nwith open('large_file.txt', 'r') as file:\n    for line in file:\n        process(line)  # Process each line\n'''",
      "metadata": {
        "trusted": true
      },
      "outputs": [],
      "execution_count": null
    },
    {
      "id": "8a883c68-8a77-4818-baf4-b7ef1c62b1ba",
      "cell_type": "code",
      "source": "# lambda function is a small anonomous function to takes any number of arguments with single expression\n# map() function - The map() function applies a specified function to each item in an iterable, returning an iterator of the results\n# lambda keyword \n# when we can use this function means to tranform the data or filter the data without definung the full function\nmy_list = range(10)\nsquare_num = list(map(lambda x: x * 2, my_list)) # using a lambda function with the map() function to double the values in a list\nprint(square_num)\n\n# filter function\n# it simplifies the code \n# more code readable\neven_numbers = list(filter(lambda x: x%2==0, my_list)) # filter() function to filter out unwanted elements\nodd_numbers = list(filter(lambda x: x%2!=0, my_list)) # creates an iterator from elements of an iterable for which a function returns True \nprint('even_numbers', even_numbers)\nprint('odd_numbers', odd_numbers)\n\n# reduce function - applies a rolling computation to sequential pairs of values in an iterable, returning a single cumulative value\nfrom functools import reduce\nmylist=[10,20]\nreduce_list = reduce(lambda x, y: x+y, mylist) # to sum a list of numbers\nprint(reduce_list)",
      "metadata": {
        "trusted": true
      },
      "outputs": [
        {
          "name": "stdout",
          "output_type": "stream",
          "text": "[0, 2, 4, 6, 8, 10, 12, 14, 16, 18]\neven_numbers [0, 2, 4, 6, 8]\nodd_numbers [1, 3, 5, 7, 9]\n30\n"
        }
      ],
      "execution_count": 128
    },
    {
      "id": "f079a316-71c7-4be1-a929-6e000e073dfd",
      "cell_type": "code",
      "source": "# Selecting data structure based on use case\n# Reduce memory overhead\n# Enhance the performance\n# lists for ordered collections\n# dictionaries for fast lookups\n# sets to identify the unique item\n# identify bottlenecks\n# optimize resource allocation\n# memory leaks typically occur when objects are unintentionally held in memory preventing Python’s garbage collector from reclaiming that space",
      "metadata": {
        "trusted": true
      },
      "outputs": [],
      "execution_count": null
    },
    {
      "id": "e13c2adc-158e-497c-a105-78458284aa2d",
      "cell_type": "code",
      "source": "# iterators are objects which consist of __next__ and __iter__ or next() or iter()\n# They allow me to traverse through a collection without exposing the underlying details.\n\n# Geneerator are special type of iterators that are used to defined using function code with yield keyword\n# They allow me to create iterators in a more concise and memory-efficient way.\n# Generators improve performance in large scale ssytems\n# by producing items one at a time and maintaining their state between calls\n# you can iterate one by one without loading the large set of data into memory at once\n#  improved response\n# cost saving\n\n'''\ndef read_large_file(text_file):\n    with open(text_file) as file:\n        for line in file:\n            yield line.strip()\n\nfor line in read_large_file('text_file.txt'):\n    print(line)\n'''",
      "metadata": {
        "trusted": true
      },
      "outputs": [],
      "execution_count": null
    },
    {
      "id": "42d80f6f-b51f-4d7d-a809-3468eeccb12f",
      "cell_type": "code",
      "source": "#  Python’s garbage collection mechanism\n# garbage collection used to manage memory automatically\n# system uses reference counting\n# each object maintains a count of references pointing to it\n# When this reference count reaches zero, the memory occupied by the object is immediately reclaimed.\n# reference counting alone may lead to issues with circular references, where two or more objects reference each other, preventing their memory from being released.\n# To address this issue, Python includes a cyclic garbage collector that identifies and collects groups of objects with circular references.\n# How do i structure my data to minize the circular reference\n# By combining best code practice and garbage collection features to ensure effiecent emmory management, to improved performance and reliability.\n\nimport gc\n\na = [1,2,3]\nb = a\nc = a\n\nprint(a, id(a))\nprint(b, id(b)) # circular reference to a object, pointing to same memory, memory space will not clear until remove thsi reference\nprint(c, id(c)) # circular reference to a object,, pointing to same memory, memory space will not clear until remove thsi reference\n# reference counting is added, when refern=ence count is 0 it will free up the memory for other usage\n# Garbage collector also will struggle to clear the memory if reference count is not zero\ngc.collect() \ndel b, c \nprint(a, id(a))\n",
      "metadata": {
        "trusted": true
      },
      "outputs": [
        {
          "name": "stdout",
          "output_type": "stream",
          "text": "[1, 2, 3] 41336160\n[1, 2, 3] 41336160\n[1, 2, 3] 41336160\n[1, 2, 3] 41336160\n"
        }
      ],
      "execution_count": 134
    },
    {
      "id": "08ab57c4-4d4f-41da-ab49-cca37f6a70d2",
      "cell_type": "code",
      "source": "# use of description in Python\n# _get__ , __set__ , and __delete__ \n# You need to control how attributes are accessed and modified\n# by using descriptors, You can keep code cleaner and more organized and allowing for easier maintenance and better encapsulation of logic.\n\nclass User:\n    access = \"Admin\"\n\n    def __init__(self, level):\n        self.level = level\n\n    def __get__(self, instance, owner):\n        return f\"self.level: {self.level}\"\n\nuser = User(\"Admin\")\nprint(user.access)\n",
      "metadata": {
        "trusted": true
      },
      "outputs": [
        {
          "name": "stdout",
          "output_type": "stream",
          "text": "Admin\n"
        }
      ],
      "execution_count": 138
    },
    {
      "id": "da85b15e-2126-4e3b-9f3f-dc7fc79349ad",
      "cell_type": "code",
      "source": "import cProfile\n# This iterative process of profiling, analyzing, and optimizing is essential in ensuring the code is refactoring or efficeint code with best algorithm \ndef even_num():\n    for i in range(10):\n        if i%2==0:\n            print(\"Even Number:\", i)\n        else:\n            print(\"Odd number:\",i)\n\ndef evennum():\n    list1=range(10)\n    return list(filter(lambda x: x%2==0, list1))\n    \ncProfile.run('even_num()')\n\ncProfile.run('evennum()')",
      "metadata": {
        "trusted": true
      },
      "outputs": [
        {
          "name": "stdout",
          "output_type": "stream",
          "text": "Even Number: 0\nOdd number: 1\nEven Number: 2\nOdd number: 3\nEven Number: 4\nOdd number: 5\nEven Number: 6\nOdd number: 7\nEven Number: 8\nOdd number: 9\n         54 function calls in 0.003 seconds\n\n   Ordered by: standard name\n\n   ncalls  tottime  percall  cumtime  percall filename:lineno(function)\n        1    0.000    0.000    0.002    0.002 <ipython-input-144-7319e843cf83>:3(even_num)\n        1    0.000    0.000    0.002    0.002 <string>:1(<module>)\n       40    0.002    0.000    0.002    0.000 display.py:19(write)\n        1    0.000    0.000    0.002    0.002 {built-in method builtins.exec}\n       10    0.000    0.000    0.002    0.000 {built-in method builtins.print}\n        1    0.000    0.000    0.000    0.000 {method 'disable' of '_lsprof.Profiler' objects}\n\n\n         14 function calls in 0.000 seconds\n\n   Ordered by: standard name\n\n   ncalls  tottime  percall  cumtime  percall filename:lineno(function)\n        1    0.000    0.000    0.000    0.000 <ipython-input-144-7319e843cf83>:10(evennum)\n       10    0.000    0.000    0.000    0.000 <ipython-input-144-7319e843cf83>:12(<lambda>)\n        1    0.000    0.000    0.000    0.000 <string>:1(<module>)\n        1    0.000    0.000    0.000    0.000 {built-in method builtins.exec}\n        1    0.000    0.000    0.000    0.000 {method 'disable' of '_lsprof.Profiler' objects}\n\n\n"
        }
      ],
      "execution_count": 144
    },
    {
      "id": "4600b5f8-0c58-49cd-9e91-634ab5621c4c",
      "cell_type": "code",
      "source": "from functools import wraps\nimport time\n\ndef time_logger(func):\n    @wraps(func)\n    def wrapper(*args,**kwargs):\n        start_time = time.time()\n        func(*args,**kwargs)\n        end_time = time.time()\n        print(f\"{func.__name__} took {end_time - start_time: 4f} seconds\")\n        return result\n    return wrapper\n\n@time_logger\ndef compute_square(n):\n    return n ** 2\n\nprint(compute_square(10)) ",
      "metadata": {
        "trusted": true
      },
      "outputs": [
        {
          "name": "stdout",
          "output_type": "stream",
          "text": "compute_square took  0.000000 seconds\nNone\n"
        }
      ],
      "execution_count": 152
    },
    {
      "id": "5e874ef8-45e3-44df-b7a8-f60563a74d45",
      "cell_type": "code",
      "source": "# Linked list group reverse\nclass ListNode:\n    def __init__(self, val=0, next=None):\n        self.val = val\n        self.next = next\n\ndef reverseKGroup(head, k):\n    if not head or not head.next:\n        return head\n\n    count = 0\n    curr = head\n\n    # Check if the number of nodes is a multiple of k\n    while curr and count < k:\n        curr = curr.next\n        print(f\"curr\",{curr})\n        count += 1\n        print(f\"count\",{count})\n    if count < k:  # Number of nodes is less than k\n        return head\n\n    # Reverse the first k nodes\n    curr = head\n    prev = None\n    for _ in range(k):\n        nxt = curr.next\n        print(f\"nxt\",{nxt})\n        curr.next = prev\n        print(f\"curr.next\",{curr.next})\n        prev = curr\n        print(f\"prev\",{prev})\n        curr = nxt\n        print(f\"curr\",{curr})\n\n    # Recursively reverse the remaining list\n    head.next = reverseKGroup(curr, k)\n    print(f\" head.next\",{ head.next})\n    return prev\n    print(f\" prev\",{prev})\n\n# Driver code and test cases\n# Test Case 1: Reverse groups of 2 nodes\n# Input: 1 -> 2 -> 3 -> 4 -> 5 -> None\n# Output: 2 -> 1 -> 4 -> 3 -> 5 -> None\nhead1 = ListNode(1)\nhead1.next = ListNode(2)\nhead1.next.next = ListNode(3)\nhead1.next.next.next = ListNode(4)\nhead1.next.next.next.next = ListNode(5)\nk1 = 2\nreversed_list1 = reverseKGroup(head1, k1)\nwhile reversed_list1:\n    print(reversed_list1.val, end=\" -> \")\n    reversed_list1 = reversed_list1.next\nprint(\"None\")",
      "metadata": {
        "trusted": true
      },
      "outputs": [
        {
          "name": "stdout",
          "output_type": "stream",
          "text": "curr {<__main__.ListNode object at 0x2bfd830>}\ncount {1}\ncurr {<__main__.ListNode object at 0x2bb4650>}\ncount {2}\nnxt {<__main__.ListNode object at 0x2bfd830>}\ncurr.next {None}\nprev {<__main__.ListNode object at 0x2c3fab8>}\ncurr {<__main__.ListNode object at 0x2bfd830>}\nnxt {<__main__.ListNode object at 0x2bb4650>}\ncurr.next {<__main__.ListNode object at 0x2c3fab8>}\nprev {<__main__.ListNode object at 0x2bfd830>}\ncurr {<__main__.ListNode object at 0x2bb4650>}\ncurr {<__main__.ListNode object at 0x2c5a630>}\ncount {1}\ncurr {<__main__.ListNode object at 0x273cc38>}\ncount {2}\nnxt {<__main__.ListNode object at 0x2c5a630>}\ncurr.next {None}\nprev {<__main__.ListNode object at 0x2bb4650>}\ncurr {<__main__.ListNode object at 0x2c5a630>}\nnxt {<__main__.ListNode object at 0x273cc38>}\ncurr.next {<__main__.ListNode object at 0x2bb4650>}\nprev {<__main__.ListNode object at 0x2c5a630>}\ncurr {<__main__.ListNode object at 0x273cc38>}\n head.next {<__main__.ListNode object at 0x273cc38>}\n head.next {<__main__.ListNode object at 0x2c5a630>}\n2 -> 1 -> 4 -> 3 -> 5 -> None\n"
        }
      ],
      "execution_count": 167
    },
    {
      "id": "51cc925b-c771-4bd4-a50d-b204feb54921",
      "cell_type": "code",
      "source": "def list_operation(head, k=2):\n    if not head and not head.next:\n        return head\n        \n    count=0\n    curr = head\n    while curr and count < k:\n        curr = curr.next\n        count+=1\n\n    while curr < k:\n        return head\n        \n    for _ in range(k):\n        nxt = curr.next # index 1\n        curr.next = prev # index 0\n        prev = curr # index 1\n        curr = nxt # index 1\n    \n    head.next = list_operation(curr, k)\n    yield prev\n\nmygenerator = list_operation([1,2,3,4,5],k=2)\n\nhead=[1,2,3,4,5]\nfor value in mygenerator:\n    print(list_operation(value, k=2))",
      "metadata": {
        "trusted": true
      },
      "outputs": [
        {
          "ename": "<class 'AttributeError'>",
          "evalue": "'list' object has no attribute 'next'",
          "traceback": [
            "\u001b[0;31m---------------------------------------------------------------------------\u001b[0m",
            "\u001b[0;31mAttributeError\u001b[0m                            Traceback (most recent call last)",
            "Cell \u001b[0;32mIn[183], line 26\u001b[0m\n\u001b[1;32m     23\u001b[0m mygenerator \u001b[38;5;241m=\u001b[39m list_operation([\u001b[38;5;241m1\u001b[39m,\u001b[38;5;241m2\u001b[39m,\u001b[38;5;241m3\u001b[39m,\u001b[38;5;241m4\u001b[39m,\u001b[38;5;241m5\u001b[39m],k\u001b[38;5;241m=\u001b[39m\u001b[38;5;241m2\u001b[39m)\n\u001b[1;32m     25\u001b[0m head\u001b[38;5;241m=\u001b[39m[\u001b[38;5;241m1\u001b[39m,\u001b[38;5;241m2\u001b[39m,\u001b[38;5;241m3\u001b[39m,\u001b[38;5;241m4\u001b[39m,\u001b[38;5;241m5\u001b[39m]\n\u001b[0;32m---> 26\u001b[0m \u001b[38;5;28;01mfor\u001b[39;00m value \u001b[38;5;129;01min\u001b[39;00m mygenerator:\n\u001b[1;32m     27\u001b[0m     \u001b[38;5;28mprint\u001b[39m(list_operation(value, k\u001b[38;5;241m=\u001b[39m\u001b[38;5;241m2\u001b[39m))\n",
            "Cell \u001b[0;32mIn[183], line 8\u001b[0m, in \u001b[0;36mlist_operation\u001b[0;34m(head, k)\u001b[0m\n\u001b[1;32m      6\u001b[0m curr \u001b[38;5;241m=\u001b[39m head\n\u001b[1;32m      7\u001b[0m \u001b[38;5;28;01mwhile\u001b[39;00m curr \u001b[38;5;129;01mand\u001b[39;00m count \u001b[38;5;241m<\u001b[39m k:\n\u001b[0;32m----> 8\u001b[0m     curr \u001b[38;5;241m=\u001b[39m \u001b[43mcurr\u001b[49m\u001b[38;5;241;43m.\u001b[39;49m\u001b[43mnext\u001b[49m\n\u001b[1;32m      9\u001b[0m     count\u001b[38;5;241m+\u001b[39m\u001b[38;5;241m=\u001b[39m\u001b[38;5;241m1\u001b[39m\n\u001b[1;32m     11\u001b[0m \u001b[38;5;28;01mwhile\u001b[39;00m curr \u001b[38;5;241m<\u001b[39m k:\n",
            "\u001b[0;31mAttributeError\u001b[0m: 'list' object has no attribute 'next'"
          ],
          "output_type": "error"
        }
      ],
      "execution_count": 183
    },
    {
      "id": "88ffd7eb-48d9-4853-bb06-3c7f0f3a58f0",
      "cell_type": "code",
      "source": "def list_operation(head, k=2):\n    if not head and not head.next:\n        return head\n        \n    count=0\n    my_iterator = iter(head)\n\n    count=0\n    my_iterator = iter(head)\n    while curr and count < k:\n        curr = next(my_iterator)\n        count+=1\n\n    \n    while curr < k:\n        return head\n    '''\n    curr=head\n    prev=None\n    for _ in range(k):\n        nxt = next(my_iterator) # index 1\n        next(my_iterator) # index 1\n        prev = curr\n        curr = nxt # index 1\n    \n    head.next = list_operation(val, k)\n    return prev\n    '''\nheader=[1,2,3,4,5]\nfor i in header:\n    print(list_operation(head, k=2))\n",
      "metadata": {
        "trusted": true
      },
      "outputs": [
        {
          "ename": "<class 'UnboundLocalError'>",
          "evalue": "cannot access local variable 'curr' where it is not associated with a value",
          "traceback": [
            "\u001b[0;31m---------------------------------------------------------------------------\u001b[0m",
            "\u001b[0;31mUnboundLocalError\u001b[0m                         Traceback (most recent call last)",
            "Cell \u001b[0;32mIn[202], line 31\u001b[0m\n\u001b[1;32m     29\u001b[0m header\u001b[38;5;241m=\u001b[39m[\u001b[38;5;241m1\u001b[39m,\u001b[38;5;241m2\u001b[39m,\u001b[38;5;241m3\u001b[39m,\u001b[38;5;241m4\u001b[39m,\u001b[38;5;241m5\u001b[39m]\n\u001b[1;32m     30\u001b[0m \u001b[38;5;28;01mfor\u001b[39;00m i \u001b[38;5;129;01min\u001b[39;00m header:\n\u001b[0;32m---> 31\u001b[0m     \u001b[38;5;28mprint\u001b[39m(\u001b[43mlist_operation\u001b[49m\u001b[43m(\u001b[49m\u001b[43mhead\u001b[49m\u001b[43m,\u001b[49m\u001b[43m \u001b[49m\u001b[43mk\u001b[49m\u001b[38;5;241;43m=\u001b[39;49m\u001b[38;5;241;43m2\u001b[39;49m\u001b[43m)\u001b[49m)\n",
            "Cell \u001b[0;32mIn[202], line 10\u001b[0m, in \u001b[0;36mlist_operation\u001b[0;34m(head, k)\u001b[0m\n\u001b[1;32m      8\u001b[0m count\u001b[38;5;241m=\u001b[39m\u001b[38;5;241m0\u001b[39m\n\u001b[1;32m      9\u001b[0m my_iterator \u001b[38;5;241m=\u001b[39m \u001b[38;5;28miter\u001b[39m(head)\n\u001b[0;32m---> 10\u001b[0m \u001b[38;5;28;01mwhile\u001b[39;00m \u001b[43mcurr\u001b[49m \u001b[38;5;129;01mand\u001b[39;00m count \u001b[38;5;241m<\u001b[39m k:\n\u001b[1;32m     11\u001b[0m     curr \u001b[38;5;241m=\u001b[39m \u001b[38;5;28mnext\u001b[39m(my_iterator)\n\u001b[1;32m     12\u001b[0m     count\u001b[38;5;241m+\u001b[39m\u001b[38;5;241m=\u001b[39m\u001b[38;5;241m1\u001b[39m\n",
            "\u001b[0;31mUnboundLocalError\u001b[0m: cannot access local variable 'curr' where it is not associated with a value"
          ],
          "output_type": "error"
        }
      ],
      "execution_count": 202
    },
    {
      "id": "7310e13d-bd77-41b9-9b1d-8ff97168296e",
      "cell_type": "code",
      "source": "# Python3 program to reverse a Linked List\n# in groups of given size\n\nclass Node:\n    def __init__(self, data):\n        self.data = data\n        self.next = None\n\n# Function to reverse the linked list in groups\ndef reverseKGroup(head, k):\n    if not head or k == 1:\n        return head\n\n    st = []\n    curr = head\n    prev = None\n\n    while curr is not None:\n      \n        # Terminate the loop when either\n        # current == None or count >= k\n        count = 0\n        while curr is not None and count < k:\n            st.append(curr)\n            curr = curr.next\n            count += 1\n\n        # Now pop the elements from the stack one by one\n        while len(st) > 0:\n          \n            # If the final list has not been started yet\n            if prev is None:\n                prev = st.pop()\n                head = prev\n            else:\n                prev.next = st.pop()\n                prev = prev.next\n\n    # Set the next pointer of the last node to None\n    prev.next = None\n\n    return head\n\ndef printList(head):\n    curr = head\n    while curr is not None:\n        print(curr.data, end=\" \")\n        curr = curr.next\n    print()\n\nif __name__ == \"__main__\":\n  \n    # Creating a sample singly linked list:\n    # 1 -> 2 -> 3 -> 4 -> 5 -> 6\n    head = Node(1)\n    head.next = Node(2)\n    head.next.next = Node(3)\n    head.next.next.next = Node(4)\n    head.next.next.next.next = Node(5)\n    head.next.next.next.next.next = Node(6)\n\n    head = reverseKGroup(head, 3)\n\n    printList(head)\n\n    # Creating a sample singly linked list:\n    # 1 -> 2 -> 3 -> 4 -> 5 -> 6\n    head = Node(1)\n    head.next = Node(2)\n    head.next.next = Node(3)\n    head.next.next.next = Node(4)\n    head.next.next.next.next = Node(5)\n    head.next.next.next.next.next = Node(6)\n\n    head = reverseKGroup(head, 2)\n\n    printList(head)",
      "metadata": {
        "trusted": true
      },
      "outputs": [],
      "execution_count": null
    },
    {
      "id": "929da322-7ed0-4536-9d41-365d15ebe844",
      "cell_type": "code",
      "source": "class Node:\n\n    def __init__(self, data):\n        self.data = data\n        self.next = None\n\ndef reverekstring(head, k):\n\n    if not head and k==1:\n        return head\n        \n    count=0\n    st = []\n    curr = head\n    prev= None\n    while curr is not None:\n        while curr is not None and count < k:\n            st.append(curr)\n            curr = curr.next\n            count+=1\n\n        while len(st) > 0:\n            if prev is None:\n                prev = st.pop()\n                head = prev\n            else:\n                prev.next = st.pop()\n                prev = prev.next\n                \n    prev.next = None\n\n    return head\n\ndef get_print(head):\n    curr = head\n    while curr is not None:\n        print(curr.data, end=\"\")\n        curr = curr.next\n    print()\n\nif __name__ == \"__main__\":\n  \n    # Creating a sample singly linked list:\n    # 1 -> 2 -> 3 -> 4 -> 5 -> 6\n    head = Node(1)\n    head.next = Node(2)\n    head.next.next = Node(3)\n    head.next.next.next = Node(4)\n    head.next.next.next.next = Node(5)\n    head.next.next.next.next.next = Node(6)\n\n    head = reverekstring(head, 3)\n\n    get_print(head)",
      "metadata": {
        "trusted": true
      },
      "outputs": [],
      "execution_count": null
    },
    {
      "id": "18af9594-d3e9-48c5-ac9e-80dc4df31680",
      "cell_type": "code",
      "source": "",
      "metadata": {
        "trusted": true
      },
      "outputs": [],
      "execution_count": null
    },
    {
      "id": "51badda0-d9db-4d75-9c65-a2c5272c93c0",
      "cell_type": "code",
      "source": "",
      "metadata": {
        "trusted": true
      },
      "outputs": [],
      "execution_count": null
    },
    {
      "id": "ca23ea5e-0787-45d8-85ae-1dbfcbd7f700",
      "cell_type": "code",
      "source": "",
      "metadata": {
        "trusted": true
      },
      "outputs": [],
      "execution_count": null
    }
  ]
}