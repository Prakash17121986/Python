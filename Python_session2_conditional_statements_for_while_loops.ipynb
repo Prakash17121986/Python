{
  "metadata": {
    "kernelspec": {
      "name": "python",
      "display_name": "Python (Pyodide)",
      "language": "python"
    },
    "language_info": {
      "codemirror_mode": {
        "name": "python",
        "version": 3
      },
      "file_extension": ".py",
      "mimetype": "text/x-python",
      "name": "python",
      "nbconvert_exporter": "python",
      "pygments_lexer": "ipython3",
      "version": "3.8"
    }
  },
  "nbformat_minor": 5,
  "nbformat": 4,
  "cells": [
    {
      "id": "1e6a4e7d-eb94-4ba5-bbac-969739ae85c8",
      "cell_type": "markdown",
      "source": "",
      "metadata": {}
    },
    {
      "id": "9854809d-a344-49f3-9057-92d0f36e0f87",
      "cell_type": "code",
      "source": "# python statement\n# instruction given to computer\n# simple statements - one line statement\n# compound statements -  complex - block of code - condition statement or iterative statement\n# Empty statement - pass, do nothing\n\n# conditional statement\n# condition - Relation operators - True or False\n# Intendation\n# block of code\n# return statement \n# print statement\na=5\nif (a==5):\n    print(a, \"is equal to 5\")\n    print(\"program successfull\")\n    \nprint(\"Done!\")\n",
      "metadata": {
        "trusted": true
      },
      "outputs": [
        {
          "name": "stdout",
          "output_type": "stream",
          "text": "5 is equal to 5\nprogram successfull\nDone!\n"
        }
      ],
      "execution_count": 9
    },
    {
      "id": "8ef1abc9-a46f-429d-b323-7afdf079499b",
      "cell_type": "code",
      "source": "# conditional statement - if condition\na=5\nif (a==4):\n    print(a, \"is equal to 5\")\n    print(\"program successfull\")\n    \nprint(\"Done!\")\n",
      "metadata": {
        "trusted": true
      },
      "outputs": [
        {
          "name": "stdout",
          "output_type": "stream",
          "text": "Done!\n"
        }
      ],
      "execution_count": 10
    },
    {
      "id": "1a905827-052e-4ba7-93f7-6a7345364487",
      "cell_type": "code",
      "source": "# conditional statement - if condition\na=5\nif (a!=5):\n    print(a, \"is equal to 5\")\n    print(\"program successfull\")\n    \nprint(\"Done!\")",
      "metadata": {
        "trusted": true
      },
      "outputs": [
        {
          "name": "stdout",
          "output_type": "stream",
          "text": "Done!\n"
        }
      ],
      "execution_count": 13
    },
    {
      "id": "6779e80c-ff28-44bc-b7e1-3bfc18b900f3",
      "cell_type": "code",
      "source": "# conditional statement - if-else condition, one condition True or False\na=5\nif (a==4):\n    print(a, \"is equal to 5\")\n    print(\"program successfull\")  \nelse:\n    print(\"5 is not equal to 4\")",
      "metadata": {
        "trusted": true
      },
      "outputs": [
        {
          "name": "stdout",
          "output_type": "stream",
          "text": "5 is not equal to 4\n"
        }
      ],
      "execution_count": 14
    },
    {
      "id": "12ec9f29-752f-4730-806d-3c0342cd3376",
      "cell_type": "code",
      "source": "# conditional statement - if-else condition, if condition True or False, or else condition \na=int(input())\nb=int(input())\nif (a==b):\n    print(a, \"is equal to 5\")\n    print(\"program successfull\") \nelse:\n    print(a, \"is not equal to\", b)",
      "metadata": {
        "trusted": true
      },
      "outputs": [
        {
          "output_type": "stream",
          "name": "stdin",
          "text": " 5\n 6\n"
        },
        {
          "name": "stdout",
          "output_type": "stream",
          "text": "5 is not equal to 6\n"
        }
      ],
      "execution_count": 20
    },
    {
      "id": "dbdc714d-0a23-408d-8c6b-8e0a02f2e5d5",
      "cell_type": "code",
      "source": "# conditional statement - if-if-else condition, if condition True or False, elif condition True or False\na=int(input())\nb=int(input())\nif (a==b):\n    print(a, \"is equal to\", b)\n    print(\"program successfull\") \nif (b==6):\n    print(b, \"is equal to\", b)\n    print(\"program successfull\") \nelse:\n    print(a, \"is not equal to\", b)",
      "metadata": {
        "trusted": true
      },
      "outputs": [
        {
          "output_type": "stream",
          "name": "stdin",
          "text": " 6\n 6\n"
        },
        {
          "name": "stdout",
          "output_type": "stream",
          "text": "6 is equal to 6\nprogram successfull\n6 is equal to 6\nprogram successfull\n"
        }
      ],
      "execution_count": 24
    },
    {
      "id": "cdb10a7f-1278-4be8-afa9-c8102c59f0d5",
      "cell_type": "code",
      "source": "# conditional statement - if-elif-else condition, if condition True or False, elif condition True or False\na=int(input())\nb=int(input())\nif (a==b):\n    print(a, \"is equal to\", b)\n    print(\"program successfull\") \nelif (b==6):\n    print(b, \"is equal to\", b)\n    print(\"program successfull\") \nelse:\n    print(a, \"is not equal to\", b)\n\n# 1. if condition True, it worn't go to elif or else part\n# 2. Elif condition True,if condition False, or it won't go else part\n# 3. If -elif condition False, then comes to else part\n",
      "metadata": {
        "trusted": true
      },
      "outputs": [
        {
          "output_type": "stream",
          "name": "stdin",
          "text": " 5\n 6\n"
        },
        {
          "name": "stdout",
          "output_type": "stream",
          "text": "6 is equal to 6\nprogram successfull\n"
        }
      ],
      "execution_count": 22
    },
    {
      "id": "3ca3a34d-4b15-40ac-ad0a-8abdf05c11c2",
      "cell_type": "code",
      "source": "# conditional statement - if-elif-else condition, if condition True or False, elif condition True or False\nnum = int(input())\nif num > 0:\n    print(\"Positive number\", num)\nelif num == 0:\n    print(\"Zero number\", num)\nelse:\n    print(\"Negative number\", num)\n\n    ",
      "metadata": {
        "trusted": true
      },
      "outputs": [
        {
          "output_type": "stream",
          "name": "stdin",
          "text": " 100\n"
        },
        {
          "name": "stdout",
          "output_type": "stream",
          "text": "Positive number 100\n"
        }
      ],
      "execution_count": 30
    },
    {
      "id": "cc17a97c-1c90-4b8a-9f2a-df195dcb21f5",
      "cell_type": "code",
      "source": "# nested if condition\nage = 32\neat_pizza = False\nexcercise = True\nif age < 30:\n    if eat_pizza:\n        print(\"Unfit\")\n    else:\n        print(\"Fit\")\nelse:\n    if excercise:\n        print(\"Fit\")\n    else:\n        print(\"UnFit\")\n",
      "metadata": {
        "trusted": true
      },
      "outputs": [
        {
          "name": "stdout",
          "output_type": "stream",
          "text": "Fit\n"
        }
      ],
      "execution_count": 35
    },
    {
      "id": "91fad91e-fd4a-464a-ace2-089d0c0a7e0a",
      "cell_type": "code",
      "source": "# nested if condition\nage = 32\neat_pizza = True\nexcercise = False\nif age < 30:\n    if eat_pizza:\n        print(\"Unfit\")\n    else:\n        print(\"Fit\")\nelse:\n    if excercise:\n        print(\"Fit\")\n    else:\n        print(\"UnFit\")",
      "metadata": {
        "trusted": true
      },
      "outputs": [
        {
          "name": "stdout",
          "output_type": "stream",
          "text": "UnFit\n"
        }
      ],
      "execution_count": 36
    },
    {
      "id": "64dfe0d4-b7da-45b6-ac67-49146f0fb51d",
      "cell_type": "code",
      "source": "# Ternary Operator\nprint(\"child\" if (age < 18) else \"adult\")\nprint((\"UnFit\" if (eat_pizza) else \"Fit\") if (age<30) else (\"Fit\" if (excercise) else \"UnFit\"))",
      "metadata": {
        "trusted": true
      },
      "outputs": [
        {
          "name": "stdout",
          "output_type": "stream",
          "text": "adult\nUnFit\n"
        }
      ],
      "execution_count": 38
    },
    {
      "id": "214ee975-af06-4833-a895-1289b841bbfc",
      "cell_type": "code",
      "source": "# Ternary Operator\nage = 25\nincome = 50000\n\nif age < 18:\n    message = \"You are young to work\"\nelif age >=18 and age<=25:\n    if income == 30000:\n        message = \"You are elligible for student discount\"\n    else:\n        message = \"You are elligible for regular discount\"\nelse:\n    message = \"You are elligible for regular discount\"\n\nprint(message)",
      "metadata": {
        "trusted": true
      },
      "outputs": [
        {
          "name": "stdout",
          "output_type": "stream",
          "text": "You are elligible for regular discount\n"
        }
      ],
      "execution_count": 39
    },
    {
      "id": "df1947a5-6614-412d-9a96-3cfb87417771",
      "cell_type": "code",
      "source": "# even or odd program to print the even numbers and odd numbers\n# Iterative statement\n# Function code\n# for loop used to iterate all the values one by one using range() function\n# finite loop\ndef func(number): # func is function name, number is variable, we need to pass integer value as an argument to variable number\n    \n    for num in range(number): # to iterate the each number in number using for loop\n        if num%2 ==0: # Expression v- True or False\n            print(\"Even Number\", num)\n        else:\n            print(\"Odd Number\", num)\nnumber = int(input(\"Enter your number\")) # user input\nfunc(number) # function call\neven = [i for i in range(number) if i%2==0]\nodd = [i for i in range(number) if i%2!=0]\n\nprint(\"Even number\", even)\nprint(\"Odd number\", even)\nprint(number, \"is even\" if number % 2 == 0 else \"is odd\")\n# entry control loop - it will check the condition first in for loop ",
      "metadata": {
        "trusted": true
      },
      "outputs": [
        {
          "output_type": "stream",
          "name": "stdin",
          "text": "Enter your number 20\n"
        },
        {
          "name": "stdout",
          "output_type": "stream",
          "text": "Even Number 0\nOdd Number 1\nEven Number 2\nOdd Number 3\nEven Number 4\nOdd Number 5\nEven Number 6\nOdd Number 7\nEven Number 8\nOdd Number 9\nEven Number 10\nOdd Number 11\nEven Number 12\nOdd Number 13\nEven Number 14\nOdd Number 15\nEven Number 16\nOdd Number 17\nEven Number 18\nOdd Number 19\nEven number [0, 2, 4, 6, 8, 10, 12, 14, 16, 18]\nOdd number [0, 2, 4, 6, 8, 10, 12, 14, 16, 18]\n20 is even\n"
        }
      ],
      "execution_count": 45
    },
    {
      "id": "344b2676-d4fc-4ccb-8155-2865cf16a9e7",
      "cell_type": "code",
      "source": "num = 5\nfor i in range(num):\n    print(\"Hello world\")\n\n    ",
      "metadata": {
        "trusted": true
      },
      "outputs": [
        {
          "name": "stdout",
          "output_type": "stream",
          "text": "Hello world\nHello world\nHello world\nHello world\nHello world\n"
        }
      ],
      "execution_count": 47
    },
    {
      "id": "4e275925-4459-441f-b926-58139c2fdd71",
      "cell_type": "code",
      "source": "num = 5\nfor i in range(10,20, 2):\n    print(i)",
      "metadata": {
        "trusted": true
      },
      "outputs": [
        {
          "name": "stdout",
          "output_type": "stream",
          "text": "10\n12\n14\n16\n18\n"
        }
      ],
      "execution_count": 50
    },
    {
      "id": "4aa4c219-4bfb-451d-91dd-b27d37183939",
      "cell_type": "code",
      "source": "for i in range(10,20):\n    print(i)",
      "metadata": {
        "trusted": true
      },
      "outputs": [
        {
          "name": "stdout",
          "output_type": "stream",
          "text": "10\n11\n12\n13\n14\n15\n16\n17\n18\n19\n"
        }
      ],
      "execution_count": 51
    },
    {
      "id": "edb18ae3-f63a-4336-b292-a439e65960d4",
      "cell_type": "code",
      "source": "for i in range(20,10, -2):\n    print(i)",
      "metadata": {
        "trusted": true
      },
      "outputs": [
        {
          "name": "stdout",
          "output_type": "stream",
          "text": "20\n18\n16\n14\n12\n"
        }
      ],
      "execution_count": 56
    },
    {
      "id": "2bb07d5e-105a-4dd1-850c-bd3d1aad8a1d",
      "cell_type": "code",
      "source": "num = 0\nwhile (num < 5): # finite loop\n    print(\"Python code\")\n    num+=1",
      "metadata": {
        "trusted": true
      },
      "outputs": [
        {
          "name": "stdout",
          "output_type": "stream",
          "text": "Python code\nPython code\nPython code\nPython code\nPython code\n"
        }
      ],
      "execution_count": 1
    },
    {
      "id": "dfa8173c-11f0-414d-ae80-939a524a11b0",
      "cell_type": "code",
      "source": "#num = 0\n#while (num < 5): # infinite loop\n    #print(\"Python code\")\n# entry control loop - it will check the condition first in while loop \n# No exit control loop in python",
      "metadata": {
        "trusted": true
      },
      "outputs": [],
      "execution_count": 2
    },
    {
      "id": "013abfd5-3a95-443d-b1c0-ff399128ad14",
      "cell_type": "code",
      "source": "#statement with no code or action\nif (5==5):\n    pass # no action",
      "metadata": {
        "trusted": true
      },
      "outputs": [],
      "execution_count": 3
    },
    {
      "id": "7061e456-2546-46be-b8db-c4f123a2b86c",
      "cell_type": "code",
      "source": "# jump statement\nfor i in range(1,11):\n    if (i==5):\n        continue\n# outside loop\nprint(\"hello\"*5)",
      "metadata": {
        "trusted": true
      },
      "outputs": [
        {
          "name": "stdout",
          "output_type": "stream",
          "text": "hellohellohellohellohello\n"
        }
      ],
      "execution_count": 15
    },
    {
      "id": "db4df396-248a-4958-8142-c534644c51ec",
      "cell_type": "code",
      "source": "# jump statement\nfor i in range(1,11):\n    if (i==5):\n        break\n    # inside loop\n    print(\"hello\"*2)",
      "metadata": {
        "trusted": true
      },
      "outputs": [
        {
          "name": "stdout",
          "output_type": "stream",
          "text": "hellohello\nhellohello\nhellohello\nhellohello\n"
        }
      ],
      "execution_count": 14
    },
    {
      "id": "c59b5f0b-1e63-49ee-995b-def9344b0e03",
      "cell_type": "code",
      "source": "# jump statement\nfor i in range(1,11):\n    # inside loop\n    if (i==5):\n        break\n# outside loop\nprint(\"hello\"*2)",
      "metadata": {
        "trusted": true
      },
      "outputs": [
        {
          "name": "stdout",
          "output_type": "stream",
          "text": "hellohello\n"
        }
      ],
      "execution_count": 16
    },
    {
      "id": "efa05131-9b64-4e8f-bdad-9799ea86899a",
      "cell_type": "code",
      "source": "for i in range(5):\n    print(i)\n    if (i==3):\n        break\nelse:\n    print(\"successfully completed\") # it will print the message in else condition when if condition failed in for loop",
      "metadata": {
        "trusted": true
      },
      "outputs": [
        {
          "name": "stdout",
          "output_type": "stream",
          "text": "0\n1\n2\n3\n"
        }
      ],
      "execution_count": 17
    },
    {
      "id": "49de6d47-62b9-4577-9c91-760605e63f86",
      "cell_type": "code",
      "source": "# jump statement\na=3\nwhile a > 0:\n    print(a)\n    a-=1\n    if (a==1):\n        break\n    ",
      "metadata": {
        "trusted": true
      },
      "outputs": [
        {
          "name": "stdout",
          "output_type": "stream",
          "text": "3\n2\n"
        }
      ],
      "execution_count": 19
    },
    {
      "id": "bb244c25-8b91-4eb8-81f2-908721ca3e29",
      "cell_type": "code",
      "source": "# Nested loops\n'''\n1\n12\n123\n1234\n12345\n'''\nn = int(input(\"Enter n:\"))\nfor j in range(1, n+1):\n    #1,2,3,4\n    for i in range(1, j+1): \n        #(1, 1+1) 1, \n        #(1, 2+1) 1,2, \n        #(1, 3+1) 1,2,3\n        #(1, 4+1) 1,2,3,4\n        print(i, end=\" \")\n    print()\n    \n    \n        ",
      "metadata": {
        "trusted": true
      },
      "outputs": [
        {
          "output_type": "stream",
          "name": "stdin",
          "text": "Enter n: 5\n"
        },
        {
          "name": "stdout",
          "output_type": "stream",
          "text": "\n1 \n1 2 \n1 2 3 \n1 2 3 4 \n"
        }
      ],
      "execution_count": 23
    },
    {
      "id": "a8b13415-4136-4d62-a198-e33eb532e484",
      "cell_type": "code",
      "source": "# nested loops\nn = int(input(\"Enter n:\")) \nfor i in range(n): # outer for loop decides how many times to be repeated 10 time repeat\n    for j in range(n): # inner loop how many * present in one row - 10 *\n        print(\"*\", end=\" \")\n    print()",
      "metadata": {
        "trusted": true
      },
      "outputs": [
        {
          "output_type": "stream",
          "name": "stdin",
          "text": "Enter n: 10\n"
        },
        {
          "name": "stdout",
          "output_type": "stream",
          "text": "* * * * * * * * * * \n* * * * * * * * * * \n* * * * * * * * * * \n* * * * * * * * * * \n* * * * * * * * * * \n* * * * * * * * * * \n* * * * * * * * * * \n* * * * * * * * * * \n* * * * * * * * * * \n* * * * * * * * * * \n"
        }
      ],
      "execution_count": 24
    },
    {
      "id": "32b80939-d9ec-45bb-8f97-dca09fae9e8a",
      "cell_type": "code",
      "source": "",
      "metadata": {
        "trusted": true
      },
      "outputs": [],
      "execution_count": null
    }
  ]
}