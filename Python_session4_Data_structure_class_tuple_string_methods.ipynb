{
  "metadata": {
    "kernelspec": {
      "name": "python",
      "display_name": "Python (Pyodide)",
      "language": "python"
    },
    "language_info": {
      "codemirror_mode": {
        "name": "python",
        "version": 3
      },
      "file_extension": ".py",
      "mimetype": "text/x-python",
      "name": "python",
      "nbconvert_exporter": "python",
      "pygments_lexer": "ipython3",
      "version": "3.8"
    }
  },
  "nbformat_minor": 5,
  "nbformat": 4,
  "cells": [
    {
      "id": "eaf6b924-468e-422c-be28-e89fff8d8157",
      "cell_type": "code",
      "source": "# Tuples\ntup = (1,2,3,(10,20),\"Hello\", [1,2,3], {'a':1}, 4.5, True)\nfor i in tup:\n    print(f\"{type(i), i}\")\nprint(len(tup))",
      "metadata": {
        "trusted": true
      },
      "outputs": [
        {
          "name": "stdout",
          "output_type": "stream",
          "text": "(<class 'int'>, 1)\n(<class 'int'>, 2)\n(<class 'int'>, 3)\n(<class 'tuple'>, (10, 20))\n(<class 'str'>, 'Hello')\n(<class 'list'>, [1, 2, 3])\n(<class 'dict'>, {'a': 1})\n(<class 'float'>, 4.5)\n(<class 'bool'>, True)\n9\n"
        }
      ],
      "execution_count": 6
    },
    {
      "id": "5701ea96-07be-45dd-b455-360a1377bfa5",
      "cell_type": "code",
      "source": "# min and max\ntup1 = (10,20,1)\nprint(f\"{min(tup1)}\")\nprint(f\"{max(tup1)}\")",
      "metadata": {
        "trusted": true
      },
      "outputs": [
        {
          "name": "stdout",
          "output_type": "stream",
          "text": "1\n20\n"
        }
      ],
      "execution_count": 8
    },
    {
      "id": "5b82ceab-74a2-4873-951b-f37219d3e710",
      "cell_type": "code",
      "source": "#len\ntup1 = (10,20,1)\nprint(f\"{len(tup1)}\")",
      "metadata": {
        "trusted": true
      },
      "outputs": [
        {
          "name": "stdout",
          "output_type": "stream",
          "text": "3\n"
        }
      ],
      "execution_count": 10
    },
    {
      "id": "45e25f86-6fe6-4585-9293-3ba454b39d6e",
      "cell_type": "code",
      "source": "#count\ntup1 = (10,20,1)\nprint(f\"{tup1.count(10)}\")\nprint(\" \")\nprint(dir(tup1))",
      "metadata": {
        "trusted": true
      },
      "outputs": [
        {
          "name": "stdout",
          "output_type": "stream",
          "text": "1\n \n['__add__', '__class__', '__class_getitem__', '__contains__', '__delattr__', '__dir__', '__doc__', '__eq__', '__format__', '__ge__', '__getattribute__', '__getitem__', '__getnewargs__', '__getstate__', '__gt__', '__hash__', '__init__', '__init_subclass__', '__iter__', '__le__', '__len__', '__lt__', '__mul__', '__ne__', '__new__', '__reduce__', '__reduce_ex__', '__repr__', '__rmul__', '__setattr__', '__sizeof__', '__str__', '__subclasshook__', 'count', 'index']\n"
        }
      ],
      "execution_count": 13
    },
    {
      "id": "e53deeec-83c6-4103-999e-a3f692ff1451",
      "cell_type": "code",
      "source": "# index\ntup1 = (10,20,1)\nprint(f\"{tup1.index(10)}\")",
      "metadata": {
        "trusted": true
      },
      "outputs": [
        {
          "name": "stdout",
          "output_type": "stream",
          "text": "0\n"
        }
      ],
      "execution_count": 14
    },
    {
      "id": "c8d52caa-690b-4f6c-a2ce-7a7270b2170d",
      "cell_type": "code",
      "source": "tup1 = (10,20,1)\nprint(f\"{tup1[3]}\")",
      "metadata": {
        "trusted": true
      },
      "outputs": [
        {
          "ename": "<class 'IndexError'>",
          "evalue": "tuple index out of range",
          "traceback": [
            "\u001b[0;31m---------------------------------------------------------------------------\u001b[0m",
            "\u001b[0;31mIndexError\u001b[0m                                Traceback (most recent call last)",
            "Cell \u001b[0;32mIn[15], line 2\u001b[0m\n\u001b[1;32m      1\u001b[0m tup1 \u001b[38;5;241m=\u001b[39m (\u001b[38;5;241m10\u001b[39m,\u001b[38;5;241m20\u001b[39m,\u001b[38;5;241m1\u001b[39m)\n\u001b[0;32m----> 2\u001b[0m \u001b[38;5;28mprint\u001b[39m(\u001b[38;5;124mf\u001b[39m\u001b[38;5;124m\"\u001b[39m\u001b[38;5;132;01m{\u001b[39;00m\u001b[43mtup1\u001b[49m\u001b[43m[\u001b[49m\u001b[38;5;241;43m3\u001b[39;49m\u001b[43m]\u001b[49m\u001b[38;5;132;01m}\u001b[39;00m\u001b[38;5;124m\"\u001b[39m)\n",
            "\u001b[0;31mIndexError\u001b[0m: tuple index out of range"
          ],
          "output_type": "error"
        }
      ],
      "execution_count": 15
    },
    {
      "id": "9f29ffd6-1515-4ac6-ae98-96e34a8ebdb3",
      "cell_type": "code",
      "source": "# iterate element by using for loop\ntup1 = (10,20,1)\nfor val in tup1:\n    print(f\"{val}\")",
      "metadata": {
        "trusted": true
      },
      "outputs": [
        {
          "name": "stdout",
          "output_type": "stream",
          "text": "10\n20\n1\n"
        }
      ],
      "execution_count": 20
    },
    {
      "id": "939366bf-01f6-4d2f-806a-eb60098f2b31",
      "cell_type": "code",
      "source": "# iterate element by using indexing\ntup1 = (10,20,1)\nfor i in range(len(tup1)):\n    print(f\"{tup1[i]}\")",
      "metadata": {
        "trusted": true
      },
      "outputs": [
        {
          "name": "stdout",
          "output_type": "stream",
          "text": "10\n20\n1\n"
        }
      ],
      "execution_count": 21
    },
    {
      "id": "39b97201-f523-4d5c-9fef-64cda3af04d8",
      "cell_type": "code",
      "source": "# convert tuple to list\ntup1 = (10,20,1)\n\n# convert list to tuple\nlist1 = list(tup1)\n\nprint(f\"{tup1}, {type(tup1)}\")\nprint(f\"{list1},{type(list1)}\")\n",
      "metadata": {
        "trusted": true
      },
      "outputs": [
        {
          "name": "stdout",
          "output_type": "stream",
          "text": "(10, 20, 1), <class 'tuple'>\n[10, 20, 1],<class 'list'>\n"
        }
      ],
      "execution_count": 23
    },
    {
      "id": "43bbbe16-4cdf-47bc-a32e-c899f8f84a4c",
      "cell_type": "code",
      "source": "# assigning item to tuple\ntup1 = (9)\nprint(f\"{tup1}, {type(tup1)}\")\ntup1 = (9,)\nprint(f\"{tup1}, {type(tup1)}\")",
      "metadata": {
        "trusted": true
      },
      "outputs": [
        {
          "name": "stdout",
          "output_type": "stream",
          "text": "9, <class 'int'>\n(9,), <class 'tuple'>\n"
        }
      ],
      "execution_count": 24
    },
    {
      "id": "f5c5faaa-52c6-45f6-be5e-ae48f6bc0d0f",
      "cell_type": "code",
      "source": "fruits = (\"apple\",\"orange\",\"kiwi\",\"manago\",\"stawberry\")\nprint(f\"{fruits}, {type(fruits)}\")\nfruits+=\"watermelon\"\nprint(f\"{fruits}, {type(fruits)}\")\n",
      "metadata": {
        "trusted": true
      },
      "outputs": [
        {
          "name": "stdout",
          "output_type": "stream",
          "text": "('apple', 'orange', 'kiwi', 'manago', 'stawberry'), <class 'tuple'>\n"
        },
        {
          "ename": "<class 'TypeError'>",
          "evalue": "can only concatenate tuple (not \"str\") to tuple",
          "traceback": [
            "\u001b[0;31m---------------------------------------------------------------------------\u001b[0m",
            "\u001b[0;31mTypeError\u001b[0m                                 Traceback (most recent call last)",
            "Cell \u001b[0;32mIn[25], line 3\u001b[0m\n\u001b[1;32m      1\u001b[0m fruits \u001b[38;5;241m=\u001b[39m (\u001b[38;5;124m\"\u001b[39m\u001b[38;5;124mapple\u001b[39m\u001b[38;5;124m\"\u001b[39m,\u001b[38;5;124m\"\u001b[39m\u001b[38;5;124morange\u001b[39m\u001b[38;5;124m\"\u001b[39m,\u001b[38;5;124m\"\u001b[39m\u001b[38;5;124mkiwi\u001b[39m\u001b[38;5;124m\"\u001b[39m,\u001b[38;5;124m\"\u001b[39m\u001b[38;5;124mmanago\u001b[39m\u001b[38;5;124m\"\u001b[39m,\u001b[38;5;124m\"\u001b[39m\u001b[38;5;124mstawberry\u001b[39m\u001b[38;5;124m\"\u001b[39m)\n\u001b[1;32m      2\u001b[0m \u001b[38;5;28mprint\u001b[39m(\u001b[38;5;124mf\u001b[39m\u001b[38;5;124m\"\u001b[39m\u001b[38;5;132;01m{\u001b[39;00mfruits\u001b[38;5;132;01m}\u001b[39;00m\u001b[38;5;124m, \u001b[39m\u001b[38;5;132;01m{\u001b[39;00m\u001b[38;5;28mtype\u001b[39m(fruits)\u001b[38;5;132;01m}\u001b[39;00m\u001b[38;5;124m\"\u001b[39m)\n\u001b[0;32m----> 3\u001b[0m \u001b[43mfruits\u001b[49m\u001b[38;5;241;43m+\u001b[39;49m\u001b[38;5;241;43m=\u001b[39;49m\u001b[38;5;124;43m\"\u001b[39;49m\u001b[38;5;124;43mwatermelon\u001b[39;49m\u001b[38;5;124;43m\"\u001b[39;49m\n\u001b[1;32m      4\u001b[0m \u001b[38;5;28mprint\u001b[39m(\u001b[38;5;124mf\u001b[39m\u001b[38;5;124m\"\u001b[39m\u001b[38;5;132;01m{\u001b[39;00mfruits\u001b[38;5;132;01m}\u001b[39;00m\u001b[38;5;124m, \u001b[39m\u001b[38;5;132;01m{\u001b[39;00m\u001b[38;5;28mtype\u001b[39m(fruits)\u001b[38;5;132;01m}\u001b[39;00m\u001b[38;5;124m\"\u001b[39m)\n",
            "\u001b[0;31mTypeError\u001b[0m: can only concatenate tuple (not \"str\") to tuple"
          ],
          "output_type": "error"
        }
      ],
      "execution_count": 25
    },
    {
      "id": "460a9993-a8b3-4705-af85-b33426c0eba8",
      "cell_type": "code",
      "source": "fruits = (\"apple\",\"orange\",\"kiwi\",\"manago\",\"stawberry\")\nprint(f\"{fruits}, {type(fruits)}\")\nfruits+=(\"watermelon\",)\nprint(f\"{fruits}, {type(fruits)}\")",
      "metadata": {
        "trusted": true
      },
      "outputs": [
        {
          "name": "stdout",
          "output_type": "stream",
          "text": "('apple', 'orange', 'kiwi', 'manago', 'stawberry'), <class 'tuple'>\n('apple', 'orange', 'kiwi', 'manago', 'stawberry', 'watermelon'), <class 'tuple'>\n"
        }
      ],
      "execution_count": 26
    },
    {
      "id": "ea48d393-ad7e-4c3a-9cd3-9baad815cc2d",
      "cell_type": "code",
      "source": "#traversal\n#method1\nfruits = ('apple', 'orange', 'kiwi', 'manago', 'stawberry', 'watermelon')\nprint(\"*\"*20)\nfor i in range(len(fruits)):\n    print(f\"{fruits[i]}\")\n    print(\" \")\nprint(\" \" )\n\n#method2\nprint(\"*\"*20)\nfor i in (fruits):\n    print(f\"{i}\")\n    print(\" \")\nprint(\" \" )\nprint(\"*\"*20)\n\n\nfruits1 = ['apple', 'orange', 'kiwi', 'manago', 'stawberry', 'watermelon']\nfor i in (fruits1):\n    print(f\"{i}\")\n    print(\" \")\nprint(\" \" )\nprint(\"*\"*20)\n\nfor i in range(len(fruits1)):\n    print(f\"{fruits1[i]}\")\n    print(\" \")\nprint(\" \" )\nprint(\"*\"*20)",
      "metadata": {
        "trusted": true
      },
      "outputs": [
        {
          "name": "stdout",
          "output_type": "stream",
          "text": "********************\napple\n \norange\n \nkiwi\n \nmanago\n \nstawberry\n \nwatermelon\n \n \n********************\napple\n \norange\n \nkiwi\n \nmanago\n \nstawberry\n \nwatermelon\n \n \n********************\napple\n \norange\n \nkiwi\n \nmanago\n \nstawberry\n \nwatermelon\n \n \n********************\napple\n \norange\n \nkiwi\n \nmanago\n \nstawberry\n \nwatermelon\n \n \n********************\n"
        }
      ],
      "execution_count": 30
    },
    {
      "id": "8177ee88-101b-4593-8f4e-f7c41e2514c7",
      "cell_type": "code",
      "source": "# list slicing\nfruits = ['apple', 'orange', 'kiwi', 'manago', 'stawberry', 'watermelon']\n\n# positive slicing\nprint(f\"{fruits[:]}\")\nprint(f\"{fruits[0:len(fruits):1]}\")\nprint(f\"{fruits[0:len(fruits):2]}\")\nprint(f\"{fruits[0:len(fruits):3]}\")\nprint(f\"{fruits[0:len(fruits):4]}\")\nprint(f\"{fruits[0:len(fruits):5]}\")\n\n\nprint(f\"{fruits[0]}\")\nprint(f\"{fruits[1]}\")\nprint(f\"{fruits[2]}\")\nprint(f\"{fruits[3]}\")\nprint(f\"{fruits[4]}\")\nprint(f\"{fruits[5]}\")\n\n",
      "metadata": {
        "trusted": true
      },
      "outputs": [
        {
          "name": "stdout",
          "output_type": "stream",
          "text": "['apple', 'orange', 'kiwi', 'manago', 'stawberry', 'watermelon']\n['apple', 'orange', 'kiwi', 'manago', 'stawberry', 'watermelon']\n['apple', 'kiwi', 'stawberry']\n['apple', 'manago']\n['apple', 'stawberry']\n['apple', 'watermelon']\napple\norange\nkiwi\nmanago\nstawberry\nwatermelon\n"
        }
      ],
      "execution_count": 33
    },
    {
      "id": "62608898-3dbc-4e5d-a9ba-32d221557e4d",
      "cell_type": "code",
      "source": "# list slicing\nfruits = ['apple', 'orange', 'kiwi', 'manago', 'stawberry', 'watermelon']\n# syntax - tup[start, end, step]\n# Negative slicing\nprint(f\"{fruits[:]}\")\nprint(f\"{fruits[-len(fruits):0-1]}\")\nprint(f\"{fruits[-len(fruits):0-2]}\")\nprint(f\"{fruits[-len(fruits):0-3]}\")\nprint(f\"{fruits[-len(fruits):0-4]}\")\nprint(f\"{fruits[-len(fruits):0-5]}\")\n\nprint(f\"{fruits[-1]}\")\nprint(f\"{fruits[-2]}\")\nprint(f\"{fruits[-3]}\")\nprint(f\"{fruits[-4]}\")\nprint(f\"{fruits[-5]}\")\n",
      "metadata": {
        "trusted": true
      },
      "outputs": [
        {
          "name": "stdout",
          "output_type": "stream",
          "text": "['apple', 'orange', 'kiwi', 'manago', 'stawberry', 'watermelon']\n['apple', 'orange', 'kiwi', 'manago', 'stawberry']\n['apple', 'orange', 'kiwi', 'manago']\n['apple', 'orange', 'kiwi']\n['apple', 'orange']\n['apple']\nwatermelon\nstawberry\nmanago\nkiwi\norange\n"
        }
      ],
      "execution_count": 36
    },
    {
      "id": "9165b533-ef07-487d-938b-cf80af4620dc",
      "cell_type": "code",
      "source": "# tuple slicing\nfruits = ('apple', 'orange', 'kiwi', 'manago', 'stawberry', 'watermelon')\n\n# positive slicing\nprint(f\"{fruits[:]}\")\nprint(f\"{fruits[0:len(fruits):1]}\")\nprint(f\"{fruits[0:len(fruits):2]}\")\nprint(f\"{fruits[0:len(fruits):3]}\")\nprint(f\"{fruits[0:len(fruits):4]}\")\nprint(f\"{fruits[0:len(fruits):5]}\")\n\n\nprint(f\"{fruits[0]}\")\nprint(f\"{fruits[1]}\")\nprint(f\"{fruits[2]}\")\nprint(f\"{fruits[3]}\")\nprint(f\"{fruits[4]}\")\nprint(f\"{fruits[5]}\")",
      "metadata": {
        "trusted": true
      },
      "outputs": [
        {
          "name": "stdout",
          "output_type": "stream",
          "text": "('apple', 'orange', 'kiwi', 'manago', 'stawberry', 'watermelon')\n('apple', 'orange', 'kiwi', 'manago', 'stawberry', 'watermelon')\n('apple', 'kiwi', 'stawberry')\n('apple', 'manago')\n('apple', 'stawberry')\n('apple', 'watermelon')\napple\norange\nkiwi\nmanago\nstawberry\nwatermelon\n"
        }
      ],
      "execution_count": 38
    },
    {
      "id": "ab94273f-745e-40e8-9034-8f462cdbd4e5",
      "cell_type": "code",
      "source": "# tuple slicing\nfruits = ('apple', 'orange', 'kiwi', 'manago', 'stawberry', 'watermelon')\nprint(f\"{fruits[0:1]}\")\nprint(f\"{fruits[1:2]}\")\nprint(f\"{fruits[2:3]}\")\nprint(f\"{fruits[3:4]}\")\nprint(f\"{fruits[4:6]}\")\nprint(f\"{fruits[5:6]}\")",
      "metadata": {
        "trusted": true
      },
      "outputs": [
        {
          "name": "stdout",
          "output_type": "stream",
          "text": "('apple',)\n('orange',)\n('kiwi',)\n('manago',)\n('stawberry', 'watermelon')\n('watermelon',)\n"
        }
      ],
      "execution_count": 39
    },
    {
      "id": "90863944-445c-40cd-b651-b4ed73847e9a",
      "cell_type": "code",
      "source": "# tuple slicing\nfruits = ('apple', 'orange', 'kiwi', 'manago', 'stawberry', 'watermelon')\nprint(f\"{fruits[0:7]}\")",
      "metadata": {
        "trusted": true
      },
      "outputs": [
        {
          "name": "stdout",
          "output_type": "stream",
          "text": "('apple', 'orange', 'kiwi', 'manago', 'stawberry', 'watermelon')\n"
        }
      ],
      "execution_count": 40
    },
    {
      "id": "8e96800e-0c32-424b-b307-44039da68176",
      "cell_type": "code",
      "source": "# tuple slicing\nfruits = ('apple', 'orange', 'kiwi', 'manago', 'stawberry', 'watermelon')\nprint(f\"{fruits[0:100]}\")",
      "metadata": {
        "trusted": true
      },
      "outputs": [
        {
          "name": "stdout",
          "output_type": "stream",
          "text": "('apple', 'orange', 'kiwi', 'manago', 'stawberry', 'watermelon')\n"
        }
      ],
      "execution_count": 41
    },
    {
      "id": "34d04d6d-9373-4746-8821-30146d64bc9a",
      "cell_type": "code",
      "source": "a = \"hello\"\n\"world\" in a",
      "metadata": {
        "trusted": true
      },
      "outputs": [
        {
          "execution_count": 42,
          "output_type": "execute_result",
          "data": {
            "text/plain": "False"
          },
          "metadata": {}
        }
      ],
      "execution_count": 42
    },
    {
      "id": "2a2bdfda-1bdd-4dd4-9efd-54515043f145",
      "cell_type": "code",
      "source": "a = \"hello\"\nprint(var)",
      "metadata": {
        "trusted": true
      },
      "outputs": [
        {
          "ename": "<class 'NameError'>",
          "evalue": "name 'var' is not defined",
          "traceback": [
            "\u001b[0;31m---------------------------------------------------------------------------\u001b[0m",
            "\u001b[0;31mNameError\u001b[0m                                 Traceback (most recent call last)",
            "Cell \u001b[0;32mIn[43], line 2\u001b[0m\n\u001b[1;32m      1\u001b[0m a \u001b[38;5;241m=\u001b[39m \u001b[38;5;124m\"\u001b[39m\u001b[38;5;124mhello\u001b[39m\u001b[38;5;124m\"\u001b[39m\n\u001b[0;32m----> 2\u001b[0m \u001b[38;5;28mprint\u001b[39m(\u001b[43mvar\u001b[49m)\n",
            "\u001b[0;31mNameError\u001b[0m: name 'var' is not defined"
          ],
          "output_type": "error"
        }
      ],
      "execution_count": 43
    },
    {
      "id": "757463a0-8381-43ab-8424-9af910ddf8d2",
      "cell_type": "code",
      "source": "a = 34\nprint(float(a))\na = \"hello\"\nprint(float(a))",
      "metadata": {
        "trusted": true
      },
      "outputs": [
        {
          "name": "stdout",
          "output_type": "stream",
          "text": "34.0\n"
        },
        {
          "ename": "<class 'ValueError'>",
          "evalue": "could not convert string to float: 'hello'",
          "traceback": [
            "\u001b[0;31m---------------------------------------------------------------------------\u001b[0m",
            "\u001b[0;31mValueError\u001b[0m                                Traceback (most recent call last)",
            "Cell \u001b[0;32mIn[45], line 4\u001b[0m\n\u001b[1;32m      2\u001b[0m \u001b[38;5;28mprint\u001b[39m(\u001b[38;5;28mfloat\u001b[39m(a))\n\u001b[1;32m      3\u001b[0m a \u001b[38;5;241m=\u001b[39m \u001b[38;5;124m\"\u001b[39m\u001b[38;5;124mhello\u001b[39m\u001b[38;5;124m\"\u001b[39m\n\u001b[0;32m----> 4\u001b[0m \u001b[38;5;28mprint\u001b[39m(\u001b[38;5;28;43mfloat\u001b[39;49m\u001b[43m(\u001b[49m\u001b[43ma\u001b[49m\u001b[43m)\u001b[49m)\n",
            "\u001b[0;31mValueError\u001b[0m: could not convert string to float: 'hello'"
          ],
          "output_type": "error"
        }
      ],
      "execution_count": 45
    },
    {
      "id": "8fc813ce-f349-4ba6-8df9-3a72409b941e",
      "cell_type": "code",
      "source": "import Math\n",
      "metadata": {
        "trusted": true
      },
      "outputs": [
        {
          "ename": "<class 'ModuleNotFoundError'>",
          "evalue": "No module named 'Math'",
          "traceback": [
            "\u001b[0;31m---------------------------------------------------------------------------\u001b[0m",
            "\u001b[0;31mModuleNotFoundError\u001b[0m                       Traceback (most recent call last)",
            "Cell \u001b[0;32mIn[46], line 1\u001b[0m\n\u001b[0;32m----> 1\u001b[0m \u001b[38;5;28;01mimport\u001b[39;00m \u001b[38;5;21;01mMath\u001b[39;00m\n",
            "\u001b[0;31mModuleNotFoundError\u001b[0m: No module named 'Math'"
          ],
          "output_type": "error"
        }
      ],
      "execution_count": 46
    },
    {
      "id": "fa3b0e65-04f6-4731-b769-ba3e9dd1de3a",
      "cell_type": "code",
      "source": "import math\nprint(math.factorial(-3)) # Raises ValueError",
      "metadata": {
        "trusted": true
      },
      "outputs": [
        {
          "ename": "<class 'ValueError'>",
          "evalue": "factorial() not defined for negative values",
          "traceback": [
            "\u001b[0;31m---------------------------------------------------------------------------\u001b[0m",
            "\u001b[0;31mValueError\u001b[0m                                Traceback (most recent call last)",
            "Cell \u001b[0;32mIn[47], line 2\u001b[0m\n\u001b[1;32m      1\u001b[0m \u001b[38;5;28;01mimport\u001b[39;00m \u001b[38;5;21;01mmath\u001b[39;00m\n\u001b[0;32m----> 2\u001b[0m \u001b[38;5;28mprint\u001b[39m(\u001b[43mmath\u001b[49m\u001b[38;5;241;43m.\u001b[39;49m\u001b[43mfactorial\u001b[49m\u001b[43m(\u001b[49m\u001b[38;5;241;43m-\u001b[39;49m\u001b[38;5;241;43m3\u001b[39;49m\u001b[43m)\u001b[49m) \u001b[38;5;66;03m# Raises ValueError\u001b[39;00m\n",
            "\u001b[0;31mValueError\u001b[0m: factorial() not defined for negative values"
          ],
          "output_type": "error"
        }
      ],
      "execution_count": 47
    },
    {
      "id": "a58a99d5-cfc0-4db4-af41-a5d4aced5589",
      "cell_type": "code",
      "source": "str1 = \"helloworld\"\n# string slicing\n# positive slicing\nprint(f\"{str1[:]}\")\nprint(f\"{str1[0:len(str1):1]}\")\nprint(f\"{str1[0:len(str1):2]}\")\nprint(f\"{str1[0:len(str1):3]}\")\nprint(f\"{str1[0:len(str1):4]}\")\nprint(f\"{str1[0:len(str1):5]}\")\n\n\nprint(f\"{str1[0]}\")\nprint(f\"{str1[1]}\")\nprint(f\"{str1[2]}\")\nprint(f\"{str1[3]}\")\nprint(f\"{str1[4]}\")\nprint(f\"{str1[5]}\")\n\nprint(f\"{str1[0:2]}\")\nprint(f\"{str1[1:]}\")\nprint(f\"{str1[2:]}\")\nprint(f\"{str1[3:]}\")\nprint(f\"{str1[4:]}\")\nprint(f\"{str1[5:]}\")\n",
      "metadata": {
        "trusted": true
      },
      "outputs": [
        {
          "name": "stdout",
          "output_type": "stream",
          "text": "helloworld\nhelloworld\nhlool\nhlod\nhol\nhw\nh\ne\nl\nl\no\nw\nhe\nelloworld\nlloworld\nloworld\noworld\nworld\n"
        }
      ],
      "execution_count": 49
    },
    {
      "id": "b0f852c2-9979-438a-9076-ef546b188527",
      "cell_type": "code",
      "source": "# string methods\nstr1 = \"helloworld\"\nprint(f\"{str1}, type(str1)\")\nprint(f\"{dir(str1)}\")\n",
      "metadata": {
        "trusted": true
      },
      "outputs": [
        {
          "name": "stdout",
          "output_type": "stream",
          "text": "helloworld, type(str1)\n['__add__', '__class__', '__contains__', '__delattr__', '__dir__', '__doc__', '__eq__', '__format__', '__ge__', '__getattribute__', '__getitem__', '__getnewargs__', '__getstate__', '__gt__', '__hash__', '__init__', '__init_subclass__', '__iter__', '__le__', '__len__', '__lt__', '__mod__', '__mul__', '__ne__', '__new__', '__reduce__', '__reduce_ex__', '__repr__', '__rmod__', '__rmul__', '__setattr__', '__sizeof__', '__str__', '__subclasshook__', 'capitalize', 'casefold', 'center', 'count', 'encode', 'endswith', 'expandtabs', 'find', 'format', 'format_map', 'index', 'isalnum', 'isalpha', 'isascii', 'isdecimal', 'isdigit', 'isidentifier', 'islower', 'isnumeric', 'isprintable', 'isspace', 'istitle', 'isupper', 'join', 'ljust', 'lower', 'lstrip', 'maketrans', 'partition', 'removeprefix', 'removesuffix', 'replace', 'rfind', 'rindex', 'rjust', 'rpartition', 'rsplit', 'rstrip', 'split', 'splitlines', 'startswith', 'strip', 'swapcase', 'title', 'translate', 'upper', 'zfill']\n"
        }
      ],
      "execution_count": 51
    },
    {
      "id": "2e98de62-4370-450c-a736-538a7904313b",
      "cell_type": "code",
      "source": "# string methods\n# str1.capaitalize()\nstr1 = \"helloworld\"\nprint(f\"{str1}\")\nprint(f\"{(str1.capitalize())}\")",
      "metadata": {
        "trusted": true
      },
      "outputs": [
        {
          "name": "stdout",
          "output_type": "stream",
          "text": "helloworld\nHelloworld\n"
        }
      ],
      "execution_count": 52
    },
    {
      "id": "ac5acd6c-d4fb-452b-849f-a3574b87ac45",
      "cell_type": "code",
      "source": "# string methods\n# str1.casefold()\nstr1 = \"helloworld\"\nprint(f\"{str1}\")\nprint(f\"{(str1.casefold())}\")",
      "metadata": {
        "trusted": true
      },
      "outputs": [
        {
          "name": "stdout",
          "output_type": "stream",
          "text": "helloworld\nhelloworld\n"
        }
      ],
      "execution_count": 53
    },
    {
      "id": "51290583-ad29-4cb9-8a6b-48c3e4d83dfc",
      "cell_type": "code",
      "source": "# string methods\n# str1.center()\nstr1 = \"helloworld\"\nprint(f\"{str1}\")\nprint(f\"{(str1.center(5))}\")",
      "metadata": {
        "trusted": true
      },
      "outputs": [
        {
          "name": "stdout",
          "output_type": "stream",
          "text": "helloworld\nhelloworld\n"
        }
      ],
      "execution_count": 55
    },
    {
      "id": "7ab604ac-5b19-40fa-8af7-2cc59cf81533",
      "cell_type": "code",
      "source": "# string methods\n# str1.count()\nstr1 = \"helloworld\"\nprint(f\"{str1}\")\nprint(f\"{(str1.count('l'))}\")",
      "metadata": {
        "trusted": true
      },
      "outputs": [
        {
          "name": "stdout",
          "output_type": "stream",
          "text": "helloworld\n3\n"
        }
      ],
      "execution_count": 56
    },
    {
      "id": "9517ecdb-c8ce-4e18-bfe1-618474495840",
      "cell_type": "code",
      "source": "# string methods\n# str1.endswith()\nstr1 = \"helloworld\"\nprint(f\"{str1}\")\nprint(f\"{(str1.endswith('d'))}\")",
      "metadata": {
        "trusted": true
      },
      "outputs": [
        {
          "name": "stdout",
          "output_type": "stream",
          "text": "helloworld\nTrue\n"
        }
      ],
      "execution_count": 57
    },
    {
      "id": "9171342d-15c3-4df0-b585-2c576a8b5221",
      "cell_type": "code",
      "source": "# string methods\n# str1.index()\nstr1 = \"helloworld\"\nprint(f\"{str1}\")\nprint(f\"{(str1.index('d'))}\")",
      "metadata": {
        "trusted": true
      },
      "outputs": [
        {
          "name": "stdout",
          "output_type": "stream",
          "text": "helloworld\n9\n"
        }
      ],
      "execution_count": 58
    },
    {
      "id": "bcaa3b3b-e416-425e-81ac-26413238ccfe",
      "cell_type": "code",
      "source": "# string methods\n# str1.isdecimal()\nstr1 = \"10\"\nprint(f\"{str1}\")\nprint(f\"{(str1.isdecimal())}\")",
      "metadata": {
        "trusted": true
      },
      "outputs": [
        {
          "name": "stdout",
          "output_type": "stream",
          "text": "10\nTrue\n"
        }
      ],
      "execution_count": 59
    },
    {
      "id": "9fef5a5a-54ee-4bc7-b124-97c991bb24e1",
      "cell_type": "code",
      "source": "# string methods\n# str1.isdecimal()\nstr1 = \"10.5\"\nprint(f\"{str1}\")\nprint(f\"{(str1.isdecimal())}\")",
      "metadata": {
        "trusted": true
      },
      "outputs": [
        {
          "name": "stdout",
          "output_type": "stream",
          "text": "10.5\nFalse\n"
        }
      ],
      "execution_count": 60
    },
    {
      "id": "c9677187-9f8c-40ba-8d4e-bbadd889157f",
      "cell_type": "code",
      "source": "# string methods\n# str1.isdigit()\nstr1 = \"100\"\nprint(f\"{str1}\")\nprint(f\"{(str1.isdigit())}\")",
      "metadata": {
        "trusted": true
      },
      "outputs": [
        {
          "name": "stdout",
          "output_type": "stream",
          "text": "100\nTrue\n"
        }
      ],
      "execution_count": 61
    },
    {
      "id": "cb054a66-16a6-46f5-af2b-9e00565fda91",
      "cell_type": "code",
      "source": "# string methods\n# str1.islower()\nstr1 = \"ABCDEF\"\nprint(f\"{str1}\")\nprint(f\"{(str1.islower())}\")",
      "metadata": {
        "trusted": true
      },
      "outputs": [
        {
          "name": "stdout",
          "output_type": "stream",
          "text": "ABCDEF\nFalse\n"
        }
      ],
      "execution_count": 63
    },
    {
      "id": "d91705a3-0018-4372-8747-c701021b78db",
      "cell_type": "code",
      "source": "# string methods\n# str1.islower()\nstr1 = \"abcdef\"\nprint(f\"{str1}\")\nprint(f\"{(str1.islower())}\")",
      "metadata": {
        "trusted": true
      },
      "outputs": [
        {
          "name": "stdout",
          "output_type": "stream",
          "text": "abcdef\nTrue\n"
        }
      ],
      "execution_count": 64
    },
    {
      "id": "21033500-dfb5-4871-8c28-c64eed073227",
      "cell_type": "code",
      "source": "# string methods\n# str1.isupper()\nstr1 = \"ABCDEF\"\nprint(f\"{str1}\")\nprint(f\"{(str1.isupper())}\")",
      "metadata": {
        "trusted": true
      },
      "outputs": [
        {
          "name": "stdout",
          "output_type": "stream",
          "text": "ABCDEF\nTrue\n"
        }
      ],
      "execution_count": 65
    },
    {
      "id": "3e7e3a1f-7fdb-4cb6-897b-6a161038358b",
      "cell_type": "code",
      "source": "# string methods\n# str1.split(), str1.join()\n#split() function divides the string into a list of words and join() reassembles them with a specified separator. \n# It is highly efficient and commonly used in Python for basic string manipulations.\nstr1 = \"Hi Friends, I am in London\"\nprint(f\"{str1}\")\nprint(f\"{str1.split(',')}\")\nprint(f\"{'-'.join(str1.split(' '))}\")",
      "metadata": {
        "trusted": true
      },
      "outputs": [
        {
          "name": "stdout",
          "output_type": "stream",
          "text": "Hi Friends, I am in London\n['Hi Friends', ' I am in London']\nHi-Friends,-I-am-in-London\n"
        }
      ],
      "execution_count": 88
    },
    {
      "id": "cf6e177a-6b56-458c-b391-f5505e128964",
      "cell_type": "code",
      "source": "# string methods\n# str1.split(), str1.join()\nstr1 = \" \"\nprint(f\"{str1.isspace()}\")",
      "metadata": {
        "trusted": true
      },
      "outputs": [
        {
          "name": "stdout",
          "output_type": "stream",
          "text": "True\n"
        }
      ],
      "execution_count": 79
    },
    {
      "id": "c4277066-57a4-4ecd-ad56-1b664d48ffe1",
      "cell_type": "code",
      "source": "# string methods\n# str1.istitle()\nstr1 = \"Welcome\"\nprint(f\"{str1.istitle()}\")\n\nstr1 = \"welcome\"\nprint(f\"{str1.istitle()}\")",
      "metadata": {
        "trusted": true
      },
      "outputs": [
        {
          "name": "stdout",
          "output_type": "stream",
          "text": "True\nFalse\n"
        }
      ],
      "execution_count": 83
    },
    {
      "id": "6c49ebd1-3d52-4050-bd24-64b33fa91b5b",
      "cell_type": "code",
      "source": "# string methods\n# str1.isascii()\ntxt = \"Company123\"\nx = txt.isascii() # The isascii() method returns True if all the characters are ascii characters  (a-z).\nprint(x)",
      "metadata": {
        "trusted": true
      },
      "outputs": [
        {
          "name": "stdout",
          "output_type": "stream",
          "text": "True\n"
        }
      ],
      "execution_count": 84
    },
    {
      "id": "c0d685a0-dd0d-4b10-bc73-4f4d7accfb03",
      "cell_type": "code",
      "source": "# Example 1: All ASCII characters\ntext1 = \"Hello, World!\"\nprint(text1.isascii())  # Output: True\n\n# Example 3: Empty string\ntext3 = \"\"\nprint(text3.isascii())  # Output: True\n",
      "metadata": {
        "trusted": true
      },
      "outputs": [
        {
          "name": "stdout",
          "output_type": "stream",
          "text": "True\nTrue\n"
        }
      ],
      "execution_count": 85
    },
    {
      "id": "dcc9d541-383d-4b9c-80ce-9f6789263a1e",
      "cell_type": "code",
      "source": "import re\na = \"Hello, how are you?\"\n#split() function divides the string into a list of words and join() reassembles them with a specified separator. \n# It is highly efficient and commonly used in Python for basic string manipulations.\nb = re.split(r'\\s+', a) # Split by spaces\nc = \"-\".join(b) # Join with a hyphen\n\nprint(b)\nprint(c)",
      "metadata": {
        "trusted": true
      },
      "outputs": [
        {
          "name": "stdout",
          "output_type": "stream",
          "text": "['Hello,', 'how', 'are', 'you?']\nHello,-how-are-you?\n"
        }
      ],
      "execution_count": 89
    },
    {
      "id": "88d0e207-4cfd-4079-a833-bfc743678a5d",
      "cell_type": "code",
      "source": "a = \"  Hello, how are you?\"\nprint(a.rjust())",
      "metadata": {
        "trusted": true
      },
      "outputs": [
        {
          "ename": "<class 'TypeError'>",
          "evalue": "rjust expected at least 1 argument, got 0",
          "traceback": [
            "\u001b[0;31m---------------------------------------------------------------------------\u001b[0m",
            "\u001b[0;31mTypeError\u001b[0m                                 Traceback (most recent call last)",
            "Cell \u001b[0;32mIn[90], line 2\u001b[0m\n\u001b[1;32m      1\u001b[0m a \u001b[38;5;241m=\u001b[39m \u001b[38;5;124m\"\u001b[39m\u001b[38;5;124m  Hello, how are you?\u001b[39m\u001b[38;5;124m\"\u001b[39m\n\u001b[0;32m----> 2\u001b[0m \u001b[38;5;28mprint\u001b[39m(\u001b[43ma\u001b[49m\u001b[38;5;241;43m.\u001b[39;49m\u001b[43mrjust\u001b[49m\u001b[43m(\u001b[49m\u001b[43m)\u001b[49m)\n",
            "\u001b[0;31mTypeError\u001b[0m: rjust expected at least 1 argument, got 0"
          ],
          "output_type": "error"
        }
      ],
      "execution_count": 90
    },
    {
      "id": "5230c282-b721-4cb0-ac9e-45ffcd985b0b",
      "cell_type": "code",
      "source": "# string methods\n# str1.rjust()\n# str1.lstrip()\ntxt = \"banana\"\na = \"   Hello, how are you? \" \n# In Python, the rjust() method is used to right-align a string by padding it with a specified character (default is a space) to a given width\nprint(txt.rjust(20), a)\nc = txt.rjust(20)\nprint(c.lstrip())",
      "metadata": {
        "trusted": true
      },
      "outputs": [
        {
          "name": "stdout",
          "output_type": "stream",
          "text": "              banana    Hello, how are you? \nbanana\n"
        }
      ],
      "execution_count": 122
    },
    {
      "id": "064ce86e-92a2-498d-aa66-75001c9b59a1",
      "cell_type": "code",
      "source": "# string methods\n# str1.ljust()\n# str1.rstrip()\n# str1.strip()\ntxt = \"banana\"\nx = txt.ljust(20)\nprint(x, \"is my favorite fruit.  \")\n# In Python, the rljust() method is used to left-align a string by padding it with a specified character (default is a space) to a given width\nc = txt.ljust(20)\nprint(c.rstrip())\nprint(\"     is my favorite fruit. \".strip(' '))",
      "metadata": {
        "trusted": true
      },
      "outputs": [
        {
          "name": "stdout",
          "output_type": "stream",
          "text": "banana               is my favorite fruit.  \nbanana\nis my favorite fruit.\n"
        }
      ],
      "execution_count": 123
    },
    {
      "id": "e6a563b4-918b-48c6-a387-e06af8ce8ffc",
      "cell_type": "code",
      "source": "# str.split method\na = \"apples, mango, watermelon\"\na.split(',')",
      "metadata": {
        "trusted": true
      },
      "outputs": [
        {
          "execution_count": 127,
          "output_type": "execute_result",
          "data": {
            "text/plain": "['apples', ' mango', ' watermelon']"
          },
          "metadata": {}
        }
      ],
      "execution_count": 127
    },
    {
      "id": "76471f65-d08d-4e4a-8a18-15716ea85ff7",
      "cell_type": "code",
      "source": "# str.split method\na = \"apples, mango, watermelon\"\na.rsplit(',')",
      "metadata": {
        "trusted": true
      },
      "outputs": [
        {
          "execution_count": 128,
          "output_type": "execute_result",
          "data": {
            "text/plain": "['apples', ' mango', ' watermelon']"
          },
          "metadata": {}
        }
      ],
      "execution_count": 128
    },
    {
      "id": "19bd4fad-c1e6-4f3c-a15b-5b2f43aafdaa",
      "cell_type": "code",
      "source": "# str.rsplit method\na = \"apples, mango, watermelon\" # # splits the string at index 16 i.e.: the last occurrence of w\n# Splitting Python String using different separator characters.\nprint(a.rsplit('w', 1))\nprint(len(a))\ns = \"tic-tac-toe\"\nprint(s.rsplit('-'))",
      "metadata": {
        "trusted": true
      },
      "outputs": [
        {
          "name": "stdout",
          "output_type": "stream",
          "text": "['apples, mango, ', 'atermelon']\n25\n['tic', 'tac', 'toe']\n"
        }
      ],
      "execution_count": 134
    },
    {
      "id": "baeaea55-fce0-4143-b76a-7fef037aaf9a",
      "cell_type": "code",
      "source": "# str.startswith method\na = \"apples\" \nprint(a.startswith('a'))",
      "metadata": {
        "trusted": true
      },
      "outputs": [
        {
          "name": "stdout",
          "output_type": "stream",
          "text": "True\n"
        }
      ],
      "execution_count": 138
    },
    {
      "id": "c3effd85-9f1f-45a7-97bf-63325e836733",
      "cell_type": "code",
      "source": "# str.endswith method\na = \"apples\" \nprint(a.endswith('s'))",
      "metadata": {
        "trusted": true
      },
      "outputs": [
        {
          "name": "stdout",
          "output_type": "stream",
          "text": "True\n"
        }
      ],
      "execution_count": 139
    },
    {
      "id": "9da8f92a-c7fa-478b-8811-79b3c8578749",
      "cell_type": "code",
      "source": "# str.replace()\na = \"hello world\" \nprint(a.replace('hello','hi'))",
      "metadata": {
        "trusted": true
      },
      "outputs": [
        {
          "name": "stdout",
          "output_type": "stream",
          "text": "hi world\n"
        }
      ],
      "execution_count": 140
    },
    {
      "id": "ffd74167-4d66-4c0e-944e-3c7480617f0b",
      "cell_type": "code",
      "source": "# str.swapcase()\na = \"Hello World\" \nprint(a.swapcase())",
      "metadata": {
        "trusted": true
      },
      "outputs": [
        {
          "name": "stdout",
          "output_type": "stream",
          "text": "hELLO wORLD\n"
        }
      ],
      "execution_count": 141
    },
    {
      "id": "7d5ae308-93b8-4c8a-a94d-2ef767f47570",
      "cell_type": "code",
      "source": "# str.isupper()\na = \"HELLO\" \nprint(a.isupper())",
      "metadata": {
        "trusted": true
      },
      "outputs": [
        {
          "name": "stdout",
          "output_type": "stream",
          "text": "True\n"
        }
      ],
      "execution_count": 142
    },
    {
      "id": "92cd51d1-8b04-4647-b181-28bb2fff41af",
      "cell_type": "code",
      "source": "# str.islower()\na = \"hello\" \nprint(a.islower())",
      "metadata": {
        "trusted": true
      },
      "outputs": [
        {
          "name": "stdout",
          "output_type": "stream",
          "text": "True\n"
        }
      ],
      "execution_count": 143
    },
    {
      "id": "3342d76c-5a67-4216-8ca3-b560c3532fe7",
      "cell_type": "code",
      "source": "# str.isspace()\na = \" \" \nprint(a.isspace())",
      "metadata": {
        "trusted": true
      },
      "outputs": [
        {
          "name": "stdout",
          "output_type": "stream",
          "text": "True\n"
        }
      ],
      "execution_count": 144
    },
    {
      "id": "11a83e3a-4b30-4141-8cdd-0a117d73489f",
      "cell_type": "code",
      "source": "# str.isdigit()\na = \"10\"\na.isdigit()",
      "metadata": {
        "trusted": true
      },
      "outputs": [
        {
          "execution_count": 146,
          "output_type": "execute_result",
          "data": {
            "text/plain": "True"
          },
          "metadata": {}
        }
      ],
      "execution_count": 146
    },
    {
      "id": "6fc8639d-947f-4f8f-af87-b467401355de",
      "cell_type": "code",
      "source": "# str.count()\na = \"hello\" \nprint(a.count('l'))",
      "metadata": {
        "trusted": true
      },
      "outputs": [
        {
          "name": "stdout",
          "output_type": "stream",
          "text": "2\n"
        }
      ],
      "execution_count": 148
    },
    {
      "id": "de13ac9b-3f92-48a9-8841-54e4bd2e475e",
      "cell_type": "code",
      "source": "# str.index()\na = \"hello\" \nprint(a.index('l'))",
      "metadata": {
        "trusted": true
      },
      "outputs": [
        {
          "name": "stdout",
          "output_type": "stream",
          "text": "2\n"
        }
      ],
      "execution_count": 149
    },
    {
      "id": "aa44f43a-a16b-4c38-8c54-190c419c32c8",
      "cell_type": "code",
      "source": "# str.center(width, fillchar=' ')\n# width: The total width of the resulting string.\n# fillchar: (Optional) The character used for padding. Default is a space.\ntxt = \"banana\"\nx = txt.center(20)\nprint(x)",
      "metadata": {
        "trusted": true
      },
      "outputs": [
        {
          "name": "stdout",
          "output_type": "stream",
          "text": "       banana       \n"
        }
      ],
      "execution_count": 150
    },
    {
      "id": "67abd51e-692b-4c0e-a58d-a4dde9d8d0c0",
      "cell_type": "code",
      "source": "# str.expandtab\n# Set the tab size to 2 whitespaces:\n# The expandtabs() method sets the tab size to the specified number of whitespaces.\ntxt = \"H\\te\\tl\\tl\\to\"\nx =  txt.expandtabs(2)\nprint(x)",
      "metadata": {
        "trusted": true
      },
      "outputs": [
        {
          "name": "stdout",
          "output_type": "stream",
          "text": "H e l l o\n"
        }
      ],
      "execution_count": 151
    },
    {
      "id": "43d3345f-5982-4634-96b1-166655f831d8",
      "cell_type": "code",
      "source": "# Python String removeprefix() function removes the prefix and returns the rest of the string\n# If the prefix string is not found, then it returns the original string.\n# str.removeprefix()\ntxt = \"hello world\"\nx =  txt.removeprefix('he')\nprint(x)",
      "metadata": {
        "trusted": true
      },
      "outputs": [
        {
          "name": "stdout",
          "output_type": "stream",
          "text": "llo world\n"
        }
      ],
      "execution_count": 152
    },
    {
      "id": "d5be8155-7759-4662-9e57-c9c85cd9b636",
      "cell_type": "code",
      "source": "# str.removesuffix()\n'''\nremovesuffix() method allows us to remove a specified suffix from a string. \nThis method is particularly helpful when we need to work with strings and remove unwanted endings without manually checking or slicing. \nFor example, we might have a file name that ends with \".txt\" and want to remove it to get just the name of the file. \nWe can do this easily using removesuffix().\n'''\ns1 = \"geeks.txt\"\ns2 = s1.removesuffix(\".txt\")\nprint(s2)",
      "metadata": {
        "trusted": true
      },
      "outputs": [
        {
          "name": "stdout",
          "output_type": "stream",
          "text": "geeks\n"
        }
      ],
      "execution_count": 153
    },
    {
      "id": "b593343e-848e-410c-9c00-c99fa4cdb48a",
      "cell_type": "code",
      "source": "# str.encode\n\n# synatx: string.encode(encoding=encoding, errors=errors)\n# The encode() method encodes the string, using the specified encoding. If no encoding is specified, UTF-8 will be used.\n\ntxt = \"My name is Ståle\"\nprint(txt.encode(encoding=\"ascii\",errors=\"backslashreplace\"))\nprint(txt.encode(encoding=\"ascii\",errors=\"ignore\"))\nprint(txt.encode(encoding=\"ascii\",errors=\"namereplace\"))\nprint(txt.encode(encoding=\"ascii\",errors=\"replace\"))\nprint(txt.encode(encoding=\"ascii\",errors=\"xmlcharrefreplace\"))",
      "metadata": {
        "trusted": true
      },
      "outputs": [
        {
          "name": "stdout",
          "output_type": "stream",
          "text": "b'My name is St\\\\xe5le'\nb'My name is Stle'\nb'My name is St\\\\N{LATIN SMALL LETTER A WITH RING ABOVE}le'\nb'My name is St?le'\nb'My name is St&#229;le'\n"
        }
      ],
      "execution_count": 165
    },
    {
      "id": "9bf9bfc7-9359-42bd-8e51-ed445ca47a97",
      "cell_type": "code",
      "source": "# str.isalnum()\n\n'''\nIn Python, the str.isalnum() method is used to check if all characters in a string are alphanumeric (i.e., letters and/or numbers). \nIt returns True if the string is non-empty and all characters are alphanumeric; otherwise, it returns False.\n'''\n# Example 1: Alphanumeric string\nprint(\"Hello123\".isalnum())  # Output: True\n\n# Example 2: Contains special characters\nprint(\"Hello@123\".isalnum())  # Output: False\n\n# Example 3: Contains spaces\nprint(\"Hello 123\".isalnum())  # Output: False\n\n# Example 4: Empty string\nprint(\"\".isalnum())  # Output: False\n\n# Example 5: Only numbers\nprint(\"12345\".isalnum())  # Output: True\n\n# Example 6: Only letters\nprint(\"Python\".isalnum())  # Output: True",
      "metadata": {
        "trusted": true
      },
      "outputs": [
        {
          "name": "stdout",
          "output_type": "stream",
          "text": "True\nFalse\nFalse\nFalse\nTrue\nTrue\n"
        }
      ],
      "execution_count": 157
    },
    {
      "id": "8cb358d0-3fc4-45e1-a3b8-fbdde84ef5d8",
      "cell_type": "code",
      "source": "# str.isalpha()\n\n#The isalpha() method returns True if all the characters are alphabet letters (a-z).\n#Example of characters that are not alphabet letters: (space)!#%&? etc.\n\n#In Python, the str.isalpha() method is used to check if all characters in a string are alphabetic (i.e., letters) and the string is non-empty. \n#It returns True if all characters are alphabetic, otherwise False.\n# Example 1: All alphabetic characters\ntext = \"Hello\"\nprint(text.isalpha())  # Output: True\n\n# Example 2: Contains numbers\ntext = \"Hello123\"\nprint(text.isalpha())  # Output: False\n\n# Example 3: Contains spaces\ntext = \"Hello World\"\nprint(text.isalpha())  # Output: False\n\n# Example 4: Empty string\ntext = \"\"\nprint(text.isalpha())  # Output: False",
      "metadata": {
        "trusted": true
      },
      "outputs": [
        {
          "name": "stdout",
          "output_type": "stream",
          "text": "True\nFalse\nFalse\nFalse\n"
        }
      ],
      "execution_count": 158
    },
    {
      "id": "44ba6d91-1d62-48f9-bd6f-4bdfe44d4fde",
      "cell_type": "code",
      "source": "# str.isidentifier()\n\n# rules for valid python identifier\n# It contains only letters, digits, and underscores.\n# It does not start with a digit.\n# It is not a Python keyword.\n# A valid identifier must begin with a letter (A-Z or a-z) \n# or an underscore (_), \n# should contain only alphanumeric characters (A-Z, a-z, 0-9) \n# and underscores (_), \n# and should not be a reserved keyword in Python.\n# Identifiers are names used to identify variables, functions, classes, and other objects.\ns = \"variable_name\"\nprint(s.isidentifier())\n\n# Starts with a number\ns = \"1variable\"  \nprint(s.isidentifier())\n\n# contains special character\ns = \"var!name\"  # Contains a special character (!)\nprint(s.isidentifier())\n\n#The string \"class\" follows all identifier rules, so isidentifier() returns True.\n#However, using it as an identifier in code will lead to a SyntaxError because it is a reserved keyword.\ns = \"class\"  # Reserved keyword in Python\nprint(s.isidentifier())\n\ns = \"\"  # Empty string\nprint(s.isidentifier())",
      "metadata": {
        "trusted": true
      },
      "outputs": [
        {
          "name": "stdout",
          "output_type": "stream",
          "text": "True\nFalse\nFalse\nTrue\nFalse\n"
        }
      ],
      "execution_count": 163
    },
    {
      "id": "7f8d5954-2d1c-44b5-ba82-22a08dc2c60a",
      "cell_type": "code",
      "source": "# str.isnumeric()\n\n# In Python, the str.isnumeric() method is used to check if all the characters in a string are numeric characters. \n# It returns True if all characters in the string are numeric, and False otherwise.\n\n# Example 1: Numeric string\nprint(\"12345\".isnumeric())  # Output: True\n\n# Example 2: Non-numeric string\nprint(\"123abc\".isnumeric())  # Output: False\n\n# Example 3: Unicode numeric characters\nprint(\"½\".isnumeric())  # Output: True\n\n# Example 4: String with spaces\nprint(\"123 456\".isnumeric())  # Output: False\n# If you need to check for numbers that include decimal points or negative signs, consider using other methods like float() with exception handling.",
      "metadata": {
        "trusted": true
      },
      "outputs": [
        {
          "name": "stdout",
          "output_type": "stream",
          "text": "True\nFalse\nTrue\nFalse\n"
        }
      ],
      "execution_count": 164
    },
    {
      "id": "6b7ff98c-de34-49ed-8356-3648848ea416",
      "cell_type": "code",
      "source": "# str.isdecimal()\n# In Python, the isdecimal() method is a quick and easy way to check if a string contains only decimal digits. \n# It works by returning True when the string consists of digits from 0 to 9 and False otherwise. \n# This method is especially useful when we want to ensure that user inputs or string data are strictly numeric without any special characters or spaces.\n\n# a = \"12345\"\nprint(a.isdecimal())  # This will print True as all characters are digits\n\nb = \"12345a\"\nprint(b.isdecimal())  # This will print False because 'a' is not a decimal character\n\n# Example 1: All decimal characters\nprint(\"12345\".isdecimal())  # Output: True\n\n# Example 2: Contains non-decimal characters\nprint(\"123.45\".isdecimal())  # Output: False\nprint(\"12a45\".isdecimal())   # Output: False\n\n# Example 3: Empty string\nprint(\"\".isdecimal())        # Output: False\n\n#This method is particularly useful when validating numeric input in strings. If you need to check for numeric values that include floats or negative numbers, consider using other methods like str.isdigit() or custom logic.",
      "metadata": {
        "trusted": true
      },
      "outputs": [
        {
          "name": "stdout",
          "output_type": "stream",
          "text": "False\nFalse\nTrue\nFalse\nFalse\nFalse\n"
        }
      ],
      "execution_count": 166
    },
    {
      "id": "8ed92be1-955f-419a-8b6b-d521425a85e4",
      "cell_type": "code",
      "source": "# str.find('string')\n# syntax: str.find(sub[, start[, end]])\n# sub: The substring to search for.\n# start (optional): The starting index to begin the search.\n# end (optional): The ending index to stop the search.\n\n# specific string match in given string\ntext = \"Hello, welcome to Python programming!\"\nindex = text.find(\"Python\")\nprint(index)  # Output: 18\n\n# substring match\ntext = \"Hello, world!\"\nindex = text.find(\"Java\")\nprint(index)  # Output: -1\n\n# using start and end\ntext = \"Python is fun. Python is powerful.\"\nindex = text.find(\"Python\", 10)  # Start searching from index 10\nprint(index)  # Output: 15\n\n# using start and end\ntext = \"Python is fun. Python is powerful.\"\nindex = text.find(\"Python\", 0, 10)  # Start searching from index 0 to 10,, string python found in index 0\nprint(index)  # Output: 0\n\n# using start and end\ntext = \"Python is fun. Python is powerful.\"\nindex = text.find(\"Python\", 1, 10)  # Start searching from index 1 to 10 , string python not found in index 1\nprint(index)  # Output: -1\n\n# This method is case-sensitive, so ensure the case matches when searching for substrings. \n# If you need more advanced searching, consider using str.index() (which raises an exception if the substring is not found) or regular expressions.\n\n# The find() method finds the first occurrence of the specified value.\n\n# The find() method returns -1 if the value is not found.\n\n# The find() method is almost the same as the index() method, the only difference is that the index() method raises an exception if the value is not found. (See example below)\n\n\n#The rfind() method finds the last occurrence of the specified value.\n\n#The rfind() method returns -1 if the value is not found.\n\n#The rfind() method is almost the same as the rindex() method. See example below.\n\n# synatx: string.rfind(value, start, end)\ntxt = \"Hello, welcome to my world.\"\nx = txt.rfind(\"e\")\nprint(x)\n\ntxt = \"Hello, welcome to my world.\"\nx = txt.rfind(\"e\", 5, 10)\nprint(x)",
      "metadata": {
        "trusted": true
      },
      "outputs": [
        {
          "name": "stdout",
          "output_type": "stream",
          "text": "18\n-1\n15\n0\n-1\n13\n8\n"
        }
      ],
      "execution_count": 202
    },
    {
      "id": "bc80a732-b54a-4190-a1f4-e9020d407c41",
      "cell_type": "code",
      "source": "# str.format()\n\n# In Python, the str.format() method is a powerful way to format strings. \n# It allows you to insert variables, perform formatting, and create dynamic strings.\n\n# The format() method formats the specified value(s) and insert them inside the string's placeholder.\n\n# The placeholder is defined using curly brackets: {}. Read more about the placeholders in the Placeholder section below.\n\n# The format() method returns the formatted string.\n\nname = \"Alice\"\nage = 25\nformatted_string = \"My name is {} and I am {} years old.\".format(name, age)\nprint(formatted_string)\n# Output: My name is Alice and I am 25 years old.\n\n# Positional and Keyword Arguments\n# Positional Arguments: Use {} placeholders in the order of arguments.\n# Keyword Arguments: Use named placeholders for clarity\n\n# Positional\nformatted_string = \"I have {} apples and {} oranges.\".format(5, 3)\nprint(formatted_string)\n# Output: I have 5 apples and 3 oranges.\n\n# Keyword\nformatted_string = \"Hello, {name}. You are {age} years old.\".format(name=\"Bob\", age=30)\nprint(formatted_string)\n# Output: Hello, Bob. You are 30 years old.\n\n# Indexing and Reordering\nformatted_string = \"{1} comes before {0}\".format(\"second\", \"first\")\nprint(formatted_string)\n# Output: first comes before second\n\n# Formatting numbers\n# Decimal places\npi = 3.14159\nformatted_string = \"Pi is approximately {:.2f}\".format(pi)\nprint(formatted_string)\n# Output: Pi is approximately 3.14\n\n# Padding and alignment\nformatted_string = \"{:>10}\".format(\"Hello\")  # Right-align\nprint(formatted_string)\n# Output:      Hello\n\nformatted_string = \"{:<10}\".format(\"Hello\")  # Left-align\nprint(formatted_string)\n# Output: Hello\n\n# using dictionaries\ndata = {\"name\": \"Charlie\", \"age\": 35}\nformatted_string = \"Name: {name}, Age: {age}\".format(**data)\nprint(formatted_string)\n# Output: Name: Charlie, Age: 35\n\n# f-Strings (Modern Alternative)\n#Although str.format() is versatile, Python 3.6+ introduced f-strings, which are often more concise:\n\nname = \"Diana\"\nage = 28\nformatted_string = f\"My name is {name} and I am {age} years old.\"\nprint(formatted_string)\n# Output: My name is Diana and I am 28 years old.\n# Both str.format() and f-strings are widely used, so you can choose based on your preference and the Python version you're using!",
      "metadata": {
        "trusted": true
      },
      "outputs": [
        {
          "name": "stdout",
          "output_type": "stream",
          "text": "My name is Alice and I am 25 years old.\nI have 5 apples and 3 oranges.\nHello, Bob. You are 30 years old.\nfirst comes before second\nPi is approximately 3.14\n     Hello\nHello     \nName: Charlie, Age: 35\nMy name is Diana and I am 28 years old.\n"
        }
      ],
      "execution_count": 174
    },
    {
      "id": "a1150461-d96a-432a-bd3f-3e0d7ed2f237",
      "cell_type": "code",
      "source": "# str.format()\n#To demonstrate, we insert the number 8 to set the available space for the value to 8 characters.\n#Use \"<\" to left-align the value:\ntxt = \"We have {:<8} chickens.\"\nprint(txt.format(49))",
      "metadata": {
        "trusted": true
      },
      "outputs": [
        {
          "name": "stdout",
          "output_type": "stream",
          "text": "We have 49       chickens.\n"
        }
      ],
      "execution_count": 175
    },
    {
      "id": "9a081cf5-927e-4512-b10e-2f488e61db6f",
      "cell_type": "code",
      "source": "# str.format()\n#To demonstrate, we insert the number 8 to set the available space for the value to 8 characters.\n\n#Use \">\" to right-align the value:\ntxt = \"We have {:>8} chickens.\"\nprint(txt.format(49))",
      "metadata": {
        "trusted": true
      },
      "outputs": [
        {
          "name": "stdout",
          "output_type": "stream",
          "text": "We have       49 chickens.\n"
        }
      ],
      "execution_count": 176
    },
    {
      "id": "599ee456-4d35-4c11-8496-6f73c9cb8434",
      "cell_type": "code",
      "source": "# str.format()\n#To demonstrate, we insert the number 8 to specify the available space for the value.\n\n#Use \"=\" to place the plus/minus sign at the left most position:\n\ntxt = \"The temperature is {:=8} degrees celsius.\"\n\nprint(txt.format(-5))\nprint(f\"{txt=}\") # fstring method\n# :b - binary format\n# :o - octal format\n# :d - decimal format\n# :e - Scientific format, with a lower case e\n# :E - Scientific format, with an upper case E\n# :% - Percentage format\n# :x - Hex format, lower case\n# :X - Hex format, Upper case",
      "metadata": {
        "trusted": true
      },
      "outputs": [
        {
          "name": "stdout",
          "output_type": "stream",
          "text": "The temperature is -      5 degrees celsius.\ntxt='The temperature is {:=8} degrees celsius.'\n"
        }
      ],
      "execution_count": 177
    },
    {
      "id": "6533dc92-90b1-4bf7-bf04-3e463ba43d4b",
      "cell_type": "code",
      "source": "# str.format()\ntxt = \"For only {price:.2f} dollars!\"\nprint(txt.format(price = 49))",
      "metadata": {
        "trusted": true
      },
      "outputs": [
        {
          "name": "stdout",
          "output_type": "stream",
          "text": "For only 49.00 dollars!\n"
        }
      ],
      "execution_count": 178
    },
    {
      "id": "e1d4b152-3a59-4189-9542-e5db9bb96cbd",
      "cell_type": "code",
      "source": "# str.formatmap()\n\n# In Python, the str.format_map() method is used to format strings using a dictionary or a mapping object. \n# Python String format_map() method is an inbuilt function in Python, which is used to return a dictionary key's value.\n\n# It works similarly to str.format(), but instead of passing arguments directly, you provide a mapping (like a dictionary) to substitute placeholders in the string.\n\n'''\nKey Points:\nPlaceholders: The placeholders in the string (e.g., {name}) are replaced with corresponding values from the mapping.\nCustom Mapping: You can define a custom mapping class to handle missing keys gracefully.\nError Handling: If a key is missing in the dictionary and no custom handling is provided, a KeyError will be raised.\nThis method is particularly useful when you already have a dictionary of values to substitute into a string.\n'''\n# Example 1: Using a dictionary\ndata = {'name': 'Arun', 'age': 25}\nformatted_string = \"My name is {name} and I am {age} years old.\".format_map(data)\nprint(formatted_string)\n# Output: My name is Arun and I am 25 years old.\n\n# Example 2: Using a custom mapping class\nclass CustomMapping(dict):\n    def __missing__(self, key):\n        return f\"<{key} not found>\"\n\ndata = CustomMapping(name=\"Priya\")\nformatted_string = \"Hello, {name}! Your age is {age}.\".format_map(data)\nprint(formatted_string)\n# Output: Hello, Priya! Your age is <age not found>.",
      "metadata": {
        "trusted": true
      },
      "outputs": [
        {
          "name": "stdout",
          "output_type": "stream",
          "text": "My name is Arun and I am 25 years old.\nHello, Priya! Your age is <age not found>.\n"
        }
      ],
      "execution_count": 179
    },
    {
      "id": "12296f1c-2345-4b7a-8cb5-73c594c04cb5",
      "cell_type": "code",
      "source": "# In Python, the str.isprintable() method is used to check whether all characters in a string are printable or the string is empty. \n# Printable characters include letters, digits, punctuation, and whitespace, but exclude non-printable characters like control characters (\\n, \\t, etc.).\n# string.isprintable()\n# The isprintable() method returns True if all the characters are printable, otherwise False.\n\n# Returns:\n#True: If all characters in the string are printable or the string is empty.\n# False: If the string contains any non-printable characters.\n\n# This method is particularly useful when validating strings for display purposes or ensuring compatibility with systems that require printable characters only.\n\n# Example 1: All printable characters\ns1 = \"Hello, World!\"\nprint(s1.isprintable())  # Output: True\n\n# Example 2: Contains non-printable characters\ns2 = \"Hello\\nWorld\"\nprint(s2.isprintable())  # Output: False\n\n# Example 3: Empty string\ns3 = \"\"\nprint(s3.isprintable())  # Output: True\n\n# Example 4: String with spaces\ns4 = \"   \"\nprint(s4.isprintable())  # Output: True\n\n# Example 5: String with special characters\ns5 = \"©2025\"\nprint(s5.isprintable())  # Output: True",
      "metadata": {
        "trusted": true
      },
      "outputs": [
        {
          "name": "stdout",
          "output_type": "stream",
          "text": "True\nFalse\nTrue\nTrue\nTrue\n"
        }
      ],
      "execution_count": 180
    },
    {
      "id": "4088c2ec-3dde-40f8-a699-8b082a712c2c",
      "cell_type": "code",
      "source": "# In Python, the str.istitle() method is used to check if a string is in title case. \n# A string is considered to be in title case if each word in the string starts with an uppercase letter followed by lowercase letters. \n# Words are separated by whitespace or other non-alphabetic characters.\n\n# The istitle() method returns True if all words in a text start with a upper case letter, AND the rest of the word are lower case letters, otherwise False.\n# Symbols and numbers are ignored.\n\n# syntax: str.istitle()\n# Returns:\n# True: If the string is in title case.\n# False: Otherwise.\n\n#Notes:\n#Non-alphabetic characters do not affect the result.\n#If the string is empty, istitle() will return False.\n\n# Example 1: Title case string\ntext1 = \"Hello World\"\nprint(text1.istitle())  # Output: True\n\n# Example 2: Not title case\ntext2 = \"hello world\"\nprint(text2.istitle())  # Output: False\n\n# Example 3: Mixed case\ntext3 = \"Hello world\"\nprint(text3.istitle())  # Output: False\n\n# Example 4: Non-alphabetic characters\ntext4 = \"Welcome To Python 3.9!\"\nprint(text4.istitle())  # Output: True\n\n# Example 5: Empty string\ntext5 = \"\"\nprint(text5.istitle())  # Output: False",
      "metadata": {
        "trusted": true
      },
      "outputs": [
        {
          "name": "stdout",
          "output_type": "stream",
          "text": "True\nFalse\nFalse\nTrue\nFalse\n"
        }
      ],
      "execution_count": 181
    },
    {
      "id": "cf0cb63d-8b80-4c25-95f7-0b81eebe6ca2",
      "cell_type": "code",
      "source": "#Check if each word start with an upper case letter:\n\na = \"HELLO, AND WELCOME TO MY WORLD\"\nb = \"Hello\"\nc = \"22 Names\"\nd = \"This Is %'!?\"\n\nprint(a.istitle())\nprint(b.istitle())\nprint(c.istitle())\nprint(d.istitle())",
      "metadata": {
        "trusted": true
      },
      "outputs": [
        {
          "name": "stdout",
          "output_type": "stream",
          "text": "False\nTrue\nTrue\nTrue\n"
        }
      ],
      "execution_count": 182
    },
    {
      "id": "e4eee67e-29cc-435a-a7e4-51ea46e15f6e",
      "cell_type": "code",
      "source": "# str.translate()\n# In Python, the str.translate() method is used to replace or delete characters in a string based on a translation table. \n# This method is often paired with the str.maketrans() function to create the translation table.\n\n# syntax: str.translate(table)\n\n# table: A translation table created using str.maketrans() or a dictionary mapping characters to their replacements.\n\n#The translate() method returns a string where some specified characters are replaced with the character described in a dictionary, or in a mapping table.\n\n# Use the maketrans() method to create a mapping table.\n\n# If a character is not specified in the dictionary/table, the character will not be replaced.\n\n# If you use a dictionary, you must use ascii codes instead of characters.\n\n# Example 1: Replace Characters\n# Create a translation table\ntable = str.maketrans(\"aeiou\", \"12345\")\ntext = \"hello world\"\nresult = text.translate(table)\nprint(result)  # Output: h2ll4 w4rld\n\n#Example 2: Remove Characters\n# Create a translation table with None for characters to remove\ntable = str.maketrans(\"\", \"\", \"aeiou\")\ntext = \"hello world\"\nresult = text.translate(table)\nprint(result)  # Output: hll wrld\n\n#Example 3: Using a Dictionary\n# Direct mapping using a dictionary\ntable = {ord('h'): 'H', ord('w'): 'W'}\ntext = \"hello world\"\nresult = text.translate(table)\nprint(result)  # Output: Hello World\n#The str.translate() method is efficient for character-level transformations and deletions.\n\n#use a dictionary with ascii codes to replace 83 (S) with 80 (P):\nmydict = {83:  80}\ntxt = \"Hello Sam!\"\nprint(txt.translate(mydict))\n\ntxt = \"Hello Sam!\"\nmytable = str.maketrans(\"S\", \"P\")\nprint(txt.translate(mytable))\n",
      "metadata": {
        "trusted": true
      },
      "outputs": [
        {
          "name": "stdout",
          "output_type": "stream",
          "text": "h2ll4 w4rld\nhll wrld\nHello World\nHello Pam!\nHello Pam!\n"
        }
      ],
      "execution_count": 186
    },
    {
      "id": "256709c6-c566-4a2c-8d4b-09c405577ed3",
      "cell_type": "code",
      "source": "# str.maketrans()\n# Create a mapping table, and use it in the translate() method to replace any \"S\" characters with a \"P\" character:\n# The maketrans() method returns a mapping table that can be used with the translate() method to replace specified characters.\ntxt = \"Hello Sam!\"\nmytable = str.maketrans(\"S\", \"P\")\nprint(txt.translate(mytable))",
      "metadata": {
        "trusted": true
      },
      "outputs": [
        {
          "name": "stdout",
          "output_type": "stream",
          "text": "Hello Pam!\n"
        }
      ],
      "execution_count": 187
    },
    {
      "id": "be539256-5d15-41c1-a1e2-27f260e3169f",
      "cell_type": "code",
      "source": "# str.partition()\n\n# The str.partition() method in Python is used to split a string into three parts based on the first occurrence of a specified separator. \n# It returns a tuple containing:\n\n#The part of the string before the separator.\n#The separator itself.\n#The part of the string after the separator.\n#If the separator is not found, the first element will be the entire string, and the other two elements will be empty strings.\n\n# This method is particularly useful when you need to split a string into exactly three parts and handle the separator explicitly.\n\n#The partition() method searches for a specified string, and splits the string into a tuple containing three elements.\n\n#The first element contains the part before the specified string.\n\n#The second element contains the specified string.\n\n#The third element contains the part after the string.\n\n# Note: This method searches for the first occurrence of the specified string.\n\n# synatx: str.partition(separator)\n\n# Example 1: Separator Found\ntext = \"hello-world-python\"\nresult = text.partition(\"-\")\nprint(result)  # Output: ('hello', '-', 'world-python')\n\n# Example 2: Separator Not Found\ntext = \"hello world\"\nresult = text.partition(\"-\")\nprint(result)  # Output: ('hello world', '', '')\n\n# Example 3: Using Partition for Splitting\nurl = \"https://example.com\"\nscheme, sep, rest = url.partition(\"://\")\nprint(scheme)  # Output: 'https'\nprint(sep)     # Output: '://'\nprint(rest)    # Output: 'example.com'\n\n#Search for the word \"bananas\", and return a tuple with three elements:\n\n#1 - everything before the \"match\"\n#2 - the \"match\"\n#3 - everything after the \"match\"\n\ntxt = \"I could eat bananas all day\"\nx = txt.partition(\"bananas\")\nprint(x)\n\n# If the specified value is not found, the partition() method returns a tuple containing: 1 - the whole string, 2 - an empty string, 3 - an empty string:\ntxt = \"I could eat bananas all day\"\nx = txt.partition(\"apples\")\nprint(x)",
      "metadata": {
        "trusted": true,
        "scrolled": true
      },
      "outputs": [
        {
          "name": "stdout",
          "output_type": "stream",
          "text": "('hello', '-', 'world-python')\n('hello world', '', '')\nhttps\n://\nexample.com\n('I could eat ', 'bananas', ' all day')\n('I could eat bananas all day', '', '')\n"
        }
      ],
      "execution_count": 189
    },
    {
      "id": "72d292ac-6e3a-478e-b48d-f92e2b9e7750",
      "cell_type": "code",
      "source": "# str.rparition()\n\n#Search for the last occurrence of the word \"bananas\", and return a tuple with three elements:\n\n#1 - everything before the \"match\"\n#2 - the \"match\"\n#3 - everything after the \"match\"\n\n#The rpartition() method searches for the last occurrence of a specified string, and splits the string into a tuple containing three elements.\n\n#The first element contains the part before the specified string.\n\n#The second element contains the specified string.\n\n#The third element contains the part after the string.\n\n# In Python, the str.rpartition() method splits a string into three parts based on the last occurrence of a specified separator. \n# It returns a tuple containing three elements: the part before the separator, the separator itself, and the part after the separator.\n\n# syntax:str.rpartition(separator)\n# separator: The string to search for. It must be a single string, not empty.\n\n#Key Points:\n#If the separator is found, the tuple will contain (before_separator, separator, after_separator).\n#If the separator is not found, the tuple will contain ('', '', original_string).\n\ntxt = \"I could eat bananas all day, bananas are my favorite fruit\"\nx = txt.rpartition(\"bananas\")\nprint(x)\n\n# If the specified value is not found, the rpartition() method returns a tuple containing: 1 - an empty string, 2 - an empty string, 3 - the whole string:\ntxt = \"I could eat bananas all day, bananas are my favorite fruit\"\nx = txt.rpartition(\"apples\")\nprint(x)\n\n#Example 1: Separator Found\ntext = \"apple-banana-cherry\"\nresult = text.rpartition(\"-\")\nprint(result)  # Output: ('apple-banana', '-', 'cherry')\n\n#Example 2: Separator not Found\ntext = \"apple banana cherry\"\nresult = text.rpartition(\"-\")\nprint(result)  # Output: ('', '', 'apple banana cherry')\n\n#Example 1: Edge case with empty string\ntext = \"\"\nresult = text.rpartition(\"-\")\nprint(result)  # Output: ('', '', '')\n# This method is particularly useful when you want to split a string starting from the end rather than the beginning.",
      "metadata": {
        "trusted": true
      },
      "outputs": [
        {
          "name": "stdout",
          "output_type": "stream",
          "text": "('I could eat bananas all day, ', 'bananas', ' are my favorite fruit')\n('', '', 'I could eat bananas all day, bananas are my favorite fruit')\n('apple-banana', '-', 'cherry')\n('', '', 'apple banana cherry')\n('', '', '')\n"
        }
      ],
      "execution_count": 192
    },
    {
      "id": "bfa2fa79-fc9b-4c29-83a3-e2299af77879",
      "cell_type": "code",
      "source": "#str.splitlines()\n\n#python str.splitlines()\n# In Python, the str.splitlines() method is used to split a string into a list of lines. \n# It breaks the string at line boundaries, such as \\n, \\r, or \\r\\n. \n# By default, it removes the line break characters, but you can retain them by passing True as an argument.\n\n# syntax:\n# str.splitlines(keepends=False)\n# string.splitlines(keeplinebreaks)\n# The splitlines() method splits a string into a list. The splitting is done at line breaks.\n# keepends: A boolean value. If True, line break characters are included in the resulting list. Default is False.\n# keeplinebreaks - Optional. Specifies if the line breaks should be included (True), or not (False). Default value is False\n# it works for multiline or single line with \\n, \\r or or \\r\\n.\n\ntext = \"Hello\\nWorld\\nPython\"\nlines = text.splitlines(keepends=False)\nprint(lines)\n\n# Since keepends=False, the line break characters (\\n) are removed from the resulting list. \n# If you want to include the line breaks, you can set keepends=True.\n\ntxt = \"Thank you for the music\\nWelcome to the jungle\"\n# Split a string into a list where each line is a list item:\nx = txt.splitlines()\nprint(x)\n\n# Split the string, but keep the line breaks\ntxt = \"Thank you for the music\\nWelcome to the jungle\"\nx = txt.splitlines(True)\nprint(x)",
      "metadata": {
        "trusted": true
      },
      "outputs": [
        {
          "name": "stdout",
          "output_type": "stream",
          "text": "['Hello', 'World', 'Python']\n['Thank you for the music', 'Welcome to the jungle']\n['Thank you for the music\\n', 'Welcome to the jungle']\n"
        }
      ],
      "execution_count": 194
    },
    {
      "id": "73f372e6-a8a6-4be9-a351-2030ca6ca3c2",
      "cell_type": "code",
      "source": "# str.rindex()\n\n# str.rindex(sub[, start[, end]])\n# sub: The substring to search for.\n#start (optional): The starting index for the search.\n# end (optional): The ending index for the search.\n\n#The rindex() method finds the last occurrence of the specified value.\n\n#The rindex() method raises an exception if the value is not found.\n\n#The rindex() method is almost the same as the rfind() method. See example below.\n\n#The rindex() method in Python is used to find the highest (rightmost) index of a specified substring within a string. \n# If the substring is not found, it raises a ValueError. \n# It is similar to rfind(), but while rfind() returns -1 if the substring is not found, rindex() raises an error.\n\ntext = \"hello world, hello universe\"\nindex = text.rindex(\"hello\")\nprint(index)  # Output: 13 (rightmost occurrence of \"hello\")\n\n# Example 2: Using start and end\ntext = \"hello world, hello universe\"\nindex = text.rindex(\"hello\", 0, 12)\nprint(index)  # Output: 0 (search is limited to the first 12 characters)\n\n# Example 3: Handling Errors\ntext = \"hello world\"\ntry:\n    index = text.rindex(\"Python\")\nexcept ValueError:\n    print(\"Substring not found!\")  # Output: Substring not found!\n\n# This method is useful when you need the last occurrence of a substring and want to ensure it exists in the string.\n\ntxt = \"Hello, welcome to my world.\"\nx = txt.rindex(\"e\")\nprint(x)\n\ntxt = \"Hello, welcome to my world.\"\nx = txt.rindex(\"e\", 5, 10)\nprint(x)\n\ntxt = \"Hello, welcome to my world.\"\n\n#If the value is not found, the rfind() method returns -1, but the rindex() method will raise an exception:\nprint(txt.rfind(\"q\"))\nprint(txt.rindex(\"q\"))",
      "metadata": {
        "trusted": true
      },
      "outputs": [
        {
          "name": "stdout",
          "output_type": "stream",
          "text": "13\n0\nSubstring not found!\n13\n8\n-1\n"
        },
        {
          "ename": "<class 'ValueError'>",
          "evalue": "substring not found",
          "traceback": [
            "\u001b[0;31m---------------------------------------------------------------------------\u001b[0m",
            "\u001b[0;31mValueError\u001b[0m                                Traceback (most recent call last)",
            "Cell \u001b[0;32mIn[200], line 48\u001b[0m\n\u001b[1;32m     46\u001b[0m \u001b[38;5;66;03m#If the value is not found, the rfind() method returns -1, but the rindex() method will raise an exception:\u001b[39;00m\n\u001b[1;32m     47\u001b[0m \u001b[38;5;28mprint\u001b[39m(txt\u001b[38;5;241m.\u001b[39mrfind(\u001b[38;5;124m\"\u001b[39m\u001b[38;5;124mq\u001b[39m\u001b[38;5;124m\"\u001b[39m))\n\u001b[0;32m---> 48\u001b[0m \u001b[38;5;28mprint\u001b[39m(\u001b[43mtxt\u001b[49m\u001b[38;5;241;43m.\u001b[39;49m\u001b[43mrindex\u001b[49m\u001b[43m(\u001b[49m\u001b[38;5;124;43m\"\u001b[39;49m\u001b[38;5;124;43mq\u001b[39;49m\u001b[38;5;124;43m\"\u001b[39;49m\u001b[43m)\u001b[49m)\n",
            "\u001b[0;31mValueError\u001b[0m: substring not found"
          ],
          "output_type": "error"
        }
      ],
      "execution_count": 200
    },
    {
      "id": "8c2cd2e0-ebb1-4231-98cd-9460c1c448ea",
      "cell_type": "code",
      "source": "#  'zfill']\n# str.rfind()\n\n#The rfind() method finds the last occurrence of the specified value.\n\n#The rfind() method returns -1 if the value is not found.\n\n#The rfind() method is almost the same as the rindex() method. See example below.\n\n# synatx: string.rfind(value, start, end)\n# Where in the text is the last occurrence of the letter \"e\"?:\ntxt = \"Hello, welcome to my world.\"\nx = txt.rfind(\"e\")\nprint(x)\n\n# Where in the text is the last occurrence of the letter \"e\" when you only search between position 5 and 10?:\ntxt = \"Hello, welcome to my world.\"\nx = txt.rfind(\"e\", 5, 10)\nprint(x)\n\n# If the value is not found, the rfind() method returns -1, but the rindex() method will raise an exception:\ntxt = \"Hello, welcome to my world.\"\nprint(txt.rfind(\"q\"))\nprint(txt.rindex(\"q\"))",
      "metadata": {
        "trusted": true
      },
      "outputs": [
        {
          "name": "stdout",
          "output_type": "stream",
          "text": "13\n8\n-1\n"
        },
        {
          "ename": "<class 'ValueError'>",
          "evalue": "substring not found",
          "traceback": [
            "\u001b[0;31m---------------------------------------------------------------------------\u001b[0m",
            "\u001b[0;31mValueError\u001b[0m                                Traceback (most recent call last)",
            "Cell \u001b[0;32mIn[206], line 24\u001b[0m\n\u001b[1;32m     22\u001b[0m txt \u001b[38;5;241m=\u001b[39m \u001b[38;5;124m\"\u001b[39m\u001b[38;5;124mHello, welcome to my world.\u001b[39m\u001b[38;5;124m\"\u001b[39m\n\u001b[1;32m     23\u001b[0m \u001b[38;5;28mprint\u001b[39m(txt\u001b[38;5;241m.\u001b[39mrfind(\u001b[38;5;124m\"\u001b[39m\u001b[38;5;124mq\u001b[39m\u001b[38;5;124m\"\u001b[39m))\n\u001b[0;32m---> 24\u001b[0m \u001b[38;5;28mprint\u001b[39m(\u001b[43mtxt\u001b[49m\u001b[38;5;241;43m.\u001b[39;49m\u001b[43mrindex\u001b[49m\u001b[43m(\u001b[49m\u001b[38;5;124;43m\"\u001b[39;49m\u001b[38;5;124;43mq\u001b[39;49m\u001b[38;5;124;43m\"\u001b[39;49m\u001b[43m)\u001b[49m)\n",
            "\u001b[0;31mValueError\u001b[0m: substring not found"
          ],
          "output_type": "error"
        }
      ],
      "execution_count": 206
    },
    {
      "id": "fdefc05d-4856-4615-9858-a07a41a71305",
      "cell_type": "code",
      "source": "# str.zfill()\n\n#The zfill() method in Python is a string method that pads a string with zeros (0) on the left, ensuring the resulting string reaches a specified width. \n# If the string is already longer than or equal to the specified width, it remains unchanged.\n\n# Description: The zfill() method adds zeros (0) at the beginning of the string, until it reaches the specified length.\n# If the value of the len parameter is less than the length of the string, no filling is done.\n\n# syntax: str.zfill(width)\n\n#Key Points:\n#If the string has a sign (+ or -), the zeros are added after the sign.\n#If the string is already equal to or longer than the specified width, no padding occurs.\n\n# Example 1: Basic usage\ns = \"42\"\nprint(s.zfill(5))  # Output: \"00042\"\n\n# Example 2: String with a negative sign\ns = \"-42\"\nprint(s.zfill(5))  # Output: \"-0042\"\n\n# Example 3: String longer than the specified width\ns = \"hello\"\nprint(s.zfill(3))  # Output: \"hello\"\n\n# Example 4: Zero-padding for numeric strings\ns = \"7\"\nprint(s.zfill(4))  # Output: \"0007\"\n\n# This method is particularly useful for formatting numbers or strings to a fixed width, such as when working with IDs, timestamps, or other zero-padded data.\n# Fill the strings with zeros until they are 10 characters long:\na = \"hello\"\nb = \"welcome to the jungle\"\nc = \"10.000\"\n\nprint(a.zfill(10))\nprint(b.zfill(10))\nprint(c.zfill(10))",
      "metadata": {
        "trusted": true
      },
      "outputs": [
        {
          "name": "stdout",
          "output_type": "stream",
          "text": "00042\n-0042\nhello\n0007\n00000hello\nwelcome to the jungle\n000010.000\n"
        }
      ],
      "execution_count": 208
    },
    {
      "id": "da46c850-05ab-4cb7-a99b-0bfef2d9249f",
      "cell_type": "code",
      "source": "",
      "metadata": {
        "trusted": true
      },
      "outputs": [],
      "execution_count": null
    }
  ]
}