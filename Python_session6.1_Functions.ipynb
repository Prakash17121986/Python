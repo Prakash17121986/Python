{
  "metadata": {
    "kernelspec": {
      "name": "python",
      "display_name": "Python (Pyodide)",
      "language": "python"
    },
    "language_info": {
      "codemirror_mode": {
        "name": "python",
        "version": 3
      },
      "file_extension": ".py",
      "mimetype": "text/x-python",
      "name": "python",
      "nbconvert_exporter": "python",
      "pygments_lexer": "ipython3",
      "version": "3.8"
    }
  },
  "nbformat_minor": 5,
  "nbformat": 4,
  "cells": [
    {
      "id": "4eea94ac-e7fb-4eb3-9599-01163c12a547",
      "cell_type": "code",
      "source": "# Functions\ndef hello():\n    print(\"blah blab\")\n    for i in range(20):\n        print(\"hello world\")\n    print(\"blah blab\")\n\n\nhello() # Function code for re-use, Function is a block of code, No need to repeat the code multiple times, re-use using function call, \n# Function definition using def keyword\n# Function definition def followed by function name \n'''\ndef add(a,b):\n    return a + b\n'''\n# Function Parameter ( a, b are variables, arguments is nothing values for variables a=10, b=20)\n# Function logic code - input from user, for loop, while loop, if-elif-else statements, list comphrehension, map, reduce, filter, lambda, expression, function call, recursion\n# After validation, print the output, None, Return value\n# Function return keyword to return the values\n\n",
      "metadata": {
        "trusted": true
      },
      "outputs": [
        {
          "name": "stdout",
          "output_type": "stream",
          "text": "blah blab\nhello world\nhello world\nhello world\nhello world\nhello world\nhello world\nhello world\nhello world\nhello world\nhello world\nhello world\nhello world\nhello world\nhello world\nhello world\nhello world\nhello world\nhello world\nhello world\nhello world\nblah blab\n"
        }
      ],
      "execution_count": 1
    },
    {
      "id": "0406a55a-7bec-4512-a6dd-c2010df11c94",
      "cell_type": "code",
      "source": "hello()",
      "metadata": {
        "trusted": true
      },
      "outputs": [
        {
          "name": "stdout",
          "output_type": "stream",
          "text": "blah blab\nhello world\nhello world\nhello world\nhello world\nhello world\nhello world\nhello world\nhello world\nhello world\nhello world\nhello world\nhello world\nhello world\nhello world\nhello world\nhello world\nhello world\nhello world\nhello world\nhello world\nblah blab\n"
        }
      ],
      "execution_count": 2
    },
    {
      "id": "1781d1d0-f397-40ed-ac96-a7c052c3b562",
      "cell_type": "code",
      "source": "def greet():\n    name = input(\"Enter your name\")\n    print(\"Good morning\", name)\n\ngreet()",
      "metadata": {
        "trusted": true
      },
      "outputs": [
        {
          "output_type": "stream",
          "name": "stdin",
          "text": "Enter your name Anamika\n"
        },
        {
          "name": "stdout",
          "output_type": "stream",
          "text": "Good morning Anamika\n"
        }
      ],
      "execution_count": 3
    },
    {
      "id": "e87b0a91-60e6-4b12-b22d-e3ae2b185459",
      "cell_type": "code",
      "source": "# void function -> Not return any value.,without arguments\n# Non void function -> It return value\ndef add(a,b):\n    return a + b\n\noutput = add(10,20)\nprint(output)",
      "metadata": {
        "trusted": true
      },
      "outputs": [
        {
          "name": "stdout",
          "output_type": "stream",
          "text": "30\n"
        }
      ],
      "execution_count": 4
    },
    {
      "id": "de01cb47-8289-4ea6-83a7-318abc41cc24",
      "cell_type": "code",
      "source": "# void function -> Not return any value\ndef add(a,b):\n    print(a + b)\n\noutput = add(10,20)\nprint(output)\n",
      "metadata": {
        "trusted": true
      },
      "outputs": [
        {
          "name": "stdout",
          "output_type": "stream",
          "text": "30\nNone\n"
        }
      ],
      "execution_count": 5
    },
    {
      "id": "69dd8c1a-73e6-4a0d-b0a5-7223d2f7eba2",
      "cell_type": "code",
      "source": "# void function -> Not return any value, without arguments\ndef add():\n    # user input for integers for add operation, we can't ask every time user to provide input\n    # we can make use of function parameters a, b\n    #a = input(\"Enter a number\")\n    #b = input(\"Enter a number\")\n    # user has to provide the same input or different input to proceed the add operation\n    # input: a, b\n    # values: 10, 20\n    # expression: a +b\n    # output: 30\n    # print the output \n    print(a + b)\n    \noutput = add(10,20)\nprint(output)",
      "metadata": {
        "trusted": true
      },
      "outputs": [],
      "execution_count": null
    },
    {
      "id": "174fe842-0a17-48f1-ace5-08f132165036",
      "cell_type": "code",
      "source": "# Non void function with or without arguments\n# user input for integers for add operation, we can't ask every time user to provide input\n    # we can make use of function parameters a, b\n    #a = input(\"Enter a number\")\n    #b = input(\"Enter a number\")\n    # user has to provide the same input or different input to proceed the add operation\n    # input: a, b\n    # No of arguments in function definition and function call should match\n    # values: 10, 20\n    # expression: a +b\n    # output: 30\n    # return the output \n\ndef add(a, b): # Function Parameters\n    return a + b\n\ndef subract(a, b): # Function Parameters\n    return a - b\n\ndef multiply(a, b): # Function Parameters\n    return a * b\n\ndef division(a, b): # Function Parameters\n    return a / b\n    \na = add(10,20) # 10, 20 are Function Arguments, add() is function call, a=10,b=20 are function arguments\nb = subract(20,10) # 20, 10 are Function Arguments, add() is function call, a=10,b=20 are function arguments\nc = multiply(10,20) # 10, 20 are Function Arguments, add() is function call, a=10,b=20 are function arguments\nd = division(20,10) # 20, 10 are Function Arguments, add() is function call, a=10,b=20 are function arguments\n\nprint(\"add:\", a)\nprint(\"subract:\", b)\nprint(\"multiplication:\", c)\nprint(\"Division:\", d)\n\n",
      "metadata": {
        "trusted": true
      },
      "outputs": [
        {
          "name": "stdout",
          "output_type": "stream",
          "text": "add: 30\nsubract: 10\nmultiplication: 200\nDivision: 2.0\n"
        }
      ],
      "execution_count": 12
    },
    {
      "id": "42b70606-93b5-48b7-8a90-c7c136ac075f",
      "cell_type": "code",
      "source": "# Arguments vs Parameters\n\n#  ------------------------------------\n# keyword argument or named argument\n#  ------------------------------------\n\ndef area_of_rectangle(length, width): # paramters\n    #Document string\n    \"\"\"\n    This function calculates the area of the rectangle\n    \"\"\"\n    area = length * width\n    return area\n\n#rectangle_Area = area_of_rectangle(length, width) #Arguments - length=5, width=3 \n    \nrectangle_Area = area_of_rectangle(5, 3)\nprint(rectangle_Area)\n    ",
      "metadata": {
        "trusted": true
      },
      "outputs": [
        {
          "name": "stdout",
          "output_type": "stream",
          "text": "15\n"
        }
      ],
      "execution_count": 14
    },
    {
      "id": "935f07c0-1da2-40f3-842c-a3407c132553",
      "cell_type": "code",
      "source": "# Arguments vs Parameters\n\n#  ------------------------------------\n#  first one is keyword argument or named argument, last one is default argument\n#  ------------------------------------\n\ndef area_of_rectangle(length, width=10): # paramters\n    #Document string\n    \"\"\"\n    This function calculates the area of the rectangle\n    \"\"\"\n    area = length * width\n    return area\n\n#rectangle_Area = area_of_rectangle(length, width) #Arguments - length=5, width=3 \n    \nrectangle_Area = area_of_rectangle(5)\nprint(rectangle_Area)\n    ",
      "metadata": {
        "trusted": true
      },
      "outputs": [
        {
          "name": "stdout",
          "output_type": "stream",
          "text": "50\n"
        }
      ],
      "execution_count": 25
    },
    {
      "id": "9a1cabe6-3e1c-4e59-ba78-aa1b69162b69",
      "cell_type": "code",
      "source": "# Different types of arguments\n# 1. default argument\n# 2. Keyword argument\n# 3. Positional argument\n# 4. Variable length argument\n# 5. Variable length keyword argument\n\n#  ------------------------------------\n# keyword argument or named argument\n# All are keyword argument; a=10, length=5, b=20,  width=3\n#  ------------------------------------\n\n# Arguments vs Parameters\ndef area_of_rectangle(length, width, a, b): # paramters\n    #Document string\n    \"\"\"\n    This function calculates the area of the rectangle\n    \"\"\"\n    area = length * width\n    return area\n\n#rectangle_Area = area_of_rectangle(length, width) #Arguments \n    \nrectangle_Area = area_of_rectangle(a=10, length=5, b=20,  width=3) # a, b length, width is not ordered - it maps the  argument value to variable name \n# keyword argument or named argument\nprint(rectangle_Area)",
      "metadata": {
        "trusted": true
      },
      "outputs": [
        {
          "name": "stdout",
          "output_type": "stream",
          "text": "15\n"
        }
      ],
      "execution_count": 15
    },
    {
      "id": "27cce8e3-eb40-4281-88a0-c35485806c42",
      "cell_type": "code",
      "source": "# Arguments vs Parameters\n\n#  ------------------------------------\n#  Postional argument first and second\n#  ------------------------------------\n\ndef area_of_rectangle(length, width): # paramters\n    #Document string\n    \"\"\"\n    This function calculates the area of the rectangle\n    \"\"\"\n    area = length * width\n    return area\n\n#rectangle_Area = area_of_rectangle(length, width) #Arguments \n \n#rectangle_Area = area_of_rectangle(5) # TypeError: area_of_rectangle() missing 1 required positional argument: 'width'\n# TypeError: area_of_rectangle() missing 1 required positional argument: 'width'\nrectangle_Area = area_of_rectangle(5, 3) # a, b length, width is not ordered - it maps the  argument value to variable name \n# keyword argument or named argument\nprint(rectangle_Area)",
      "metadata": {
        "trusted": true
      },
      "outputs": [
        {
          "name": "stdout",
          "output_type": "stream",
          "text": "15\n"
        }
      ],
      "execution_count": 18
    },
    {
      "id": "e1823fdf-2a55-4d91-8d58-7f66ef65afe1",
      "cell_type": "code",
      "source": "# Arguments vs Parameters\n\n#  ------------------------------------\n#   Positional argument first, second, \n#   last one is default argument \n#  ------------------------------------\n\n\ndef area_of_rectangle(length, a, width=1): # paramters\n    #Document string\n    \"\"\"\n    This function calculates the area of the rectangle\n    \"\"\"\n    area = length * width\n    return area\n\n#rectangle_Area = area_of_rectangle(length, width) #Arguments \n \n#rectangle_Area = area_of_rectangle(5) # TypeError: area_of_rectangle() missing 1 required positional argument: 'width'\n# TypeError: area_of_rectangle() missing 1 required positional argument: 'width'\n\n# rectangle_Area = area_of_rectangle(5) # a, b length, width is not ordered - it maps the  argument value to variable name \n# TypeError: area_of_rectangle() missing 1 required positional argument: 'a'\n\n# rectangle_Area = area_of_rectangle(5,width=10, 10) # a, b length, width is not ordered - it maps the  argument value to variable name \n# SyntaxError: positional argument follows keyword argument\n\n# positional argument and default argument\nrectangle_Area = area_of_rectangle(5,10)\nprint(rectangle_Area)\nectangle_Area = area_of_rectangle(5,10,width=10)\nprint(rectangle_Area)",
      "metadata": {
        "trusted": true
      },
      "outputs": [
        {
          "name": "stdout",
          "output_type": "stream",
          "text": "5\n5\n"
        }
      ],
      "execution_count": 23
    },
    {
      "id": "382f63c8-437e-4724-95d6-f9f3fbf39d4f",
      "cell_type": "code",
      "source": "def greet(name, message=\"hello\"):\n    \"\"\"Greets, someone with a message\"\"\"\n    print(message, name + \"!\")\n\ngreet(\"Python\")",
      "metadata": {
        "trusted": true
      },
      "outputs": [
        {
          "name": "stdout",
          "output_type": "stream",
          "text": "hello Python!\n"
        }
      ],
      "execution_count": 24
    },
    {
      "id": "ddefe2a7-a24d-42b6-81e4-b2e78ae53f23",
      "cell_type": "code",
      "source": "# scope of a variable\ndef add():\n    # Function inside variable \n    # local scope - variable accessed inside function only, can access outside variable also if it is same name or global scope\n    # variable scope is inside\n    # \n    num1 = 7\n    num2 = 12\n    return num1 + num2\n\n# outside\nnum1 = 20\nnum2 = 30\n\nprint(num1+num2)\nprint(add())\n",
      "metadata": {
        "trusted": true
      },
      "outputs": [
        {
          "name": "stdout",
          "output_type": "stream",
          "text": "50\n19\n"
        }
      ],
      "execution_count": 46
    },
    {
      "id": "473b6ea5-1067-446d-a2ed-6cabc5d2343e",
      "cell_type": "code",
      "source": "# scope of a variable - Global scope and local scope\ndef add():\n    # Function inside variable \n    # local scope - variable accessed inside function only, can access outside variable also if it is same name or global scope\n    # variable scope is inside\n\n    global num1\n    # declaring num1 value globally to modify inside this function\n    num1+=5\n    # modifying the global variable num1 value 20 to 25\n    return num1 + num2\n\nprint(add())\n\n# outside - num1 value 20\n\nnum1 = 100\nnum2 = 10\nprint(num1+num2)\n\n\n\n",
      "metadata": {
        "trusted": true
      },
      "outputs": [
        {
          "name": "stdout",
          "output_type": "stream",
          "text": "115\n110\n"
        }
      ],
      "execution_count": 59
    },
    {
      "id": "1167165d-ebf3-4120-99ed-2fd4db778f25",
      "cell_type": "code",
      "source": "# outside of a function \n# \np = 10\n# variable scope outside declared - we can access variable outside only\nprint(p+q) # variable q is not declared in inside or outside of the scope - # NameError: name 'q' is not defined",
      "metadata": {
        "trusted": true
      },
      "outputs": [
        {
          "ename": "<class 'NameError'>",
          "evalue": "name 'q' is not defined",
          "traceback": [
            "\u001b[0;31m---------------------------------------------------------------------------\u001b[0m",
            "\u001b[0;31mNameError\u001b[0m                                 Traceback (most recent call last)",
            "Cell \u001b[0;32mIn[60], line 5\u001b[0m\n\u001b[1;32m      3\u001b[0m p \u001b[38;5;241m=\u001b[39m \u001b[38;5;241m10\u001b[39m\n\u001b[1;32m      4\u001b[0m \u001b[38;5;66;03m# variable scope outside declared - we can access variable outside only\u001b[39;00m\n\u001b[0;32m----> 5\u001b[0m \u001b[38;5;28mprint\u001b[39m(p\u001b[38;5;241m+\u001b[39m\u001b[43mq\u001b[49m) \u001b[38;5;66;03m# variable q is not declared in inside or outside of the scope - # NameError: name 'q' is not defined\u001b[39;00m\n",
            "\u001b[0;31mNameError\u001b[0m: name 'q' is not defined"
          ],
          "output_type": "error"
        }
      ],
      "execution_count": 60
    },
    {
      "id": "cb7d0c89-31e5-4d18-b022-dcd410494736",
      "cell_type": "code",
      "source": "x = 10\ndef change_x():\n    x = 10\n\nchange_x()\nprint(x) # what will be printed ?",
      "metadata": {
        "trusted": true
      },
      "outputs": [
        {
          "name": "stdout",
          "output_type": "stream",
          "text": "10\n"
        }
      ],
      "execution_count": 62
    },
    {
      "id": "3bcf1ce2-2b66-4865-80d5-52a28f098b1e",
      "cell_type": "code",
      "source": "# Recursion Function\ndef factorial(n):\n    if n == 0 or n ==1:\n        return 1\n    else:\n        return n * factorial(n-1)\n        \n# 5 * 4 * 3 * 2 * 1 \n# 5 - 1 = 4 , n * factorial(5-1) = 5 * 4 = 20\n# 4 - 1 = 3, n * factorial(4-1) = 20 * 3 = 60\n# 3 - 1 = 2, n * factorial(3-1) = 60 * 2 = 120\n# 2 - 1 = 1, n * factorial(2-1) \n# 1- 0  = 0, n * factorial(1-1) \n# 20 * 15 * 10 * 5 = \n\n# 5 * 4 *3 * 2 * 1\n\nfactorial(5)\n# basecase - When it has to complete\n# recursive case - when it has to call on what basis\n\n#RecursionError: maximum recursion depth exceeded",
      "metadata": {
        "trusted": true
      },
      "outputs": [
        {
          "execution_count": 66,
          "output_type": "execute_result",
          "data": {
            "text/plain": "120"
          },
          "metadata": {}
        }
      ],
      "execution_count": 66
    },
    {
      "id": "9ad12271-95f0-4ac5-9d59-e4056b178ad7",
      "cell_type": "code",
      "source": "# from module name filename of testscript.py  #import function name or class name as f (alias name)\n# from package.module name filename of testscript.py  import function name or class name as f (alias name)\n# from package import module name of testscript.py  #import function name or class name as f (alias name)",
      "metadata": {
        "trusted": true
      },
      "outputs": [],
      "execution_count": 69
    },
    {
      "id": "0d7ef7e5-db85-4559-8e3d-de62aa17cf99",
      "cell_type": "code",
      "source": "text = [\"apple\", \"orange\", \"watermelon\", \"kiwi\"]\n# without indexing\nfor item in text:\n    print(item)",
      "metadata": {
        "trusted": true
      },
      "outputs": [
        {
          "name": "stdout",
          "output_type": "stream",
          "text": "apple\norange\nwatermelon\nkiwi\n"
        }
      ],
      "execution_count": 73
    },
    {
      "id": "a1e541c5-3072-41b9-90a2-c01bfbc659f5",
      "cell_type": "code",
      "source": "text = [\"apple\", \"orange\", \"watermelon\", \"kiwi\"]\n# with indexing\nfor item in range(len(text)):\n    print(text[item])",
      "metadata": {
        "trusted": true
      },
      "outputs": [
        {
          "name": "stdout",
          "output_type": "stream",
          "text": "apple\norange\nwatermelon\nkiwi\n"
        }
      ],
      "execution_count": 71
    },
    {
      "id": "a76e0991-b315-4720-82ab-f5cb6503afd2",
      "cell_type": "code",
      "source": "text = [\"apple\", \"orange\", \"watermelon\", \"kiwi\"]\n\n# without indexing\nfor item in text:\n    if item == \"kiwi\":\n        text.remove(item)\n        \nprint(text)\n    ",
      "metadata": {
        "trusted": true
      },
      "outputs": [
        {
          "name": "stdout",
          "output_type": "stream",
          "text": "['apple', 'orange', 'watermelon']\n"
        }
      ],
      "execution_count": 104
    },
    {
      "id": "3e810522-a6de-48ab-ab37-ad00da773a40",
      "cell_type": "code",
      "source": "text = [\"apple\", \"orange\", \"watermelon\", \"kiwi\"]\nunique = []\n# with indexing\nfor item in range(len(text)):\n    for value in text: \n        pass\n    print(text[item])\n",
      "metadata": {
        "trusted": true
      },
      "outputs": [
        {
          "name": "stdout",
          "output_type": "stream",
          "text": "apple\norange\nwatermelon\nkiwi\n"
        }
      ],
      "execution_count": 85
    },
    {
      "id": "ac98ab6d-ce6b-4eb5-b5e3-f8da275b5028",
      "cell_type": "code",
      "source": "text = ['a', 'bc', 'abc', 'abcd', \"apple\", \"orange\", \"watermelon\", \"kiwi\"]\n# with indexing\nfor item in range(len(text)):\n    if len(text[item]) >=4: # string value equal or more than 4 character\n        print(text[item])",
      "metadata": {
        "trusted": true
      },
      "outputs": [
        {
          "name": "stdout",
          "output_type": "stream",
          "text": "abcd\napple\norange\nwatermelon\nkiwi\n"
        }
      ],
      "execution_count": 116
    },
    {
      "id": "59696b3b-425d-47e7-8ced-6c58e5e5b406",
      "cell_type": "code",
      "source": "text = [\"apple\", \"orange\", \"watermelon\", \"kiwi\"]\n# with indexing\nfor item in range(len(text)):\n    for value in text: \n        if value == 'apple':\n            pass\n        \n    print(text[item])",
      "metadata": {
        "trusted": true
      },
      "outputs": [
        {
          "name": "stdout",
          "output_type": "stream",
          "text": "apple\norange\nwatermelon\nkiwi\n"
        }
      ],
      "execution_count": 93
    },
    {
      "id": "b2953e71-32eb-41ae-960a-43a6c56cbba7",
      "cell_type": "code",
      "source": "text = ['a', 'bc', 'abc', 'abcd', \"apple\", \"orange\", \"watermelon\", \"kiwi\"]\n# with indexing\nfor item in range(len(text)):\n    if len(text[item]) <=4: # string value equal or less than 4 character\n        print(text[item])",
      "metadata": {
        "trusted": true
      },
      "outputs": [
        {
          "name": "stdout",
          "output_type": "stream",
          "text": "a\nbc\nabc\nabcd\nkiwi\n"
        }
      ],
      "execution_count": 117
    },
    {
      "id": "81b8494d-29e8-43f2-9d48-fc9e9fc55851",
      "cell_type": "code",
      "source": "text1 = ['Hi', 'How']\ntext2 = ['are', 'you']\nprint(text1 + text2)",
      "metadata": {
        "trusted": true
      },
      "outputs": [
        {
          "name": "stdout",
          "output_type": "stream",
          "text": "['Hi', 'How', 'are', 'you']\n"
        }
      ],
      "execution_count": 119
    },
    {
      "id": "29442d54-4c3a-4f86-a0e8-bc5a1f4cea3a",
      "cell_type": "code",
      "source": "text1 = \"hello\"\nprint(text1*20)",
      "metadata": {
        "trusted": true
      },
      "outputs": [
        {
          "name": "stdout",
          "output_type": "stream",
          "text": "hellohellohellohellohellohellohellohellohellohellohellohellohellohellohellohellohellohellohellohello\n"
        }
      ],
      "execution_count": 121
    },
    {
      "id": "1a26adae-c3df-4532-be42-e2861f5c7475",
      "cell_type": "code",
      "source": "fruits = [\"apple\", \"banana\", \"cherry\"]\nfor x in fruits:\n  print(x)\n  if x == \"banana\": \n    break # With the break statement we can stop the loop before it has looped through all the items",
      "metadata": {
        "trusted": true
      },
      "outputs": [
        {
          "name": "stdout",
          "output_type": "stream",
          "text": "apple\nbanana\n"
        }
      ],
      "execution_count": 122
    },
    {
      "id": "8e743387-6790-45b8-8aa7-806629e2cdbf",
      "cell_type": "code",
      "source": "# Exit the loop when x is \"banana\", but this time the break comes before the print:\n\nfruits = [\"apple\", \"banana\", \"cherry\"]\nfor x in fruits:\n  if x == \"banana\":\n    break\n  print(x)",
      "metadata": {
        "trusted": true
      },
      "outputs": [
        {
          "name": "stdout",
          "output_type": "stream",
          "text": "apple\n"
        }
      ],
      "execution_count": 123
    },
    {
      "id": "37e589d5-1913-409d-8077-69eaebf9cdfc",
      "cell_type": "code",
      "source": "# With the continue statement we can stop the current iteration of the loop, and continue with the next:\nfruits = [\"apple\", \"banana\", \"cherry\"]\nfor x in fruits:\n  if x == \"banana\":\n    continue\n  print(x)",
      "metadata": {
        "trusted": true
      },
      "outputs": [
        {
          "name": "stdout",
          "output_type": "stream",
          "text": "apple\ncherry\n"
        }
      ],
      "execution_count": 124
    },
    {
      "id": "44017a52-a643-4961-a4bf-087bd8dcef76",
      "cell_type": "code",
      "source": "# for loop - pass, break, continue, iterate a loop without indexing, iterate a loop with indexing\n# for loop - conditional statements\n# for loop - operator statements\na = 2\na >> 1\nprint(a)",
      "metadata": {
        "trusted": true
      },
      "outputs": [
        {
          "name": "stdout",
          "output_type": "stream",
          "text": "2\n"
        }
      ],
      "execution_count": 126
    },
    {
      "id": "ea38155e-409a-4a57-8c68-84eaaa15195d",
      "cell_type": "code",
      "source": "a << 1\nprint(a)",
      "metadata": {
        "trusted": true
      },
      "outputs": [
        {
          "name": "stdout",
          "output_type": "stream",
          "text": "2\n"
        }
      ],
      "execution_count": 127
    },
    {
      "id": "213ecd02-46be-48fc-91dc-66a3539d5c3f",
      "cell_type": "code",
      "source": "a = 2\n>> a\nprint(a)",
      "metadata": {
        "trusted": true
      },
      "outputs": [
        {
          "ename": "<class 'SyntaxError'>",
          "evalue": "invalid syntax (<ipython-input-128-c307f5cfecfc>, line 2)",
          "traceback": [
            "\u001b[0;36m  Cell \u001b[0;32mIn[128], line 2\u001b[0;36m\u001b[0m\n\u001b[0;31m    >> a\u001b[0m\n\u001b[0m    ^\u001b[0m\n\u001b[0;31mSyntaxError\u001b[0m\u001b[0;31m:\u001b[0m invalid syntax\n"
          ],
          "output_type": "error"
        }
      ],
      "execution_count": 128
    },
    {
      "id": "b9744d55-5c4d-49d1-8edf-806ae167214e",
      "cell_type": "code",
      "source": "a>>\nprint(a)\n",
      "metadata": {
        "trusted": true
      },
      "outputs": [
        {
          "ename": "<class 'SyntaxError'>",
          "evalue": "invalid syntax (<ipython-input-129-8a3d843995c7>, line 1)",
          "traceback": [
            "\u001b[0;36m  Cell \u001b[0;32mIn[129], line 1\u001b[0;36m\u001b[0m\n\u001b[0;31m    a>>\u001b[0m\n\u001b[0m       ^\u001b[0m\n\u001b[0;31mSyntaxError\u001b[0m\u001b[0;31m:\u001b[0m invalid syntax\n"
          ],
          "output_type": "error"
        }
      ],
      "execution_count": 129
    },
    {
      "id": "6a083952-edd3-4340-bd6c-41952c224abc",
      "cell_type": "code",
      "source": "a = 10\n# print bitwise right shift operator\nprint(\"a >> 1 =\", a >> 1)\nprint(\"b >> 1 =\", b >> 1)",
      "metadata": {
        "trusted": true
      },
      "outputs": [
        {
          "name": "stdout",
          "output_type": "stream",
          "text": "a >> 1 = 5\nb >> 1 = 15\n"
        }
      ],
      "execution_count": 130
    },
    {
      "id": "ea4744c5-879d-4755-a88f-cad35e5353bf",
      "cell_type": "code",
      "source": "x = isinstance(5, (int))\nprint(5)",
      "metadata": {
        "trusted": true
      },
      "outputs": [
        {
          "name": "stdout",
          "output_type": "stream",
          "text": "5\n"
        }
      ],
      "execution_count": 133
    },
    {
      "id": "7f68bd90-912f-4165-bac8-462a82a5e332",
      "cell_type": "code",
      "source": "x = isinstance(\"Hello\", (float, int, str, list, dict, tuple))\nprint(x)",
      "metadata": {
        "trusted": true
      },
      "outputs": [
        {
          "name": "stdout",
          "output_type": "stream",
          "text": "True\n"
        }
      ],
      "execution_count": 132
    },
    {
      "id": "0a3ee509-1825-4a55-8610-47c4f698ff28",
      "cell_type": "code",
      "source": "a = (1,2,3,4)\nprint(a)\nb,c,d,e = a\nprint(b,c,d,e)",
      "metadata": {
        "trusted": true
      },
      "outputs": [
        {
          "name": "stdout",
          "output_type": "stream",
          "text": "(1, 2, 3, 4)\n1 2 3 4\n"
        }
      ],
      "execution_count": 134
    },
    {
      "id": "743f4de9-43a3-4fb3-bbc9-21f527bb6182",
      "cell_type": "code",
      "source": "# write a python function that will reverse a string without using slice operation or reverse func\n\na = \"Hello world\"\nprint(a[::-1])",
      "metadata": {
        "trusted": true
      },
      "outputs": [
        {
          "name": "stdout",
          "output_type": "stream",
          "text": "dlrow olleH\n"
        }
      ],
      "execution_count": 141
    },
    {
      "id": "ec21528a-c218-4e77-a0d6-9d7ba8dd9c2f",
      "cell_type": "code",
      "source": "# write a python function that will reverse a string without using slice operation or reverse func\n\na = \"Hello world\"\nreve = \"\"\nfor i in range(len(a)):\n    for j in a[-i]:\n        reve+=j\nprint(reve)",
      "metadata": {
        "trusted": true
      },
      "outputs": [
        {
          "name": "stdout",
          "output_type": "stream",
          "text": "Hdlrow olle\n"
        }
      ],
      "execution_count": 148
    },
    {
      "id": "e08f93dc-caf3-4425-8ebd-c52f99f6d63e",
      "cell_type": "code",
      "source": "# write a program to find prime number form 0 to n\n\ndef prime_num(num):\n    flag = False\n    for i in range(2, num):\n        if num % i == 0:\n            flag=True\n            break\n    if flag:\n        print(num, \"Is not a prime number\")\n    else:\n        print(num, \"is a prime number\")\n\nprime_num(29)\n    ",
      "metadata": {
        "trusted": true
      },
      "outputs": [
        {
          "name": "stdout",
          "output_type": "stream",
          "text": "29 is a prime number\n"
        }
      ],
      "execution_count": 185
    },
    {
      "id": "4cb63d43-6bc6-4dad-b406-de6294cfda53",
      "cell_type": "code",
      "source": "# write a python function that will reverse a string without using slice operation or reverse func\n\na = \"Hello world\"\nrev = \"\"\nfor i in a:\n    rev = i + rev\nprint(reve)",
      "metadata": {
        "trusted": true
      },
      "outputs": [
        {
          "name": "stdout",
          "output_type": "stream",
          "text": "Hdlrow olle\n"
        }
      ],
      "execution_count": 180
    },
    {
      "id": "eed04e4b-53dc-4033-b632-496c3cc5a9de",
      "cell_type": "code",
      "source": "\n# return a string after delete all conosants aeiouAEIOU\ndef return_sring(data):\n    new = []\n    vowels = \"aeiouAEIOU\"\n    for char in data:\n        if char in vowels:\n            new.append(char)\n    return new\n    \nprint(return_sring(data=\"Python and Data Science\"))         ",
      "metadata": {
        "trusted": true
      },
      "outputs": [
        {
          "name": "stdout",
          "output_type": "stream",
          "text": "['o', 'a', 'a', 'a', 'i', 'e', 'e']\n"
        }
      ],
      "execution_count": 182
    },
    {
      "id": "18501810-192c-45d2-9fb2-9e6798a17a0a",
      "cell_type": "code",
      "source": "# write a program to find prime number form 0 to n\n\ndef prime_num(num):\n    for i in range(2, num):\n        if (num % i == 0):\n            return False\n    return True\n",
      "metadata": {
        "trusted": true
      },
      "outputs": [
        {
          "name": "stdout",
          "output_type": "stream",
          "text": "0\n"
        }
      ],
      "execution_count": 195
    },
    {
      "id": "4c0b11ad-b53e-4e81-b92a-5712252d337c",
      "cell_type": "code",
      "source": "    \ndef add(num):\n    total = 0\n    for i in range(2, num+1):\n        if (prime_num(num)):\n            total = total + i\n    return total\n\n\n        ",
      "metadata": {
        "trusted": true
      },
      "outputs": [],
      "execution_count": null
    },
    {
      "id": "eec823a6-6c63-4860-a432-620ca71d87e4",
      "cell_type": "code",
      "source": "print(add(10))",
      "metadata": {
        "trusted": true
      },
      "outputs": [
        {
          "name": "stdout",
          "output_type": "stream",
          "text": "0\n"
        }
      ],
      "execution_count": 196
    },
    {
      "id": "08f4ce9b-912a-490c-b211-fbed87498812",
      "cell_type": "code",
      "source": "# write a program to find prime number form 0 to n\n\ndef prime_num(num):\n    flag = False\n    for i in range(2, num):\n        if num % i == 0:\n            flag=True\n            break\n    if flag:\n        print(num, \"Is not a prime number\")\n    else:\n        print(num, \"is a prime number\")\n\nprime_num(29)",
      "metadata": {
        "trusted": true
      },
      "outputs": [
        {
          "name": "stdout",
          "output_type": "stream",
          "text": "29 is a prime number\n"
        }
      ],
      "execution_count": 201
    },
    {
      "id": "791470a4-522f-49ad-9cef-b74eaade5c92",
      "cell_type": "code",
      "source": "def is_prime(number):\n    for z in range(2, number):\n        if number % z == 0:\n            return False\n    return True\n\ndef add(number):\n    total = 0\n    for z in range(2, number+1):\n        if is_prime(z):\n            total = total + z\n    return total\n\nprint(add(number=10))",
      "metadata": {
        "trusted": true
      },
      "outputs": [
        {
          "name": "stdout",
          "output_type": "stream",
          "text": "17\n"
        }
      ],
      "execution_count": 206
    },
    {
      "id": "4f53581d-b247-437e-893d-ec8073fb12ce",
      "cell_type": "code",
      "source": "",
      "metadata": {
        "trusted": true
      },
      "outputs": [],
      "execution_count": null
    }
  ]
}
