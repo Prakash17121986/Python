{
  "metadata": {
    "kernelspec": {
      "name": "python",
      "display_name": "Python (Pyodide)",
      "language": "python"
    },
    "language_info": {
      "codemirror_mode": {
        "name": "python",
        "version": 3
      },
      "file_extension": ".py",
      "mimetype": "text/x-python",
      "name": "python",
      "nbconvert_exporter": "python",
      "pygments_lexer": "ipython3",
      "version": "3.8"
    }
  },
  "nbformat_minor": 5,
  "nbformat": 4,
  "cells": [
    {
      "id": "b80595cc-4d4e-4ea2-a28b-b3f30dfb46c9",
      "cell_type": "code",
      "source": "# dictionary - # Python Data type, dictionary is Mutable, Ordered, Not allowed duplicate keys, it a;llowed only Unique keys , value can be any data type like str, list, tuple, int, float - hetrogenous\ndata = {'a':1, 'b':2,'c':3,'d':4}\nprint(f\"{data}, {type(data)}\")\nprint(\"\")\n\nprint(f\"{dir(data)}\")\n",
      "metadata": {
        "trusted": true
      },
      "outputs": [
        {
          "name": "stdout",
          "output_type": "stream",
          "text": "{'a': 1, 'b': 2, 'c': 3, 'd': 4}, <class 'dict'>\n\n['__class__', '__class_getitem__', '__contains__', '__delattr__', '__delitem__', '__dir__', '__doc__', '__eq__', '__format__', '__ge__', '__getattribute__', '__getitem__', '__getstate__', '__gt__', '__hash__', '__init__', '__init_subclass__', '__ior__', '__iter__', '__le__', '__len__', '__lt__', '__ne__', '__new__', '__or__', '__reduce__', '__reduce_ex__', '__repr__', '__reversed__', '__ror__', '__setattr__', '__setitem__', '__sizeof__', '__str__', '__subclasshook__', 'clear', 'copy', 'fromkeys', 'get', 'items', 'keys', 'pop', 'popitem', 'setdefault', 'update', 'values']\n"
        }
      ],
      "execution_count": 1
    },
    {
      "id": "919ebdfb-4a6d-499f-a407-f586859e6e2d",
      "cell_type": "code",
      "source": "data = {'a':1, 'b':2,'c':3,'d':4}\nprint(f\"{data}, {type(data)}\", end=\"\\n\")\n\n# to iterate keys and values from data dictionary\nfor key, value in data.items():\n    print(f\"{key}, {value}\")\n\n\n",
      "metadata": {
        "trusted": true
      },
      "outputs": [
        {
          "name": "stdout",
          "output_type": "stream",
          "text": "{'a': 1, 'b': 2, 'c': 3, 'd': 4}, <class 'dict'>\na, 1\nb, 2\nc, 3\nd, 4\n"
        }
      ],
      "execution_count": 2
    },
    {
      "id": "7153de52-496a-4a56-b48a-1f67f7641358",
      "cell_type": "code",
      "source": "# dict update - Adding new key and value to exisiting dictionary\ndata = {'a':1, 'b':2,'c':3,'d':4}\ndata['e']=5\nprint(f\"{data}\")",
      "metadata": {
        "trusted": true
      },
      "outputs": [
        {
          "name": "stdout",
          "output_type": "stream",
          "text": "{'a': 1, 'b': 2, 'c': 3, 'd': 4, 'e': 5}\n"
        }
      ],
      "execution_count": 3
    },
    {
      "id": "18faeadc-f495-49b2-91af-ed6e9dabc51e",
      "cell_type": "code",
      "source": "# dict update - Modify the value from 1to 100 of key a in exisiting dictionary\ndata = {'a':1, 'b':2,'c':3,'d':4}\ndata['a']=100\nprint(f\"{data}\")",
      "metadata": {
        "trusted": true
      },
      "outputs": [
        {
          "name": "stdout",
          "output_type": "stream",
          "text": "{'a': 100, 'b': 2, 'c': 3, 'd': 4}\n"
        }
      ],
      "execution_count": 4
    },
    {
      "id": "af9009be-adef-4faf-b286-89d4c4746da2",
      "cell_type": "code",
      "source": "# dict update() - Modify the value from 1to 100 of key a in exisiting dictionary\ndata = {'a':1, 'b':2,'c':3,'d':4}\ndata.update({'f':200})\nprint(f\"{data}\")",
      "metadata": {
        "trusted": true
      },
      "outputs": [
        {
          "name": "stdout",
          "output_type": "stream",
          "text": "{'a': 1, 'b': 2, 'c': 3, 'd': 4, 'f': 200}\n"
        }
      ],
      "execution_count": 8
    },
    {
      "id": "e86cbd31-8de3-4919-8786-e7c77a479d4f",
      "cell_type": "code",
      "source": "# dict get method\ndata = {'a':1, 'b':2,'c':3,'d':4}\nprint(f\"{data.get('a',0)}\")",
      "metadata": {
        "trusted": true
      },
      "outputs": [
        {
          "name": "stdout",
          "output_type": "stream",
          "text": "1\n"
        }
      ],
      "execution_count": 5
    },
    {
      "id": "cc48ed94-abab-4047-a6ed-a190b357323f",
      "cell_type": "code",
      "source": "# dict keys() method\ndata = {'a':1, 'b':2,'c':3,'d':4}\nprint(f\"{data.keys()}\")",
      "metadata": {
        "trusted": true
      },
      "outputs": [
        {
          "name": "stdout",
          "output_type": "stream",
          "text": "dict_keys(['a', 'b', 'c', 'd'])\n"
        }
      ],
      "execution_count": 6
    },
    {
      "id": "e5bf5dd7-bcee-49ae-90ae-817e18758625",
      "cell_type": "code",
      "source": "# dict values() method\ndata = {'a':1, 'b':2,'c':3,'d':4}\nprint(f\"{data.values()}\")",
      "metadata": {
        "trusted": true
      },
      "outputs": [
        {
          "name": "stdout",
          "output_type": "stream",
          "text": "dict_values([1, 2, 3, 4])\n"
        }
      ],
      "execution_count": 7
    },
    {
      "id": "3cdc013e-d224-44bf-9b6a-0e6d562a659e",
      "cell_type": "code",
      "source": "# dict pop() method\ndata = {'a':1, 'b':2,'c':3,'d':4}\nprint(f\"before pop, {data}\")\ndata.pop('d')\nprint(f\"after pop: {data}\")",
      "metadata": {
        "trusted": true
      },
      "outputs": [
        {
          "name": "stdout",
          "output_type": "stream",
          "text": "before pop, {'a': 1, 'b': 2, 'c': 3, 'd': 4}\nafter pop: {'a': 1, 'b': 2, 'c': 3}\n"
        }
      ],
      "execution_count": 10
    },
    {
      "id": "e74b4eb2-f326-4df7-9f4f-dc953d3ba057",
      "cell_type": "code",
      "source": "# dict popitem() method\ndata = {'a':1, 'b':2,'c':3,'d':4}\nprint(f\"before popitem, {data}\")\ndata.popitem()\nprint(f\"after popitem: {data}\")",
      "metadata": {
        "trusted": true
      },
      "outputs": [
        {
          "name": "stdout",
          "output_type": "stream",
          "text": "before popitem, {'a': 1, 'b': 2, 'c': 3, 'd': 4}\nafter popitem: {'a': 1, 'b': 2, 'c': 3}\n"
        }
      ],
      "execution_count": 11
    },
    {
      "id": "d4a0b8e5-98f9-4cb2-8bce-b56bf5bb8a1c",
      "cell_type": "code",
      "source": "# dict clear() method\ndata = {'a':1, 'b':2,'c':3,'d':4}\nprint(f\"{data}\")\ndata.clear()\nprint(f\"{data}\")",
      "metadata": {
        "trusted": true
      },
      "outputs": [
        {
          "name": "stdout",
          "output_type": "stream",
          "text": "{'a': 1, 'b': 2, 'c': 3, 'd': 4}\n{}\n"
        }
      ],
      "execution_count": 12
    },
    {
      "id": "883a644b-6079-44f1-a4e5-b336877e5c7e",
      "cell_type": "code",
      "source": "# dict clear() method\ndata = {'a':1, 'b':2,'c':3,'d':4}\nprint(f\"data: {data}\")\ndata1 = data.copy()\nprint(f\"data1: {data1}\")",
      "metadata": {
        "trusted": true
      },
      "outputs": [
        {
          "name": "stdout",
          "output_type": "stream",
          "text": "data: {'a': 1, 'b': 2, 'c': 3, 'd': 4}\ndata1: {'a': 1, 'b': 2, 'c': 3, 'd': 4}\n"
        }
      ],
      "execution_count": 14
    },
    {
      "id": "6df1db31-e1d5-4b07-9cac-1fdb152f9045",
      "cell_type": "code",
      "source": "# dict setdefault() method\ndata = {'a':1, 'b':2,'c':3,'d':4}\nprint(f\"data: {data}\")\nprint(data.setdefault('e', 100))\nprint(f\"data: {data}\")",
      "metadata": {
        "trusted": true
      },
      "outputs": [
        {
          "name": "stdout",
          "output_type": "stream",
          "text": "data: {'a': 1, 'b': 2, 'c': 3, 'd': 4}\n100\ndata: {'a': 1, 'b': 2, 'c': 3, 'd': 4, 'e': 100}\n"
        }
      ],
      "execution_count": 20
    },
    {
      "id": "594ae40b-1b2d-45be-adc8-87e788b874d2",
      "cell_type": "code",
      "source": "# dict fromkeys() method\nnew_keys = ['e','f','g']\nvalues = [10,20,30]\ndata = {'a':1, 'b':2,'c':3,'d':4}\n# dict.fromkeys(iterable, value=None)\nnew = dict.fromkeys(new_keys, values)\nprint(new)\n\nnew1 = dict.fromkeys(new_keys, 0)\nprint(new1)",
      "metadata": {
        "trusted": true
      },
      "outputs": [
        {
          "name": "stdout",
          "output_type": "stream",
          "text": "{'e': [10, 20, 30], 'f': [10, 20, 30], 'g': [10, 20, 30]}\n{'e': 0, 'f': 0, 'g': 0}\n"
        }
      ],
      "execution_count": 25
    },
    {
      "id": "fe5c8368-cf38-4bd1-b0df-bbf09f68f6d5",
      "cell_type": "code",
      "source": "# The dict.fromkeys() method in Python is used to create a new dictionary with specified keys and a single value assigned to all those keys. \n\n# syntax: dict.fromkeys(iterable, value=None)\n\n# iterable: A sequence (like a list, tuple, or string) containing the keys for the dictionary.\n# value: The value to assign to all the keys. Defaults to None if not provided.\n# Example 1: Default Value (None)\nkeys = ['a', 'b', 'c']\nnew_dict = dict.fromkeys(keys)\nprint(new_dict)\n# Output: {'a': None, 'b': None, 'c': None}\n\n# Example 2: Custom Value\nkeys = ['x', 'y', 'z']\nnew_dict = dict.fromkeys(keys, 0)\nprint(new_dict)\n# Output: {'x': 0, 'y': 0, 'z': 0}\n\n#Example 3: Mutable Values (Caution!)\n#If the value is mutable (e.g., a list or dictionary), all keys will share the same reference to that object:\nkeys = [1, 2, 3]\nnew_dict = dict.fromkeys(keys, [])\nnew_dict[1].append(10)\nprint(new_dict)\n# Output: {1: [10], 2: [10], 3: [10]}  # All keys share the same list!\n\n#To avoid this, use a dictionary comprehension:\nnew_dict = {key: [] for key in keys}\nprint(new_dict)\n# Output: {1: [], 2: [], 3: []}\n#This method is handy for initializing dictionaries with default values!\n\n",
      "metadata": {
        "trusted": true
      },
      "outputs": [
        {
          "name": "stdout",
          "output_type": "stream",
          "text": "{'a': None, 'b': None, 'c': None}\n{'x': 0, 'y': 0, 'z': 0}\n{1: [10], 2: [10], 3: [10]}\n{1: [], 2: [], 3: []}\n"
        }
      ],
      "execution_count": 26
    },
    {
      "id": "908f417b-9f21-4192-9698-2d0eab4afc44",
      "cell_type": "code",
      "source": "# create tuple as value with unique keys 1,2,3\nkeys = [1, 2, 3]\nnew_dict = dict.fromkeys(keys, ())\nprint(new_dict)\nnew_dict[0] = 10\nnew_dict[1] = 10\nnew_dict[2] = 10\nprint(new_dict)",
      "metadata": {
        "trusted": true
      },
      "outputs": [
        {
          "name": "stdout",
          "output_type": "stream",
          "text": "{1: (), 2: (), 3: ()}\n{1: 10, 2: 10, 3: (), 0: 10}\n"
        }
      ],
      "execution_count": 27
    },
    {
      "id": "b3bae39c-5097-432a-8671-0389ae1212d7",
      "cell_type": "code",
      "source": "# # create list as value with unique keys 1,2,3\nkeys = [1, 2, 3]\nnew_dict = dict.fromkeys(keys, [])\nprint(new_dict)\nnew_dict[0] = 100\nnew_dict[1] = \"Hello\"\nnew_dict[2] = 10.5\nnew_dict[3] = (1,2,3)\nprint(new_dict)",
      "metadata": {
        "trusted": true
      },
      "outputs": [
        {
          "name": "stdout",
          "output_type": "stream",
          "text": "{1: [], 2: [], 3: []}\n{1: 'Hello', 2: 10.5, 3: (1, 2, 3), 0: 100}\n"
        }
      ],
      "execution_count": 32
    },
    {
      "id": "a58816b3-9736-4322-8503-ae096f597c85",
      "cell_type": "code",
      "source": "# # create list as value with unique keys 1,2,3\nkeys = [1, 2, 3]\nnew_dict = dict.fromkeys(keys, {})\nprint(new_dict)\nnew_dict[1] = {'a':100}\nnew_dict[2] = {'b':200}\nnew_dict[3] = {'c':300}\nprint(new_dict)\n",
      "metadata": {
        "trusted": true
      },
      "outputs": [
        {
          "name": "stdout",
          "output_type": "stream",
          "text": "{1: {}, 2: {}, 3: {}}\n{1: {'a': 100}, 2: {'b': 200}, 3: {'c': 300}}\n"
        }
      ],
      "execution_count": 33
    },
    {
      "id": "5ae38945-78f1-4edd-849c-f15d773ba6b9",
      "cell_type": "code",
      "source": "d = {1: {'a': 100}, 2: {'b': 200}, 3: {'c': 300}}\n# dict have keys and values as dictionary\n\nfor key, val in d.items():\n    #print(key)\n    for key1, val1 in val.items():\n        print(key, key1, d[key][key1])\n       \n        ",
      "metadata": {
        "trusted": true
      },
      "outputs": [
        {
          "name": "stdout",
          "output_type": "stream",
          "text": "1 a 100\n2 b 200\n3 c 300\n"
        }
      ],
      "execution_count": 53
    },
    {
      "id": "5cc767f3-1968-4d64-a7e2-91660f95000f",
      "cell_type": "code",
      "source": "d = {1: {'a': 100}, 2: {'b': 200}, 3: {'c': 300}}\nprint(d[4])",
      "metadata": {
        "trusted": true
      },
      "outputs": [
        {
          "ename": "<class 'KeyError'>",
          "evalue": "4",
          "traceback": [
            "\u001b[0;31m---------------------------------------------------------------------------\u001b[0m",
            "\u001b[0;31mKeyError\u001b[0m                                  Traceback (most recent call last)",
            "Cell \u001b[0;32mIn[54], line 2\u001b[0m\n\u001b[1;32m      1\u001b[0m d \u001b[38;5;241m=\u001b[39m {\u001b[38;5;241m1\u001b[39m: {\u001b[38;5;124m'\u001b[39m\u001b[38;5;124ma\u001b[39m\u001b[38;5;124m'\u001b[39m: \u001b[38;5;241m100\u001b[39m}, \u001b[38;5;241m2\u001b[39m: {\u001b[38;5;124m'\u001b[39m\u001b[38;5;124mb\u001b[39m\u001b[38;5;124m'\u001b[39m: \u001b[38;5;241m200\u001b[39m}, \u001b[38;5;241m3\u001b[39m: {\u001b[38;5;124m'\u001b[39m\u001b[38;5;124mc\u001b[39m\u001b[38;5;124m'\u001b[39m: \u001b[38;5;241m300\u001b[39m}}\n\u001b[0;32m----> 2\u001b[0m \u001b[38;5;28mprint\u001b[39m(\u001b[43md\u001b[49m\u001b[43m[\u001b[49m\u001b[38;5;241;43m4\u001b[39;49m\u001b[43m]\u001b[49m)\n",
            "\u001b[0;31mKeyError\u001b[0m: 4"
          ],
          "output_type": "error"
        }
      ],
      "execution_count": 54
    },
    {
      "id": "b403c1fb-d478-491e-916f-73ac1733c35b",
      "cell_type": "code",
      "source": "d = {1: {'a': 100}, 2: {'b': 200}, 3: {'c': 300}}\nprint(f\"{len(d)}\")",
      "metadata": {
        "trusted": true
      },
      "outputs": [
        {
          "name": "stdout",
          "output_type": "stream",
          "text": "3\n"
        }
      ],
      "execution_count": 55
    },
    {
      "id": "0dea0658-3396-486a-91cc-4faca619f16a",
      "cell_type": "code",
      "source": "d = dict()\nprint(d)\nd['a']=1\nprint(d)",
      "metadata": {
        "trusted": true
      },
      "outputs": [
        {
          "name": "stdout",
          "output_type": "stream",
          "text": "{}\n{'a': 1}\n"
        }
      ],
      "execution_count": 56
    },
    {
      "id": "2aff2797-1a47-4c8e-864d-49065b1835dc",
      "cell_type": "code",
      "source": "d1 = {'a': 100, 'b': 200, 'c': 300}\nd2 = {'a': 100, 'b': 200, 'd': 300}\n\nd3 = {}\nd2.pop('d')\nd2['c']=300\n\nfor key, val in d1.items():\n    value1 = d1['a'] + d2['a']\n    value2 = d1['b'] + d2['b']\n    value3 = d1['c'] + d2['c']\n    d3.update({'a': value1, 'b': value2, 'c': value3})\n    \nprint(d3)\n\n",
      "metadata": {
        "trusted": true
      },
      "outputs": [
        {
          "name": "stdout",
          "output_type": "stream",
          "text": "{'a': 200, 'b': 400, 'c': 600}\n"
        }
      ],
      "execution_count": 58
    },
    {
      "id": "a1a0c6cb-4f34-48d3-bcd3-7b4c89b1aa08",
      "cell_type": "code",
      "source": "d1 = {'a': 100, 'b': 200, 'c': 300}\nd2 = {'a': 100, 'b': 200, 'c': 300}\n\nd3 = {}\n\nfor key, val in d1.items():\n    value1 = d1['a'] + d2['a']\n    value2 = d1['b'] + d2['b']\n    value3 = d1['c'] + d2['c']\n    d3.update({'a': value1, 'b': value2, 'c': value3})\n    \nprint(d3)",
      "metadata": {
        "trusted": true
      },
      "outputs": [
        {
          "name": "stdout",
          "output_type": "stream",
          "text": "{'a': 200, 'b': 400, 'c': 600}\n"
        }
      ],
      "execution_count": 60
    },
    {
      "id": "d1de1358-2953-486b-bf7b-dc1389f22039",
      "cell_type": "code",
      "source": "d1 = {'a': 100, 'b': 200, 'c': 300}\nd2 = {'a': 100, 'b': 200, 'c': 300}\n\nd3 = {\n\nfor key, val in d1.items():\n    for key1, val1 in d2.items():\n        if d1[key] == d2[key1]:\n            value = d1[key] + d2[key1]\n            d3.update({key:value})\n    \nprint(d3)",
      "metadata": {
        "trusted": true
      },
      "outputs": [
        {
          "name": "stdout",
          "output_type": "stream",
          "text": "{'a': 200, 'b': 400, 'c': 600}\n"
        }
      ],
      "execution_count": 72
    },
    {
      "id": "9f438c5e-9191-4b8d-a33e-6043155734a1",
      "cell_type": "code",
      "source": "d1 = {'a': 100, 'b': 200, 'c': 300}\nd2 = {'a': 100, 'b': 200, 'd': 300}\n\nd3 = {}\nd2.pop('d')\nd2['c'] = 300\n\nfor key, val in d1.items():\n    for key1, val1 in d2.items():\n        if d1[key] == d2[key1]:\n            value = d1[key] + d2[key1]\n            d3.update({key:value})\n    \nprint(d3)",
      "metadata": {
        "trusted": true
      },
      "outputs": [
        {
          "name": "stdout",
          "output_type": "stream",
          "text": "{'a': 200, 'b': 400, 'c': 600}\n"
        }
      ],
      "execution_count": 73
    },
    {
      "id": "17bd416b-27cc-4771-bc35-74a44eef1c7e",
      "cell_type": "code",
      "source": "a = [\"apple\", \"orange\", \"pineapple\", \"kiwi\"]\na.sort()\nprint(a)\na.sort(reverse=True) # reverse flag is True, decending\nprint(a)\na.sort(reverse=False) # reverse flag is False, ascending\nprint(a)\na.sort(key=lambda x: len(x)) # mapping with str length\nprint(a)",
      "metadata": {
        "trusted": true
      },
      "outputs": [
        {
          "name": "stdout",
          "output_type": "stream",
          "text": "['apple', 'kiwi', 'orange', 'pineapple']\n['pineapple', 'orange', 'kiwi', 'apple']\n['apple', 'kiwi', 'orange', 'pineapple']\n['kiwi', 'apple', 'orange', 'pineapple']\n"
        }
      ],
      "execution_count": 80
    },
    {
      "id": "73ee199e-f374-45fc-8e85-dee41e70e294",
      "cell_type": "code",
      "source": "# List comphrehension\narr = [i for i in range(5)]\nprint(arr)\n\narr = [i+1 for i in range(5)]\nprint(arr)\n\n\narr = [i+2 for i in range(5)]\nprint(arr)\n\narr = [[0]*4 for i in range(5)]\nprint(arr)\n\n\n",
      "metadata": {
        "trusted": true
      },
      "outputs": [
        {
          "name": "stdout",
          "output_type": "stream",
          "text": "[0, 1, 2, 3, 4]\n[1, 2, 3, 4, 5]\n[2, 3, 4, 5, 6]\n[[0, 0, 0, 0], [0, 0, 0, 0], [0, 0, 0, 0], [0, 0, 0, 0], [0, 0, 0, 0]]\n"
        }
      ],
      "execution_count": 83
    },
    {
      "id": "9def7145-0f47-4fce-adb5-aac809eab4ca",
      "cell_type": "code",
      "source": "# strings are similar to arrays\ns = \"abc\"\nprint(s[0:2])\n# so this creates a new string\ns+=\"def\"\nprint(s)",
      "metadata": {
        "trusted": true
      },
      "outputs": [
        {
          "name": "stdout",
          "output_type": "stream",
          "text": "ab\nabcdef\n"
        }
      ],
      "execution_count": 85
    },
    {
      "id": "19d9924c-c229-4305-a949-8b37f92e68cf",
      "cell_type": "code",
      "source": "# strings are similar to arrays\n# valid numeris strings can be converted to integers\nprint(int(\"123\") + int(\"123\"))\n\n# Numbers can be converted to strings\nprint(str(123) + str(123))",
      "metadata": {
        "trusted": true
      },
      "outputs": [
        {
          "name": "stdout",
          "output_type": "stream",
          "text": "246\n123123\n"
        }
      ],
      "execution_count": 86
    },
    {
      "id": "2005edaa-bdb0-4960-834b-71ffd6e1132b",
      "cell_type": "code",
      "source": "# In rare cases uou may need the ascii value\n# of a char\nprint(ord(\"a\"))\n\ntemp = \"abcdefg\"\nfor i in range(len(temp)):\n    print(ord(temp[i]))\n    \n      ",
      "metadata": {
        "trusted": true
      },
      "outputs": [
        {
          "name": "stdout",
          "output_type": "stream",
          "text": "97\n97\n98\n99\n100\n101\n102\n103\n"
        }
      ],
      "execution_count": 89
    },
    {
      "id": "f2f533fd-5f71-48a7-8ad2-a9c4473be2df",
      "cell_type": "code",
      "source": "# combine a lsit of strings (with an empty string \n# delimeter )\nstrings = [\"ab\",\"cd\", \"ef\"]\nprint('-'.join(strings))\nprint(''.join(strings))",
      "metadata": {
        "trusted": true
      },
      "outputs": [
        {
          "name": "stdout",
          "output_type": "stream",
          "text": "ab-cd-ef\nabcdef\n"
        }
      ],
      "execution_count": 92
    },
    {
      "id": "6fff9586-eeac-4a5d-b794-5cb29dc7502a",
      "cell_type": "code",
      "source": "# queues ( double ended queue)\nfrom collections import deque\nqueue = deque()\nqueue.append(1)\nqueue.append(2)\nprint(queue)\n\nqueue.popleft()\nprint(queue)\n\nqueue.appendleft(1)\nprint(queue)",
      "metadata": {
        "trusted": true
      },
      "outputs": [
        {
          "name": "stdout",
          "output_type": "stream",
          "text": "deque([1, 2])\ndeque([2])\ndeque([1, 2])\n"
        }
      ],
      "execution_count": 95
    },
    {
      "id": "ec1dbbab-4c69-4b73-a969-c8943bb48631",
      "cell_type": "code",
      "source": "# HashSet - No duplicates, unique value only allowed\nmySet = set()\nmySet.add(1)\nmySet.add(2)\nprint(mySet)\nprint(1 in mySet)\nprint(2 in mySet)\nprint(3 in mySet)\nmySet.remove(2)\nprint(2 in mySet)",
      "metadata": {
        "trusted": true
      },
      "outputs": [
        {
          "name": "stdout",
          "output_type": "stream",
          "text": "{1, 2}\nTrue\nTrue\nFalse\nFalse\n"
        }
      ],
      "execution_count": 100
    },
    {
      "id": "e8f49628-c433-4c09-bd17-24fb36b339a4",
      "cell_type": "code",
      "source": "# list to set\nprint(set([1,2,3]))\n\n#set comphrehension\nmySet = {i for i in range(5)}\nprint(mySet)",
      "metadata": {
        "trusted": true
      },
      "outputs": [
        {
          "name": "stdout",
          "output_type": "stream",
          "text": "{1, 2, 3}\n{0, 1, 2, 3, 4}\n"
        }
      ],
      "execution_count": 102
    },
    {
      "id": "5d43e985-9333-4116-9e2c-1ec49648731a",
      "cell_type": "code",
      "source": "# HashMap (aka dict)\nmyMap = {}\nmyMap[\"allice\"] = 88\nmyMap[\"bob\"] = 77\nprint(myMap)\nmyMap[\"allice\"] = 80\nprint(myMap[\"allice\"])\nprint(\"allice\" in myMap)\nmyMap.pop(\"allice\")\nprint(myMap)\n    \n          ",
      "metadata": {
        "trusted": true
      },
      "outputs": [
        {
          "name": "stdout",
          "output_type": "stream",
          "text": "{'allice': 88, 'bob': 77}\n80\nTrue\n{'bob': 77}\n"
        }
      ],
      "execution_count": 105
    },
    {
      "id": "c9438f43-1039-40ef-a643-7ff3e4d55153",
      "cell_type": "code",
      "source": "# dict comphrehension\nmyMap = { i:3  for i in range(3)}\nprint(myMap)\n\nmyMap = { i:i*3  for i in range(3)}\nprint(myMap)\n\nmyMap = { i:2*i for i in range(3)}\nprint(myMap)",
      "metadata": {
        "trusted": true
      },
      "outputs": [
        {
          "name": "stdout",
          "output_type": "stream",
          "text": "{0: 3, 1: 3, 2: 3}\n{0: 0, 1: 3, 2: 6}\n{0: 0, 1: 2, 2: 4}\n"
        }
      ],
      "execution_count": 108
    },
    {
      "id": "df89fbab-6fca-488c-909d-c909acf2aaf3",
      "cell_type": "code",
      "source": "# iterate a key and values in dict myMap\nmyMap = {'allice': 88, 'bob': 77}\nfor key in myMap:\n    print(myMap[key])\n\nfor key in myMap.keys():\n    print(key)\n\nfor val in myMap.values():\n    print(val)\n\nfor key, val in myMap.items():\n    print(key, val)",
      "metadata": {
        "trusted": true
      },
      "outputs": [
        {
          "name": "stdout",
          "output_type": "stream",
          "text": "88\n77\nallice\nbob\n88\n77\nallice 88\nbob 77\n"
        }
      ],
      "execution_count": 113
    },
    {
      "id": "7767eb79-2bc8-47ed-af1a-496ae75735b6",
      "cell_type": "code",
      "source": "a = [1,2,3,4]\nb = list(map(lambda x: x+2, a))\nprint(a)\nprint(b)\n\nc = list(map(lambda x: 2*x, a))\nprint(a)\nprint(c)\n\nd = list(filter(lambda x: x%2==0, a))\nprint(a)\nprint(d)",
      "metadata": {
        "trusted": true
      },
      "outputs": [
        {
          "name": "stdout",
          "output_type": "stream",
          "text": "[1, 2, 3, 4]\n[3, 4, 5, 6]\n[1, 2, 3, 4]\n[2, 4, 6, 8]\n[1, 2, 3, 4]\n[2, 4]\n"
        }
      ],
      "execution_count": 117
    },
    {
      "id": "9ee68033-d3bd-4446-a36d-8b5ca057c2d7",
      "cell_type": "code",
      "source": "",
      "metadata": {
        "trusted": true
      },
      "outputs": [],
      "execution_count": null
    },
    {
      "id": "21df2afb-4e8d-4833-b30a-c493a11ef359",
      "cell_type": "code",
      "source": "",
      "metadata": {
        "trusted": true
      },
      "outputs": [],
      "execution_count": null
    }
  ]
}