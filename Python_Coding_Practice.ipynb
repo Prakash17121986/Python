{
  "metadata": {
    "kernelspec": {
      "name": "python",
      "display_name": "Python (Pyodide)",
      "language": "python"
    },
    "language_info": {
      "codemirror_mode": {
        "name": "python",
        "version": 3
      },
      "file_extension": ".py",
      "mimetype": "text/x-python",
      "name": "python",
      "nbconvert_exporter": "python",
      "pygments_lexer": "ipython3",
      "version": "3.8"
    }
  },
  "nbformat_minor": 5,
  "nbformat": 4,
  "cells": [
    {
      "id": "b53145c0-409f-45f9-b4ce-7fb0371d463c",
      "cell_type": "code",
      "source": "def repeatingchar_non_repeating_char(string_value):\n    \n    d = {}\n    for char in string_value:\n        d[char]  = d.get(char, 0) + 1\n    print(f\"string char count: {d}\")\n    repeating_char = {}\n    non_repeating_char = {}\n    count = 0\n    for key, value in d.items():\n        if d[key] == 1:\n            non_repeating_char[key] = value\n\n        if d[key] > 1:\n            repeating_char[key] = value\n            \n    print(f\"repeating_char: {repeating_char}\")\n    print(f\"non_repeating_char: {non_repeating_char}\")\n\nstring_value = \"helloworld\"\nrepeatingchar_non_repeating_char(string_value)",
      "metadata": {
        "trusted": true
      },
      "outputs": [
        {
          "name": "stdout",
          "output_type": "stream",
          "text": "string char count: {'h': 1, 'e': 1, 'l': 3, 'o': 2, 'w': 1, 'r': 1, 'd': 1}\nrepeating_char: {'l': 3, 'o': 2}\nnon_repeating_char: {'h': 1, 'e': 1, 'w': 1, 'r': 1, 'd': 1}\n"
        }
      ],
      "execution_count": 11
    },
    {
      "id": "15c05d87-7c8f-43ef-a3fa-4564951f6788",
      "cell_type": "code",
      "source": "numbers = range(10)\nsquare_number = list(map(lambda x: x*2 , numbers))\nprint(f\"squared_numbers using lambda function\", square_number)\n\neven_numbers = list(filter(lambda x: x%2 == 0, numbers))\nodd_numbers = list(filter(lambda x: x%2 != 0, numbers))\nprint(f\"even numbers\", even_numbers)\nprint(f\"odd numbers\", odd_numbers)\n\nvalues = [10,20]\nfrom functools import reduce\nsum_of_total = reduce(lambda x, y: x+y , values)\nprint(f\"sum of total values\", sum_of_total)\n",
      "metadata": {
        "trusted": true
      },
      "outputs": [
        {
          "name": "stdout",
          "output_type": "stream",
          "text": "squared_numbers using lambda function [0, 2, 4, 6, 8, 10, 12, 14, 16, 18]\neven numbers [0, 2, 4, 6, 8]\nodd numbers [1, 3, 5, 7, 9]\nsum of total values 30\n"
        }
      ],
      "execution_count": 19
    },
    {
      "id": "7e7862a0-44ec-4417-a53c-69ff5da456a2",
      "cell_type": "code",
      "source": "def word_count(words):\n    words =  \"circular reference to a object, pointing to same memory, memory space will not clear until remove this reference\"\n    words = words.split()\n    d = {}\n    for word in words:\n        if word in d:\n            d[word]+= d.get(word, 0) + 1\n        else:\n            d[word] = d.get(word, 0) + 1\n\n    return d\n\nprint(word_count(words)) ",
      "metadata": {
        "trusted": true
      },
      "outputs": [
        {
          "name": "stdout",
          "output_type": "stream",
          "text": "{'circular': 1, 'reference': 3, 'to': 3, 'a': 1, 'object,': 1, 'pointing': 1, 'same': 1, 'memory,': 1, 'memory': 1, 'space': 1, 'will': 1, 'not': 1, 'clear': 1, 'until': 1, 'remove': 1, 'this': 1}\n"
        }
      ],
      "execution_count": 24
    },
    {
      "id": "5dbe4d87-ef25-4f27-8c2e-7ef55be30cd6",
      "cell_type": "code",
      "source": "# list comphrehension\nmultiplication =  [ x * 5 for x in range(10)]\nprint(multiplication)\n\ndivision =  [ x / 5 for x in range(10)]\nprint(division)\n\n# tuple comphrehension\ntuple_multiplication =  ( x * 5 for x in range(10))\nprint(multiplication)\n\n# strimg comphrension\nstring_read =  [str(x) for x in ['hello','world']]\nprint(string_read)\n\n# dict comphrension\nd = {'a': 1, 'b':2, 'c':3, 'd': 4}\nmy_dict = {k:v for k, v in d.items() if k}\nprint(my_dict)",
      "metadata": {
        "trusted": true
      },
      "outputs": [
        {
          "name": "stdout",
          "output_type": "stream",
          "text": "[0, 5, 10, 15, 20, 25, 30, 35, 40, 45]\n[0.0, 0.2, 0.4, 0.6, 0.8, 1.0, 1.2, 1.4, 1.6, 1.8]\n[0, 5, 10, 15, 20, 25, 30, 35, 40, 45]\n['hello', 'world']\n{'a': 1, 'b': 2, 'c': 3, 'd': 4}\n"
        }
      ],
      "execution_count": 29
    },
    {
      "id": "bdb420d2-0ba7-4190-8032-4172953930ee",
      "cell_type": "code",
      "source": "str1 = \"Helloworld\"\nprint(\"Print the string str1:\", str1)\n\nprint('reverse the string', str1[::-1])\n\nother = []\nconsonants = [] \n\ndef reverse_string_consonants_first(str1):\n    for val in str1:\n        if val not in 'AEIOUaeiou': # check val not in consonants or vowels\n            other.append(val)\n        else:\n            consonants.append(val)\n    \n    reverse_string = ''.join(consonants + other) # Convert a list of characters into a string\n    print(\"reverse of string with vowels first\", reverse_string)\n\nreverse_string_consonants_first(str1=\"Helloworld\")",
      "metadata": {
        "trusted": true
      },
      "outputs": [
        {
          "name": "stdout",
          "output_type": "stream",
          "text": "Print the string str1: Helloworld\nreverse the string dlrowolleH\nreverse of string with vowels first eooHllwrld\n"
        }
      ],
      "execution_count": 31
    },
    {
      "id": "43a88bd8-c81b-4c40-9d5d-5d7ea504fbcf",
      "cell_type": "code",
      "source": "# iterator\nmy_list = [10, 20, 30, 40]\nmy_iterator = iter(my_list)\n\nprint(next(my_iterator))\nprint(next(my_iterator))\nprint(next(my_iterator))\nprint(next(my_iterator))\n",
      "metadata": {
        "trusted": true
      },
      "outputs": [
        {
          "name": "stdout",
          "output_type": "stream",
          "text": "10\n20\n30\n40\n"
        }
      ],
      "execution_count": 34
    },
    {
      "id": "46e60b34-ffc0-4708-95b9-2bb8accb388f",
      "cell_type": "code",
      "source": "# generator\ndata_list =[10, 20, 30, 40]\ndef my_generator(data_list):\n    for item in data_list:\n        yield item\ngen_obj = my_generator(data_list)\nfor value in gen_obj:\n    print(value)",
      "metadata": {
        "trusted": true
      },
      "outputs": [
        {
          "name": "stdout",
          "output_type": "stream",
          "text": "10\n20\n30\n40\n"
        }
      ],
      "execution_count": 37
    },
    {
      "id": "3e90e74f-9954-4947-9ab1-f5644cc7e7e7",
      "cell_type": "code",
      "source": "def prime_number(num):\n    if num==0 or num==1:\n        return 1\n    flag=False\n    for i in range(2, num):\n        if num % i == 0:\n            flag=True\n            break\n    if flag:\n        print(num, \"is not a prime number\")\n    else:\n        print(num, \"is a prime number\")\n\nprime_number(num=26)",
      "metadata": {
        "trusted": true
      },
      "outputs": [
        {
          "name": "stdout",
          "output_type": "stream",
          "text": "26 is not a prime number\n"
        }
      ],
      "execution_count": 47
    },
    {
      "id": "6f6899a8-7e4c-4d5b-a507-0b7ad40fab3b",
      "cell_type": "code",
      "source": "import time\ndef factorial(num):\n    total=0\n    if num==0 or num==1:\n        return 1\n    fact = 1\n    for i in range(2, num+1):\n        fact*=i\n    return fact\n    \n   \n    \nprint(factorial(num=5))",
      "metadata": {
        "trusted": true
      },
      "outputs": [
        {
          "name": "stdout",
          "output_type": "stream",
          "text": "120\n"
        }
      ],
      "execution_count": 81
    },
    {
      "id": "957e82ab-5961-486c-8dc3-d3c68bc87f07",
      "cell_type": "code",
      "source": "def factorial_num(n):\n    if n==0:\n        return 1\n    return n * factorial_num(n-1)\n\nn=5\nprint(f\"factorial num:, {factorial_num(n)}\")",
      "metadata": {
        "trusted": true
      },
      "outputs": [
        {
          "name": "stdout",
          "output_type": "stream",
          "text": "factorial num:, 120\n"
        }
      ],
      "execution_count": 66
    },
    {
      "id": "85adcd9c-7cb6-4a45-a777-bf027319dcde",
      "cell_type": "code",
      "source": "def fibonacci(n):\n    a = 0\n    b = 1\n    \n    # Check if n is less than 0\n    if n < 0:\n        print(\"Incorrect input\")\n        \n    # Check if n is equal to 0\n    elif n == 0:\n        return 0\n      \n    # Check if n is equal to 1\n    elif n == 1:\n        return b\n    else:\n        for i in range(1, n):\n            c = a + b\n            a = b\n            b = c\n        return b\n\nprint(fibonacci(9))",
      "metadata": {
        "trusted": true
      },
      "outputs": [
        {
          "name": "stdout",
          "output_type": "stream",
          "text": "34\n"
        }
      ],
      "execution_count": 106
    },
    {
      "id": "27d5a00f-c898-424e-abca-361581ef3419",
      "cell_type": "code",
      "source": "def Fibonacci_n(n):\n\n    if n < 0:\n        print(\"Incorrect input\")\n\n    elif n == 0:\n        return 0\n\n    elif n == 1 or n == 2:\n        return 1\n\n    else:\n        return Fibonacci(n-1) + Fibonacci(n-2)\n\nprint(Fibonacci_n(9))",
      "metadata": {
        "trusted": true
      },
      "outputs": [
        {
          "name": "stdout",
          "output_type": "stream",
          "text": "34\n"
        }
      ],
      "execution_count": 108
    },
    {
      "id": "4a9082f9-5bd5-48eb-8418-1b792df5b8a2",
      "cell_type": "code",
      "source": "def fibonic(num):\n\n    a, b = 0, 1\n    if num < 0:\n        print(\"Invalid number, Please provide correct number\")\n    elif num == 0:\n        return a\n    elif num == 1:\n        return b\n    else:\n        for i in range(1, num):\n            c = a + b\n            a = b\n            b = c\n        return b\nprint(fibonic(9))\n",
      "metadata": {
        "trusted": true
      },
      "outputs": [
        {
          "name": "stdout",
          "output_type": "stream",
          "text": "34\n"
        }
      ],
      "execution_count": 119
    },
    {
      "id": "8a3aba9e-c07d-4f89-a9a4-120f834e08fb",
      "cell_type": "code",
      "source": "def Fib(n):\n    if n == 0:\n        return 0\n    elif n == 1 or n==2:\n        return 1\n    else:\n        return Fib(n-1) + Fib(n-2)\n        if c == N:\n            return True\n        elif c >= N:\n            return False\nprint(Fib(n=9))\n\n",
      "metadata": {
        "trusted": true
      },
      "outputs": [
        {
          "name": "stdout",
          "output_type": "stream",
          "text": "34\n"
        }
      ],
      "execution_count": 121
    },
    {
      "id": "035e582c-512b-4322-b28b-0cae2ba951ef",
      "cell_type": "code",
      "source": "class TestMathFunctions:\n\n    def __init__(self, a, b):\n        self.a = a\n        self.b = b\n    \n    def add(self):\n        return self.a + self.b\n\n    def subract(self):\n        return self.a - self.b\n\n    def multiply(self):\n        return self.a * self.b\n\n    def divide(self):\n        return self.a / self.b\n\n    def exponent(self):\n        return self.a ** self.b\n    \n\na = TestMathFunctions(20,10)\nprint(a.add())\nprint(a.subract())\nprint(a.multiply())\nprint(a.divide())\nprint(a.exponent())\n",
      "metadata": {
        "trusted": true
      },
      "outputs": [
        {
          "name": "stdout",
          "output_type": "stream",
          "text": "30\n10\n200\n2.0\n10240000000000\n"
        }
      ],
      "execution_count": 136
    },
    {
      "id": "708069ed-e6d3-4ec4-886b-ef1c8a660d0a",
      "cell_type": "code",
      "source": "# creating class\nclass TestMathFunctions:\n\n    def __init__(self, a, b):\n        self.a = a\n        self.b = b\n    \n    def add(self):\n        return self.a + self.b\n\n    def subract(self):\n        return self.a - self.b\n\n    def multiply(self):\n        return self.a * self.b\n\n    def divide(self):\n        return self.a / self.b\n\n    def exponent(self):\n        return self.a ** self.b\n    \n\na = TestMathFunctions(20,10)\nprint(a.add())\nprint(a.subract())\nprint(a.multiply())\nprint(a.divide())\nprint(a.exponent())\n\n# child class1 ( single inheritance)\nclass Child(TestMathFunctions):\n    def __init__(self, a, b):\n        self.a = a\n        self.b = b\n\nb = Child(200,100)\nprint(b.add())\nprint(b.subract())\nprint(b.multiply())\nprint(b.divide())\nprint(b.exponent())\n\n# child class2 ( single inheritance)\nclass GrandChild(TestMathFunctions):\n    def __init__(self, a, b):\n        self.a = a\n        self.b = b\n\nc = GrandChild(2,1)\nprint(c.add())\nprint(c.subract())\nprint(c.multiply())\nprint(c.divide())\nprint(c.exponent())\n",
      "metadata": {
        "trusted": true
      },
      "outputs": [
        {
          "name": "stdout",
          "output_type": "stream",
          "text": "30\n10\n200\n2.0\n10240000000000\n300\n100\n20000\n2.0\n126765060022822940149670320537600000000000000000000000000000000000000000000000000000000000000000000000000000000000000000000000000000000000000000000000000000000000000000000000000000000000000000000000000000000000000000000000000000000\n3\n1\n2\n2.0\n2\n"
        }
      ],
      "execution_count": 140
    },
    {
      "id": "05e5b6ae-0a71-4870-82aa-3ba7c316926a",
      "cell_type": "code",
      "source": "# creating class, instance methods, properties, multiple inheritance\nclass Parent1:\n\n    def __init__(self, a, b):\n        self.a = a\n        self.b = b\n    \n    def add(self):\n        return self.a + self.b\n\n    def subract(self):\n        return self.a - self.b\n\n\n# child class1 \nclass Parent2():\n    def __init__(self, a, b):\n        self.a = a\n        self.b = b\n\n    def multiply(self):\n        return self.a * self.b\n\n    def divide(self):\n        return self.a / self.b\n\n    \n# child class2 (Multiple inheritance)\nclass GrandChild(Parent1,Parent2):\n    def __init__(self, a, b):\n        self.a = a\n        self.b = b\n\n    def exponent(self):\n        return self.a ** self.b\n        \nc = GrandChild(2,1)\nprint(c.add())\nprint(c.subract())\nprint(c.multiply())\nprint(c.divide())\nprint(c.exponent())",
      "metadata": {
        "trusted": true
      },
      "outputs": [
        {
          "name": "stdout",
          "output_type": "stream",
          "text": "3\n1\n2\n2.0\n2\n"
        }
      ],
      "execution_count": 143
    },
    {
      "id": "e98d4f35-5d00-4b03-9b51-a4fd2972b0c5",
      "cell_type": "code",
      "source": "# inheritance - Method overriding\nclass Class1:\n    def m(self):\n        print(\"In Class1\") \n      \nclass Class2(Class1):\n    def m(self):\n        print(\"In Class2\")\n\nclass Class3(Class1):\n    def m(self):\n         print(\"In Class3\")     \n    \nclass Class4(Class2, Class3):\n    def m(self):\n        print(\"In Class4\")  \n\nobj = Class4()\nobj.m()\n\nClass2.m(obj)\nClass3.m(obj)\nClass1.m(obj)",
      "metadata": {
        "trusted": true
      },
      "outputs": [
        {
          "name": "stdout",
          "output_type": "stream",
          "text": "In Class4\nIn Class2\nIn Class3\nIn Class1\n"
        }
      ],
      "execution_count": 244
    },
    {
      "id": "8acb95fc-15b6-4093-9fea-c5b54de44787",
      "cell_type": "code",
      "source": "def nonRep(s):\n    n = len(s)\n    for i in range(n):\n        found = False\n        for j in range(n):\n            if i != j and s[i] == s[j]:\n                print(i, j, s[i], s[j])\n                found = True\n                break\n        if not found:\n            return s[i]\n    return '$'\n\n\ns = \"racecar\"\nprint(nonRep(s))",
      "metadata": {
        "trusted": true
      },
      "outputs": [
        {
          "name": "stdout",
          "output_type": "stream",
          "text": "0 6 r r\n1 5 a a\n2 4 c c\ne\n"
        }
      ],
      "execution_count": 146
    },
    {
      "id": "0b7f94b0-9318-4a43-868d-efabcff81e5f",
      "cell_type": "code",
      "source": "import re\ns = \"racecar\"\nb = re.findall(r'\\w+', s)\nprint(b)",
      "metadata": {
        "trusted": true
      },
      "outputs": [
        {
          "name": "stdout",
          "output_type": "stream",
          "text": "['racecar']\n"
        }
      ],
      "execution_count": 149
    },
    {
      "id": "ede32968-e14f-449c-b561-5257d795a77b",
      "cell_type": "code",
      "source": "def nonrepeating(s):\n    n = len(s)\n    for i in range(n):\n        found = False\n        for j in range(n):\n            if i!=j and s[i] == s[j]:\n                found = True\n                break\n        if not found:\n            return s[i]\n    return '$'\n    \ns = \"racecar\"\nprint(nonrepeating(s))",
      "metadata": {
        "trusted": true
      },
      "outputs": [
        {
          "name": "stdout",
          "output_type": "stream",
          "text": "e\n"
        }
      ],
      "execution_count": 153
    },
    {
      "id": "3af6d63a-d95d-469b-8c16-bb81cef7c1e0",
      "cell_type": "code",
      "source": "def repeating(s):\n    n = len(s)\n    rev=\"\"\n    for i in range(n):\n        found = True\n        for j in range(n):\n            if i!=j:\n                if s[i] == s[j]:\n                    found = False\n                    rev+=s[i]\n    return rev\n                    \n    \ns = \"racecar\"\nprint(repeating(s))",
      "metadata": {
        "trusted": true
      },
      "outputs": [
        {
          "name": "stdout",
          "output_type": "stream",
          "text": "raccar\n"
        }
      ],
      "execution_count": 170
    },
    {
      "id": "060b2f4a-0de4-44a2-8ed7-c95481458732",
      "cell_type": "code",
      "source": "def nrepeating(s):\n    n = len(s)\n    for i in range(n):\n        found = False\n        for j in range(n):\n            if i!=j and s[i] == s[j]:\n                found = True\n                break\n\n    return '$'\n    \ns = \"racecar\"\nprint(nrepeating(s))",
      "metadata": {
        "trusted": true
      },
      "outputs": [
        {
          "name": "stdout",
          "output_type": "stream",
          "text": "$\n"
        }
      ],
      "execution_count": 172
    },
    {
      "id": "b577af35-3680-4a8b-bb31-eaf719470de5",
      "cell_type": "code",
      "source": "# iterator is process for iterating the value one by one using the same logic to perform the task. \n# It is repeated task once all iteration completed in iterable object.\n# repeated more than one time by applying the same logic is called an Iteration\n# An iterator is a countable number of values and it is used to iterate over the iterable object(list, tuple, set)\n# iter() function is used to create an iterator containing a iteratable object\n# next() function is used to call the next element in the iterable object.\n# After the iterable object is completed, to use them again reassign them to the same object.\n# iterator uses iter() and next() functions \n# Every iterator is not a generator\n# Iterators are used mostly to iterate or convert other objects to an iterator using iter() function\n# Class is used to implement an iterator\n# Local Variables aren't used here.\n\niter_list = iter(['Geeks', 'For', 'Geeks'])\n\nprint(next(iter_list))\nprint(next(iter_list))\nprint(next(iter_list))",
      "metadata": {
        "trusted": true
      },
      "outputs": [
        {
          "name": "stdout",
          "output_type": "stream",
          "text": "Geeks\nFor\nGeeks\n"
        }
      ],
      "execution_count": 183
    },
    {
      "id": "b3555834-6e32-44e2-984f-9feb23834079",
      "cell_type": "code",
      "source": "# generator is used to create a iterator uses the keyword “yield” untead of returning it in defined function\n# Generators are implemented using a function\n# Here, the yield function returns the data without affecting or exiting the function\n# It will return a sequence of data in an iterable format where we need to iterate over the sequence to use the data as they won’t store the entire sequence in the memory\n# Function is used to implement a generator.\n# All the local variables before the yield function are stored. \n# Every generator is an iterator\n# Generator uses yield \n# Generators are mostly used in loops to generate an iterator by returning all the values in the loop without affecting the iteration of the loop\ndef sq_numbers(n):\n    for i in range(1, n+1):\n        yield i*i\n\n\na = sq_numbers(3)\n\nprint(\"The square of numbers 1,2,3 are : \")\nprint(next(a))\nprint(next(a))\nprint(next(a))",
      "metadata": {
        "trusted": true
      },
      "outputs": [
        {
          "name": "stdout",
          "output_type": "stream",
          "text": "The square of numbers 1,2,3 are : \n1\n4\n9\n"
        }
      ],
      "execution_count": 181
    },
    {
      "id": "e89437c3-f432-41c3-b4c9-cb98f1877e19",
      "cell_type": "code",
      "source": "def square(n):\n    for i in range(0, n+1):\n        square = i *2\n        yield square\n\na = square(10)\n\nprint(\"The square of numbers 1,2,3 are : \")\nprint(next(a))\nprint(next(a))\nprint(next(a))\nprint(next(a))\nprint(next(a))\nprint(next(a))\nprint(next(a))\nprint(next(a))\nprint(next(a))\nprint(next(a))",
      "metadata": {
        "trusted": true
      },
      "outputs": [
        {
          "name": "stdout",
          "output_type": "stream",
          "text": "The square of numbers 1,2,3 are : \n0\n2\n4\n6\n8\n10\n12\n14\n16\n18\n"
        }
      ],
      "execution_count": 182
    },
    {
      "id": "0810b829-68ef-48e2-9a0e-6148f0697e72",
      "cell_type": "code",
      "source": "s=\"abc\"\n# # Generate all substrings using list comprehension\nsubstrings = [s[i:j] for i in range(len(s)) for j in range(i+1, len(s)+1)]\nprint(substrings)",
      "metadata": {
        "trusted": true
      },
      "outputs": [
        {
          "name": "stdout",
          "output_type": "stream",
          "text": "['a', 'ab', 'abc', 'b', 'bc', 'c']\n"
        }
      ],
      "execution_count": 184
    },
    {
      "id": "21c4c9a5-7ed5-4b74-8c69-e187cd5b1b37",
      "cell_type": "code",
      "source": "# reverse the string Using a Loop and join()\n\ndef reverse_string_loop(s):\n    reversed_chars = []\n    for char in s:\n        reversed_chars.insert(0, char)  # Insert each character at the start of the list.\n    return ''.join(reversed_chars)\n\nprint(reverse_string_loop(\"hello\"))  # Output: 'olleh'",
      "metadata": {
        "trusted": true
      },
      "outputs": [
        {
          "name": "stdout",
          "output_type": "stream",
          "text": "olleh\n"
        }
      ],
      "execution_count": 185
    },
    {
      "id": "f3b8aa1a-5043-4a7d-968b-1b9407bb187b",
      "cell_type": "code",
      "source": "def reverse_string_using_for_loop(string_value):\n    reversed_string = []\n    for char in string_value:\n        reversed_string.insert(0,char)\n    reversed_string = ''.join(reversed_string)\n    return reversed_string\n\nprint(reverse_string_using_for_loop(string_value='helloworld'))",
      "metadata": {
        "trusted": true
      },
      "outputs": [
        {
          "name": "stdout",
          "output_type": "stream",
          "text": "dlrowolleh\n"
        }
      ],
      "execution_count": 187
    },
    {
      "id": "a206bb58-f772-454f-a3b3-f62d3023fd51",
      "cell_type": "code",
      "source": "def is_palidrome(s):\n    s = s.lower().replace(\" \", \"\") # Convert to lowercase and remove spaces for consistency.\n    return s == s[::-1]\nprint(is_palidrome(\"Madam\"))  # Output: True \nprint(is_palidrome(\"Hello\"))  # Output: False \nprint(is_palidrome(\"racecar\")) \nprint(is_palidrome(\"level\")) ",
      "metadata": {
        "trusted": true
      },
      "outputs": [
        {
          "name": "stdout",
          "output_type": "stream",
          "text": "True\nFalse\nTrue\nTrue\n"
        }
      ],
      "execution_count": 189
    },
    {
      "id": "7a909065-b459-4d7b-a4c0-945d375d6be8",
      "cell_type": "code",
      "source": "# Count the Frequency of Characters in a String\ndef char_frequency(s):\n    freq = {}\n    for char in s:\n        freq[char] = freq.get(char, 0) + 1  # Increment count for each character.\n    return freq\n\nprint(char_frequency(\"hello\"))  ",
      "metadata": {
        "trusted": true
      },
      "outputs": [
        {
          "name": "stdout",
          "output_type": "stream",
          "text": "{'h': 1, 'e': 1, 'l': 2, 'o': 1}\n"
        }
      ],
      "execution_count": 191
    },
    {
      "id": "117c65da-a850-46ec-a5cd-47a247b1a2d5",
      "cell_type": "code",
      "source": "from collections import Counter\n\ndef char_frequency_counter(s):\n    return Counter(s)\n\nprint(char_frequency_counter(\"hello\"))  # Output: {'h': 1, 'e': 1, 'l': 2, 'o': 1}",
      "metadata": {
        "trusted": true
      },
      "outputs": [
        {
          "name": "stdout",
          "output_type": "stream",
          "text": "Counter({'l': 2, 'h': 1, 'e': 1, 'o': 1})\n"
        }
      ],
      "execution_count": 192
    },
    {
      "id": "2efdbc25-02a3-413a-befd-c0e3babc5e84",
      "cell_type": "code",
      "source": "def first_non_repeating(s):\n    count = {}\n    for char in s:\n        count[char] = count.get(char, 0) + 1\n    for char in s:\n        if count[char] == 1:\n            return char\n    return None\n\nprint(first_non_repeating(\"swiss\"))  ",
      "metadata": {
        "trusted": true
      },
      "outputs": [
        {
          "name": "stdout",
          "output_type": "stream",
          "text": "w\n"
        }
      ],
      "execution_count": 193
    },
    {
      "id": "3801e9dd-7224-42df-b6e5-858db2dd0d76",
      "cell_type": "code",
      "source": "def first_repeating(s):\n    count = {}\n    for char in s:\n        count[char] = count.get(char, 0) + 1\n\n    print(count)\n    rep = {}\n    nonrep = {}\n    for char, cnt in count.items():\n        if count[char] == 1:\n            nonrep[char] = cnt\n\n    for char, cnt in count.items():\n        if cnt > 1:\n            rep[char] = cnt\n\n    return rep, nonrep\n\nrep, nonrep = first_repeating(\"abababc\")\nprint(\"rep\", rep)\nprint(\"nonrep\", nonrep)",
      "metadata": {
        "trusted": true
      },
      "outputs": [
        {
          "name": "stdout",
          "output_type": "stream",
          "text": "{'a': 3, 'b': 3, 'c': 1}\nrep {'a': 3, 'b': 3}\nnonrep {'c': 1}\n"
        }
      ],
      "execution_count": 215
    },
    {
      "id": "d4253f99-87b4-4c9a-a569-74745d558bc1",
      "cell_type": "code",
      "source": "rep, nonrep = first_repeating(\"geeksforgeeks\")\nprint(\"rep\", rep)\nprint(\"nonrep\", nonrep)",
      "metadata": {
        "trusted": true
      },
      "outputs": [
        {
          "name": "stdout",
          "output_type": "stream",
          "text": "{'g': 2, 'e': 4, 'k': 2, 's': 2, 'f': 1, 'o': 1, 'r': 1}\nrep {'g': 2, 'e': 4, 'k': 2, 's': 2}\nnonrep {'f': 1, 'o': 1, 'r': 1}\n"
        }
      ],
      "execution_count": 217
    },
    {
      "id": "74b63323-6d4c-423f-a4c7-7a2e75f57d86",
      "cell_type": "code",
      "source": "a = 'helloworld'\nstr1 = []\nstr2 = []\nfor char in a:\n    if char.lower() in 'AEIOUaeiou':\n        str1.append(char)\n    else:\n        str2.append(char)\n\nprint(str1 + str2)",
      "metadata": {
        "trusted": true
      },
      "outputs": [
        {
          "name": "stdout",
          "output_type": "stream",
          "text": "['e', 'o', 'o', 'h', 'l', 'l', 'w', 'r', 'l', 'd']\n"
        }
      ],
      "execution_count": 225
    },
    {
      "id": "ffca5956-2713-498a-8afc-edf40efeb2cb",
      "cell_type": "code",
      "source": "a = 'hello12345'\ncharacters= []\nnumbers = []\nfor char in a:\n    if char.isalpha():\n        characters.append(char)\n    else:\n        numbers.append(char)\n\nprint('characters', characters)\nprint('numbers', numbers)\n",
      "metadata": {
        "trusted": true
      },
      "outputs": [
        {
          "name": "stdout",
          "output_type": "stream",
          "text": "characters ['h', 'e', 'l', 'l', 'o']\nnumbers ['1', '2', '3', '4', '5']\n"
        }
      ],
      "execution_count": 228
    },
    {
      "id": "a66c4047-e39d-46af-be89-b4575ecd3db6",
      "cell_type": "code",
      "source": "\n# Multi-level Inheritance\n\nclass GrandParent:\n\n    def __init__(self, name):\n        self.name = name\n\n    def greet(self):\n        return f\"Hi  grantparent {self.name} here\"\n\nclass Parent(GrandParent): # single inheritance\n\n    def __init__(self, name, age):\n        super().__init__(name)\n        self.age = age\n        \n\n    def introduce(self):\n        return f\"I am the Parent {self.name}, my age is {self.age}\"\n\n# the Child class inherits methods from both Parent and Grandparent classes, demonstrating multilevel inheritance\n\nclass Child(Parent): # multi-level inheritance\n\n    def __init__(self, name,age, hobby):\n        super().__init__(name, age)\n        self.hobby = hobby\n\n    def describe_hobby(self):\n        return f\"I am child {self.name}, My age is {self.age}, my hobby is {self.hobby}\"\n\nobj = GrandParent('Kishore')\nprint(obj.greet())\n\nobj1 = Parent('Rajesh',30)\nprint(obj1.greet())\nprint(obj1.introduce())\n\nobj2 = Child('Ram',10,'Chess')\nprint(obj2.greet())\nprint(obj2.introduce())\nprint(obj2.describe_hobby())\n",
      "metadata": {
        "trusted": true
      },
      "outputs": [
        {
          "name": "stdout",
          "output_type": "stream",
          "text": "Hi  grantparent Kishore here\nHi  grantparent Rajesh here\nI am the Parent Rajesh, my age is 30\nHi  grantparent Ram here\nI am the Parent Ram, my age is 10\nI am child Ram, My age is 10, my hobby is Chess\n"
        }
      ],
      "execution_count": 236
    },
    {
      "id": "b1a10f4e-d5c4-4e2e-b5cc-173bab816353",
      "cell_type": "code",
      "source": "# sum of 2 dict values with same key\ndef dict_of_2(d1, d2):\n    d3 = {}\n    for k1, v1 in d1.items():\n        for k2, v2 in d2.items():\n            if k1 == k2:\n                d3[k1] = d1[k1] + d2[k2]\n    return d3\n\nd1 = {'a':100,'b': 200, 'c': 300}\nd2 = {'a':100,'b': 200, 'c': 300}\nprint(dict_of_2(d1, d2))",
      "metadata": {
        "trusted": true
      },
      "outputs": [
        {
          "name": "stdout",
          "output_type": "stream",
          "text": "{'a': 200, 'b': 400, 'c': 600}\n"
        }
      ],
      "execution_count": 237
    },
    {
      "id": "0e70a6cc-2841-444a-a579-6295ef2d8446",
      "cell_type": "code",
      "source": "# sum of 2 dict values with different key\ndef dict_of_2(d1, d2):\n    d3 = {}\n    for k1, v1 in d1.items():\n        for k2, v2 in d2.items():\n            if k1 == k2:\n                d3[k1] = d1[k1] + d2[k2]\n    return d3\n\nd1 = {'a':100,'b': 200, 'c': 300}\nd2 = {'a':100,'b': 200, 'd': 300}\nd2.pop('d')\nd2['c']=300\nprint(dict_of_2(d1, d2))",
      "metadata": {
        "trusted": true
      },
      "outputs": [
        {
          "name": "stdout",
          "output_type": "stream",
          "text": "{'a': 200, 'b': 400, 'c': 600}\n"
        }
      ],
      "execution_count": 240
    },
    {
      "id": "cec46df3-4220-4859-8c75-c1a5d43b64a2",
      "cell_type": "code",
      "source": "# for loop\nd1 = {'a':100,'b': 200, 'c': 300}\nfor k, v in d1.items():\n    print(k,v)\n    ",
      "metadata": {
        "trusted": true
      },
      "outputs": [
        {
          "name": "stdout",
          "output_type": "stream",
          "text": "a 100\nb 200\nc 300\n"
        }
      ],
      "execution_count": 241
    },
    {
      "id": "1571f402-07a1-47de-8568-07e77668353d",
      "cell_type": "code",
      "source": "# for loop to print only keys\nd1 = {'a':100,'b': 200, 'c': 300}\nfor k in d1.keys():\n    print(k)",
      "metadata": {
        "trusted": true
      },
      "outputs": [
        {
          "name": "stdout",
          "output_type": "stream",
          "text": "a\nb\nc\n"
        }
      ],
      "execution_count": 242
    },
    {
      "id": "0e8569e3-0837-4243-9f9d-e0beb3173f01",
      "cell_type": "code",
      "source": "# for loop to print only values\nd1 = {'a':100,'b': 200, 'c': 300}\nfor k in d1.values():\n    print(k)",
      "metadata": {
        "trusted": true
      },
      "outputs": [
        {
          "name": "stdout",
          "output_type": "stream",
          "text": "100\n200\n300\n"
        }
      ],
      "execution_count": 243
    },
    {
      "id": "c6b4ad2a-785b-464e-bbb4-667bcb2b1948",
      "cell_type": "code",
      "source": "# to create a new dictionary - unordered, not allowed duplicate keys, mutable, unique keys, allowed different data type as values\nd1 = {}\nd2 = dict()\nprint(\"create a dictionary using square brackets\", d1)\n\nprint(\"create a dictionary using dict() constructor or method\", d2)\n\nd1['a'] = 100\nd1['b'] = 200\nd1['c'] = 300\n\nd2.update({'a':100,'b':200,'c':300, 'd':['hello',(1,2,3),15, 5,5, {1,2,3,4,5},[1,2,3]]})\n\nprint('After update keys and values', d1)\n\nprint('After update keys and values', d2)\n\n",
      "metadata": {
        "trusted": true
      },
      "outputs": [
        {
          "name": "stdout",
          "output_type": "stream",
          "text": "create a dictionary using square brackets {}\ncreate a dictionary using dict() constructor or method {}\nAfter update keys and values {'a': 100, 'b': 200, 'c': 300}\nAfter update keys and values {'a': 100, 'b': 200, 'c': 300, 'd': ['hello', (1, 2, 3), 15, 5, 5, {1, 2, 3, 4, 5}, [1, 2, 3]]}\n"
        }
      ],
      "execution_count": 247
    },
    {
      "id": "f09e1e02-26a5-4c9e-b7ef-addc487d7d07",
      "cell_type": "code",
      "source": "# to create a new dictionary fromkeys()\nd1 = ['a','b','c','d']\nd2 = dict.fromkeys(d1, 1)\nprint(d2)",
      "metadata": {
        "trusted": true
      },
      "outputs": [
        {
          "name": "stdout",
          "output_type": "stream",
          "text": "{'a': 1, 'b': 1, 'c': 1, 'd': 1}\n"
        }
      ],
      "execution_count": 249
    },
    {
      "id": "6d0655db-8bfe-42fb-b456-f0dbec04a3da",
      "cell_type": "code",
      "source": "d = {'a': 1, 'b': 1, 'c': 1, 'd': 1}\nprint(dir(d))",
      "metadata": {
        "trusted": true
      },
      "outputs": [
        {
          "name": "stdout",
          "output_type": "stream",
          "text": "['__class__', '__class_getitem__', '__contains__', '__delattr__', '__delitem__', '__dir__', '__doc__', '__eq__', '__format__', '__ge__', '__getattribute__', '__getitem__', '__getstate__', '__gt__', '__hash__', '__init__', '__init_subclass__', '__ior__', '__iter__', '__le__', '__len__', '__lt__', '__ne__', '__new__', '__or__', '__reduce__', '__reduce_ex__', '__repr__', '__reversed__', '__ror__', '__setattr__', '__setitem__', '__sizeof__', '__str__', '__subclasshook__', 'clear', 'copy', 'fromkeys', 'get', 'items', 'keys', 'pop', 'popitem', 'setdefault', 'update', 'values']\n"
        }
      ],
      "execution_count": 250
    },
    {
      "id": "eb946ce3-5607-4bc2-a3f6-d8b9a3b2be05",
      "cell_type": "code",
      "source": "d = {'a': 1, 'b': 1, 'c': 1, 'd': 1}\nd.pop('d')\nprint(d)",
      "metadata": {
        "trusted": true
      },
      "outputs": [
        {
          "name": "stdout",
          "output_type": "stream",
          "text": "{'a': 1, 'b': 1, 'c': 1}\n"
        }
      ],
      "execution_count": 252
    },
    {
      "id": "6e93e958-5e82-4e8e-91c1-06ceb11e00ca",
      "cell_type": "code",
      "source": "d = {'a': 1, 'b': 1, 'c': 1, 'd': 1}\nd.popitem()\nprint(d)",
      "metadata": {
        "trusted": true
      },
      "outputs": [
        {
          "name": "stdout",
          "output_type": "stream",
          "text": "{'a': 1, 'b': 1, 'c': 1}\n"
        }
      ],
      "execution_count": 254
    },
    {
      "id": "006ca336-4e75-4ed4-8557-ab8c67c9ee4f",
      "cell_type": "code",
      "source": "d = {'a': 1, 'b': 1, 'c': 1, 'd': 1}\nprint(d)\nd.clear()\nprint(d)",
      "metadata": {
        "trusted": true
      },
      "outputs": [
        {
          "name": "stdout",
          "output_type": "stream",
          "text": "{'a': 1, 'b': 1, 'c': 1, 'd': 1}\n{}\n"
        }
      ],
      "execution_count": 255
    },
    {
      "id": "397d078a-b3b0-42b6-b66b-f97bc6c066bb",
      "cell_type": "code",
      "source": "d = {'a': 1, 'b': 1, 'c': 1, 'd': 1}\nprint(d)\nd1 = d.copy()\nprint(d1)\n\n",
      "metadata": {
        "trusted": true
      },
      "outputs": [
        {
          "name": "stdout",
          "output_type": "stream",
          "text": "{'a': 1, 'b': 1, 'c': 1, 'd': 1}\n{'a': 1, 'b': 1, 'c': 1, 'd': 1}\n"
        }
      ],
      "execution_count": 257
    },
    {
      "id": "95b32c60-c87e-4cf0-80a0-a649d8af2c01",
      "cell_type": "code",
      "source": "# list operation\ndef ascending_sort(list1):\n    for i in range(0, len(list1)):\n        for j in range(0, len(list1) -i -1):\n            if list1[j] > list1[j+1]:\n                list1[j], list1[j+1] = list1[j+1], list1[j]\n    return list1\n\nlist1 = [10,30,20,50,40,60,70]\nascending_sort(list1)\n",
      "metadata": {
        "trusted": true
      },
      "outputs": [
        {
          "execution_count": 251,
          "output_type": "execute_result",
          "data": {
            "text/plain": "[10, 20, 30, 40, 50, 60, 70]"
          },
          "metadata": {}
        }
      ],
      "execution_count": 258
    },
    {
      "id": "907015df-6bda-45a0-b6cf-478ba908dd61",
      "cell_type": "code",
      "source": "# list operation\ndef decending_sort(list1):\n    for i in range(0, len(list1)):\n        for j in range(0, len(list1) -i -1):\n            if list1[j] < list1[j+1]:\n                list1[j], list1[j+1] = list1[j+1], list1[j]\n    return list1\n\nlist1 = [10,30,20,50,40,60,70]\ndecending_sort(list1)",
      "metadata": {
        "trusted": true
      },
      "outputs": [
        {
          "execution_count": 252,
          "output_type": "execute_result",
          "data": {
            "text/plain": "[70, 60, 50, 40, 30, 20, 10]"
          },
          "metadata": {}
        }
      ],
      "execution_count": 259
    },
    {
      "id": "40fc6e29-8a15-4c5e-84cc-3bddb48ae86a",
      "cell_type": "code",
      "source": "try:\n    result = 10 / 0\nexcept ZeroDivisionError:\n    print(\"Cannot divide by zero.\")\nexcept Exception as e:\n    print(e)\nfinally:\n    print(\"Execution completed.\")",
      "metadata": {
        "trusted": true
      },
      "outputs": [
        {
          "name": "stdout",
          "output_type": "stream",
          "text": "Cannot divide by zero.\nExecution completed.\n"
        }
      ],
      "execution_count": 262
    },
    {
      "id": "05fc5b59-a7c9-4fcf-aed2-d1dc112e9577",
      "cell_type": "code",
      "source": "# unhandled exception can lead to system crashes or security vulnerabilities\n# exception handled properly in code\n# program can gracefully handle unexpected errors\ntry: # try block contains the code that might raise an exception, NameError, IndexError, SyntaxError, FileNotFound Error, ValueError, ModuleNotFound Error\n    # importError, AttributeError, IndendationError, KeyError, RunTimeError, StopIteration, TabError, SystemError, TypeError, ZerDivsionError\n    print(lesson)\n#except NameError: \n    #print(\"lesson variable not declared\") \nexcept Exception as e: # except block allows me to catch and respond to specific types of exceptions. \n    print(e)\nfinally:\n    print(\"Execution completed.\")",
      "metadata": {
        "trusted": true
      },
      "outputs": [
        {
          "name": "stdout",
          "output_type": "stream",
          "text": "name 'lesson' is not defined\nExecution completed.\n"
        }
      ],
      "execution_count": 266
    },
    {
      "id": "4b7e381f-5278-4ab2-820b-f42573d66bce",
      "cell_type": "code",
      "source": "# Function with below code\n\n# def keyword\n\n# function name \n\n# function paramters - (a,b, *args, **kwargs, c=None)\n\n# scope of variables - local variable inside the function, global variable inside and outside the function\n\n# logic - for loop, if-else condition, operators, control statements, lambda, map, filter, reduce function, list comphrehension, exception handling\n\n        # operators - \n            # Arithmentic operator - +, - , *, / , // , **\n            # Assignment operator - =, +=, -=, *=, /=, //=, %=, **=, &=, |=, ^=, >>=, <<=, :=\n            # comparision operator - ==, !=, >, <, >=, <=\n            # logical operator - and, or, not\n            # identity operator - is, is not\n            # memebership operator - in, not in\n            # Bitwise Operator - &, |, ^, ~, <<, >>\n            \n \n        # while loop\n        # range() func\n        # len() func\n        # enumerate() func\n        # iter()\n        # next()\n        # yield\n        # control statements - pass, break, continue\n        # if -elif - else condition\n        # Expression\n        # statements\n        # Exception handling\n\n# Return statement \n    # - None, to return the list or tuple or string or dict or int or set or float\n    # - String manipulation, string concatenation\n    # - use class methods to alter the code for desired logic to yield the result\n    # Yield keyword used in generator function\n    # iter, next()\n    # print statement\n\n# exception handling \n    # try:\n    # except\n    # else\n    # finally\n\n# call a function\n    # passing argument to function \n    # Passing keyword argument\n    # Passing default argument\n    # Passing positional argument\n    # Passing variable no of arguments\n    # Passing variable no of keyword arguments     \n\n# Operator Precedence\nprint((6 + 3) - (6 + 3)) #- Parenthesis have the highest precedence, and need to be evaluated first\nprint(100 - 3 ** 3)  # Exponentiation has higher precedence than subtraction, and needs to be evaluated first\nprint(100 + ~3) # Bitwise NOT has higher precedence than addition, and needs to be evaluated first.\tUnary plus, unary minus, and bitwise NOT \nprint(100 + 5 * 3) # Multiplication has higher precedence than addition, and needs to be evaluated first.\nprint(100 + 5 * 3) # Multiplication has higher precedence than addition, and needs to be evaluated first.\nprint(8 >> 4 - 2)\nprint(8 << 4 - 2)\n\n\"\"\"\nBitwise right shift has a lower precedence than subtraction, and we need to calculate the subtraction first.\nThe calculation above reads 8 >> 2 = 2\n\nMore explanation:\nThe >> operator moves each bit the specified number of times to the right. Empty holes at the left are filled with 0's.\n\nIf you move each bit 2 times to the right, 8 becomes 2:\n 8 = 0000000000001000\nbecomes\n 2 = 0000000000000010\n\nDecimal numbers and their binary values:\n 0 = 0000000000000000\n 1 = 0000000000000001\n 2 = 0000000000000010\n 3 = 0000000000000011\n 4 = 0000000000000100\n 5 = 0000000000000101\n 6 = 0000000000000110\n 7 = 0000000000000111\n 8 = 0000000000001000\n 9 = 0000000000001001\n10 = 0000000000001010\n11 = 0000000000001011\n12 = 0000000000001100\n\"\"\"\n\nprint(6 & 2 + 1)\n\n\"\"\"\nBitwise AND has a lower precedence than addition, and we need to calculate the addition first.\nThe calculation above reads 6 & 3 = 2\n\nMore explanation:\nThe & operator compares each bit and set it to 1 if both are 1, otherwise it is set to 0:\n\n6 = 0000000000000110\n3 = 0000000000000011\n--------------------\n2 = 0000000000000010\n====================\n\nDecimal numbers and their binary values:\n0 = 0000000000000000\n1 = 0000000000000001\n2 = 0000000000000010\n3 = 0000000000000011\n4 = 0000000000000100\n5 = 0000000000000101\n6 = 0000000000000110\n7 = 0000000000000111\n\"\"\"\nprint(6 & 2 + 1)\n\n\"\"\"\nBitwise AND has a lower precedence than addition, and we need to calculate the addition first.\nThe calculation above reads 6 & 3 = 2\n\nMore explanation:\nThe & operator compares each bit and set it to 1 if both are 1, otherwise it is set to 0:\n\n6 = 0000000000000110\n3 = 0000000000000011\n--------------------\n2 = 0000000000000010\n====================\n\nDecimal numbers and their binary values:\n0 = 0000000000000000\n1 = 0000000000000001\n2 = 0000000000000010\n3 = 0000000000000011\n4 = 0000000000000100\n5 = 0000000000000101\n6 = 0000000000000110\n7 = 0000000000000111\n\"\"\"\n\nprint(6 | 2 + 1)\n\n\"\"\"\nBitwise OR has a lower precedence than addition, and we need to calculate the addition first.\nThe calculation above reads 6 | 3 = 7\n\nMore explanation:\nThe | operator compares each bit and set it to 1 if one or both is 1, otherwise it is set to 0:\n\n6 = 0000000000000110\n3 = 0000000000000011\n--------------------\n7 = 0000000000000111\n====================\n\nDecimal numbers and their binary values:\n0 = 0000000000000000\n1 = 0000000000000001\n2 = 0000000000000010\n3 = 0000000000000011\n4 = 0000000000000100\n5 = 0000000000000101\n6 = 0000000000000110\n7 = 0000000000000111\n\"\"\"\n\nprint(5 == 4 + 1)\n\n\"\"\"\nComparisons, identity, and membership operators\nThe \"like\" comparison has a lower precedence than addition, and we need to calculate the addition first.\nThe calculation above reads 5 == 5 = True\n\"\"\"\n\nprint(not 5 == 5)\n\n\"\"\"\nThe logical NOT operator has a lower precedence than \"like\" comparison, and we need to calculate the comparison first.\nThe calculation above reads: not True = False\n\"\"\"\n\nprint(1 or 2 and 3)\n\n\"\"\"\nThe and operator has a higher precedence than or, and we need to calculate the and expression first.\nThe calculation above reads: 1 or 3 = 1\n\"\"\"\n\nprint(1 or 2 and 3)\n\n\"\"\"\nThe and operator has a higher precedence than or, and we need to calculate the and expression first.\nThe calculation above reads: 1 or 3 = 1\n\"\"\"\n\nprint(4 or 5 + 10 or 8)\n\n\"\"\"\nThe or operator has a lower precedence than addition, and we need to calculate the addition first.\nThe calculation above reads: 4 or 15 or 8 = 4\n\"\"\"\n# If two operators have the same precedence, the expression is evaluated from left to right.\nprint(5 + 4 - 7 + 3)\n\n\"\"\"\nAdditions and subtractions have the same precedence, and we need to calculate from left to right.\nThe calculation above reads:\n5 + 4 = 9\n9 - 7 = 2\n2 + 3 = 5\n\"\"\"\n\ndef positional_arguments(name, age):\n    return f\"my name is {name}, my age is {age}\"\n\ndef positional_default_arguments(name, age=7):\n    return f\"my name is {name}, my age is {age}\"\n    \ndef variable_no_of_arguments(*args):\n    args = args\n    for i in args:\n        print(i, type(i))\n\ndef variable_no_of_keyword_arguments(**kwargs):\n    kwargs = kwargs\n    for k, value in kwargs.items():\n        print(k, value, type(k)) \n\nprint(positional_arguments('Anamika', 8)) #Positional argument\nprint(positional_default_arguments('Anamika')) # Default argument\nargs = [\"hello\", 10, 5.5, [1,2,3,4,5], (10,20,30), {1,2,3,4,5}, {'a':1,'b': 2}]\nvariable_no_of_arguments(args) # variable no of arguments\nvariable_no_of_keyword_arguments(s1='Hi', s2='Bro', s3='Where are you') # variable no of keyword arguments",
      "metadata": {
        "trusted": true
      },
      "outputs": [
        {
          "name": "stdout",
          "output_type": "stream",
          "text": "0\n73\n96\n115\n115\n2\n32\n2\n2\n7\nTrue\nFalse\n1\nmy name is Anamika, my age is 8\nmy name is Anamika, my age is 7\n['hello', 10, 5.5, [1, 2, 3, 4, 5], (10, 20, 30), {1, 2, 3, 4, 5}, {'a': 1, 'b': 2}] <class 'list'>\ns1 Hi <class 'str'>\ns2 Bro <class 'str'>\ns3 Where are you <class 'str'>\n"
        }
      ],
      "execution_count": 282
    },
    {
      "id": "76cfe2a4-1b74-4aa2-acc3-b1ef670ee406",
      "cell_type": "code",
      "source": "# Object Oriented Programming\n\n# class keyword\n# class name\n# class attributes\n# class constructor - class properties\n# self as first argument to instance method and followed by other arguments\n# class methods - class method, static method, instance method\n# scope of variables - class variable, static variable, instance attributes, private variable, public variable, protected variable\n# logic - for loop, if-else condition, operators, control statements, lambda, map, filter, reduce function, list comphrehension, exception handling\n# Return statement \n    # - None, to return the list or tuple or string or dict or int or set or float\n    # - String manipulation, string concatenation\n    # - use class methods to alter the code for desired logic to yield the result\n    # Yield keyword used in generator function\n    # iter, next()\n# exception handling - try, except, else, finally\n\n# create a class template\n# create a object\n# You can create a multiple object\n# call a function\n# passing argument to function \n# Passing keyword argument\n# Passing default argument\n# Passing positional argument\n# Passing variable no of arguments\n# Passing variable no of keyword arguments",
      "metadata": {
        "trusted": true
      },
      "outputs": [],
      "execution_count": null
    }
  ]
}