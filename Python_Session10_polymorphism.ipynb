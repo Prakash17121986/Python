{
  "metadata": {
    "kernelspec": {
      "name": "python",
      "display_name": "Python (Pyodide)",
      "language": "python"
    },
    "language_info": {
      "codemirror_mode": {
        "name": "python",
        "version": 3
      },
      "file_extension": ".py",
      "mimetype": "text/x-python",
      "name": "python",
      "nbconvert_exporter": "python",
      "pygments_lexer": "ipython3",
      "version": "3.8"
    }
  },
  "nbformat_minor": 5,
  "nbformat": 4,
  "cells": [
    {
      "id": "ee17e5f6-339c-4f62-8552-17b1c3a71744",
      "cell_type": "code",
      "source": "# Method overloading in Python\n# You can define multiple methods with the same name but different parameter lists. This method is called method overloading\n# Python does not support method overloading by default\n# it offers several technique to simulate method overloading\ndef product(a,b):\n    p = a*b\n    print(p)\n\ndef product(a,b,c):\n    p = a*b*c\n    print(p)\n\nproduct(4,5,5)\n#product(4,5) # TypeError: product() missing 1 required positional argument: 'c'\n# Python only recognizes the latest definition of product()\n# The earlier definition product(a,b) gets overwritten\n# if you call product(4,5), it will raise an error because the latest version expects 3 arguments\n\n",
      "metadata": {
        "trusted": true
      },
      "outputs": [
        {
          "name": "stdout",
          "output_type": "stream",
          "text": "100\n"
        }
      ],
      "execution_count": 4
    },
    {
      "id": "a06294e0-f85f-413c-8f5d-a31e829cf38a",
      "cell_type": "code",
      "source": "def add(datatype, *args):\n    if datatype == 'int':\n        res = 0\n    elif datatype == 'str':\n        res = ''\n\n    for item in args:\n        res+=item\n    print(res)\nadd('int', 5, 6)\nadd('str', 'hello', 'world')\n# the first argument specifies the data type (int or str)\n# *args allows passing a variable number of additional arguments\n# Function uses a loop to add number of concatenation strings based on the data type\n# This siumulates method overloading by processing the arguments dynamically\n",
      "metadata": {
        "trusted": true
      },
      "outputs": [
        {
          "name": "stdout",
          "output_type": "stream",
          "text": "11\nhelloworld\n"
        }
      ],
      "execution_count": 8
    },
    {
      "id": "0e5f550f-1162-44b1-81d5-89d24f6ca8fb",
      "cell_type": "code",
      "source": "def add(a=None, b=None):\n    if a is not None and b is None:\n        print(a)\n    else:\n        print(a+b)\nadd(2,3)\nadd(2)",
      "metadata": {
        "trusted": true
      },
      "outputs": [
        {
          "name": "stdout",
          "output_type": "stream",
          "text": "5\n2\n"
        }
      ],
      "execution_count": 9
    },
    {
      "id": "ce580d28-e853-4a97-8d74-471398db660e",
      "cell_type": "code",
      "source": "from multipledispatch import dispatch\n\n@dispatch(int, int)\ndef product(first, second):\n    result = first * second\n    print(result)\n\n@dispatch(int, int)\ndef product(first, second, third):\n    result = first * second * third\n    print(result)\n\n@dispatch(int, int)\ndef product(first, second):\n    result = first * second * third\n    print(result)\n\nproduct(2,3)\nproduct(2,3,2)\nproduct(2.2,3.4, 2.3)\n\n# @dispatch decorator handles method overloading cleanly\n# seperate functions are created for different signatures\n# Based on the number and type of arguments, the correct version is called automatically\n# This method is closest to true method overloading in Python\n",
      "metadata": {
        "trusted": true
      },
      "outputs": [
        {
          "ename": "<class 'ModuleNotFoundError'>",
          "evalue": "No module named 'multipledispatch'",
          "traceback": [
            "\u001b[0;31m---------------------------------------------------------------------------\u001b[0m",
            "\u001b[0;31mModuleNotFoundError\u001b[0m                       Traceback (most recent call last)",
            "Cell \u001b[0;32mIn[13], line 1\u001b[0m\n\u001b[0;32m----> 1\u001b[0m \u001b[38;5;28;01mfrom\u001b[39;00m \u001b[38;5;21;01mmultipledispatch\u001b[39;00m \u001b[38;5;28;01mimport\u001b[39;00m dispatch\n\u001b[1;32m      3\u001b[0m \u001b[38;5;129m@dispatch\u001b[39m(\u001b[38;5;28mint\u001b[39m, \u001b[38;5;28mint\u001b[39m)\n\u001b[1;32m      4\u001b[0m \u001b[38;5;28;01mdef\u001b[39;00m \u001b[38;5;21mproduct\u001b[39m(first, second):\n\u001b[1;32m      5\u001b[0m     result \u001b[38;5;241m=\u001b[39m first \u001b[38;5;241m*\u001b[39m second\n",
            "\u001b[0;31mModuleNotFoundError\u001b[0m: No module named 'multipledispatch'"
          ],
          "output_type": "error"
        }
      ],
      "execution_count": 13
    },
    {
      "id": "db0dfed4-9109-4563-ae53-fbe5c7b65976",
      "cell_type": "code",
      "source": "# Example of Method overriding\nclass Parent:\n    def show(self):\n        print(\"Inside Parent\")\n\nclass Child(Parent):\n    def show(self):\n        print(\"Inside Child\")\n\nc = Child()\nc.show() # Output: Inside Child\n# overriding refers to the ability of a subclass to provide a specific implementation of a method that is already defines in its superclass.\n# This is a common feature in object-oriented programming and is fully supported in Python.\n# This allows a method to behave differently depending on the subclass that implement it.\n# Overloading in Python is not supported in the traditional sense where multiple methods can have the same name but different parameters.\n# However, python supports operator overloading and allows methods to handle arguments of different types. effectively overload by type checking inside methods.\n",
      "metadata": {
        "trusted": true
      },
      "outputs": [
        {
          "name": "stdout",
          "output_type": "stream",
          "text": "Inside Child\n"
        }
      ],
      "execution_count": 15
    },
    {
      "id": "18279a80-792f-4b80-a053-9e1b709f5f83",
      "cell_type": "code",
      "source": "# Does python allow operator overloading ?\n# Yes, Python allows operator overloading.\n# You can define your own behaviour for built-in operators when they are applied to objects of classes you define.\n# This is done by redefining special methods in your class, such as __add__, __mul__ for etc\n# Example of operator overloading\nclass Point:\n    def __init__(self, x=0, y=0): \n        self.x = x\n        self.y = y\n\n    def __str__(self):\n        return f\"({self.x}, {self.y})\"\n\n    def __add__(self, other):\n        x = self.x + other.x\n        y = self.y + other.y\n        return Point(x, y)\n\np1 = Point(1,2)\np2 = Point(2,3)\nprint(p1 + p2)\n\n",
      "metadata": {
        "trusted": true
      },
      "outputs": [
        {
          "name": "stdout",
          "output_type": "stream",
          "text": "(3, 5)\n"
        }
      ],
      "execution_count": 17
    },
    {
      "id": "ee7a98f9-ef18-4595-97c6-1af92b6c29e3",
      "cell_type": "code",
      "source": "# # The __init__method in python is a special method used for initializing newly created objects. it is called automatically when a new object of a class is created.\n        # The method can have arguments through which you can pass for initalizing object attributes.\n# Examples of __init__:\nclass Person:\n    def __init__(self, name, age):\n        self.name = name\n        self.age = age\n        \n    def greet(self):\n        print(f\"Hello, my name is {self.name}, and I an {self.age}\")\n\np = Person(\"John\", 30)\nprint(p)\np.greet()\n",
      "metadata": {
        "trusted": true
      },
      "outputs": [
        {
          "name": "stdout",
          "output_type": "stream",
          "text": "<__main__.Person object at 0x287beb0>\nHello, my name is John, and I an 30\n"
        }
      ],
      "execution_count": 19
    },
    {
      "id": "84c856f8-3a87-4c01-aeee-3f4fb06f2952",
      "cell_type": "code",
      "source": "# What is Encapsulation in Python ?\n# Encapsulation is a fundamental concept in object oriented programming that involves bundling the data(attributes) and methods(functions) that operate on the data into a single unit or class.\n# It restricts direct access to some of the object's components, which can prevent the accidental modification of data and allows for safer and more structural code.\n# In Python encapsulation is implemented using private(denoted by double underscore __) and protected(denoted by single underscore _) attribute and methods.\n\nclass Account:\n\n    def __init__(self, owner, amount=0):\n        self.owner = owner\n        self.__balance = amount # private_attribute\n\n    def deposit(self, amount):\n        if amount > 0:\n            self.__balance+=amount\n            print(\"Deposit successfull\")\n        else:\n            print(\"Deposit amount must be positive\") \n\n    def get_balance(self):\n        return self.__balance\n\nacct = Account(\"John\")\nacct.deposit(100)\n\nprint(acct.get_balance())\n#print(acct.__balance) # AttributeError: 'Account' object has no attribute '__balance'\n# This will raise an error because _balance is private\n        \n\n",
      "metadata": {
        "trusted": true
      },
      "outputs": [
        {
          "name": "stdout",
          "output_type": "stream",
          "text": "Deposit successfull\n100\n"
        }
      ],
      "execution_count": 23
    },
    {
      "id": "0b8f45e3-aa97-4cac-b682-b2386cc43e2b",
      "cell_type": "code",
      "source": "# Overloading using Function decorators\nfrom functools import singledispatch\n#using the singledispatch decorator\n@singledispatch\ndef greet(arg):\n    raise NotImplementedError(\"Cannot greet this type\")\n\n@greet.register(str)\ndef _(arg):\n    print(f\"Hello, {arg})\")\n\n\n@greet.register(int)\ndef _(arg):\n    print(f\"Hello, number {arg})\")\n\n\n@greet.register(float)\ndef _(arg):\n    print(f\"Hello, floating point number{arg: 2f}!\")\n\n# Testing the overloading\ngreet(\"Alice\")\ngreet(42)\ngreet(3.14)\n",
      "metadata": {
        "trusted": true
      },
      "outputs": [
        {
          "name": "stdout",
          "output_type": "stream",
          "text": "Hello, Alice)\nHello, number 42)\nHello, floating point number 3.140000!\n"
        }
      ],
      "execution_count": 24
    },
    {
      "id": "86f0565e-1cbf-4849-994d-61712ad96f24",
      "cell_type": "code",
      "source": "#  Polymorphism with Classes\nclass Dog:\n    def speak(self):\n        return \"Woof!\"\n\nclass Cat:\n    def speak(self):\n        return \"Meow!\"\n\ndef animal_sound(animal):\n    print(animal.speak())\n\ndog = Dog()\ncat = Cat()\n\nanimal_sound(dog)  # Output: Woof!\nanimal_sound(cat)  # Output: Meow!\n\n# Explanation: The animal_sound function works with any object that has a speak method, demonstrating polymorphism.",
      "metadata": {
        "trusted": true
      },
      "outputs": [
        {
          "name": "stdout",
          "output_type": "stream",
          "text": "Woof!\nMeow!\n"
        }
      ],
      "execution_count": 25
    },
    {
      "id": "efd056e6-3ab8-45ea-aeea-2345fffe410d",
      "cell_type": "code",
      "source": "# Polymorphism with Inheritance\nclass Shape:\n    def area(self):\n        pass\n\nclass Rectangle(Shape):\n    def __init__(self, width, height):\n        self.width = width\n        self.height = height\n\n    def area(self):\n        return self.width * self.height\n\nclass Circle(Shape):\n    def __init__(self, radius):\n        self.radius = radius\n\n    def area(self):\n        return 3.14 * self.radius ** 2\n\nshapes = [Rectangle(4, 5), Circle(3)]\n\nfor shape in shapes:\n    print(shape.area())\n# Output: 20 (Rectangle area)\n#  28.26 (Circle area)\n\n# Explanation: Both Rectangle and Circle override the area method, allowing polymorphic behavior when iterating through shapes.",
      "metadata": {
        "trusted": true
      },
      "outputs": [
        {
          "name": "stdout",
          "output_type": "stream",
          "text": "20\n28.26\n"
        }
      ],
      "execution_count": 26
    },
    {
      "id": "5fa4fc64-6b7b-4b2e-b8b9-1393ee9af6ce",
      "cell_type": "code",
      "source": "# Polymorphism with Built-in Functions\nprint(len(\"Hello\"))       # Output: 5 (Length of string)\nprint(len([1, 2, 3, 4]))  # Output: 4 (Length of list)\nprint(len({\"a\": 1, \"b\": 2}))  # Output: 2 (Length of dictionary)\n'''\nExplanation: The len() function behaves differently based on the type of object it is called on, showcasing polymorphism in Python's built-in functions.\n\nThese examples highlight how Python embraces polymorphism through both user-defined and built-in functionalities, making it a versatile and dynamic language!\n'''\n# Polymorphism is a very important concept in programming. \n# It refers to the use of a single type entity (method, operator or object) to represent different types in different scenarios.\n\n# For integer data types, + operator is used to perform arithmetic addition operation.\nnum1 = 1\nnum2 = 2\nprint(num1+num2)\n\n#or string data types, + operator is used to perform concatenation\nstr1 = \"Python\"\nstr2 = \"Programming\"\nprint(str1+\" \"+str2)\n\n# There are some functions in Python which are compatible to run with multiple data types.\n\n# One such function is the len() function. It can run with many data types in Python. Let's look at some example use cases of the function.\n# Polymorphic len() function\nprint(len(\"Programiz\"))\nprint(len([\"Python\", \"Java\", \"C\"]))\nprint(len({\"Name\": \"John\", \"Address\": \"Nepal\"}))\n\n# Here, we can see that many data types such as string, list, tuple, set, and dictionary can work with the len() function. However, we can see that it returns specific information about specific data types.\n# len(string) -> string -> length of string\n# len(list) -> list -> number of items\n# len(key) -> dict -> number of keys",
      "metadata": {
        "trusted": true
      },
      "outputs": [],
      "execution_count": null
    },
    {
      "id": "cf35d9d2-be03-45c5-8b40-7c529c4f0b9d",
      "cell_type": "code",
      "source": "class Cat:\n    def __init__(self, name, age):\n        self.name = name\n        self.age = age\n\n    def info(self):\n        print(f\"I am a cat. My name is {self.name}. I am {self.age} years old.\")\n\n    def make_sound(self):\n        print(\"Meow\")\n\n\nclass Dog:\n    def __init__(self, name, age):\n        self.name = name\n        self.age = age\n\n    def info(self):\n        print(f\"I am a dog. My name is {self.name}. I am {self.age} years old.\")\n\n    def make_sound(self):\n        print(\"Bark\")\n\n\ncat1 = Cat(\"Kitty\", 2.5)\ndog1 = Dog(\"Fluffy\", 4)\n\nfor animal in (cat1, dog1):\n    animal.make_sound()\n    animal.info()\n    animal.make_sound()\n\n'''\nHere, we have created two classes Cat and Dog. They share a similar structure and have the same method names info() and make_sound().\n\nHowever, notice that we have not created a common superclass or linked the classes together in any way.\nEven then, we can pack these two different objects into a tuple and iterate through it using a common animal variable. \nIt is possible due to polymorphism.\n\n'''",
      "metadata": {
        "trusted": true
      },
      "outputs": [
        {
          "name": "stdout",
          "output_type": "stream",
          "text": "Meow\nI am a cat. My name is Kitty. I am 2.5 years old.\nMeow\nBark\nI am a dog. My name is Fluffy. I am 4 years old.\nBark\n"
        },
        {
          "execution_count": 28,
          "output_type": "execute_result",
          "data": {
            "text/plain": "'\\nHere, we have created two classes Cat and Dog. They share a similar structure and have the same method names info() and make_sound().\\n\\nHowever, notice that we have not created a common superclass or linked the classes together in any way.\\nEven then, we can pack these two different objects into a tuple and iterate through it using a common animal variable. \\nIt is possible due to polymorphism.\\n\\n'"
          },
          "metadata": {}
        }
      ],
      "execution_count": 28
    },
    {
      "id": "ade11259-7006-4a86-8306-6716636e3e84",
      "cell_type": "code",
      "source": "# method overriding\n\nfrom math import pi\n\n\nclass Shape:\n    def __init__(self, name):\n        self.name = name\n\n    def area(self):\n        pass\n\n    def fact(self):\n        return \"I am a two-dimensional shape.\"\n\n    def __str__(self):\n        return self.name\n\n\nclass Square(Shape):\n    def __init__(self, length):\n        super().__init__(\"Square\")\n        self.length = length\n\n    def area(self):\n        return self.length**2\n\n    def fact(self):\n        return \"Squares have each angle equal to 90 degrees.\"\n\nclass Circle(Shape):\n    def __init__(self, radius):\n        super().__init__(\"Circle\")\n        self.radius = radius\n\n    def area(self):\n        return pi*self.radius**2\n\n\na = Square(4)\nb = Circle(7)\nprint(b)\nprint(b.fact())\nprint(a.fact())\nprint(b.area())\n\n# Note: Method Overloading, a way to create multiple methods with the same name but different arguments, is not possible in Python",
      "metadata": {
        "trusted": true
      },
      "outputs": [
        {
          "name": "stdout",
          "output_type": "stream",
          "text": "Circle\nI am a two-dimensional shape.\nSquares have each angle equal to 90 degrees.\n153.93804002589985\n"
        }
      ],
      "execution_count": 30
    },
    {
      "id": "005ef7a1-c542-4839-ac0c-cf0700b1c8f7",
      "cell_type": "code",
      "source": "",
      "metadata": {
        "trusted": true
      },
      "outputs": [],
      "execution_count": null
    }
  ]
}