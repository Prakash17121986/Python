{
  "metadata": {
    "kernelspec": {
      "name": "python",
      "display_name": "Python (Pyodide)",
      "language": "python"
    },
    "language_info": {
      "codemirror_mode": {
        "name": "python",
        "version": 3
      },
      "file_extension": ".py",
      "mimetype": "text/x-python",
      "name": "python",
      "nbconvert_exporter": "python",
      "pygments_lexer": "ipython3",
      "version": "3.8"
    }
  },
  "nbformat_minor": 5,
  "nbformat": 4,
  "cells": [
    {
      "id": "1d632860-5d63-4123-86cb-aa85b34564f8",
      "cell_type": "code",
      "source": "# Data structure\n# List is mutable\n# List Methods\n# array - homogeneous - same data type - supported in C & C++\n# List - hetrogenous - different data type - Python support dynamic data type\na = [1,2,3,4,5,6,7,8]\ndata = [1,2,[1,2,3],\"hello\",{'a':1},4.5,\"True\", {1,2,3,4,5}, (1,2,3)]\nprint(f\"a: {a}, {type(a)}\")\n\nfor i in data:\n    print(f\"{type(i)},{i}\")\n    print(\" \")",
      "metadata": {
        "trusted": true
      },
      "outputs": [
        {
          "name": "stdout",
          "output_type": "stream",
          "text": "a: [1, 2, 3, 4, 5, 6, 7, 8], <class 'list'>\n<class 'int'>,1\n \n<class 'int'>,2\n \n<class 'list'>,[1, 2, 3]\n \n<class 'str'>,hello\n \n<class 'dict'>,{'a': 1}\n \n<class 'float'>,4.5\n \n<class 'str'>,True\n \n<class 'set'>,{1, 2, 3, 4, 5}\n \n<class 'tuple'>,(1, 2, 3)\n \n"
        }
      ],
      "execution_count": 96
    },
    {
      "id": "e8e93544-ae24-4a7b-be10-9d2839af0d0b",
      "cell_type": "code",
      "source": "# list methods\na = [1,2,3,4,5,6,7,8]\nprint(f\"a: {a}, {type(a)}\",)\nprint(\" \")\nprint(f\"{dir(a)}\")\nprint(\" \")",
      "metadata": {
        "trusted": true
      },
      "outputs": [
        {
          "name": "stdout",
          "output_type": "stream",
          "text": "a: [1, 2, 3, 4, 5, 6, 7, 8], <class 'list'>\n \n['__add__', '__class__', '__class_getitem__', '__contains__', '__delattr__', '__delitem__', '__dir__', '__doc__', '__eq__', '__format__', '__ge__', '__getattribute__', '__getitem__', '__getstate__', '__gt__', '__hash__', '__iadd__', '__imul__', '__init__', '__init_subclass__', '__iter__', '__le__', '__len__', '__lt__', '__mul__', '__ne__', '__new__', '__reduce__', '__reduce_ex__', '__repr__', '__reversed__', '__rmul__', '__setattr__', '__setitem__', '__sizeof__', '__str__', '__subclasshook__', 'append', 'clear', 'copy', 'count', 'extend', 'index', 'insert', 'pop', 'remove', 'reverse', 'sort']\n \n"
        }
      ],
      "execution_count": 24
    },
    {
      "id": "e63c9e58-d477-4e4c-ba10-c10ae528e645",
      "cell_type": "code",
      "source": "a = [1,2,3,4,5,6,7,8]\nappend_value = a.append(9)\nprint(f\"append_value: {a}\")\nprint(\" \")\n",
      "metadata": {
        "trusted": true
      },
      "outputs": [
        {
          "name": "stdout",
          "output_type": "stream",
          "text": "append_value: [1, 2, 3, 4, 5, 6, 7, 8, 9]\n \n"
        }
      ],
      "execution_count": 33
    },
    {
      "id": "9c5e1e21-aa66-4757-9b8e-3e4491507fe2",
      "cell_type": "code",
      "source": "a = [1,2,3,4,5,6,7,8]\nextend_value = a.extend([10,11,12])\nprint(f\"extend_value:  {a}\")\nprint(\" \")\n",
      "metadata": {
        "trusted": true
      },
      "outputs": [
        {
          "name": "stdout",
          "output_type": "stream",
          "text": "extend_value:  [1, 2, 3, 4, 5, 6, 7, 8, 10, 11, 12]\n \n"
        }
      ],
      "execution_count": 32
    },
    {
      "id": "2d990a7f-d9ef-45d2-a192-6bbf527e4013",
      "cell_type": "code",
      "source": "a = [1,2,3,4,5,6,7,8]\ninsert_value = a.insert(1,100)\nprint(f\"insert_value: {a}\")\nprint(\" \")\n",
      "metadata": {
        "trusted": true
      },
      "outputs": [
        {
          "name": "stdout",
          "output_type": "stream",
          "text": "insert_value: [1, 100, 2, 3, 4, 5, 6, 7, 8]\n \n"
        }
      ],
      "execution_count": 34
    },
    {
      "id": "4fbba0dc-6681-4190-be62-0b94178e90b9",
      "cell_type": "code",
      "source": "a = [1,2,3,4,5,6,7,8]\ncount_value = a.count(6)\nprint(f\"count of value 6: {count_value}, {a}\")\nprint(\" \")\n",
      "metadata": {
        "trusted": true
      },
      "outputs": [
        {
          "name": "stdout",
          "output_type": "stream",
          "text": "count of value 6: 1, [1, 2, 3, 4, 5, 6, 7, 8]\n \n"
        }
      ],
      "execution_count": 35
    },
    {
      "id": "88f4a775-62e4-42d2-a81e-d4591d7c1131",
      "cell_type": "code",
      "source": "a = [1,2,3,4,5,6,7,8]\nlist_copy = a.copy()\nprint(f\"list_copy: {list_copy}, {a}\")\nprint(\" \")\n",
      "metadata": {
        "trusted": true
      },
      "outputs": [
        {
          "name": "stdout",
          "output_type": "stream",
          "text": "list_copy: [1, 2, 3, 4, 5, 6, 7, 8], [1, 2, 3, 4, 5, 6, 7, 8]\n \n"
        }
      ],
      "execution_count": 29
    },
    {
      "id": "725722a4-0b79-4fe2-9f9b-4f6740968b99",
      "cell_type": "code",
      "source": "a = [1,2,3,4,5,6,7,8]\nindex_value = a.index(2)\nprint(f\"index_value of 2: {index_value}, {a}\")\nprint(\" \")\n",
      "metadata": {
        "trusted": true
      },
      "outputs": [
        {
          "name": "stdout",
          "output_type": "stream",
          "text": "index_value of 2: 1, [1, 2, 3, 4, 5, 6, 7, 8]\n \n"
        }
      ],
      "execution_count": 37
    },
    {
      "id": "05633602-e76c-478f-a99a-a1c83935b18d",
      "cell_type": "code",
      "source": "a = [1,2,3,4,5,6,7,8]\npop_value = a.pop()\nprint(f\"pop_value of 8: {a}\")\nprint(\" \")\n",
      "metadata": {
        "trusted": true
      },
      "outputs": [
        {
          "name": "stdout",
          "output_type": "stream",
          "text": "pop_value of 8: [1, 2, 3, 4, 5, 6, 7]\n \n"
        }
      ],
      "execution_count": 41
    },
    {
      "id": "4ab9d9a2-6869-462f-979c-517a28ab6c67",
      "cell_type": "code",
      "source": "a = [1,2,3,4,5,6,7,8]\nremove_value = a.remove(7)\nprint(f\"remove 7 value : {a}\")\nprint(\" \")\n",
      "metadata": {
        "trusted": true
      },
      "outputs": [
        {
          "name": "stdout",
          "output_type": "stream",
          "text": "remove 7 value : [1, 2, 3, 4, 5, 6, 8]\n \n"
        }
      ],
      "execution_count": 45
    },
    {
      "id": "ec5ecf6d-087a-491d-87da-b03a4f673430",
      "cell_type": "code",
      "source": "a = [1,2,3,4,5,6,7,8]\nreverse_value = a.reverse()\nprint(f\"reverse_value: {a}\")\nprint(\" \")\n",
      "metadata": {
        "trusted": true
      },
      "outputs": [
        {
          "name": "stdout",
          "output_type": "stream",
          "text": "reverse_value: [8, 7, 6, 5, 4, 3, 2, 1]\n \n"
        }
      ],
      "execution_count": 46
    },
    {
      "id": "b55ab2d9-82e0-45f9-a69e-cc317af186b8",
      "cell_type": "code",
      "source": "a = [1,2,3,4,5,6,7,8]\nsort_value = a.sort()\nprint(f\"sort_value: {a}\")\nprint(\" \")\n",
      "metadata": {
        "trusted": true
      },
      "outputs": [
        {
          "name": "stdout",
          "output_type": "stream",
          "text": "sort_value: [1, 2, 3, 4, 5, 6, 7, 8]\n \n"
        }
      ],
      "execution_count": 48
    },
    {
      "id": "0f595b0c-3015-4110-87c1-ec7bdc639c97",
      "cell_type": "code",
      "source": "a = [1,2,3,4,5,6,7,8]\nclear_value = a.clear()\nprint(f\"clear_value: {a}\")\nprint(\" \")\n",
      "metadata": {
        "trusted": true
      },
      "outputs": [
        {
          "name": "stdout",
          "output_type": "stream",
          "text": "clear_value: []\n \n"
        }
      ],
      "execution_count": 50
    },
    {
      "id": "a82cc710-21b9-43a5-95e4-4d75f0a97ea2",
      "cell_type": "code",
      "source": "a = [1,2,3,4,5,6,7,8]\nb = list()\nprint(f\"New list b: {type(b)}, {b}\")\nprint(\" \")\n\nappend_value = b.append(1)\nprint(f\"bappend_value: {append_value}, {b}\")\nprint(\" \")\n",
      "metadata": {
        "trusted": true
      },
      "outputs": [
        {
          "name": "stdout",
          "output_type": "stream",
          "text": "New list b: <class 'list'>, []\n \nbappend_value: None, [1]\n \n"
        }
      ],
      "execution_count": 51
    },
    {
      "id": "30fd9c6c-87f8-4a83-93a0-58f4551139ab",
      "cell_type": "code",
      "source": "# for loop to iterate element in  a list\na = [1,2,3,4,5,6,7,8]\nfor i in a:\n    print(i)\n    ",
      "metadata": {
        "trusted": true
      },
      "outputs": [
        {
          "name": "stdout",
          "output_type": "stream",
          "text": "1\n2\n3\n4\n5\n6\n7\n8\n"
        }
      ],
      "execution_count": 54
    },
    {
      "id": "222236e1-bb87-455c-89fa-c9a31397dee2",
      "cell_type": "code",
      "source": "# concatenation of two list\nlist1 = [1,2,3]\nlist2 = [4,5,6]\nprint(f\"list1: {list1}\")\nprint(f\"list2: {list2}\")\nlist3 = list1 + list2\nprint(f\"list3: {list3}\")",
      "metadata": {
        "trusted": true
      },
      "outputs": [
        {
          "name": "stdout",
          "output_type": "stream",
          "text": "list1: [1, 2, 3]\nlist2: [4, 5, 6]\nlist3: [1, 2, 3, 4, 5, 6]\n"
        }
      ],
      "execution_count": 55
    },
    {
      "id": "fb414bfe-2b4f-4fd9-8613-e4be0c99a286",
      "cell_type": "code",
      "source": "# List repeatation \nlist1 = [1,2,3]\nprint(f\"list1: {list1*3}\")\n",
      "metadata": {
        "trusted": true
      },
      "outputs": [
        {
          "name": "stdout",
          "output_type": "stream",
          "text": "list1: [1, 2, 3, 1, 2, 3, 1, 2, 3]\n"
        }
      ],
      "execution_count": 56
    },
    {
      "id": "fed504bd-bd6a-4e63-93d6-f2b3f1e423aa",
      "cell_type": "code",
      "source": "# accessing list elements using slicing\nlist1 = [1, 2, 3, 4, 5, 6]\nfor i in range(len(list1)):\n    print(f\"{list1[i]}\") # list1 of index 0,1,2,3,4,5, list1[0], list1[1],list1[2],list1[3]list1[4]\n",
      "metadata": {
        "trusted": true
      },
      "outputs": [
        {
          "name": "stdout",
          "output_type": "stream",
          "text": "1\n2\n3\n4\n5\n6\n"
        }
      ],
      "execution_count": 63
    },
    {
      "id": "3eb7ecae-c6ec-4887-ad9f-4ebeda0b6187",
      "cell_type": "code",
      "source": "# Negative slicing - list slicing\nlist1 = [1, 2, 3, 4, 5, 6]\nfor i in range(0, len(list1), 1):\n    print(f\"{list1[i]}\") # list1 of index 0,1,2,3,4,5, list1[0], list1[1],list1[2],list1[3]list1[4]",
      "metadata": {
        "trusted": true
      },
      "outputs": [
        {
          "name": "stdout",
          "output_type": "stream",
          "text": "1\n2\n3\n4\n5\n6\n"
        }
      ],
      "execution_count": 66
    },
    {
      "id": "b59619cc-e7fc-4985-a0fd-5720362ed3de",
      "cell_type": "code",
      "source": "# Negative slicing - list slicing\nlist1 = [1, 2, 3, 4, 5, 6]\nfor i in range(0, len(list1), 2):\n    print(f\"{list1[i]}\") # list1 of index 0,1,2,3,4,5, list1[0], list1[1],list1[2],list1[3]list1[4]",
      "metadata": {
        "trusted": true
      },
      "outputs": [
        {
          "name": "stdout",
          "output_type": "stream",
          "text": "1\n3\n5\n"
        }
      ],
      "execution_count": 67
    },
    {
      "id": "de93f0b9-2fbb-4a1b-904c-f84cb1aad332",
      "cell_type": "code",
      "source": "# Negative slicing - list slicing\nlist1 = [1, 2, 3, 4, 5, 6]\nfor i in range(0, len(list1), 3):\n    print(f\"{list1[i]}\") # list1 of index 0,1,2,3,4,5, list1[0], list1[1],list1[2],list1[3]list1[4]",
      "metadata": {
        "trusted": true
      },
      "outputs": [
        {
          "name": "stdout",
          "output_type": "stream",
          "text": "1\n4\n"
        }
      ],
      "execution_count": 68
    },
    {
      "id": "9840417a-b7e7-4a2b-b8b5-866afc7bc5ca",
      "cell_type": "code",
      "source": "# Negative slicing - list slicing\nlist1 = [1, 2, 3, 4, 5, 6]\nfor i in range(1, len(list1)+1, 1):\n    print(f\"{list1[-i]}\") # list1 of index 0,1,2,3,4,5, list1[0], list1[1],list1[2],list1[3]list1[4]",
      "metadata": {
        "trusted": true
      },
      "outputs": [
        {
          "name": "stdout",
          "output_type": "stream",
          "text": "6\n5\n4\n3\n2\n1\n"
        }
      ],
      "execution_count": 73
    },
    {
      "id": "d3fe2e00-995d-4ae9-8c8e-1a08ec6d0f7f",
      "cell_type": "code",
      "source": "#Nested list - To iterate the value\nlist1 = [[1,2,3],[4,5,6],[7,8,9]]\nprint(f\"list1, {list1}\")\nfor i in range(len(list1)):\n    for value in list1[i]:\n        print(f\"{value}\")\n        ",
      "metadata": {
        "trusted": true
      },
      "outputs": [
        {
          "name": "stdout",
          "output_type": "stream",
          "text": "list1, [[1, 2, 3], [4, 5, 6], [7, 8, 9]]\n1\n2\n3\n4\n5\n6\n7\n8\n9\n"
        }
      ],
      "execution_count": 77
    },
    {
      "id": "b14364a9-26c4-46c5-88c1-4c62c4ee6bb6",
      "cell_type": "code",
      "source": "#Nested list - To iterate the value\nlist1 = [[1,2,3],[4,5,6],[7,8,9]]\nprint(f\"list1, {list1}\")\nans=0\nfor i in range(len(list1)):\n    for value in list1[i]:\n        ans+=value\nprint(f\"{ans}\")",
      "metadata": {
        "trusted": true
      },
      "outputs": [
        {
          "name": "stdout",
          "output_type": "stream",
          "text": "list1, [[1, 2, 3], [4, 5, 6], [7, 8, 9]]\n45\n"
        }
      ],
      "execution_count": 78
    },
    {
      "id": "4705d24e-482a-4b63-b538-87d9227a7e61",
      "cell_type": "code",
      "source": "#Nested list - To iterate the value\nlist1 = [[1,2,3],[4,5,6],[7,8,9]]\nprint(f\"list1, {list1}\")\nans=1\nnew=[]\nfor i in range(len(list1)):\n    for value in list1[i]:\n        ans*=value\n        new.append(ans)\nprint(f\"{new}\")",
      "metadata": {
        "trusted": true
      },
      "outputs": [
        {
          "name": "stdout",
          "output_type": "stream",
          "text": "list1, [[1, 2, 3], [4, 5, 6], [7, 8, 9]]\n[1, 2, 6, 24, 120, 720, 5040, 40320, 362880]\n"
        }
      ],
      "execution_count": 81
    },
    {
      "id": "48c81e8c-b10e-4cf9-b208-dcd7d7f3baa6",
      "cell_type": "code",
      "source": "# min and max function\nlist1 = [1, 2, 3, 4, 5, 6]\nprint(f\"Minimum number in list1, {min(list1)}\")\nprint(f\"Maximum number in list1, {max(list1)}\")",
      "metadata": {
        "trusted": true
      },
      "outputs": [
        {
          "name": "stdout",
          "output_type": "stream",
          "text": "Minimum number in list1, 1\nMaximum number in list1, 6\n"
        }
      ],
      "execution_count": 83
    },
    {
      "id": "1c997663-18f4-4fef-9f3e-8b3b4ecc5050",
      "cell_type": "code",
      "source": "# sorting\nlist1 = [1, 3, 2, 5, 4, 6]\nprint(f\"Before sort, {list1}\")\n\nprint(f\"After sort, {sorted(list1)}\")",
      "metadata": {
        "trusted": true
      },
      "outputs": [
        {
          "name": "stdout",
          "output_type": "stream",
          "text": "Before sort, [1, 3, 2, 5, 4, 6]\nAfter sort, [1, 2, 3, 4, 5, 6]\n"
        }
      ],
      "execution_count": 90
    },
    {
      "id": "1d54aaf8-b6a5-4255-9a9d-4fbfebdc1791",
      "cell_type": "code",
      "source": "def ascending_sort(list1):\n    for i in range(0, len(list1)):\n        for j in range(0, len(list1) -i -1):\n            if list1[j] > list1[j+1]:\n                list1[j], list1[j+1] = list1[j+1], list1[j]\n    return list1\n\nprint(ascending_sort(list1=[1, 3, 2, 5, 4, 6]))",
      "metadata": {
        "trusted": true
      },
      "outputs": [
        {
          "name": "stdout",
          "output_type": "stream",
          "text": "[1, 2, 3, 4, 5, 6]\n"
        }
      ],
      "execution_count": 92
    },
    {
      "id": "805bfa4b-eb91-435c-9fdc-2a840de581bb",
      "cell_type": "code",
      "source": "def decending_sort(list1):\n    for i in range(0, len(list1)):\n        for j in range(0, len(list1) -i -1):\n            if list1[j] < list1[j+1]:\n                list1[j], list1[j+1] = list1[j+1], list1[j]\n    return list1\n\nprint(decending_sort(list1=[1, 3, 2, 5, 4, 6]))",
      "metadata": {
        "trusted": true
      },
      "outputs": [
        {
          "name": "stdout",
          "output_type": "stream",
          "text": "[6, 5, 4, 3, 2, 1]\n"
        }
      ],
      "execution_count": 93
    },
    {
      "id": "04ea778c-c941-45e6-ab5e-c23f2d16112b",
      "cell_type": "code",
      "source": "# sum of elements\nlist1=[1, 3, 2, 5, 4, 6]\nprint(f\"{sum(list1)}\")\n\n# sum of elements using for loop\ni = 0\nfor item in list1:\n    i+=item\nprint(i)\n",
      "metadata": {
        "trusted": true
      },
      "outputs": [
        {
          "name": "stdout",
          "output_type": "stream",
          "text": "21\n21\n"
        }
      ],
      "execution_count": 95
    },
    {
      "id": "2bf7ff6d-622a-4c31-a51b-0e9e1f4eeb4d",
      "cell_type": "code",
      "source": "# Mutability\nlist1=[1, 3, 2, 5, 4, 6]\nprint(f\"before update, {list1}\")\nlist1[0] = 100\nprint(f\"after update, {list1}\")\n",
      "metadata": {
        "trusted": true
      },
      "outputs": [
        {
          "name": "stdout",
          "output_type": "stream",
          "text": "before update, [1, 3, 2, 5, 4, 6]\nafter update, [100, 3, 2, 5, 4, 6]\n"
        }
      ],
      "execution_count": 97
    },
    {
      "id": "28cd961d-f829-4d11-9aca-c4df92e8faef",
      "cell_type": "code",
      "source": "# list of tuples\nlist1 = [(1,2,3),(4,5,6),(7,8,9)]\nfor i in range(len(list1)):\n    for val in list1[i]:\n        print(val)\n",
      "metadata": {
        "trusted": true
      },
      "outputs": [
        {
          "name": "stdout",
          "output_type": "stream",
          "text": "1\n2\n3\n4\n5\n6\n7\n8\n9\n"
        }
      ],
      "execution_count": 98
    },
    {
      "id": "d5cb58f8-a893-4eb8-a542-f7d8e8e861ca",
      "cell_type": "code",
      "source": "# list of tuples - sum of all items in list of tuple\nlist1 = [(1,2,3),(4,5,6),(7,8,9)]\nj=0\nfor i in range(len(list1)):\n    for val in list1[i]:\n        j+=val\nprint(j)",
      "metadata": {
        "trusted": true
      },
      "outputs": [
        {
          "name": "stdout",
          "output_type": "stream",
          "text": "45\n"
        }
      ],
      "execution_count": 99
    },
    {
      "id": "63513244-50bf-4f1b-a0dd-b3d598cfb78d",
      "cell_type": "code",
      "source": "# list of tuples - multiplication\nlist1 = [(1,2,3),(4,5,6),(7,8,9)]\nj=1\nnew = []\nfor i in range(len(list1)):\n    for val in list1[i]:\n        j*=val\n        new.append(j)\nprint(new)",
      "metadata": {
        "trusted": true
      },
      "outputs": [
        {
          "name": "stdout",
          "output_type": "stream",
          "text": "[1, 2, 6, 24, 120, 720, 5040, 40320, 362880]\n"
        }
      ],
      "execution_count": 102
    },
    {
      "id": "9fb0dace-4630-4d6d-94ea-dbc57f77e234",
      "cell_type": "code",
      "source": "# list of tuples - multiplication\nlist1 = [(1,2,3),(4,5,6),(7,8,9)]\nj=1\nnew = []\nfor i in range(len(list1)):\n    for val in list1[i]:\n        j-=val\n        new.append(j)\nprint(new)",
      "metadata": {
        "trusted": true
      },
      "outputs": [
        {
          "name": "stdout",
          "output_type": "stream",
          "text": "[0, -2, -5, -9, -14, -20, -27, -35, -44]\n"
        }
      ],
      "execution_count": 103
    },
    {
      "id": "376b9972-8b81-4378-a90d-9c1e412039ab",
      "cell_type": "code",
      "source": "# list of tuples - power of each element\nlist1 = [(1,2,3)]\nn=2\nnew = []\nfor i in range(len(list1)):\n    for val in list1[i]:\n        value = pow(val, n) # val is base, 3 is exponent\n        new.append(value)\n    print(new)",
      "metadata": {
        "trusted": true
      },
      "outputs": [
        {
          "name": "stdout",
          "output_type": "stream",
          "text": "[1, 4, 9]\n"
        }
      ],
      "execution_count": 119
    },
    {
      "id": "de3fec8e-840a-4070-8337-ace3e8999254",
      "cell_type": "code",
      "source": "# list of tuples - power of each element\nlist1 = [(1,2,3)]\nn=2\nnew = []\nfor i in range(len(list1)):\n    for val in list1[i]:\n        value = pow(val,3, n) # val is base, 3 is exponent\n        new.append(value)\n    print(new)",
      "metadata": {
        "trusted": true
      },
      "outputs": [
        {
          "name": "stdout",
          "output_type": "stream",
          "text": "[1, 0, 1]\n"
        }
      ],
      "execution_count": 120
    },
    {
      "id": "63b003a7-e115-4c05-ae81-514e9bdd19e2",
      "cell_type": "code",
      "source": "list1 = [\"M\", \"na\", \"i\", \"Ro\"]\nlist2 = [\"y\", \"me\", \"s\", \"nny\"]\n#Write an python program to add two lists index-wise. \nif len(list1) == len(list2):\n    print(f\"list1: {len(list1)},list2: {len(list2)}\")\n    newlist = []\n    iterate = len(list1)\n    print(f\"iterate: {iterate}\")\n    for i in range(iterate):\n        newlist.append(list1[i]+list2[i])\n    print(\"newlist\",newlist)\nelse:\n    print(\"List must have the same length\")",
      "metadata": {
        "trusted": true
      },
      "outputs": [
        {
          "name": "stdout",
          "output_type": "stream",
          "text": "list1: 4,list2: 4\niterate: 4\nnewlist ['My', 'name', 'is', 'Ronny']\n"
        }
      ],
      "execution_count": 128
    },
    {
      "id": "7e481ceb-4d4e-48bf-9b09-28575b077fe6",
      "cell_type": "code",
      "source": "# Reverse a list in python or decending sort\nlist1 = [10, 9, 8, 7, 6]\nlen_list = len(list1)\nprint(len_list)\nnewlist = []\nfor i in range(len_list):\n    print(i, len_list-1-i)\n    newlist.append(list1[len_list-1-i]) #  5-1-0 = 5, # 5-1-1 = 3, # 5-1-2 = 2, # 5-1-3 = 1, # 5-0-5 = 0\n\nprint(newlist)",
      "metadata": {
        "trusted": true
      },
      "outputs": [
        {
          "name": "stdout",
          "output_type": "stream",
          "text": "5\n0 4\n1 3\n2 2\n3 1\n4 0\n[6, 7, 8, 9, 10]\n"
        }
      ],
      "execution_count": 140
    },
    {
      "id": "6d3cbae7-0b5e-46dd-a9d6-ab619818a573",
      "cell_type": "code",
      "source": "# Concatenate two lists in the following order\na = [\"Hello \", \"GoodMorning \"]\nb = [\"Ram\", \"Bhawna\"]\nc = list()\nfor j in a:\n    for k in b:\n        c.append(j+k)\nprint(c)",
      "metadata": {
        "trusted": true
      },
      "outputs": [
        {
          "name": "stdout",
          "output_type": "stream",
          "text": "['Hello Ram', 'Hello Bhawna', 'GoodMorning Ram', 'GoodMorning Bhawna']\n"
        }
      ],
      "execution_count": 150
    },
    {
      "id": "620bccb7-952a-437a-97f5-34685caed343",
      "cell_type": "code",
      "source": "# Turn every item of a list into its square\nnumbers = [1, 2, 3, 4, 5, 6, 7, 8, 9]\nnew = []\ndef square_num(numbers):\n    for i in numbers:\n        new.append(i*i)\n    return new\n\nsquare_num(numbers)\n        ",
      "metadata": {
        "trusted": true
      },
      "outputs": [
        {
          "execution_count": 152,
          "output_type": "execute_result",
          "data": {
            "text/plain": "[1, 4, 9, 16, 25, 36, 49, 64, 81]"
          },
          "metadata": {}
        }
      ],
      "execution_count": 152
    },
    {
      "id": "ac4fe701-2702-46c0-8251-912827d16ecb",
      "cell_type": "code",
      "source": "# Write an program to remove empty string.\nlist1 = [\"Mahi\", \"\", \"Bhawna\", \"Kabir\", \"\", \"Gandhi\"]\nn = []\ndef empty_string(list1):\n    for i in list1:\n        if i!=\"\":\n            n.append(i)\n    return n\n\nempty_string(list1)         ",
      "metadata": {
        "trusted": true
      },
      "outputs": [
        {
          "execution_count": 153,
          "output_type": "execute_result",
          "data": {
            "text/plain": "['Mahi', 'Bhawna', 'Kabir', 'Gandhi']"
          },
          "metadata": {}
        }
      ],
      "execution_count": 153
    },
    {
      "id": "315580ca-564f-4ebc-8309-3ad2b00d07a6",
      "cell_type": "code",
      "source": "# Iterate both lists simultaneously\nlist1 = [1, 2, 3, 4]\nlist2 = [10, 20, 30, 40]\ndef iterate_two_list(list1, list2):\n    if len(list1) == len(list2):\n        for i in range(len(list1)):\n            print(list1[i], list2[len(list2)-i-1])\n        \niterate_two_list(list1, list2)      ",
      "metadata": {
        "trusted": true
      },
      "outputs": [
        {
          "name": "stdout",
          "output_type": "stream",
          "text": "1 40\n2 30\n3 20\n4 10\n"
        }
      ],
      "execution_count": 155
    },
    {
      "id": "94405cf5-854f-4ed2-9b34-d9c12af0f5c2",
      "cell_type": "code",
      "source": "# Extend nested list by adding the sublist\nlist1 = [\"A\", \"B\", [\"C\", [\"D\", \"E\", [\"F\", \"G\"], \"K\"], \"L\"], \"M\", \"N\"]\n\n# sub list to add\nsub_list = [\"H\", \"I\", \"J\"]\n\nlist1[2][1][2].extend(sub_list)\nprint(list1)",
      "metadata": {
        "trusted": true
      },
      "outputs": [
        {
          "name": "stdout",
          "output_type": "stream",
          "text": "['A', 'B', ['C', ['D', 'E', ['F', 'G', 'H', 'I', 'J'], 'K'], 'L'], 'M', 'N']\n"
        }
      ],
      "execution_count": 158
    },
    {
      "id": "f3ff6ebd-c437-4a0d-962d-bde0b231377f",
      "cell_type": "code",
      "source": "# Add new item to list after a specified item\nlist1 = [10, 20, [300, 400, [5000, 6000], 500], 30, 40]\n#[10, 20, [300, 400, [5000, 6000, 7000], 500], 30, 40]\nlist1[2][2].append(7000)\nprint(list1)",
      "metadata": {
        "trusted": true
      },
      "outputs": [
        {
          "name": "stdout",
          "output_type": "stream",
          "text": "[10, 20, [300, 400, [5000, 6000, 7000], 500], 30, 40]\n"
        }
      ],
      "execution_count": 162
    },
    {
      "id": "72bb30de-f369-46c5-b5d0-380781297e41",
      "cell_type": "code",
      "source": "# Write an program to remove all item that present more than one times. Remove the duplication\nlist1 = [5, 20, 15, 20, 25, 50, 20]\ndef remove_occurance(list1):\n    new_list =[]\n    for i in list1:\n        if i not in new_list:\n            new_list.append(i)\n\n    return new_list\n    \nremove_occurance(list1)",
      "metadata": {
        "trusted": true
      },
      "outputs": [
        {
          "execution_count": 164,
          "output_type": "execute_result",
          "data": {
            "text/plain": "[5, 20, 15, 25, 50]"
          },
          "metadata": {}
        }
      ],
      "execution_count": 164
    },
    {
      "id": "8b0ccd67-c962-4d54-b1d2-2ac42357bd86",
      "cell_type": "code",
      "source": "# Replace list item with new value if found\nlist1 = [10, 9, 8, 7, 6]\ndef replace_item(list1, oldnumber, newnumber):\n    new = []\n    for i in list1:\n        if i!=oldnumber:\n            new.append(i) # 10,9,8,6,7 10!=7, 8!=7, 8!=7, 7!=7, 6!=7\n        else:\n            new.append(newnumber)\n    return new\n\nreplace_item(list1, 7, 10)",
      "metadata": {
        "trusted": true
      },
      "outputs": [
        {
          "execution_count": 167,
          "output_type": "execute_result",
          "data": {
            "text/plain": "[10, 9, 8, 10, 6]"
          },
          "metadata": {}
        }
      ],
      "execution_count": 167
    },
    {
      "id": "2b58bfb3-acec-4b49-bf60-6e9c1b13fc3b",
      "cell_type": "code",
      "source": "10!=7, 8!=7, 8!=7, 7!=7, 6!=7 # 10,9,8,10,6",
      "metadata": {
        "trusted": true
      },
      "outputs": [
        {
          "execution_count": 166,
          "output_type": "execute_result",
          "data": {
            "text/plain": "(True, True, True, False, True)"
          },
          "metadata": {}
        }
      ],
      "execution_count": 166
    },
    {
      "id": "ccf1009f-5ca5-4a75-8d9e-5a48f4004ff2",
      "cell_type": "code",
      "source": "list1 = [1,2,3]\nlist2 = [1,2,3]\nlist3 = list1\n# here list 1 values and list2 values are same\n1 in list1\nprint(list1 == list2)\nprint(\"address of list1\", id(list1)) # address of list1\nprint(\" address of list2\",id(list2)) # address of list2\nprint(id(list1)==id(list2))\n    \n# In Python, is and == are used to compare objects, but they serve different purposes and are used in different contexts.\n# Python identity operators (is, is not) are used to compare objects based on their identity.\n# is operator checks if two variables point to the same object or not in memory.\n# If they point to different objects, even if the values are the same, it returns False.\nprint(id(list1)==id(list2))\nprint(\" address of list3\",id(list3)) # address of list2\nif list1 is list2:\n    print(\"True\")\nelse:\n    print(\"False\")\n    ",
      "metadata": {
        "trusted": true
      },
      "outputs": [
        {
          "name": "stdout",
          "output_type": "stream",
          "text": "True\naddress of list1 42655968\n address of list2 42650632\nFalse\nFalse\n address of list3 42655968\nFalse\n"
        }
      ],
      "execution_count": 178
    },
    {
      "id": "b148eda9-d54b-4be1-ad89-037e8f1a77af",
      "cell_type": "code",
      "source": "# memory management in python\n# ensuring efficient allocation and deallocation of memory\n# Python handles memory management automatically, including reference counting, garbage collection, and memory allocation strategies.\n# garbage collection - it is not in use so, the virtual machine has a garbage collector that automatically deletes that object from the heap memory. nterpreter frees up the memory when not in use \n# There are two parts of memory: stack memory, heap memory\n# writing memory efficient code\n# Memory allocation can be defined as allocating a block of space in the computer memory to a program.\n# Reference counting works by counting the number of times an object is referenced by other objects in the system\n# When the reference count becomes zero, the object is deallocated. \n# The methods/method calls and the references are stored in stack memory and all the values objects are stored in a private heap.\n# This memory for 10 integers  \n# is allocated on heap.  \na = [0]*10\n# The variables are needed outside of method or function calls or are shared within multiple functions globally are stored in Heap memory",
      "metadata": {
        "trusted": true
      },
      "outputs": [],
      "execution_count": null
    },
    {
      "id": "ccbfba27-d35c-49cb-a3d3-262ce1f8dc00",
      "cell_type": "code",
      "source": "a, b = 10, 20\nprint(a, b)\na, b = b, a\nprint(\"after swap\", a, b)",
      "metadata": {
        "trusted": true
      },
      "outputs": [
        {
          "name": "stdout",
          "output_type": "stream",
          "text": "10 20\nafter swap 20 10\n"
        }
      ],
      "execution_count": 180
    },
    {
      "id": "0a7de784-17bf-4bd9-8718-a12da29e6f59",
      "cell_type": "code",
      "source": "# How do you convert a list to a set in Python?\nmy_list = [1, 2, 2, 3, 4]\nmy_set = set(my_list)\nprint(my_set)  # Output: {1, 2, 3, 4}",
      "metadata": {
        "trusted": true
      },
      "outputs": [
        {
          "name": "stdout",
          "output_type": "stream",
          "text": "{1, 2, 3, 4}\n"
        }
      ],
      "execution_count": 181
    },
    {
      "id": "adb4ed0f-af2e-4ef7-8437-1b6df9abc0a7",
      "cell_type": "code",
      "source": "# frozen set\nmy_set = frozenset([1, 2, 3])\nprint(my_set)",
      "metadata": {
        "trusted": true
      },
      "outputs": [
        {
          "name": "stdout",
          "output_type": "stream",
          "text": "frozenset({1, 2, 3})\n"
        }
      ],
      "execution_count": 182
    },
    {
      "id": "ad6f9aaf-5ee5-495a-b937-71aee669fce0",
      "cell_type": "code",
      "source": "",
      "metadata": {
        "trusted": true
      },
      "outputs": [],
      "execution_count": null
    }
  ]
}