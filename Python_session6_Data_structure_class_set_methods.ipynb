{
  "metadata": {
    "kernelspec": {
      "name": "python",
      "display_name": "Python (Pyodide)",
      "language": "python"
    },
    "language_info": {
      "codemirror_mode": {
        "name": "python",
        "version": 3
      },
      "file_extension": ".py",
      "mimetype": "text/x-python",
      "name": "python",
      "nbconvert_exporter": "python",
      "pygments_lexer": "ipython3",
      "version": "3.8"
    }
  },
  "nbformat_minor": 5,
  "nbformat": 4,
  "cells": [
    {
      "id": "f3b8dd56-408d-4578-a0c5-74a5a283458c",
      "cell_type": "code",
      "source": "# Python sets - Not allowed duplicates, unique values, hetrogeneous, unordered, can't add new item once added\n# Tuple and list allow duplicates\n# dict and set not allowed duplicates\nset1 = {1,2,3,4}\nprint(set1)\n",
      "metadata": {
        "trusted": true
      },
      "outputs": [
        {
          "name": "stdout",
          "output_type": "stream",
          "text": "{1, 2, 3, 4}\n"
        }
      ],
      "execution_count": 10
    },
    {
      "id": "3ba0af42-d6b9-4d64-ac14-9b38846c8b49",
      "cell_type": "code",
      "source": "set1 = {1,2,3,4}\nset1.add(5)\nprint(set1)",
      "metadata": {
        "trusted": true
      },
      "outputs": [
        {
          "name": "stdout",
          "output_type": "stream",
          "text": "{1, 2, 3, 4, 5}\n"
        }
      ],
      "execution_count": 5
    },
    {
      "id": "935b70dc-5f30-4f72-9be7-28e13fffe1a8",
      "cell_type": "code",
      "source": "set1 = {1,2,3,4}\nset1.add(True) # Not allowed True it considered as duplicate due to 1 is present in set, 1 means True, 0 - False\nprint(set1)\n",
      "metadata": {
        "trusted": true
      },
      "outputs": [
        {
          "name": "stdout",
          "output_type": "stream",
          "text": "{1, 2, 3, 4}\n"
        }
      ],
      "execution_count": 6
    },
    {
      "id": "9a2fc79f-b06f-48b3-a7ef-4123792c7321",
      "cell_type": "code",
      "source": "set1 = {1,2,3,4}\nset1.remove(1) \nprint(set1)",
      "metadata": {
        "trusted": true
      },
      "outputs": [
        {
          "name": "stdout",
          "output_type": "stream",
          "text": "{2, 3, 4}\n"
        }
      ],
      "execution_count": 7
    },
    {
      "id": "1e28472d-6527-424c-a381-138edf21cf46",
      "cell_type": "code",
      "source": "\nset1.add(True)\nprint(set1)",
      "metadata": {
        "trusted": true
      },
      "outputs": [
        {
          "name": "stdout",
          "output_type": "stream",
          "text": "{True, 2, 3, 4}\n"
        }
      ],
      "execution_count": 8
    },
    {
      "id": "a159c6f3-54b8-4b43-bbf1-3a100611e41c",
      "cell_type": "code",
      "source": "set1 = {1,2,3,4}\nprint(dir(set1))",
      "metadata": {
        "trusted": true
      },
      "outputs": [
        {
          "name": "stdout",
          "output_type": "stream",
          "text": "['__and__', '__class__', '__class_getitem__', '__contains__', '__delattr__', '__dir__', '__doc__', '__eq__', '__format__', '__ge__', '__getattribute__', '__getstate__', '__gt__', '__hash__', '__iand__', '__init__', '__init_subclass__', '__ior__', '__isub__', '__iter__', '__ixor__', '__le__', '__len__', '__lt__', '__ne__', '__new__', '__or__', '__rand__', '__reduce__', '__reduce_ex__', '__repr__', '__ror__', '__rsub__', '__rxor__', '__setattr__', '__sizeof__', '__str__', '__sub__', '__subclasshook__', '__xor__', 'add', 'clear', 'copy', 'difference', 'difference_update', 'discard', 'intersection', 'intersection_update', 'isdisjoint', 'issubset', 'issuperset', 'pop', 'remove', 'symmetric_difference', 'symmetric_difference_update', 'union', 'update']\n"
        }
      ],
      "execution_count": 9
    },
    {
      "id": "355f24bf-4290-4abd-8f51-85be4ce64544",
      "cell_type": "code",
      "source": "set1 = {1,2,3,4}\nprint(set1)\nset1.clear()\nprint(set1)",
      "metadata": {
        "trusted": true
      },
      "outputs": [
        {
          "name": "stdout",
          "output_type": "stream",
          "text": "{1, 2, 3, 4}\nset()\n"
        }
      ],
      "execution_count": 12
    },
    {
      "id": "0779eb4d-9b87-4d8b-9608-d08efa8a0829",
      "cell_type": "code",
      "source": "lst = [1,5,4,2,4]\nprint(\"lst\", lst)\nset1 = set(lst)\nprint(\"set1\", set1)",
      "metadata": {
        "trusted": true
      },
      "outputs": [
        {
          "name": "stdout",
          "output_type": "stream",
          "text": "lst [1, 5, 4, 2, 4]\nset1 {1, 2, 4, 5}\n"
        }
      ],
      "execution_count": 13
    },
    {
      "id": "6b1be840-073d-43cc-87c0-e10832588488",
      "cell_type": "code",
      "source": "tup = (1,5,4,2,4) # set() is a constructor, list(), dict(), int(), bool(), str(), tuple()\nprint(\"tup\", tup)\nset1 = set(tup)\nprint(\"set1\", set1)",
      "metadata": {
        "trusted": true
      },
      "outputs": [
        {
          "name": "stdout",
          "output_type": "stream",
          "text": "tup (1, 5, 4, 2, 4)\nset1 {1, 2, 4, 5}\n"
        }
      ],
      "execution_count": 14
    },
    {
      "id": "453895d8-80ac-4276-aaa3-e3c6c4e3b3df",
      "cell_type": "code",
      "source": "set1 = {1,2,3}\nset2 = {4,5,6}\nprint(set1)\nprint(set2)\nset3 = set1 | set2\nprint(set3)",
      "metadata": {
        "trusted": true
      },
      "outputs": [
        {
          "name": "stdout",
          "output_type": "stream",
          "text": "{1, 2, 3}\n{4, 5, 6}\n{1, 2, 3, 4, 5, 6}\n"
        }
      ],
      "execution_count": 16
    },
    {
      "id": "c31a7863-18b0-4e15-8daa-facd0726df03",
      "cell_type": "code",
      "source": "set1 = {1,2,3}\nset2 = {1,3,6}\nprint(set1)\nprint(set2)\nset3 = set1 | set2\nprint(set3)",
      "metadata": {
        "trusted": true
      },
      "outputs": [
        {
          "name": "stdout",
          "output_type": "stream",
          "text": "{1, 2, 3}\n{1, 3, 6}\n{1, 2, 3, 6}\n"
        }
      ],
      "execution_count": 17
    },
    {
      "id": "1b94dee8-2d3f-4b56-ad50-2f481e95a5ce",
      "cell_type": "code",
      "source": "set1 = {1,2,3}\nset2 = {1,3,6}\nprint(set1)\nprint(set2)\nset3 = set1 & set2\nprint(set3)\n\n\n",
      "metadata": {
        "trusted": true
      },
      "outputs": [
        {
          "name": "stdout",
          "output_type": "stream",
          "text": "{1, 2, 3}\n{1, 3, 6}\n{1, 3}\n"
        }
      ],
      "execution_count": 25
    },
    {
      "id": "d023e16f-bd3a-4583-8df5-419fbc8c7147",
      "cell_type": "code",
      "source": "set1 = {1,2,3}\nset2 = {1,3,6}\nprint(set1)\nprint(set2)\n\n#union\nprint(set1.union(set2))",
      "metadata": {
        "trusted": true
      },
      "outputs": [
        {
          "name": "stdout",
          "output_type": "stream",
          "text": "{1, 2, 3}\n{1, 3, 6}\n{1, 2, 3, 6}\n"
        }
      ],
      "execution_count": 24
    },
    {
      "id": "49efdc58-bf78-44fe-ba3b-2f0da798c923",
      "cell_type": "code",
      "source": "set1 = {1,2,3}\nset2 = {1,3,6}\nset1 = {1,2,3}\nset2 = {1,3,6}\nprint(set1)\nprint(set2)\n#intersection\nprint(set1.difference(set2))\n\nprint(set2.difference(set1))",
      "metadata": {
        "trusted": true
      },
      "outputs": [
        {
          "name": "stdout",
          "output_type": "stream",
          "text": "{1, 2, 3}\n{1, 3, 6}\n{2}\n{6}\n"
        }
      ],
      "execution_count": 26
    },
    {
      "id": "81b8b326-140c-4e53-ac5c-71242cefb4bd",
      "cell_type": "code",
      "source": "set1 = {1,2,3}\nset2 = {1,3,6}\nprint(set1)\nprint(set2)\n\n#intersection\nprint(set1.intersection(set2))",
      "metadata": {
        "trusted": true
      },
      "outputs": [
        {
          "name": "stdout",
          "output_type": "stream",
          "text": "{1, 2, 3}\n{1, 3, 6}\n{1, 3}\n"
        }
      ],
      "execution_count": 22
    },
    {
      "id": "f0331009-af2a-4ff9-9393-b461c31cf58c",
      "cell_type": "code",
      "source": "# to iterate each value one by one\nset1 = {1,2,3}\nfor i in set1:\n    print(i)",
      "metadata": {
        "trusted": true
      },
      "outputs": [
        {
          "name": "stdout",
          "output_type": "stream",
          "text": "1\n2\n3\n"
        }
      ],
      "execution_count": 27
    },
    {
      "id": "2d3bc23b-9c3a-4984-a8cb-5e0aeb0ef0ea",
      "cell_type": "code",
      "source": "set1 = {1,2,3}\n1 in set1 and 2 in set1 and 3 in set1\n#4 in set1",
      "metadata": {
        "trusted": true
      },
      "outputs": [
        {
          "execution_count": 31,
          "output_type": "execute_result",
          "data": {
            "text/plain": "True"
          },
          "metadata": {}
        }
      ],
      "execution_count": 31
    },
    {
      "id": "e3fc7d4f-1361-4f03-b41f-60aca953aec5",
      "cell_type": "code",
      "source": "set1 = {1,2,3,4}\nset2 = {4,5}\nset3 = {2,3,4,7,8}\ntemp = set1.union(set2).intersection(set3)\nprint(temp)\n\ntemp = set1.difference(set2).intersection(set3)\nprint(temp)\n",
      "metadata": {
        "trusted": true
      },
      "outputs": [
        {
          "name": "stdout",
          "output_type": "stream",
          "text": "{2, 3, 4}\n{2, 3}\n"
        }
      ],
      "execution_count": 34
    },
    {
      "id": "da99358c-0eef-40fe-a734-3d50b08aa4bd",
      "cell_type": "code",
      "source": "# list comphrehension\narr = [1,2,3,4,5,6,7,8,9]\nprint(f\"{arr}\")\neven = [i for i in arr if i%2==0] # element, for loop, expression, enclosed with [],(),{}\nodd = [i for i in arr if i%2!=0]\nprint(f\"{even}\")\nprint(f\"{odd}\")\n",
      "metadata": {
        "trusted": true
      },
      "outputs": [
        {
          "name": "stdout",
          "output_type": "stream",
          "text": "[1, 2, 3, 4, 5, 6, 7, 8, 9]\n[2, 4, 6, 8]\n[1, 3, 5, 7, 9]\n"
        }
      ],
      "execution_count": 39
    }
  ]
}